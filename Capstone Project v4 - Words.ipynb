{
 "cells": [
  {
   "cell_type": "markdown",
   "metadata": {},
   "source": [
    "# Capstone Project (real title to come later)\n",
    "### Ryan Khaleghi and Kevin Cannon"
   ]
  },
  {
   "cell_type": "markdown",
   "metadata": {},
   "source": [
    "## Introduction\n",
    "\n",
    "\n",
    "We"
   ]
  },
  {
   "cell_type": "markdown",
   "metadata": {},
   "source": [
    "## Data\n",
    "\n",
    "The dataset \n",
    "\n",
    "There are 8 ratings in the dataset: overall, value, rooms, location, cleanliness, check in/front desk, service, and business service. These are rated from 0-5 stars, with missing ratings indicated by -1."
   ]
  },
  {
   "cell_type": "code",
   "execution_count": 99,
   "metadata": {},
   "outputs": [
    {
     "name": "stderr",
     "output_type": "stream",
     "text": [
      "/Users/Ryan/anaconda/lib/python3.5/json/encoder.py:198: DeprecationWarning: Interpreting naive datetime as local 2018-10-27 10:39:29.474423. Please add timezone info to timestamps.\n",
      "  chunks = self.iterencode(o, _one_shot=True)\n"
     ]
    }
   ],
   "source": [
    "import pandas as pd\n",
    "import numpy as np\n",
    "import glob\n",
    "#import tripadvisor_convert\n",
    "import dill\n",
    "\n",
    "#save session\n",
    "#dill.dump_session('notebook_env.db')\n",
    "\n",
    "#load session\n",
    "dill.load_session('notebook_env.db')\n",
    "\n",
    "#json_file = '/Users/Ryan/Desktop/Programming/SMU/Capstone/TripAdvisor/json_copy/73739.json'\n",
    "#json_file = '/Users/Ryan/Desktop/Programming/SMU/Capstone/TripAdvisor/json/3256888.json'\n",
    "#df = tripadvisor_convert.to_df(json_file)\n",
    "#print(df.head(2))\n"
   ]
  },
  {
   "cell_type": "code",
   "execution_count": 100,
   "metadata": {},
   "outputs": [
    {
     "name": "stderr",
     "output_type": "stream",
     "text": [
      "/Users/Ryan/anaconda/lib/python3.5/json/encoder.py:198: DeprecationWarning: Interpreting naive datetime as local 2018-10-27 10:39:29.832783. Please add timezone info to timestamps.\n",
      "  chunks = self.iterencode(o, _one_shot=True)\n"
     ]
    }
   ],
   "source": [
    "import json\n",
    "from bs4 import BeautifulSoup\n",
    "import pandas as pd\n",
    "from os import path\n",
    "\n",
    "\n",
    "def json_to_df(filename):\n",
    "    \"\"\"Return a Pandas DataFrame with Reviews from the JSON File given.\"\"\"\n",
    "\n",
    "    with open(filename) as f:\n",
    "        data = json.load(f)\n",
    "        reviews = data['Reviews']\n",
    "        info = data['HotelInfo']\n",
    "\n",
    "    df = pd.DataFrame()\n",
    "    for review in reviews:\n",
    "        rr = pd.Series(review['Ratings'], name=review['ReviewID'])\n",
    "        rr['Date'] = review['Date']\n",
    "        rr['Author'] = review['Author']\n",
    "        rr['AuthorLocation'] = review['AuthorLocation'].split(', ')[-1]\n",
    "        rr['Review'] = review['Content']\n",
    "        df = df.append(rr)\n",
    "\n",
    "\n",
    "    # Hotel Info\n",
    "    df['HotelID'] = int(info['HotelID'])\n",
    "    df['Hotel'] = info['Name']\n",
    "    price_range = [int(''.join([el for el in price if el.isdigit()])) for price in info['Price'].split('-')]\n",
    "    df['PriceMin'] = price_range[0]\n",
    "    df['PriceMax'] = price_range[-1]\n",
    "    address = BeautifulSoup(info['Address'], 'lxml')\n",
    "    region = address.find('span', property='v:region').text\n",
    "    df['HotelLocation'] = region\n",
    "\n",
    "    return df"
   ]
  },
  {
   "cell_type": "code",
   "execution_count": 151,
   "metadata": {
    "scrolled": true
   },
   "outputs": [
    {
     "name": "stdout",
     "output_type": "stream",
     "text": [
      "                     Author        AuthorLocation  \\\n",
      "UR126268620  davidbViennaVA  District of Columbia   \n",
      "UR126112970         N0_moss                   USA   \n",
      "\n",
      "            Business service (e.g., internet access) Check in / front desk  \\\n",
      "UR126268620                                      NaN                   NaN   \n",
      "UR126112970                                      NaN                   NaN   \n",
      "\n",
      "            Cleanliness            Date                Hotel  HotelID  \\\n",
      "UR126268620           4  March 18, 2012  Mayfair Hotel & Spa   217395   \n",
      "UR126112970           5  March 14, 2012  Mayfair Hotel & Spa   217395   \n",
      "\n",
      "            HotelLocation Location Overall  PriceMax  PriceMin  \\\n",
      "UR126268620            FL        4     4.0       398       146   \n",
      "UR126112970            FL        5     5.0       398       146   \n",
      "\n",
      "                                                        Review Rooms Service  \\\n",
      "UR126268620  Stayed for 3 nights for conference in early Ma...     3       4   \n",
      "UR126112970  I had a phenomenal stay at the Mayfair. The ho...     5       5   \n",
      "\n",
      "            Sleep Quality Value  \n",
      "UR126268620           NaN     4  \n",
      "UR126112970             5     5  \n",
      "646.4458356149844\n",
      "147463\n"
     ]
    },
    {
     "name": "stderr",
     "output_type": "stream",
     "text": [
      "/Users/Ryan/anaconda/lib/python3.5/site-packages/bs4/builder/_lxml.py:240: DeprecationWarning: inspect.getargspec() is deprecated, use inspect.signature() instead\n",
      "  self.parser.feed(markup)\n",
      "/Users/Ryan/anaconda/lib/python3.5/json/encoder.py:198: DeprecationWarning: Interpreting naive datetime as local 2018-10-27 12:13:01.086707. Please add timezone info to timestamps.\n",
      "  chunks = self.iterencode(o, _one_shot=True)\n"
     ]
    }
   ],
   "source": [
    "from timeit import default_timer as timer #for timing\n",
    "\n",
    "start = timer()\n",
    "#load data\n",
    "#path ='/Users/Ryan/Desktop/Programming/SMU/Capstone/TripAdvisor/json_copy' # use your path\n",
    "path ='/Users/Ryan/Desktop/Programming/SMU/Capstone/TripAdvisor/json' # use your path\n",
    "allFiles = glob.glob(path + \"/*.json\")\n",
    "#print(allFiles)\n",
    "randFiles = np.random.choice(allFiles, 500, replace=False)\n",
    "df2 = pd.DataFrame()\n",
    "df_reviews = pd.DataFrame()\n",
    "list_ = []\n",
    "\n",
    "for file_ in randFiles:\n",
    "    try:\n",
    "        #df = tripadvisor_convert.to_df(file_)\n",
    "        df2 = json_to_df(file_)\n",
    "    except Exception:\n",
    "        pass \n",
    "    list_.append(df2)\n",
    "    df_reviews = pd.concat(list_)\n",
    "print(df_reviews.head(2))\n",
    "end = timer()\n",
    "print (end - start)\n",
    "print(len(df_reviews))\n"
   ]
  },
  {
   "cell_type": "markdown",
   "metadata": {
    "collapsed": true
   },
   "source": [
    "### EDA\n",
    "Here we will explore the data."
   ]
  },
  {
   "cell_type": "code",
   "execution_count": 152,
   "metadata": {},
   "outputs": [
    {
     "data": {
      "text/plain": [
       "Author                                      object\n",
       "AuthorLocation                              object\n",
       "Business service (e.g., internet access)    object\n",
       "Check in / front desk                       object\n",
       "Cleanliness                                 object\n",
       "Date                                        object\n",
       "Hotel                                       object\n",
       "HotelID                                      int64\n",
       "HotelLocation                               object\n",
       "Location                                    object\n",
       "Overall                                     object\n",
       "PriceMax                                     int64\n",
       "PriceMin                                     int64\n",
       "Review                                      object\n",
       "Rooms                                       object\n",
       "Service                                     object\n",
       "Sleep Quality                               object\n",
       "Value                                       object\n",
       "dtype: object"
      ]
     },
     "execution_count": 152,
     "metadata": {},
     "output_type": "execute_result"
    },
    {
     "name": "stderr",
     "output_type": "stream",
     "text": [
      "/Users/Ryan/anaconda/lib/python3.5/json/encoder.py:198: DeprecationWarning: Interpreting naive datetime as local 2018-10-27 12:27:57.663736. Please add timezone info to timestamps.\n",
      "  chunks = self.iterencode(o, _one_shot=True)\n"
     ]
    }
   ],
   "source": [
    "df_reviews.dtypes"
   ]
  },
  {
   "cell_type": "code",
   "execution_count": 153,
   "metadata": {},
   "outputs": [
    {
     "name": "stderr",
     "output_type": "stream",
     "text": [
      "/Users/Ryan/anaconda/lib/python3.5/json/encoder.py:198: DeprecationWarning: Interpreting naive datetime as local 2018-10-27 12:28:02.927887. Please add timezone info to timestamps.\n",
      "  chunks = self.iterencode(o, _one_shot=True)\n"
     ]
    }
   ],
   "source": [
    "#deal with missing numbers\n",
    "df_reviews.fillna(0, inplace = True)\n",
    "#df_reviews.isnull()"
   ]
  },
  {
   "cell_type": "code",
   "execution_count": 154,
   "metadata": {},
   "outputs": [
    {
     "data": {
      "text/plain": [
       "Author                                       object\n",
       "AuthorLocation                               object\n",
       "Business service (e.g., internet access)      int64\n",
       "Check in / front desk                         int64\n",
       "Cleanliness                                   int64\n",
       "Date                                         object\n",
       "Hotel                                        object\n",
       "HotelID                                       int64\n",
       "HotelLocation                                object\n",
       "Location                                      int64\n",
       "Overall                                     float64\n",
       "PriceMax                                      int64\n",
       "PriceMin                                      int64\n",
       "Review                                       object\n",
       "Rooms                                         int64\n",
       "Service                                       int64\n",
       "Sleep Quality                                 int64\n",
       "Value                                         int64\n",
       "dtype: object"
      ]
     },
     "execution_count": 154,
     "metadata": {},
     "output_type": "execute_result"
    },
    {
     "name": "stderr",
     "output_type": "stream",
     "text": [
      "/Users/Ryan/anaconda/lib/python3.5/json/encoder.py:198: DeprecationWarning: Interpreting naive datetime as local 2018-10-27 12:28:05.314939. Please add timezone info to timestamps.\n",
      "  chunks = self.iterencode(o, _one_shot=True)\n"
     ]
    }
   ],
   "source": [
    "#convert ratings into numbers instead of objects\n",
    "df_reviews = df_reviews.astype({'Cleanliness': 'int64', 'Location': 'int64', 'Rooms': 'int64', 'Service': 'int64', \\\n",
    "                   'Sleep Quality': 'int64', 'Value': 'int64', 'Business service (e.g., internet access)': 'int64', \\\n",
    "                  'Check in / front desk': 'int64', 'Overall': 'float'})\n",
    "df_reviews.dtypes"
   ]
  },
  {
   "cell_type": "code",
   "execution_count": 158,
   "metadata": {},
   "outputs": [
    {
     "data": {
      "text/html": [
       "<div>\n",
       "<style>\n",
       "    .dataframe thead tr:only-child th {\n",
       "        text-align: right;\n",
       "    }\n",
       "\n",
       "    .dataframe thead th {\n",
       "        text-align: left;\n",
       "    }\n",
       "\n",
       "    .dataframe tbody tr th {\n",
       "        vertical-align: top;\n",
       "    }\n",
       "</style>\n",
       "<table border=\"1\" class=\"dataframe\">\n",
       "  <thead>\n",
       "    <tr style=\"text-align: right;\">\n",
       "      <th></th>\n",
       "      <th>BusServ</th>\n",
       "      <th>CheckIn</th>\n",
       "      <th>Cleanliness</th>\n",
       "      <th>HotelID</th>\n",
       "      <th>Location</th>\n",
       "      <th>Overall</th>\n",
       "      <th>PriceMax</th>\n",
       "      <th>PriceMin</th>\n",
       "      <th>Rooms</th>\n",
       "      <th>Service</th>\n",
       "      <th>Sleep Quality</th>\n",
       "      <th>Value</th>\n",
       "    </tr>\n",
       "  </thead>\n",
       "  <tbody>\n",
       "    <tr>\n",
       "      <th>count</th>\n",
       "      <td>147463.000000</td>\n",
       "      <td>147463.000000</td>\n",
       "      <td>147463.000000</td>\n",
       "      <td>1.474630e+05</td>\n",
       "      <td>147463.000000</td>\n",
       "      <td>147463.000000</td>\n",
       "      <td>147463.000000</td>\n",
       "      <td>147463.000000</td>\n",
       "      <td>147463.000000</td>\n",
       "      <td>147463.000000</td>\n",
       "      <td>147463.000000</td>\n",
       "      <td>147463.000000</td>\n",
       "    </tr>\n",
       "    <tr>\n",
       "      <th>mean</th>\n",
       "      <td>0.349694</td>\n",
       "      <td>0.682605</td>\n",
       "      <td>3.624102</td>\n",
       "      <td>1.073851e+06</td>\n",
       "      <td>3.351953</td>\n",
       "      <td>3.822043</td>\n",
       "      <td>326.258451</td>\n",
       "      <td>162.704407</td>\n",
       "      <td>3.109302</td>\n",
       "      <td>3.452683</td>\n",
       "      <td>1.947417</td>\n",
       "      <td>3.432793</td>\n",
       "    </tr>\n",
       "    <tr>\n",
       "      <th>std</th>\n",
       "      <td>1.118758</td>\n",
       "      <td>1.555174</td>\n",
       "      <td>1.684414</td>\n",
       "      <td>1.142945e+06</td>\n",
       "      <td>2.064403</td>\n",
       "      <td>1.229765</td>\n",
       "      <td>150.440055</td>\n",
       "      <td>84.101965</td>\n",
       "      <td>1.842525</td>\n",
       "      <td>1.707114</td>\n",
       "      <td>2.174122</td>\n",
       "      <td>1.678795</td>\n",
       "    </tr>\n",
       "    <tr>\n",
       "      <th>min</th>\n",
       "      <td>0.000000</td>\n",
       "      <td>0.000000</td>\n",
       "      <td>0.000000</td>\n",
       "      <td>7.371200e+04</td>\n",
       "      <td>0.000000</td>\n",
       "      <td>1.000000</td>\n",
       "      <td>0.000000</td>\n",
       "      <td>0.000000</td>\n",
       "      <td>0.000000</td>\n",
       "      <td>0.000000</td>\n",
       "      <td>0.000000</td>\n",
       "      <td>0.000000</td>\n",
       "    </tr>\n",
       "    <tr>\n",
       "      <th>1%</th>\n",
       "      <td>0.000000</td>\n",
       "      <td>0.000000</td>\n",
       "      <td>0.000000</td>\n",
       "      <td>7.727000e+04</td>\n",
       "      <td>0.000000</td>\n",
       "      <td>1.000000</td>\n",
       "      <td>59.000000</td>\n",
       "      <td>39.000000</td>\n",
       "      <td>0.000000</td>\n",
       "      <td>0.000000</td>\n",
       "      <td>0.000000</td>\n",
       "      <td>0.000000</td>\n",
       "    </tr>\n",
       "    <tr>\n",
       "      <th>5%</th>\n",
       "      <td>0.000000</td>\n",
       "      <td>0.000000</td>\n",
       "      <td>0.000000</td>\n",
       "      <td>8.759000e+04</td>\n",
       "      <td>0.000000</td>\n",
       "      <td>1.000000</td>\n",
       "      <td>123.000000</td>\n",
       "      <td>78.000000</td>\n",
       "      <td>0.000000</td>\n",
       "      <td>0.000000</td>\n",
       "      <td>0.000000</td>\n",
       "      <td>0.000000</td>\n",
       "    </tr>\n",
       "    <tr>\n",
       "      <th>25%</th>\n",
       "      <td>0.000000</td>\n",
       "      <td>0.000000</td>\n",
       "      <td>3.000000</td>\n",
       "      <td>1.119700e+05</td>\n",
       "      <td>1.000000</td>\n",
       "      <td>3.000000</td>\n",
       "      <td>234.000000</td>\n",
       "      <td>109.000000</td>\n",
       "      <td>2.000000</td>\n",
       "      <td>3.000000</td>\n",
       "      <td>0.000000</td>\n",
       "      <td>3.000000</td>\n",
       "    </tr>\n",
       "    <tr>\n",
       "      <th>50%</th>\n",
       "      <td>0.000000</td>\n",
       "      <td>0.000000</td>\n",
       "      <td>4.000000</td>\n",
       "      <td>2.084540e+05</td>\n",
       "      <td>4.000000</td>\n",
       "      <td>4.000000</td>\n",
       "      <td>278.000000</td>\n",
       "      <td>131.000000</td>\n",
       "      <td>4.000000</td>\n",
       "      <td>4.000000</td>\n",
       "      <td>0.000000</td>\n",
       "      <td>4.000000</td>\n",
       "    </tr>\n",
       "    <tr>\n",
       "      <th>75%</th>\n",
       "      <td>0.000000</td>\n",
       "      <td>0.000000</td>\n",
       "      <td>5.000000</td>\n",
       "      <td>2.514645e+06</td>\n",
       "      <td>5.000000</td>\n",
       "      <td>5.000000</td>\n",
       "      <td>446.000000</td>\n",
       "      <td>231.000000</td>\n",
       "      <td>5.000000</td>\n",
       "      <td>5.000000</td>\n",
       "      <td>4.000000</td>\n",
       "      <td>5.000000</td>\n",
       "    </tr>\n",
       "    <tr>\n",
       "      <th>95%</th>\n",
       "      <td>4.000000</td>\n",
       "      <td>5.000000</td>\n",
       "      <td>5.000000</td>\n",
       "      <td>2.515942e+06</td>\n",
       "      <td>5.000000</td>\n",
       "      <td>5.000000</td>\n",
       "      <td>602.000000</td>\n",
       "      <td>286.000000</td>\n",
       "      <td>5.000000</td>\n",
       "      <td>5.000000</td>\n",
       "      <td>5.000000</td>\n",
       "      <td>5.000000</td>\n",
       "    </tr>\n",
       "    <tr>\n",
       "      <th>99%</th>\n",
       "      <td>5.000000</td>\n",
       "      <td>5.000000</td>\n",
       "      <td>5.000000</td>\n",
       "      <td>2.516062e+06</td>\n",
       "      <td>5.000000</td>\n",
       "      <td>5.000000</td>\n",
       "      <td>771.000000</td>\n",
       "      <td>461.000000</td>\n",
       "      <td>5.000000</td>\n",
       "      <td>5.000000</td>\n",
       "      <td>5.000000</td>\n",
       "      <td>5.000000</td>\n",
       "    </tr>\n",
       "    <tr>\n",
       "      <th>max</th>\n",
       "      <td>5.000000</td>\n",
       "      <td>5.000000</td>\n",
       "      <td>5.000000</td>\n",
       "      <td>2.516234e+06</td>\n",
       "      <td>5.000000</td>\n",
       "      <td>5.000000</td>\n",
       "      <td>1138.000000</td>\n",
       "      <td>482.000000</td>\n",
       "      <td>5.000000</td>\n",
       "      <td>5.000000</td>\n",
       "      <td>5.000000</td>\n",
       "      <td>5.000000</td>\n",
       "    </tr>\n",
       "  </tbody>\n",
       "</table>\n",
       "</div>"
      ],
      "text/plain": [
       "             BusServ        CheckIn    Cleanliness       HotelID  \\\n",
       "count  147463.000000  147463.000000  147463.000000  1.474630e+05   \n",
       "mean        0.349694       0.682605       3.624102  1.073851e+06   \n",
       "std         1.118758       1.555174       1.684414  1.142945e+06   \n",
       "min         0.000000       0.000000       0.000000  7.371200e+04   \n",
       "1%          0.000000       0.000000       0.000000  7.727000e+04   \n",
       "5%          0.000000       0.000000       0.000000  8.759000e+04   \n",
       "25%         0.000000       0.000000       3.000000  1.119700e+05   \n",
       "50%         0.000000       0.000000       4.000000  2.084540e+05   \n",
       "75%         0.000000       0.000000       5.000000  2.514645e+06   \n",
       "95%         4.000000       5.000000       5.000000  2.515942e+06   \n",
       "99%         5.000000       5.000000       5.000000  2.516062e+06   \n",
       "max         5.000000       5.000000       5.000000  2.516234e+06   \n",
       "\n",
       "            Location        Overall       PriceMax       PriceMin  \\\n",
       "count  147463.000000  147463.000000  147463.000000  147463.000000   \n",
       "mean        3.351953       3.822043     326.258451     162.704407   \n",
       "std         2.064403       1.229765     150.440055      84.101965   \n",
       "min         0.000000       1.000000       0.000000       0.000000   \n",
       "1%          0.000000       1.000000      59.000000      39.000000   \n",
       "5%          0.000000       1.000000     123.000000      78.000000   \n",
       "25%         1.000000       3.000000     234.000000     109.000000   \n",
       "50%         4.000000       4.000000     278.000000     131.000000   \n",
       "75%         5.000000       5.000000     446.000000     231.000000   \n",
       "95%         5.000000       5.000000     602.000000     286.000000   \n",
       "99%         5.000000       5.000000     771.000000     461.000000   \n",
       "max         5.000000       5.000000    1138.000000     482.000000   \n",
       "\n",
       "               Rooms        Service  Sleep Quality          Value  \n",
       "count  147463.000000  147463.000000  147463.000000  147463.000000  \n",
       "mean        3.109302       3.452683       1.947417       3.432793  \n",
       "std         1.842525       1.707114       2.174122       1.678795  \n",
       "min         0.000000       0.000000       0.000000       0.000000  \n",
       "1%          0.000000       0.000000       0.000000       0.000000  \n",
       "5%          0.000000       0.000000       0.000000       0.000000  \n",
       "25%         2.000000       3.000000       0.000000       3.000000  \n",
       "50%         4.000000       4.000000       0.000000       4.000000  \n",
       "75%         5.000000       5.000000       4.000000       5.000000  \n",
       "95%         5.000000       5.000000       5.000000       5.000000  \n",
       "99%         5.000000       5.000000       5.000000       5.000000  \n",
       "max         5.000000       5.000000       5.000000       5.000000  "
      ]
     },
     "execution_count": 158,
     "metadata": {},
     "output_type": "execute_result"
    },
    {
     "name": "stderr",
     "output_type": "stream",
     "text": [
      "/Users/Ryan/anaconda/lib/python3.5/json/encoder.py:198: DeprecationWarning: Interpreting naive datetime as local 2018-10-27 12:28:35.191579. Please add timezone info to timestamps.\n",
      "  chunks = self.iterencode(o, _one_shot=True)\n"
     ]
    }
   ],
   "source": [
    "df_reviews.describe([.01, .05, .25, .5, .75, .95, .99])"
   ]
  },
  {
   "cell_type": "code",
   "execution_count": 159,
   "metadata": {},
   "outputs": [
    {
     "ename": "ValueError",
     "evalue": "labels ['Date'] not contained in axis",
     "output_type": "error",
     "traceback": [
      "\u001b[0;31m---------------------------------------------------------------------------\u001b[0m",
      "\u001b[0;31mValueError\u001b[0m                                Traceback (most recent call last)",
      "\u001b[0;32m<ipython-input-159-3a197d694be8>\u001b[0m in \u001b[0;36m<module>\u001b[0;34m()\u001b[0m\n\u001b[1;32m      1\u001b[0m \u001b[0;31m# Remove date attribute that isn't going to be used in the analysis\u001b[0m\u001b[0;34m\u001b[0m\u001b[0;34m\u001b[0m\u001b[0m\n\u001b[0;32m----> 2\u001b[0;31m \u001b[0mdf_reviews\u001b[0m \u001b[0;34m=\u001b[0m \u001b[0mdf_reviews\u001b[0m\u001b[0;34m.\u001b[0m\u001b[0mdrop\u001b[0m\u001b[0;34m(\u001b[0m\u001b[0;34m[\u001b[0m\u001b[0;34m'Date'\u001b[0m\u001b[0;34m]\u001b[0m\u001b[0;34m,\u001b[0m \u001b[0maxis\u001b[0m \u001b[0;34m=\u001b[0m \u001b[0;36m1\u001b[0m\u001b[0;34m)\u001b[0m\u001b[0;34m\u001b[0m\u001b[0m\n\u001b[0m\u001b[1;32m      3\u001b[0m \u001b[0mprint\u001b[0m\u001b[0;34m(\u001b[0m\u001b[0mdf_reviews\u001b[0m\u001b[0;34m.\u001b[0m\u001b[0mhead\u001b[0m\u001b[0;34m(\u001b[0m\u001b[0;36m2\u001b[0m\u001b[0;34m)\u001b[0m\u001b[0;34m)\u001b[0m\u001b[0;34m\u001b[0m\u001b[0m\n",
      "\u001b[0;32m/Users/Ryan/anaconda/lib/python3.5/site-packages/pandas/core/generic.py\u001b[0m in \u001b[0;36mdrop\u001b[0;34m(self, labels, axis, level, inplace, errors)\u001b[0m\n\u001b[1;32m   2048\u001b[0m                 \u001b[0mnew_axis\u001b[0m \u001b[0;34m=\u001b[0m \u001b[0maxis\u001b[0m\u001b[0;34m.\u001b[0m\u001b[0mdrop\u001b[0m\u001b[0;34m(\u001b[0m\u001b[0mlabels\u001b[0m\u001b[0;34m,\u001b[0m \u001b[0mlevel\u001b[0m\u001b[0;34m=\u001b[0m\u001b[0mlevel\u001b[0m\u001b[0;34m,\u001b[0m \u001b[0merrors\u001b[0m\u001b[0;34m=\u001b[0m\u001b[0merrors\u001b[0m\u001b[0;34m)\u001b[0m\u001b[0;34m\u001b[0m\u001b[0m\n\u001b[1;32m   2049\u001b[0m             \u001b[0;32melse\u001b[0m\u001b[0;34m:\u001b[0m\u001b[0;34m\u001b[0m\u001b[0m\n\u001b[0;32m-> 2050\u001b[0;31m                 \u001b[0mnew_axis\u001b[0m \u001b[0;34m=\u001b[0m \u001b[0maxis\u001b[0m\u001b[0;34m.\u001b[0m\u001b[0mdrop\u001b[0m\u001b[0;34m(\u001b[0m\u001b[0mlabels\u001b[0m\u001b[0;34m,\u001b[0m \u001b[0merrors\u001b[0m\u001b[0;34m=\u001b[0m\u001b[0merrors\u001b[0m\u001b[0;34m)\u001b[0m\u001b[0;34m\u001b[0m\u001b[0m\n\u001b[0m\u001b[1;32m   2051\u001b[0m             \u001b[0mdropped\u001b[0m \u001b[0;34m=\u001b[0m \u001b[0mself\u001b[0m\u001b[0;34m.\u001b[0m\u001b[0mreindex\u001b[0m\u001b[0;34m(\u001b[0m\u001b[0;34m**\u001b[0m\u001b[0;34m{\u001b[0m\u001b[0maxis_name\u001b[0m\u001b[0;34m:\u001b[0m \u001b[0mnew_axis\u001b[0m\u001b[0;34m}\u001b[0m\u001b[0;34m)\u001b[0m\u001b[0;34m\u001b[0m\u001b[0m\n\u001b[1;32m   2052\u001b[0m             \u001b[0;32mtry\u001b[0m\u001b[0;34m:\u001b[0m\u001b[0;34m\u001b[0m\u001b[0m\n",
      "\u001b[0;32m/Users/Ryan/anaconda/lib/python3.5/site-packages/pandas/core/indexes/base.py\u001b[0m in \u001b[0;36mdrop\u001b[0;34m(self, labels, errors)\u001b[0m\n\u001b[1;32m   3573\u001b[0m             \u001b[0;32mif\u001b[0m \u001b[0merrors\u001b[0m \u001b[0;34m!=\u001b[0m \u001b[0;34m'ignore'\u001b[0m\u001b[0;34m:\u001b[0m\u001b[0;34m\u001b[0m\u001b[0m\n\u001b[1;32m   3574\u001b[0m                 raise ValueError('labels %s not contained in axis' %\n\u001b[0;32m-> 3575\u001b[0;31m                                  labels[mask])\n\u001b[0m\u001b[1;32m   3576\u001b[0m             \u001b[0mindexer\u001b[0m \u001b[0;34m=\u001b[0m \u001b[0mindexer\u001b[0m\u001b[0;34m[\u001b[0m\u001b[0;34m~\u001b[0m\u001b[0mmask\u001b[0m\u001b[0;34m]\u001b[0m\u001b[0;34m\u001b[0m\u001b[0m\n\u001b[1;32m   3577\u001b[0m         \u001b[0;32mreturn\u001b[0m \u001b[0mself\u001b[0m\u001b[0;34m.\u001b[0m\u001b[0mdelete\u001b[0m\u001b[0;34m(\u001b[0m\u001b[0mindexer\u001b[0m\u001b[0;34m)\u001b[0m\u001b[0;34m\u001b[0m\u001b[0m\n",
      "\u001b[0;31mValueError\u001b[0m: labels ['Date'] not contained in axis"
     ]
    },
    {
     "name": "stderr",
     "output_type": "stream",
     "text": [
      "/Users/Ryan/anaconda/lib/python3.5/json/encoder.py:198: DeprecationWarning: Interpreting naive datetime as local 2018-10-27 12:28:39.701571. Please add timezone info to timestamps.\n",
      "  chunks = self.iterencode(o, _one_shot=True)\n"
     ]
    }
   ],
   "source": [
    "# Remove date attribute that isn't going to be used in the analysis\n",
    "df_reviews = df_reviews.drop(['Date'], axis = 1)\n",
    "print(df_reviews.head(2))"
   ]
  },
  {
   "cell_type": "code",
   "execution_count": 157,
   "metadata": {},
   "outputs": [
    {
     "name": "stdout",
     "output_type": "stream",
     "text": [
      "                     Author        AuthorLocation  BusServ  CheckIn  \\\n",
      "UR126268620  davidbViennaVA  District of Columbia        0        0   \n",
      "UR126112970         N0_moss                   USA        0        0   \n",
      "\n",
      "             Cleanliness                Hotel  HotelID HotelLocation  \\\n",
      "UR126268620            4  Mayfair Hotel & Spa   217395            FL   \n",
      "UR126112970            5  Mayfair Hotel & Spa   217395            FL   \n",
      "\n",
      "             Location  Overall  PriceMax  PriceMin  \\\n",
      "UR126268620         4      4.0       398       146   \n",
      "UR126112970         5      5.0       398       146   \n",
      "\n",
      "                                                        Review  Rooms  \\\n",
      "UR126268620  Stayed for 3 nights for conference in early Ma...      3   \n",
      "UR126112970  I had a phenomenal stay at the Mayfair. The ho...      5   \n",
      "\n",
      "             Service  Sleep Quality  Value  \n",
      "UR126268620        4              0      4  \n",
      "UR126112970        5              5      5  \n"
     ]
    },
    {
     "name": "stderr",
     "output_type": "stream",
     "text": [
      "/Users/Ryan/anaconda/lib/python3.5/json/encoder.py:198: DeprecationWarning: Interpreting naive datetime as local 2018-10-27 12:28:20.768684. Please add timezone info to timestamps.\n",
      "  chunks = self.iterencode(o, _one_shot=True)\n"
     ]
    }
   ],
   "source": [
    "df_reviews.rename(index=str, columns={\"Business service (e.g., internet access)\": \"BusServ\", \\\n",
    "                                     \"Check in / front desk\": \"CheckIn\"}, inplace= True)\n",
    "print(df_reviews.head(2))"
   ]
  },
  {
   "cell_type": "code",
   "execution_count": 160,
   "metadata": {},
   "outputs": [
    {
     "data": {
      "text/plain": [
       "Author             object\n",
       "AuthorLocation     object\n",
       "BusServ           float64\n",
       "CheckIn           float64\n",
       "Cleanliness       float64\n",
       "Hotel              object\n",
       "HotelID             int64\n",
       "HotelLocation      object\n",
       "Location          float64\n",
       "Overall           float64\n",
       "PriceMax            int64\n",
       "PriceMin            int64\n",
       "Review             object\n",
       "Rooms             float64\n",
       "Service           float64\n",
       "Sleep Quality     float64\n",
       "Value             float64\n",
       "dtype: object"
      ]
     },
     "execution_count": 160,
     "metadata": {},
     "output_type": "execute_result"
    },
    {
     "name": "stderr",
     "output_type": "stream",
     "text": [
      "/Users/Ryan/anaconda/lib/python3.5/json/encoder.py:198: DeprecationWarning: Interpreting naive datetime as local 2018-10-27 12:28:44.965665. Please add timezone info to timestamps.\n",
      "  chunks = self.iterencode(o, _one_shot=True)\n"
     ]
    }
   ],
   "source": [
    "#what to do with missing values, now set to zero?\n",
    "#set missing values to overall rating doesn't seem crazy, since it's the average of other ratings\n",
    "#need to change from int64 to float64 because overall is a float\n",
    "df_reviews = df_reviews.astype({'Cleanliness': 'float', 'Location': 'float', 'Rooms': 'float', 'Service': 'float', \\\n",
    "                   'Sleep Quality': 'float', 'Value': 'float', 'BusServ': 'float', 'CheckIn': 'float'})\n",
    "df_reviews.dtypes\n"
   ]
  },
  {
   "cell_type": "code",
   "execution_count": 161,
   "metadata": {},
   "outputs": [
    {
     "data": {
      "text/html": [
       "<div>\n",
       "<style>\n",
       "    .dataframe thead tr:only-child th {\n",
       "        text-align: right;\n",
       "    }\n",
       "\n",
       "    .dataframe thead th {\n",
       "        text-align: left;\n",
       "    }\n",
       "\n",
       "    .dataframe tbody tr th {\n",
       "        vertical-align: top;\n",
       "    }\n",
       "</style>\n",
       "<table border=\"1\" class=\"dataframe\">\n",
       "  <thead>\n",
       "    <tr style=\"text-align: right;\">\n",
       "      <th></th>\n",
       "      <th>BusServ</th>\n",
       "      <th>CheckIn</th>\n",
       "      <th>Cleanliness</th>\n",
       "      <th>HotelID</th>\n",
       "      <th>Location</th>\n",
       "      <th>Overall</th>\n",
       "      <th>PriceMax</th>\n",
       "      <th>PriceMin</th>\n",
       "      <th>Rooms</th>\n",
       "      <th>Service</th>\n",
       "      <th>Sleep Quality</th>\n",
       "      <th>Value</th>\n",
       "    </tr>\n",
       "  </thead>\n",
       "  <tbody>\n",
       "    <tr>\n",
       "      <th>count</th>\n",
       "      <td>147463.000000</td>\n",
       "      <td>147463.000000</td>\n",
       "      <td>147463.000000</td>\n",
       "      <td>1.474630e+05</td>\n",
       "      <td>147463.000000</td>\n",
       "      <td>147463.000000</td>\n",
       "      <td>147463.000000</td>\n",
       "      <td>147463.000000</td>\n",
       "      <td>147463.000000</td>\n",
       "      <td>147463.000000</td>\n",
       "      <td>147463.000000</td>\n",
       "      <td>147463.000000</td>\n",
       "    </tr>\n",
       "    <tr>\n",
       "      <th>mean</th>\n",
       "      <td>3.797902</td>\n",
       "      <td>3.841581</td>\n",
       "      <td>4.017137</td>\n",
       "      <td>1.073851e+06</td>\n",
       "      <td>4.256878</td>\n",
       "      <td>3.822043</td>\n",
       "      <td>326.258451</td>\n",
       "      <td>162.704407</td>\n",
       "      <td>3.795169</td>\n",
       "      <td>3.846633</td>\n",
       "      <td>3.859287</td>\n",
       "      <td>3.819867</td>\n",
       "    </tr>\n",
       "    <tr>\n",
       "      <th>std</th>\n",
       "      <td>1.230777</td>\n",
       "      <td>1.227558</td>\n",
       "      <td>1.198537</td>\n",
       "      <td>1.142945e+06</td>\n",
       "      <td>1.058038</td>\n",
       "      <td>1.229765</td>\n",
       "      <td>150.440055</td>\n",
       "      <td>84.101965</td>\n",
       "      <td>1.232365</td>\n",
       "      <td>1.278483</td>\n",
       "      <td>1.248091</td>\n",
       "      <td>1.259692</td>\n",
       "    </tr>\n",
       "    <tr>\n",
       "      <th>min</th>\n",
       "      <td>1.000000</td>\n",
       "      <td>1.000000</td>\n",
       "      <td>1.000000</td>\n",
       "      <td>7.371200e+04</td>\n",
       "      <td>1.000000</td>\n",
       "      <td>1.000000</td>\n",
       "      <td>0.000000</td>\n",
       "      <td>0.000000</td>\n",
       "      <td>1.000000</td>\n",
       "      <td>1.000000</td>\n",
       "      <td>1.000000</td>\n",
       "      <td>1.000000</td>\n",
       "    </tr>\n",
       "    <tr>\n",
       "      <th>1%</th>\n",
       "      <td>1.000000</td>\n",
       "      <td>1.000000</td>\n",
       "      <td>1.000000</td>\n",
       "      <td>7.727000e+04</td>\n",
       "      <td>1.000000</td>\n",
       "      <td>1.000000</td>\n",
       "      <td>59.000000</td>\n",
       "      <td>39.000000</td>\n",
       "      <td>1.000000</td>\n",
       "      <td>1.000000</td>\n",
       "      <td>1.000000</td>\n",
       "      <td>1.000000</td>\n",
       "    </tr>\n",
       "    <tr>\n",
       "      <th>5%</th>\n",
       "      <td>1.000000</td>\n",
       "      <td>1.000000</td>\n",
       "      <td>1.000000</td>\n",
       "      <td>8.759000e+04</td>\n",
       "      <td>2.000000</td>\n",
       "      <td>1.000000</td>\n",
       "      <td>123.000000</td>\n",
       "      <td>78.000000</td>\n",
       "      <td>1.000000</td>\n",
       "      <td>1.000000</td>\n",
       "      <td>1.000000</td>\n",
       "      <td>1.000000</td>\n",
       "    </tr>\n",
       "    <tr>\n",
       "      <th>25%</th>\n",
       "      <td>3.000000</td>\n",
       "      <td>3.000000</td>\n",
       "      <td>3.000000</td>\n",
       "      <td>1.119700e+05</td>\n",
       "      <td>4.000000</td>\n",
       "      <td>3.000000</td>\n",
       "      <td>234.000000</td>\n",
       "      <td>109.000000</td>\n",
       "      <td>3.000000</td>\n",
       "      <td>3.000000</td>\n",
       "      <td>3.000000</td>\n",
       "      <td>3.000000</td>\n",
       "    </tr>\n",
       "    <tr>\n",
       "      <th>50%</th>\n",
       "      <td>4.000000</td>\n",
       "      <td>4.000000</td>\n",
       "      <td>4.000000</td>\n",
       "      <td>2.084540e+05</td>\n",
       "      <td>5.000000</td>\n",
       "      <td>4.000000</td>\n",
       "      <td>278.000000</td>\n",
       "      <td>131.000000</td>\n",
       "      <td>4.000000</td>\n",
       "      <td>4.000000</td>\n",
       "      <td>4.000000</td>\n",
       "      <td>4.000000</td>\n",
       "    </tr>\n",
       "    <tr>\n",
       "      <th>75%</th>\n",
       "      <td>5.000000</td>\n",
       "      <td>5.000000</td>\n",
       "      <td>5.000000</td>\n",
       "      <td>2.514645e+06</td>\n",
       "      <td>5.000000</td>\n",
       "      <td>5.000000</td>\n",
       "      <td>446.000000</td>\n",
       "      <td>231.000000</td>\n",
       "      <td>5.000000</td>\n",
       "      <td>5.000000</td>\n",
       "      <td>5.000000</td>\n",
       "      <td>5.000000</td>\n",
       "    </tr>\n",
       "    <tr>\n",
       "      <th>95%</th>\n",
       "      <td>5.000000</td>\n",
       "      <td>5.000000</td>\n",
       "      <td>5.000000</td>\n",
       "      <td>2.515942e+06</td>\n",
       "      <td>5.000000</td>\n",
       "      <td>5.000000</td>\n",
       "      <td>602.000000</td>\n",
       "      <td>286.000000</td>\n",
       "      <td>5.000000</td>\n",
       "      <td>5.000000</td>\n",
       "      <td>5.000000</td>\n",
       "      <td>5.000000</td>\n",
       "    </tr>\n",
       "    <tr>\n",
       "      <th>99%</th>\n",
       "      <td>5.000000</td>\n",
       "      <td>5.000000</td>\n",
       "      <td>5.000000</td>\n",
       "      <td>2.516062e+06</td>\n",
       "      <td>5.000000</td>\n",
       "      <td>5.000000</td>\n",
       "      <td>771.000000</td>\n",
       "      <td>461.000000</td>\n",
       "      <td>5.000000</td>\n",
       "      <td>5.000000</td>\n",
       "      <td>5.000000</td>\n",
       "      <td>5.000000</td>\n",
       "    </tr>\n",
       "    <tr>\n",
       "      <th>max</th>\n",
       "      <td>5.000000</td>\n",
       "      <td>5.000000</td>\n",
       "      <td>5.000000</td>\n",
       "      <td>2.516234e+06</td>\n",
       "      <td>5.000000</td>\n",
       "      <td>5.000000</td>\n",
       "      <td>1138.000000</td>\n",
       "      <td>482.000000</td>\n",
       "      <td>5.000000</td>\n",
       "      <td>5.000000</td>\n",
       "      <td>5.000000</td>\n",
       "      <td>5.000000</td>\n",
       "    </tr>\n",
       "  </tbody>\n",
       "</table>\n",
       "</div>"
      ],
      "text/plain": [
       "             BusServ        CheckIn    Cleanliness       HotelID  \\\n",
       "count  147463.000000  147463.000000  147463.000000  1.474630e+05   \n",
       "mean        3.797902       3.841581       4.017137  1.073851e+06   \n",
       "std         1.230777       1.227558       1.198537  1.142945e+06   \n",
       "min         1.000000       1.000000       1.000000  7.371200e+04   \n",
       "1%          1.000000       1.000000       1.000000  7.727000e+04   \n",
       "5%          1.000000       1.000000       1.000000  8.759000e+04   \n",
       "25%         3.000000       3.000000       3.000000  1.119700e+05   \n",
       "50%         4.000000       4.000000       4.000000  2.084540e+05   \n",
       "75%         5.000000       5.000000       5.000000  2.514645e+06   \n",
       "95%         5.000000       5.000000       5.000000  2.515942e+06   \n",
       "99%         5.000000       5.000000       5.000000  2.516062e+06   \n",
       "max         5.000000       5.000000       5.000000  2.516234e+06   \n",
       "\n",
       "            Location        Overall       PriceMax       PriceMin  \\\n",
       "count  147463.000000  147463.000000  147463.000000  147463.000000   \n",
       "mean        4.256878       3.822043     326.258451     162.704407   \n",
       "std         1.058038       1.229765     150.440055      84.101965   \n",
       "min         1.000000       1.000000       0.000000       0.000000   \n",
       "1%          1.000000       1.000000      59.000000      39.000000   \n",
       "5%          2.000000       1.000000     123.000000      78.000000   \n",
       "25%         4.000000       3.000000     234.000000     109.000000   \n",
       "50%         5.000000       4.000000     278.000000     131.000000   \n",
       "75%         5.000000       5.000000     446.000000     231.000000   \n",
       "95%         5.000000       5.000000     602.000000     286.000000   \n",
       "99%         5.000000       5.000000     771.000000     461.000000   \n",
       "max         5.000000       5.000000    1138.000000     482.000000   \n",
       "\n",
       "               Rooms        Service  Sleep Quality          Value  \n",
       "count  147463.000000  147463.000000  147463.000000  147463.000000  \n",
       "mean        3.795169       3.846633       3.859287       3.819867  \n",
       "std         1.232365       1.278483       1.248091       1.259692  \n",
       "min         1.000000       1.000000       1.000000       1.000000  \n",
       "1%          1.000000       1.000000       1.000000       1.000000  \n",
       "5%          1.000000       1.000000       1.000000       1.000000  \n",
       "25%         3.000000       3.000000       3.000000       3.000000  \n",
       "50%         4.000000       4.000000       4.000000       4.000000  \n",
       "75%         5.000000       5.000000       5.000000       5.000000  \n",
       "95%         5.000000       5.000000       5.000000       5.000000  \n",
       "99%         5.000000       5.000000       5.000000       5.000000  \n",
       "max         5.000000       5.000000       5.000000       5.000000  "
      ]
     },
     "execution_count": 161,
     "metadata": {},
     "output_type": "execute_result"
    },
    {
     "name": "stderr",
     "output_type": "stream",
     "text": [
      "/Users/Ryan/anaconda/lib/python3.5/json/encoder.py:198: DeprecationWarning: Interpreting naive datetime as local 2018-10-27 12:28:49.148911. Please add timezone info to timestamps.\n",
      "  chunks = self.iterencode(o, _one_shot=True)\n"
     ]
    }
   ],
   "source": [
    "#now we can assign values\n",
    "df_reviews['BusServ'] = np.where(df_reviews['BusServ'] == 0, df_reviews['Overall'], df_reviews['BusServ'])\n",
    "df_reviews['CheckIn'] = np.where(df_reviews['CheckIn'] == 0, df_reviews['Overall'], df_reviews['CheckIn'])\n",
    "df_reviews['Cleanliness'] = np.where(df_reviews['Cleanliness'] == 0, df_reviews['Overall'], df_reviews['Cleanliness'])\n",
    "df_reviews['Location'] = np.where(df_reviews['Location'] == 0, df_reviews['Overall'], df_reviews['Location'])\n",
    "df_reviews['Rooms'] = np.where(df_reviews['Rooms'] == 0, df_reviews['Overall'], df_reviews['Rooms'])\n",
    "df_reviews['Service'] = np.where(df_reviews['Service'] == 0, df_reviews['Overall'], df_reviews['Service'])\n",
    "df_reviews['Sleep Quality'] = np.where(df_reviews['Sleep Quality'] == 0, df_reviews['Overall'], df_reviews['Sleep Quality'])\n",
    "df_reviews['Value'] = np.where(df_reviews['Value'] == 0, df_reviews['Overall'], df_reviews['Value'])\n",
    "df_reviews.describe([.01, .05, .25, .5, .75, .95, .99])\n"
   ]
  },
  {
   "cell_type": "code",
   "execution_count": 162,
   "metadata": {},
   "outputs": [
    {
     "data": {
      "application/javascript": [
       "/* Put everything inside the global mpl namespace */\n",
       "window.mpl = {};\n",
       "\n",
       "\n",
       "mpl.get_websocket_type = function() {\n",
       "    if (typeof(WebSocket) !== 'undefined') {\n",
       "        return WebSocket;\n",
       "    } else if (typeof(MozWebSocket) !== 'undefined') {\n",
       "        return MozWebSocket;\n",
       "    } else {\n",
       "        alert('Your browser does not have WebSocket support.' +\n",
       "              'Please try Chrome, Safari or Firefox ≥ 6. ' +\n",
       "              'Firefox 4 and 5 are also supported but you ' +\n",
       "              'have to enable WebSockets in about:config.');\n",
       "    };\n",
       "}\n",
       "\n",
       "mpl.figure = function(figure_id, websocket, ondownload, parent_element) {\n",
       "    this.id = figure_id;\n",
       "\n",
       "    this.ws = websocket;\n",
       "\n",
       "    this.supports_binary = (this.ws.binaryType != undefined);\n",
       "\n",
       "    if (!this.supports_binary) {\n",
       "        var warnings = document.getElementById(\"mpl-warnings\");\n",
       "        if (warnings) {\n",
       "            warnings.style.display = 'block';\n",
       "            warnings.textContent = (\n",
       "                \"This browser does not support binary websocket messages. \" +\n",
       "                    \"Performance may be slow.\");\n",
       "        }\n",
       "    }\n",
       "\n",
       "    this.imageObj = new Image();\n",
       "\n",
       "    this.context = undefined;\n",
       "    this.message = undefined;\n",
       "    this.canvas = undefined;\n",
       "    this.rubberband_canvas = undefined;\n",
       "    this.rubberband_context = undefined;\n",
       "    this.format_dropdown = undefined;\n",
       "\n",
       "    this.image_mode = 'full';\n",
       "\n",
       "    this.root = $('<div/>');\n",
       "    this._root_extra_style(this.root)\n",
       "    this.root.attr('style', 'display: inline-block');\n",
       "\n",
       "    $(parent_element).append(this.root);\n",
       "\n",
       "    this._init_header(this);\n",
       "    this._init_canvas(this);\n",
       "    this._init_toolbar(this);\n",
       "\n",
       "    var fig = this;\n",
       "\n",
       "    this.waiting = false;\n",
       "\n",
       "    this.ws.onopen =  function () {\n",
       "            fig.send_message(\"supports_binary\", {value: fig.supports_binary});\n",
       "            fig.send_message(\"send_image_mode\", {});\n",
       "            if (mpl.ratio != 1) {\n",
       "                fig.send_message(\"set_dpi_ratio\", {'dpi_ratio': mpl.ratio});\n",
       "            }\n",
       "            fig.send_message(\"refresh\", {});\n",
       "        }\n",
       "\n",
       "    this.imageObj.onload = function() {\n",
       "            if (fig.image_mode == 'full') {\n",
       "                // Full images could contain transparency (where diff images\n",
       "                // almost always do), so we need to clear the canvas so that\n",
       "                // there is no ghosting.\n",
       "                fig.context.clearRect(0, 0, fig.canvas.width, fig.canvas.height);\n",
       "            }\n",
       "            fig.context.drawImage(fig.imageObj, 0, 0);\n",
       "        };\n",
       "\n",
       "    this.imageObj.onunload = function() {\n",
       "        fig.ws.close();\n",
       "    }\n",
       "\n",
       "    this.ws.onmessage = this._make_on_message_function(this);\n",
       "\n",
       "    this.ondownload = ondownload;\n",
       "}\n",
       "\n",
       "mpl.figure.prototype._init_header = function() {\n",
       "    var titlebar = $(\n",
       "        '<div class=\"ui-dialog-titlebar ui-widget-header ui-corner-all ' +\n",
       "        'ui-helper-clearfix\"/>');\n",
       "    var titletext = $(\n",
       "        '<div class=\"ui-dialog-title\" style=\"width: 100%; ' +\n",
       "        'text-align: center; padding: 3px;\"/>');\n",
       "    titlebar.append(titletext)\n",
       "    this.root.append(titlebar);\n",
       "    this.header = titletext[0];\n",
       "}\n",
       "\n",
       "\n",
       "\n",
       "mpl.figure.prototype._canvas_extra_style = function(canvas_div) {\n",
       "\n",
       "}\n",
       "\n",
       "\n",
       "mpl.figure.prototype._root_extra_style = function(canvas_div) {\n",
       "\n",
       "}\n",
       "\n",
       "mpl.figure.prototype._init_canvas = function() {\n",
       "    var fig = this;\n",
       "\n",
       "    var canvas_div = $('<div/>');\n",
       "\n",
       "    canvas_div.attr('style', 'position: relative; clear: both; outline: 0');\n",
       "\n",
       "    function canvas_keyboard_event(event) {\n",
       "        return fig.key_event(event, event['data']);\n",
       "    }\n",
       "\n",
       "    canvas_div.keydown('key_press', canvas_keyboard_event);\n",
       "    canvas_div.keyup('key_release', canvas_keyboard_event);\n",
       "    this.canvas_div = canvas_div\n",
       "    this._canvas_extra_style(canvas_div)\n",
       "    this.root.append(canvas_div);\n",
       "\n",
       "    var canvas = $('<canvas/>');\n",
       "    canvas.addClass('mpl-canvas');\n",
       "    canvas.attr('style', \"left: 0; top: 0; z-index: 0; outline: 0\")\n",
       "\n",
       "    this.canvas = canvas[0];\n",
       "    this.context = canvas[0].getContext(\"2d\");\n",
       "\n",
       "    var backingStore = this.context.backingStorePixelRatio ||\n",
       "\tthis.context.webkitBackingStorePixelRatio ||\n",
       "\tthis.context.mozBackingStorePixelRatio ||\n",
       "\tthis.context.msBackingStorePixelRatio ||\n",
       "\tthis.context.oBackingStorePixelRatio ||\n",
       "\tthis.context.backingStorePixelRatio || 1;\n",
       "\n",
       "    mpl.ratio = (window.devicePixelRatio || 1) / backingStore;\n",
       "\n",
       "    var rubberband = $('<canvas/>');\n",
       "    rubberband.attr('style', \"position: absolute; left: 0; top: 0; z-index: 1;\")\n",
       "\n",
       "    var pass_mouse_events = true;\n",
       "\n",
       "    canvas_div.resizable({\n",
       "        start: function(event, ui) {\n",
       "            pass_mouse_events = false;\n",
       "        },\n",
       "        resize: function(event, ui) {\n",
       "            fig.request_resize(ui.size.width, ui.size.height);\n",
       "        },\n",
       "        stop: function(event, ui) {\n",
       "            pass_mouse_events = true;\n",
       "            fig.request_resize(ui.size.width, ui.size.height);\n",
       "        },\n",
       "    });\n",
       "\n",
       "    function mouse_event_fn(event) {\n",
       "        if (pass_mouse_events)\n",
       "            return fig.mouse_event(event, event['data']);\n",
       "    }\n",
       "\n",
       "    rubberband.mousedown('button_press', mouse_event_fn);\n",
       "    rubberband.mouseup('button_release', mouse_event_fn);\n",
       "    // Throttle sequential mouse events to 1 every 20ms.\n",
       "    rubberband.mousemove('motion_notify', mouse_event_fn);\n",
       "\n",
       "    rubberband.mouseenter('figure_enter', mouse_event_fn);\n",
       "    rubberband.mouseleave('figure_leave', mouse_event_fn);\n",
       "\n",
       "    canvas_div.on(\"wheel\", function (event) {\n",
       "        event = event.originalEvent;\n",
       "        event['data'] = 'scroll'\n",
       "        if (event.deltaY < 0) {\n",
       "            event.step = 1;\n",
       "        } else {\n",
       "            event.step = -1;\n",
       "        }\n",
       "        mouse_event_fn(event);\n",
       "    });\n",
       "\n",
       "    canvas_div.append(canvas);\n",
       "    canvas_div.append(rubberband);\n",
       "\n",
       "    this.rubberband = rubberband;\n",
       "    this.rubberband_canvas = rubberband[0];\n",
       "    this.rubberband_context = rubberband[0].getContext(\"2d\");\n",
       "    this.rubberband_context.strokeStyle = \"#000000\";\n",
       "\n",
       "    this._resize_canvas = function(width, height) {\n",
       "        // Keep the size of the canvas, canvas container, and rubber band\n",
       "        // canvas in synch.\n",
       "        canvas_div.css('width', width)\n",
       "        canvas_div.css('height', height)\n",
       "\n",
       "        canvas.attr('width', width * mpl.ratio);\n",
       "        canvas.attr('height', height * mpl.ratio);\n",
       "        canvas.attr('style', 'width: ' + width + 'px; height: ' + height + 'px;');\n",
       "\n",
       "        rubberband.attr('width', width);\n",
       "        rubberband.attr('height', height);\n",
       "    }\n",
       "\n",
       "    // Set the figure to an initial 600x600px, this will subsequently be updated\n",
       "    // upon first draw.\n",
       "    this._resize_canvas(600, 600);\n",
       "\n",
       "    // Disable right mouse context menu.\n",
       "    $(this.rubberband_canvas).bind(\"contextmenu\",function(e){\n",
       "        return false;\n",
       "    });\n",
       "\n",
       "    function set_focus () {\n",
       "        canvas.focus();\n",
       "        canvas_div.focus();\n",
       "    }\n",
       "\n",
       "    window.setTimeout(set_focus, 100);\n",
       "}\n",
       "\n",
       "mpl.figure.prototype._init_toolbar = function() {\n",
       "    var fig = this;\n",
       "\n",
       "    var nav_element = $('<div/>')\n",
       "    nav_element.attr('style', 'width: 100%');\n",
       "    this.root.append(nav_element);\n",
       "\n",
       "    // Define a callback function for later on.\n",
       "    function toolbar_event(event) {\n",
       "        return fig.toolbar_button_onclick(event['data']);\n",
       "    }\n",
       "    function toolbar_mouse_event(event) {\n",
       "        return fig.toolbar_button_onmouseover(event['data']);\n",
       "    }\n",
       "\n",
       "    for(var toolbar_ind in mpl.toolbar_items) {\n",
       "        var name = mpl.toolbar_items[toolbar_ind][0];\n",
       "        var tooltip = mpl.toolbar_items[toolbar_ind][1];\n",
       "        var image = mpl.toolbar_items[toolbar_ind][2];\n",
       "        var method_name = mpl.toolbar_items[toolbar_ind][3];\n",
       "\n",
       "        if (!name) {\n",
       "            // put a spacer in here.\n",
       "            continue;\n",
       "        }\n",
       "        var button = $('<button/>');\n",
       "        button.addClass('ui-button ui-widget ui-state-default ui-corner-all ' +\n",
       "                        'ui-button-icon-only');\n",
       "        button.attr('role', 'button');\n",
       "        button.attr('aria-disabled', 'false');\n",
       "        button.click(method_name, toolbar_event);\n",
       "        button.mouseover(tooltip, toolbar_mouse_event);\n",
       "\n",
       "        var icon_img = $('<span/>');\n",
       "        icon_img.addClass('ui-button-icon-primary ui-icon');\n",
       "        icon_img.addClass(image);\n",
       "        icon_img.addClass('ui-corner-all');\n",
       "\n",
       "        var tooltip_span = $('<span/>');\n",
       "        tooltip_span.addClass('ui-button-text');\n",
       "        tooltip_span.html(tooltip);\n",
       "\n",
       "        button.append(icon_img);\n",
       "        button.append(tooltip_span);\n",
       "\n",
       "        nav_element.append(button);\n",
       "    }\n",
       "\n",
       "    var fmt_picker_span = $('<span/>');\n",
       "\n",
       "    var fmt_picker = $('<select/>');\n",
       "    fmt_picker.addClass('mpl-toolbar-option ui-widget ui-widget-content');\n",
       "    fmt_picker_span.append(fmt_picker);\n",
       "    nav_element.append(fmt_picker_span);\n",
       "    this.format_dropdown = fmt_picker[0];\n",
       "\n",
       "    for (var ind in mpl.extensions) {\n",
       "        var fmt = mpl.extensions[ind];\n",
       "        var option = $(\n",
       "            '<option/>', {selected: fmt === mpl.default_extension}).html(fmt);\n",
       "        fmt_picker.append(option)\n",
       "    }\n",
       "\n",
       "    // Add hover states to the ui-buttons\n",
       "    $( \".ui-button\" ).hover(\n",
       "        function() { $(this).addClass(\"ui-state-hover\");},\n",
       "        function() { $(this).removeClass(\"ui-state-hover\");}\n",
       "    );\n",
       "\n",
       "    var status_bar = $('<span class=\"mpl-message\"/>');\n",
       "    nav_element.append(status_bar);\n",
       "    this.message = status_bar[0];\n",
       "}\n",
       "\n",
       "mpl.figure.prototype.request_resize = function(x_pixels, y_pixels) {\n",
       "    // Request matplotlib to resize the figure. Matplotlib will then trigger a resize in the client,\n",
       "    // which will in turn request a refresh of the image.\n",
       "    this.send_message('resize', {'width': x_pixels, 'height': y_pixels});\n",
       "}\n",
       "\n",
       "mpl.figure.prototype.send_message = function(type, properties) {\n",
       "    properties['type'] = type;\n",
       "    properties['figure_id'] = this.id;\n",
       "    this.ws.send(JSON.stringify(properties));\n",
       "}\n",
       "\n",
       "mpl.figure.prototype.send_draw_message = function() {\n",
       "    if (!this.waiting) {\n",
       "        this.waiting = true;\n",
       "        this.ws.send(JSON.stringify({type: \"draw\", figure_id: this.id}));\n",
       "    }\n",
       "}\n",
       "\n",
       "\n",
       "mpl.figure.prototype.handle_save = function(fig, msg) {\n",
       "    var format_dropdown = fig.format_dropdown;\n",
       "    var format = format_dropdown.options[format_dropdown.selectedIndex].value;\n",
       "    fig.ondownload(fig, format);\n",
       "}\n",
       "\n",
       "\n",
       "mpl.figure.prototype.handle_resize = function(fig, msg) {\n",
       "    var size = msg['size'];\n",
       "    if (size[0] != fig.canvas.width || size[1] != fig.canvas.height) {\n",
       "        fig._resize_canvas(size[0], size[1]);\n",
       "        fig.send_message(\"refresh\", {});\n",
       "    };\n",
       "}\n",
       "\n",
       "mpl.figure.prototype.handle_rubberband = function(fig, msg) {\n",
       "    var x0 = msg['x0'] / mpl.ratio;\n",
       "    var y0 = (fig.canvas.height - msg['y0']) / mpl.ratio;\n",
       "    var x1 = msg['x1'] / mpl.ratio;\n",
       "    var y1 = (fig.canvas.height - msg['y1']) / mpl.ratio;\n",
       "    x0 = Math.floor(x0) + 0.5;\n",
       "    y0 = Math.floor(y0) + 0.5;\n",
       "    x1 = Math.floor(x1) + 0.5;\n",
       "    y1 = Math.floor(y1) + 0.5;\n",
       "    var min_x = Math.min(x0, x1);\n",
       "    var min_y = Math.min(y0, y1);\n",
       "    var width = Math.abs(x1 - x0);\n",
       "    var height = Math.abs(y1 - y0);\n",
       "\n",
       "    fig.rubberband_context.clearRect(\n",
       "        0, 0, fig.canvas.width, fig.canvas.height);\n",
       "\n",
       "    fig.rubberband_context.strokeRect(min_x, min_y, width, height);\n",
       "}\n",
       "\n",
       "mpl.figure.prototype.handle_figure_label = function(fig, msg) {\n",
       "    // Updates the figure title.\n",
       "    fig.header.textContent = msg['label'];\n",
       "}\n",
       "\n",
       "mpl.figure.prototype.handle_cursor = function(fig, msg) {\n",
       "    var cursor = msg['cursor'];\n",
       "    switch(cursor)\n",
       "    {\n",
       "    case 0:\n",
       "        cursor = 'pointer';\n",
       "        break;\n",
       "    case 1:\n",
       "        cursor = 'default';\n",
       "        break;\n",
       "    case 2:\n",
       "        cursor = 'crosshair';\n",
       "        break;\n",
       "    case 3:\n",
       "        cursor = 'move';\n",
       "        break;\n",
       "    }\n",
       "    fig.rubberband_canvas.style.cursor = cursor;\n",
       "}\n",
       "\n",
       "mpl.figure.prototype.handle_message = function(fig, msg) {\n",
       "    fig.message.textContent = msg['message'];\n",
       "}\n",
       "\n",
       "mpl.figure.prototype.handle_draw = function(fig, msg) {\n",
       "    // Request the server to send over a new figure.\n",
       "    fig.send_draw_message();\n",
       "}\n",
       "\n",
       "mpl.figure.prototype.handle_image_mode = function(fig, msg) {\n",
       "    fig.image_mode = msg['mode'];\n",
       "}\n",
       "\n",
       "mpl.figure.prototype.updated_canvas_event = function() {\n",
       "    // Called whenever the canvas gets updated.\n",
       "    this.send_message(\"ack\", {});\n",
       "}\n",
       "\n",
       "// A function to construct a web socket function for onmessage handling.\n",
       "// Called in the figure constructor.\n",
       "mpl.figure.prototype._make_on_message_function = function(fig) {\n",
       "    return function socket_on_message(evt) {\n",
       "        if (evt.data instanceof Blob) {\n",
       "            /* FIXME: We get \"Resource interpreted as Image but\n",
       "             * transferred with MIME type text/plain:\" errors on\n",
       "             * Chrome.  But how to set the MIME type?  It doesn't seem\n",
       "             * to be part of the websocket stream */\n",
       "            evt.data.type = \"image/png\";\n",
       "\n",
       "            /* Free the memory for the previous frames */\n",
       "            if (fig.imageObj.src) {\n",
       "                (window.URL || window.webkitURL).revokeObjectURL(\n",
       "                    fig.imageObj.src);\n",
       "            }\n",
       "\n",
       "            fig.imageObj.src = (window.URL || window.webkitURL).createObjectURL(\n",
       "                evt.data);\n",
       "            fig.updated_canvas_event();\n",
       "            fig.waiting = false;\n",
       "            return;\n",
       "        }\n",
       "        else if (typeof evt.data === 'string' && evt.data.slice(0, 21) == \"data:image/png;base64\") {\n",
       "            fig.imageObj.src = evt.data;\n",
       "            fig.updated_canvas_event();\n",
       "            fig.waiting = false;\n",
       "            return;\n",
       "        }\n",
       "\n",
       "        var msg = JSON.parse(evt.data);\n",
       "        var msg_type = msg['type'];\n",
       "\n",
       "        // Call the  \"handle_{type}\" callback, which takes\n",
       "        // the figure and JSON message as its only arguments.\n",
       "        try {\n",
       "            var callback = fig[\"handle_\" + msg_type];\n",
       "        } catch (e) {\n",
       "            console.log(\"No handler for the '\" + msg_type + \"' message type: \", msg);\n",
       "            return;\n",
       "        }\n",
       "\n",
       "        if (callback) {\n",
       "            try {\n",
       "                // console.log(\"Handling '\" + msg_type + \"' message: \", msg);\n",
       "                callback(fig, msg);\n",
       "            } catch (e) {\n",
       "                console.log(\"Exception inside the 'handler_\" + msg_type + \"' callback:\", e, e.stack, msg);\n",
       "            }\n",
       "        }\n",
       "    };\n",
       "}\n",
       "\n",
       "// from http://stackoverflow.com/questions/1114465/getting-mouse-location-in-canvas\n",
       "mpl.findpos = function(e) {\n",
       "    //this section is from http://www.quirksmode.org/js/events_properties.html\n",
       "    var targ;\n",
       "    if (!e)\n",
       "        e = window.event;\n",
       "    if (e.target)\n",
       "        targ = e.target;\n",
       "    else if (e.srcElement)\n",
       "        targ = e.srcElement;\n",
       "    if (targ.nodeType == 3) // defeat Safari bug\n",
       "        targ = targ.parentNode;\n",
       "\n",
       "    // jQuery normalizes the pageX and pageY\n",
       "    // pageX,Y are the mouse positions relative to the document\n",
       "    // offset() returns the position of the element relative to the document\n",
       "    var x = e.pageX - $(targ).offset().left;\n",
       "    var y = e.pageY - $(targ).offset().top;\n",
       "\n",
       "    return {\"x\": x, \"y\": y};\n",
       "};\n",
       "\n",
       "/*\n",
       " * return a copy of an object with only non-object keys\n",
       " * we need this to avoid circular references\n",
       " * http://stackoverflow.com/a/24161582/3208463\n",
       " */\n",
       "function simpleKeys (original) {\n",
       "  return Object.keys(original).reduce(function (obj, key) {\n",
       "    if (typeof original[key] !== 'object')\n",
       "        obj[key] = original[key]\n",
       "    return obj;\n",
       "  }, {});\n",
       "}\n",
       "\n",
       "mpl.figure.prototype.mouse_event = function(event, name) {\n",
       "    var canvas_pos = mpl.findpos(event)\n",
       "\n",
       "    if (name === 'button_press')\n",
       "    {\n",
       "        this.canvas.focus();\n",
       "        this.canvas_div.focus();\n",
       "    }\n",
       "\n",
       "    var x = canvas_pos.x * mpl.ratio;\n",
       "    var y = canvas_pos.y * mpl.ratio;\n",
       "\n",
       "    this.send_message(name, {x: x, y: y, button: event.button,\n",
       "                             step: event.step,\n",
       "                             guiEvent: simpleKeys(event)});\n",
       "\n",
       "    /* This prevents the web browser from automatically changing to\n",
       "     * the text insertion cursor when the button is pressed.  We want\n",
       "     * to control all of the cursor setting manually through the\n",
       "     * 'cursor' event from matplotlib */\n",
       "    event.preventDefault();\n",
       "    return false;\n",
       "}\n",
       "\n",
       "mpl.figure.prototype._key_event_extra = function(event, name) {\n",
       "    // Handle any extra behaviour associated with a key event\n",
       "}\n",
       "\n",
       "mpl.figure.prototype.key_event = function(event, name) {\n",
       "\n",
       "    // Prevent repeat events\n",
       "    if (name == 'key_press')\n",
       "    {\n",
       "        if (event.which === this._key)\n",
       "            return;\n",
       "        else\n",
       "            this._key = event.which;\n",
       "    }\n",
       "    if (name == 'key_release')\n",
       "        this._key = null;\n",
       "\n",
       "    var value = '';\n",
       "    if (event.ctrlKey && event.which != 17)\n",
       "        value += \"ctrl+\";\n",
       "    if (event.altKey && event.which != 18)\n",
       "        value += \"alt+\";\n",
       "    if (event.shiftKey && event.which != 16)\n",
       "        value += \"shift+\";\n",
       "\n",
       "    value += 'k';\n",
       "    value += event.which.toString();\n",
       "\n",
       "    this._key_event_extra(event, name);\n",
       "\n",
       "    this.send_message(name, {key: value,\n",
       "                             guiEvent: simpleKeys(event)});\n",
       "    return false;\n",
       "}\n",
       "\n",
       "mpl.figure.prototype.toolbar_button_onclick = function(name) {\n",
       "    if (name == 'download') {\n",
       "        this.handle_save(this, null);\n",
       "    } else {\n",
       "        this.send_message(\"toolbar_button\", {name: name});\n",
       "    }\n",
       "};\n",
       "\n",
       "mpl.figure.prototype.toolbar_button_onmouseover = function(tooltip) {\n",
       "    this.message.textContent = tooltip;\n",
       "};\n",
       "mpl.toolbar_items = [[\"Home\", \"Reset original view\", \"fa fa-home icon-home\", \"home\"], [\"Back\", \"Back to  previous view\", \"fa fa-arrow-left icon-arrow-left\", \"back\"], [\"Forward\", \"Forward to next view\", \"fa fa-arrow-right icon-arrow-right\", \"forward\"], [\"\", \"\", \"\", \"\"], [\"Pan\", \"Pan axes with left mouse, zoom with right\", \"fa fa-arrows icon-move\", \"pan\"], [\"Zoom\", \"Zoom to rectangle\", \"fa fa-square-o icon-check-empty\", \"zoom\"], [\"\", \"\", \"\", \"\"], [\"Download\", \"Download plot\", \"fa fa-floppy-o icon-save\", \"download\"]];\n",
       "\n",
       "mpl.extensions = [\"eps\", \"jpeg\", \"pdf\", \"png\", \"ps\", \"raw\", \"svg\", \"tif\"];\n",
       "\n",
       "mpl.default_extension = \"png\";var comm_websocket_adapter = function(comm) {\n",
       "    // Create a \"websocket\"-like object which calls the given IPython comm\n",
       "    // object with the appropriate methods. Currently this is a non binary\n",
       "    // socket, so there is still some room for performance tuning.\n",
       "    var ws = {};\n",
       "\n",
       "    ws.close = function() {\n",
       "        comm.close()\n",
       "    };\n",
       "    ws.send = function(m) {\n",
       "        //console.log('sending', m);\n",
       "        comm.send(m);\n",
       "    };\n",
       "    // Register the callback with on_msg.\n",
       "    comm.on_msg(function(msg) {\n",
       "        //console.log('receiving', msg['content']['data'], msg);\n",
       "        // Pass the mpl event to the overridden (by mpl) onmessage function.\n",
       "        ws.onmessage(msg['content']['data'])\n",
       "    });\n",
       "    return ws;\n",
       "}\n",
       "\n",
       "mpl.mpl_figure_comm = function(comm, msg) {\n",
       "    // This is the function which gets called when the mpl process\n",
       "    // starts-up an IPython Comm through the \"matplotlib\" channel.\n",
       "\n",
       "    var id = msg.content.data.id;\n",
       "    // Get hold of the div created by the display call when the Comm\n",
       "    // socket was opened in Python.\n",
       "    var element = $(\"#\" + id);\n",
       "    var ws_proxy = comm_websocket_adapter(comm)\n",
       "\n",
       "    function ondownload(figure, format) {\n",
       "        window.open(figure.imageObj.src);\n",
       "    }\n",
       "\n",
       "    var fig = new mpl.figure(id, ws_proxy,\n",
       "                           ondownload,\n",
       "                           element.get(0));\n",
       "\n",
       "    // Call onopen now - mpl needs it, as it is assuming we've passed it a real\n",
       "    // web socket which is closed, not our websocket->open comm proxy.\n",
       "    ws_proxy.onopen();\n",
       "\n",
       "    fig.parent_element = element.get(0);\n",
       "    fig.cell_info = mpl.find_output_cell(\"<div id='\" + id + \"'></div>\");\n",
       "    if (!fig.cell_info) {\n",
       "        console.error(\"Failed to find cell for figure\", id, fig);\n",
       "        return;\n",
       "    }\n",
       "\n",
       "    var output_index = fig.cell_info[2]\n",
       "    var cell = fig.cell_info[0];\n",
       "\n",
       "};\n",
       "\n",
       "mpl.figure.prototype.handle_close = function(fig, msg) {\n",
       "    var width = fig.canvas.width/mpl.ratio\n",
       "    fig.root.unbind('remove')\n",
       "\n",
       "    // Update the output cell to use the data from the current canvas.\n",
       "    fig.push_to_output();\n",
       "    var dataURL = fig.canvas.toDataURL();\n",
       "    // Re-enable the keyboard manager in IPython - without this line, in FF,\n",
       "    // the notebook keyboard shortcuts fail.\n",
       "    IPython.keyboard_manager.enable()\n",
       "    $(fig.parent_element).html('<img src=\"' + dataURL + '\" width=\"' + width + '\">');\n",
       "    fig.close_ws(fig, msg);\n",
       "}\n",
       "\n",
       "mpl.figure.prototype.close_ws = function(fig, msg){\n",
       "    fig.send_message('closing', msg);\n",
       "    // fig.ws.close()\n",
       "}\n",
       "\n",
       "mpl.figure.prototype.push_to_output = function(remove_interactive) {\n",
       "    // Turn the data on the canvas into data in the output cell.\n",
       "    var width = this.canvas.width/mpl.ratio\n",
       "    var dataURL = this.canvas.toDataURL();\n",
       "    this.cell_info[1]['text/html'] = '<img src=\"' + dataURL + '\" width=\"' + width + '\">';\n",
       "}\n",
       "\n",
       "mpl.figure.prototype.updated_canvas_event = function() {\n",
       "    // Tell IPython that the notebook contents must change.\n",
       "    IPython.notebook.set_dirty(true);\n",
       "    this.send_message(\"ack\", {});\n",
       "    var fig = this;\n",
       "    // Wait a second, then push the new image to the DOM so\n",
       "    // that it is saved nicely (might be nice to debounce this).\n",
       "    setTimeout(function () { fig.push_to_output() }, 1000);\n",
       "}\n",
       "\n",
       "mpl.figure.prototype._init_toolbar = function() {\n",
       "    var fig = this;\n",
       "\n",
       "    var nav_element = $('<div/>')\n",
       "    nav_element.attr('style', 'width: 100%');\n",
       "    this.root.append(nav_element);\n",
       "\n",
       "    // Define a callback function for later on.\n",
       "    function toolbar_event(event) {\n",
       "        return fig.toolbar_button_onclick(event['data']);\n",
       "    }\n",
       "    function toolbar_mouse_event(event) {\n",
       "        return fig.toolbar_button_onmouseover(event['data']);\n",
       "    }\n",
       "\n",
       "    for(var toolbar_ind in mpl.toolbar_items){\n",
       "        var name = mpl.toolbar_items[toolbar_ind][0];\n",
       "        var tooltip = mpl.toolbar_items[toolbar_ind][1];\n",
       "        var image = mpl.toolbar_items[toolbar_ind][2];\n",
       "        var method_name = mpl.toolbar_items[toolbar_ind][3];\n",
       "\n",
       "        if (!name) { continue; };\n",
       "\n",
       "        var button = $('<button class=\"btn btn-default\" href=\"#\" title=\"' + name + '\"><i class=\"fa ' + image + ' fa-lg\"></i></button>');\n",
       "        button.click(method_name, toolbar_event);\n",
       "        button.mouseover(tooltip, toolbar_mouse_event);\n",
       "        nav_element.append(button);\n",
       "    }\n",
       "\n",
       "    // Add the status bar.\n",
       "    var status_bar = $('<span class=\"mpl-message\" style=\"text-align:right; float: right;\"/>');\n",
       "    nav_element.append(status_bar);\n",
       "    this.message = status_bar[0];\n",
       "\n",
       "    // Add the close button to the window.\n",
       "    var buttongrp = $('<div class=\"btn-group inline pull-right\"></div>');\n",
       "    var button = $('<button class=\"btn btn-mini btn-primary\" href=\"#\" title=\"Stop Interaction\"><i class=\"fa fa-power-off icon-remove icon-large\"></i></button>');\n",
       "    button.click(function (evt) { fig.handle_close(fig, {}); } );\n",
       "    button.mouseover('Stop Interaction', toolbar_mouse_event);\n",
       "    buttongrp.append(button);\n",
       "    var titlebar = this.root.find($('.ui-dialog-titlebar'));\n",
       "    titlebar.prepend(buttongrp);\n",
       "}\n",
       "\n",
       "mpl.figure.prototype._root_extra_style = function(el){\n",
       "    var fig = this\n",
       "    el.on(\"remove\", function(){\n",
       "\tfig.close_ws(fig, {});\n",
       "    });\n",
       "}\n",
       "\n",
       "mpl.figure.prototype._canvas_extra_style = function(el){\n",
       "    // this is important to make the div 'focusable\n",
       "    el.attr('tabindex', 0)\n",
       "    // reach out to IPython and tell the keyboard manager to turn it's self\n",
       "    // off when our div gets focus\n",
       "\n",
       "    // location in version 3\n",
       "    if (IPython.notebook.keyboard_manager) {\n",
       "        IPython.notebook.keyboard_manager.register_events(el);\n",
       "    }\n",
       "    else {\n",
       "        // location in version 2\n",
       "        IPython.keyboard_manager.register_events(el);\n",
       "    }\n",
       "\n",
       "}\n",
       "\n",
       "mpl.figure.prototype._key_event_extra = function(event, name) {\n",
       "    var manager = IPython.notebook.keyboard_manager;\n",
       "    if (!manager)\n",
       "        manager = IPython.keyboard_manager;\n",
       "\n",
       "    // Check for shift+enter\n",
       "    if (event.shiftKey && event.which == 13) {\n",
       "        this.canvas_div.blur();\n",
       "        event.shiftKey = false;\n",
       "        // Send a \"J\" for go to next cell\n",
       "        event.which = 74;\n",
       "        event.keyCode = 74;\n",
       "        manager.command_mode();\n",
       "        manager.handle_keydown(event);\n",
       "    }\n",
       "}\n",
       "\n",
       "mpl.figure.prototype.handle_save = function(fig, msg) {\n",
       "    fig.ondownload(fig, null);\n",
       "}\n",
       "\n",
       "\n",
       "mpl.find_output_cell = function(html_output) {\n",
       "    // Return the cell and output element which can be found *uniquely* in the notebook.\n",
       "    // Note - this is a bit hacky, but it is done because the \"notebook_saving.Notebook\"\n",
       "    // IPython event is triggered only after the cells have been serialised, which for\n",
       "    // our purposes (turning an active figure into a static one), is too late.\n",
       "    var cells = IPython.notebook.get_cells();\n",
       "    var ncells = cells.length;\n",
       "    for (var i=0; i<ncells; i++) {\n",
       "        var cell = cells[i];\n",
       "        if (cell.cell_type === 'code'){\n",
       "            for (var j=0; j<cell.output_area.outputs.length; j++) {\n",
       "                var data = cell.output_area.outputs[j];\n",
       "                if (data.data) {\n",
       "                    // IPython >= 3 moved mimebundle to data attribute of output\n",
       "                    data = data.data;\n",
       "                }\n",
       "                if (data['text/html'] == html_output) {\n",
       "                    return [cell, data, j];\n",
       "                }\n",
       "            }\n",
       "        }\n",
       "    }\n",
       "}\n",
       "\n",
       "// Register the function which deals with the matplotlib target/channel.\n",
       "// The kernel may be null if the page has been refreshed.\n",
       "if (IPython.notebook.kernel != null) {\n",
       "    IPython.notebook.kernel.comm_manager.register_target('matplotlib', mpl.mpl_figure_comm);\n",
       "}\n"
      ],
      "text/plain": [
       "<IPython.core.display.Javascript object>"
      ]
     },
     "metadata": {},
     "output_type": "display_data"
    },
    {
     "data": {
      "text/html": [
       "<img src=\"data:image/png;base64,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\" width=\"640\">"
      ],
      "text/plain": [
       "<IPython.core.display.HTML object>"
      ]
     },
     "metadata": {},
     "output_type": "display_data"
    },
    {
     "name": "stderr",
     "output_type": "stream",
     "text": [
      "/Users/Ryan/anaconda/lib/python3.5/json/encoder.py:198: DeprecationWarning: Interpreting naive datetime as local 2018-10-27 12:28:53.564091. Please add timezone info to timestamps.\n",
      "  chunks = self.iterencode(o, _one_shot=True)\n"
     ]
    }
   ],
   "source": [
    "%matplotlib notebook\n",
    "import matplotlib.pyplot as plt\n",
    "df_reviews.boxplot(column=['Overall', 'BusServ', 'CheckIn', 'Cleanliness', 'Location', 'Rooms', 'Service', \\\n",
    "                           'Sleep Quality', 'Value'])\n",
    "plt.xticks(rotation=45)\n",
    "plt.show()\n",
    "\n"
   ]
  },
  {
   "cell_type": "code",
   "execution_count": 163,
   "metadata": {},
   "outputs": [
    {
     "data": {
      "application/javascript": [
       "/* Put everything inside the global mpl namespace */\n",
       "window.mpl = {};\n",
       "\n",
       "\n",
       "mpl.get_websocket_type = function() {\n",
       "    if (typeof(WebSocket) !== 'undefined') {\n",
       "        return WebSocket;\n",
       "    } else if (typeof(MozWebSocket) !== 'undefined') {\n",
       "        return MozWebSocket;\n",
       "    } else {\n",
       "        alert('Your browser does not have WebSocket support.' +\n",
       "              'Please try Chrome, Safari or Firefox ≥ 6. ' +\n",
       "              'Firefox 4 and 5 are also supported but you ' +\n",
       "              'have to enable WebSockets in about:config.');\n",
       "    };\n",
       "}\n",
       "\n",
       "mpl.figure = function(figure_id, websocket, ondownload, parent_element) {\n",
       "    this.id = figure_id;\n",
       "\n",
       "    this.ws = websocket;\n",
       "\n",
       "    this.supports_binary = (this.ws.binaryType != undefined);\n",
       "\n",
       "    if (!this.supports_binary) {\n",
       "        var warnings = document.getElementById(\"mpl-warnings\");\n",
       "        if (warnings) {\n",
       "            warnings.style.display = 'block';\n",
       "            warnings.textContent = (\n",
       "                \"This browser does not support binary websocket messages. \" +\n",
       "                    \"Performance may be slow.\");\n",
       "        }\n",
       "    }\n",
       "\n",
       "    this.imageObj = new Image();\n",
       "\n",
       "    this.context = undefined;\n",
       "    this.message = undefined;\n",
       "    this.canvas = undefined;\n",
       "    this.rubberband_canvas = undefined;\n",
       "    this.rubberband_context = undefined;\n",
       "    this.format_dropdown = undefined;\n",
       "\n",
       "    this.image_mode = 'full';\n",
       "\n",
       "    this.root = $('<div/>');\n",
       "    this._root_extra_style(this.root)\n",
       "    this.root.attr('style', 'display: inline-block');\n",
       "\n",
       "    $(parent_element).append(this.root);\n",
       "\n",
       "    this._init_header(this);\n",
       "    this._init_canvas(this);\n",
       "    this._init_toolbar(this);\n",
       "\n",
       "    var fig = this;\n",
       "\n",
       "    this.waiting = false;\n",
       "\n",
       "    this.ws.onopen =  function () {\n",
       "            fig.send_message(\"supports_binary\", {value: fig.supports_binary});\n",
       "            fig.send_message(\"send_image_mode\", {});\n",
       "            if (mpl.ratio != 1) {\n",
       "                fig.send_message(\"set_dpi_ratio\", {'dpi_ratio': mpl.ratio});\n",
       "            }\n",
       "            fig.send_message(\"refresh\", {});\n",
       "        }\n",
       "\n",
       "    this.imageObj.onload = function() {\n",
       "            if (fig.image_mode == 'full') {\n",
       "                // Full images could contain transparency (where diff images\n",
       "                // almost always do), so we need to clear the canvas so that\n",
       "                // there is no ghosting.\n",
       "                fig.context.clearRect(0, 0, fig.canvas.width, fig.canvas.height);\n",
       "            }\n",
       "            fig.context.drawImage(fig.imageObj, 0, 0);\n",
       "        };\n",
       "\n",
       "    this.imageObj.onunload = function() {\n",
       "        fig.ws.close();\n",
       "    }\n",
       "\n",
       "    this.ws.onmessage = this._make_on_message_function(this);\n",
       "\n",
       "    this.ondownload = ondownload;\n",
       "}\n",
       "\n",
       "mpl.figure.prototype._init_header = function() {\n",
       "    var titlebar = $(\n",
       "        '<div class=\"ui-dialog-titlebar ui-widget-header ui-corner-all ' +\n",
       "        'ui-helper-clearfix\"/>');\n",
       "    var titletext = $(\n",
       "        '<div class=\"ui-dialog-title\" style=\"width: 100%; ' +\n",
       "        'text-align: center; padding: 3px;\"/>');\n",
       "    titlebar.append(titletext)\n",
       "    this.root.append(titlebar);\n",
       "    this.header = titletext[0];\n",
       "}\n",
       "\n",
       "\n",
       "\n",
       "mpl.figure.prototype._canvas_extra_style = function(canvas_div) {\n",
       "\n",
       "}\n",
       "\n",
       "\n",
       "mpl.figure.prototype._root_extra_style = function(canvas_div) {\n",
       "\n",
       "}\n",
       "\n",
       "mpl.figure.prototype._init_canvas = function() {\n",
       "    var fig = this;\n",
       "\n",
       "    var canvas_div = $('<div/>');\n",
       "\n",
       "    canvas_div.attr('style', 'position: relative; clear: both; outline: 0');\n",
       "\n",
       "    function canvas_keyboard_event(event) {\n",
       "        return fig.key_event(event, event['data']);\n",
       "    }\n",
       "\n",
       "    canvas_div.keydown('key_press', canvas_keyboard_event);\n",
       "    canvas_div.keyup('key_release', canvas_keyboard_event);\n",
       "    this.canvas_div = canvas_div\n",
       "    this._canvas_extra_style(canvas_div)\n",
       "    this.root.append(canvas_div);\n",
       "\n",
       "    var canvas = $('<canvas/>');\n",
       "    canvas.addClass('mpl-canvas');\n",
       "    canvas.attr('style', \"left: 0; top: 0; z-index: 0; outline: 0\")\n",
       "\n",
       "    this.canvas = canvas[0];\n",
       "    this.context = canvas[0].getContext(\"2d\");\n",
       "\n",
       "    var backingStore = this.context.backingStorePixelRatio ||\n",
       "\tthis.context.webkitBackingStorePixelRatio ||\n",
       "\tthis.context.mozBackingStorePixelRatio ||\n",
       "\tthis.context.msBackingStorePixelRatio ||\n",
       "\tthis.context.oBackingStorePixelRatio ||\n",
       "\tthis.context.backingStorePixelRatio || 1;\n",
       "\n",
       "    mpl.ratio = (window.devicePixelRatio || 1) / backingStore;\n",
       "\n",
       "    var rubberband = $('<canvas/>');\n",
       "    rubberband.attr('style', \"position: absolute; left: 0; top: 0; z-index: 1;\")\n",
       "\n",
       "    var pass_mouse_events = true;\n",
       "\n",
       "    canvas_div.resizable({\n",
       "        start: function(event, ui) {\n",
       "            pass_mouse_events = false;\n",
       "        },\n",
       "        resize: function(event, ui) {\n",
       "            fig.request_resize(ui.size.width, ui.size.height);\n",
       "        },\n",
       "        stop: function(event, ui) {\n",
       "            pass_mouse_events = true;\n",
       "            fig.request_resize(ui.size.width, ui.size.height);\n",
       "        },\n",
       "    });\n",
       "\n",
       "    function mouse_event_fn(event) {\n",
       "        if (pass_mouse_events)\n",
       "            return fig.mouse_event(event, event['data']);\n",
       "    }\n",
       "\n",
       "    rubberband.mousedown('button_press', mouse_event_fn);\n",
       "    rubberband.mouseup('button_release', mouse_event_fn);\n",
       "    // Throttle sequential mouse events to 1 every 20ms.\n",
       "    rubberband.mousemove('motion_notify', mouse_event_fn);\n",
       "\n",
       "    rubberband.mouseenter('figure_enter', mouse_event_fn);\n",
       "    rubberband.mouseleave('figure_leave', mouse_event_fn);\n",
       "\n",
       "    canvas_div.on(\"wheel\", function (event) {\n",
       "        event = event.originalEvent;\n",
       "        event['data'] = 'scroll'\n",
       "        if (event.deltaY < 0) {\n",
       "            event.step = 1;\n",
       "        } else {\n",
       "            event.step = -1;\n",
       "        }\n",
       "        mouse_event_fn(event);\n",
       "    });\n",
       "\n",
       "    canvas_div.append(canvas);\n",
       "    canvas_div.append(rubberband);\n",
       "\n",
       "    this.rubberband = rubberband;\n",
       "    this.rubberband_canvas = rubberband[0];\n",
       "    this.rubberband_context = rubberband[0].getContext(\"2d\");\n",
       "    this.rubberband_context.strokeStyle = \"#000000\";\n",
       "\n",
       "    this._resize_canvas = function(width, height) {\n",
       "        // Keep the size of the canvas, canvas container, and rubber band\n",
       "        // canvas in synch.\n",
       "        canvas_div.css('width', width)\n",
       "        canvas_div.css('height', height)\n",
       "\n",
       "        canvas.attr('width', width * mpl.ratio);\n",
       "        canvas.attr('height', height * mpl.ratio);\n",
       "        canvas.attr('style', 'width: ' + width + 'px; height: ' + height + 'px;');\n",
       "\n",
       "        rubberband.attr('width', width);\n",
       "        rubberband.attr('height', height);\n",
       "    }\n",
       "\n",
       "    // Set the figure to an initial 600x600px, this will subsequently be updated\n",
       "    // upon first draw.\n",
       "    this._resize_canvas(600, 600);\n",
       "\n",
       "    // Disable right mouse context menu.\n",
       "    $(this.rubberband_canvas).bind(\"contextmenu\",function(e){\n",
       "        return false;\n",
       "    });\n",
       "\n",
       "    function set_focus () {\n",
       "        canvas.focus();\n",
       "        canvas_div.focus();\n",
       "    }\n",
       "\n",
       "    window.setTimeout(set_focus, 100);\n",
       "}\n",
       "\n",
       "mpl.figure.prototype._init_toolbar = function() {\n",
       "    var fig = this;\n",
       "\n",
       "    var nav_element = $('<div/>')\n",
       "    nav_element.attr('style', 'width: 100%');\n",
       "    this.root.append(nav_element);\n",
       "\n",
       "    // Define a callback function for later on.\n",
       "    function toolbar_event(event) {\n",
       "        return fig.toolbar_button_onclick(event['data']);\n",
       "    }\n",
       "    function toolbar_mouse_event(event) {\n",
       "        return fig.toolbar_button_onmouseover(event['data']);\n",
       "    }\n",
       "\n",
       "    for(var toolbar_ind in mpl.toolbar_items) {\n",
       "        var name = mpl.toolbar_items[toolbar_ind][0];\n",
       "        var tooltip = mpl.toolbar_items[toolbar_ind][1];\n",
       "        var image = mpl.toolbar_items[toolbar_ind][2];\n",
       "        var method_name = mpl.toolbar_items[toolbar_ind][3];\n",
       "\n",
       "        if (!name) {\n",
       "            // put a spacer in here.\n",
       "            continue;\n",
       "        }\n",
       "        var button = $('<button/>');\n",
       "        button.addClass('ui-button ui-widget ui-state-default ui-corner-all ' +\n",
       "                        'ui-button-icon-only');\n",
       "        button.attr('role', 'button');\n",
       "        button.attr('aria-disabled', 'false');\n",
       "        button.click(method_name, toolbar_event);\n",
       "        button.mouseover(tooltip, toolbar_mouse_event);\n",
       "\n",
       "        var icon_img = $('<span/>');\n",
       "        icon_img.addClass('ui-button-icon-primary ui-icon');\n",
       "        icon_img.addClass(image);\n",
       "        icon_img.addClass('ui-corner-all');\n",
       "\n",
       "        var tooltip_span = $('<span/>');\n",
       "        tooltip_span.addClass('ui-button-text');\n",
       "        tooltip_span.html(tooltip);\n",
       "\n",
       "        button.append(icon_img);\n",
       "        button.append(tooltip_span);\n",
       "\n",
       "        nav_element.append(button);\n",
       "    }\n",
       "\n",
       "    var fmt_picker_span = $('<span/>');\n",
       "\n",
       "    var fmt_picker = $('<select/>');\n",
       "    fmt_picker.addClass('mpl-toolbar-option ui-widget ui-widget-content');\n",
       "    fmt_picker_span.append(fmt_picker);\n",
       "    nav_element.append(fmt_picker_span);\n",
       "    this.format_dropdown = fmt_picker[0];\n",
       "\n",
       "    for (var ind in mpl.extensions) {\n",
       "        var fmt = mpl.extensions[ind];\n",
       "        var option = $(\n",
       "            '<option/>', {selected: fmt === mpl.default_extension}).html(fmt);\n",
       "        fmt_picker.append(option)\n",
       "    }\n",
       "\n",
       "    // Add hover states to the ui-buttons\n",
       "    $( \".ui-button\" ).hover(\n",
       "        function() { $(this).addClass(\"ui-state-hover\");},\n",
       "        function() { $(this).removeClass(\"ui-state-hover\");}\n",
       "    );\n",
       "\n",
       "    var status_bar = $('<span class=\"mpl-message\"/>');\n",
       "    nav_element.append(status_bar);\n",
       "    this.message = status_bar[0];\n",
       "}\n",
       "\n",
       "mpl.figure.prototype.request_resize = function(x_pixels, y_pixels) {\n",
       "    // Request matplotlib to resize the figure. Matplotlib will then trigger a resize in the client,\n",
       "    // which will in turn request a refresh of the image.\n",
       "    this.send_message('resize', {'width': x_pixels, 'height': y_pixels});\n",
       "}\n",
       "\n",
       "mpl.figure.prototype.send_message = function(type, properties) {\n",
       "    properties['type'] = type;\n",
       "    properties['figure_id'] = this.id;\n",
       "    this.ws.send(JSON.stringify(properties));\n",
       "}\n",
       "\n",
       "mpl.figure.prototype.send_draw_message = function() {\n",
       "    if (!this.waiting) {\n",
       "        this.waiting = true;\n",
       "        this.ws.send(JSON.stringify({type: \"draw\", figure_id: this.id}));\n",
       "    }\n",
       "}\n",
       "\n",
       "\n",
       "mpl.figure.prototype.handle_save = function(fig, msg) {\n",
       "    var format_dropdown = fig.format_dropdown;\n",
       "    var format = format_dropdown.options[format_dropdown.selectedIndex].value;\n",
       "    fig.ondownload(fig, format);\n",
       "}\n",
       "\n",
       "\n",
       "mpl.figure.prototype.handle_resize = function(fig, msg) {\n",
       "    var size = msg['size'];\n",
       "    if (size[0] != fig.canvas.width || size[1] != fig.canvas.height) {\n",
       "        fig._resize_canvas(size[0], size[1]);\n",
       "        fig.send_message(\"refresh\", {});\n",
       "    };\n",
       "}\n",
       "\n",
       "mpl.figure.prototype.handle_rubberband = function(fig, msg) {\n",
       "    var x0 = msg['x0'] / mpl.ratio;\n",
       "    var y0 = (fig.canvas.height - msg['y0']) / mpl.ratio;\n",
       "    var x1 = msg['x1'] / mpl.ratio;\n",
       "    var y1 = (fig.canvas.height - msg['y1']) / mpl.ratio;\n",
       "    x0 = Math.floor(x0) + 0.5;\n",
       "    y0 = Math.floor(y0) + 0.5;\n",
       "    x1 = Math.floor(x1) + 0.5;\n",
       "    y1 = Math.floor(y1) + 0.5;\n",
       "    var min_x = Math.min(x0, x1);\n",
       "    var min_y = Math.min(y0, y1);\n",
       "    var width = Math.abs(x1 - x0);\n",
       "    var height = Math.abs(y1 - y0);\n",
       "\n",
       "    fig.rubberband_context.clearRect(\n",
       "        0, 0, fig.canvas.width, fig.canvas.height);\n",
       "\n",
       "    fig.rubberband_context.strokeRect(min_x, min_y, width, height);\n",
       "}\n",
       "\n",
       "mpl.figure.prototype.handle_figure_label = function(fig, msg) {\n",
       "    // Updates the figure title.\n",
       "    fig.header.textContent = msg['label'];\n",
       "}\n",
       "\n",
       "mpl.figure.prototype.handle_cursor = function(fig, msg) {\n",
       "    var cursor = msg['cursor'];\n",
       "    switch(cursor)\n",
       "    {\n",
       "    case 0:\n",
       "        cursor = 'pointer';\n",
       "        break;\n",
       "    case 1:\n",
       "        cursor = 'default';\n",
       "        break;\n",
       "    case 2:\n",
       "        cursor = 'crosshair';\n",
       "        break;\n",
       "    case 3:\n",
       "        cursor = 'move';\n",
       "        break;\n",
       "    }\n",
       "    fig.rubberband_canvas.style.cursor = cursor;\n",
       "}\n",
       "\n",
       "mpl.figure.prototype.handle_message = function(fig, msg) {\n",
       "    fig.message.textContent = msg['message'];\n",
       "}\n",
       "\n",
       "mpl.figure.prototype.handle_draw = function(fig, msg) {\n",
       "    // Request the server to send over a new figure.\n",
       "    fig.send_draw_message();\n",
       "}\n",
       "\n",
       "mpl.figure.prototype.handle_image_mode = function(fig, msg) {\n",
       "    fig.image_mode = msg['mode'];\n",
       "}\n",
       "\n",
       "mpl.figure.prototype.updated_canvas_event = function() {\n",
       "    // Called whenever the canvas gets updated.\n",
       "    this.send_message(\"ack\", {});\n",
       "}\n",
       "\n",
       "// A function to construct a web socket function for onmessage handling.\n",
       "// Called in the figure constructor.\n",
       "mpl.figure.prototype._make_on_message_function = function(fig) {\n",
       "    return function socket_on_message(evt) {\n",
       "        if (evt.data instanceof Blob) {\n",
       "            /* FIXME: We get \"Resource interpreted as Image but\n",
       "             * transferred with MIME type text/plain:\" errors on\n",
       "             * Chrome.  But how to set the MIME type?  It doesn't seem\n",
       "             * to be part of the websocket stream */\n",
       "            evt.data.type = \"image/png\";\n",
       "\n",
       "            /* Free the memory for the previous frames */\n",
       "            if (fig.imageObj.src) {\n",
       "                (window.URL || window.webkitURL).revokeObjectURL(\n",
       "                    fig.imageObj.src);\n",
       "            }\n",
       "\n",
       "            fig.imageObj.src = (window.URL || window.webkitURL).createObjectURL(\n",
       "                evt.data);\n",
       "            fig.updated_canvas_event();\n",
       "            fig.waiting = false;\n",
       "            return;\n",
       "        }\n",
       "        else if (typeof evt.data === 'string' && evt.data.slice(0, 21) == \"data:image/png;base64\") {\n",
       "            fig.imageObj.src = evt.data;\n",
       "            fig.updated_canvas_event();\n",
       "            fig.waiting = false;\n",
       "            return;\n",
       "        }\n",
       "\n",
       "        var msg = JSON.parse(evt.data);\n",
       "        var msg_type = msg['type'];\n",
       "\n",
       "        // Call the  \"handle_{type}\" callback, which takes\n",
       "        // the figure and JSON message as its only arguments.\n",
       "        try {\n",
       "            var callback = fig[\"handle_\" + msg_type];\n",
       "        } catch (e) {\n",
       "            console.log(\"No handler for the '\" + msg_type + \"' message type: \", msg);\n",
       "            return;\n",
       "        }\n",
       "\n",
       "        if (callback) {\n",
       "            try {\n",
       "                // console.log(\"Handling '\" + msg_type + \"' message: \", msg);\n",
       "                callback(fig, msg);\n",
       "            } catch (e) {\n",
       "                console.log(\"Exception inside the 'handler_\" + msg_type + \"' callback:\", e, e.stack, msg);\n",
       "            }\n",
       "        }\n",
       "    };\n",
       "}\n",
       "\n",
       "// from http://stackoverflow.com/questions/1114465/getting-mouse-location-in-canvas\n",
       "mpl.findpos = function(e) {\n",
       "    //this section is from http://www.quirksmode.org/js/events_properties.html\n",
       "    var targ;\n",
       "    if (!e)\n",
       "        e = window.event;\n",
       "    if (e.target)\n",
       "        targ = e.target;\n",
       "    else if (e.srcElement)\n",
       "        targ = e.srcElement;\n",
       "    if (targ.nodeType == 3) // defeat Safari bug\n",
       "        targ = targ.parentNode;\n",
       "\n",
       "    // jQuery normalizes the pageX and pageY\n",
       "    // pageX,Y are the mouse positions relative to the document\n",
       "    // offset() returns the position of the element relative to the document\n",
       "    var x = e.pageX - $(targ).offset().left;\n",
       "    var y = e.pageY - $(targ).offset().top;\n",
       "\n",
       "    return {\"x\": x, \"y\": y};\n",
       "};\n",
       "\n",
       "/*\n",
       " * return a copy of an object with only non-object keys\n",
       " * we need this to avoid circular references\n",
       " * http://stackoverflow.com/a/24161582/3208463\n",
       " */\n",
       "function simpleKeys (original) {\n",
       "  return Object.keys(original).reduce(function (obj, key) {\n",
       "    if (typeof original[key] !== 'object')\n",
       "        obj[key] = original[key]\n",
       "    return obj;\n",
       "  }, {});\n",
       "}\n",
       "\n",
       "mpl.figure.prototype.mouse_event = function(event, name) {\n",
       "    var canvas_pos = mpl.findpos(event)\n",
       "\n",
       "    if (name === 'button_press')\n",
       "    {\n",
       "        this.canvas.focus();\n",
       "        this.canvas_div.focus();\n",
       "    }\n",
       "\n",
       "    var x = canvas_pos.x * mpl.ratio;\n",
       "    var y = canvas_pos.y * mpl.ratio;\n",
       "\n",
       "    this.send_message(name, {x: x, y: y, button: event.button,\n",
       "                             step: event.step,\n",
       "                             guiEvent: simpleKeys(event)});\n",
       "\n",
       "    /* This prevents the web browser from automatically changing to\n",
       "     * the text insertion cursor when the button is pressed.  We want\n",
       "     * to control all of the cursor setting manually through the\n",
       "     * 'cursor' event from matplotlib */\n",
       "    event.preventDefault();\n",
       "    return false;\n",
       "}\n",
       "\n",
       "mpl.figure.prototype._key_event_extra = function(event, name) {\n",
       "    // Handle any extra behaviour associated with a key event\n",
       "}\n",
       "\n",
       "mpl.figure.prototype.key_event = function(event, name) {\n",
       "\n",
       "    // Prevent repeat events\n",
       "    if (name == 'key_press')\n",
       "    {\n",
       "        if (event.which === this._key)\n",
       "            return;\n",
       "        else\n",
       "            this._key = event.which;\n",
       "    }\n",
       "    if (name == 'key_release')\n",
       "        this._key = null;\n",
       "\n",
       "    var value = '';\n",
       "    if (event.ctrlKey && event.which != 17)\n",
       "        value += \"ctrl+\";\n",
       "    if (event.altKey && event.which != 18)\n",
       "        value += \"alt+\";\n",
       "    if (event.shiftKey && event.which != 16)\n",
       "        value += \"shift+\";\n",
       "\n",
       "    value += 'k';\n",
       "    value += event.which.toString();\n",
       "\n",
       "    this._key_event_extra(event, name);\n",
       "\n",
       "    this.send_message(name, {key: value,\n",
       "                             guiEvent: simpleKeys(event)});\n",
       "    return false;\n",
       "}\n",
       "\n",
       "mpl.figure.prototype.toolbar_button_onclick = function(name) {\n",
       "    if (name == 'download') {\n",
       "        this.handle_save(this, null);\n",
       "    } else {\n",
       "        this.send_message(\"toolbar_button\", {name: name});\n",
       "    }\n",
       "};\n",
       "\n",
       "mpl.figure.prototype.toolbar_button_onmouseover = function(tooltip) {\n",
       "    this.message.textContent = tooltip;\n",
       "};\n",
       "mpl.toolbar_items = [[\"Home\", \"Reset original view\", \"fa fa-home icon-home\", \"home\"], [\"Back\", \"Back to  previous view\", \"fa fa-arrow-left icon-arrow-left\", \"back\"], [\"Forward\", \"Forward to next view\", \"fa fa-arrow-right icon-arrow-right\", \"forward\"], [\"\", \"\", \"\", \"\"], [\"Pan\", \"Pan axes with left mouse, zoom with right\", \"fa fa-arrows icon-move\", \"pan\"], [\"Zoom\", \"Zoom to rectangle\", \"fa fa-square-o icon-check-empty\", \"zoom\"], [\"\", \"\", \"\", \"\"], [\"Download\", \"Download plot\", \"fa fa-floppy-o icon-save\", \"download\"]];\n",
       "\n",
       "mpl.extensions = [\"eps\", \"jpeg\", \"pdf\", \"png\", \"ps\", \"raw\", \"svg\", \"tif\"];\n",
       "\n",
       "mpl.default_extension = \"png\";var comm_websocket_adapter = function(comm) {\n",
       "    // Create a \"websocket\"-like object which calls the given IPython comm\n",
       "    // object with the appropriate methods. Currently this is a non binary\n",
       "    // socket, so there is still some room for performance tuning.\n",
       "    var ws = {};\n",
       "\n",
       "    ws.close = function() {\n",
       "        comm.close()\n",
       "    };\n",
       "    ws.send = function(m) {\n",
       "        //console.log('sending', m);\n",
       "        comm.send(m);\n",
       "    };\n",
       "    // Register the callback with on_msg.\n",
       "    comm.on_msg(function(msg) {\n",
       "        //console.log('receiving', msg['content']['data'], msg);\n",
       "        // Pass the mpl event to the overridden (by mpl) onmessage function.\n",
       "        ws.onmessage(msg['content']['data'])\n",
       "    });\n",
       "    return ws;\n",
       "}\n",
       "\n",
       "mpl.mpl_figure_comm = function(comm, msg) {\n",
       "    // This is the function which gets called when the mpl process\n",
       "    // starts-up an IPython Comm through the \"matplotlib\" channel.\n",
       "\n",
       "    var id = msg.content.data.id;\n",
       "    // Get hold of the div created by the display call when the Comm\n",
       "    // socket was opened in Python.\n",
       "    var element = $(\"#\" + id);\n",
       "    var ws_proxy = comm_websocket_adapter(comm)\n",
       "\n",
       "    function ondownload(figure, format) {\n",
       "        window.open(figure.imageObj.src);\n",
       "    }\n",
       "\n",
       "    var fig = new mpl.figure(id, ws_proxy,\n",
       "                           ondownload,\n",
       "                           element.get(0));\n",
       "\n",
       "    // Call onopen now - mpl needs it, as it is assuming we've passed it a real\n",
       "    // web socket which is closed, not our websocket->open comm proxy.\n",
       "    ws_proxy.onopen();\n",
       "\n",
       "    fig.parent_element = element.get(0);\n",
       "    fig.cell_info = mpl.find_output_cell(\"<div id='\" + id + \"'></div>\");\n",
       "    if (!fig.cell_info) {\n",
       "        console.error(\"Failed to find cell for figure\", id, fig);\n",
       "        return;\n",
       "    }\n",
       "\n",
       "    var output_index = fig.cell_info[2]\n",
       "    var cell = fig.cell_info[0];\n",
       "\n",
       "};\n",
       "\n",
       "mpl.figure.prototype.handle_close = function(fig, msg) {\n",
       "    var width = fig.canvas.width/mpl.ratio\n",
       "    fig.root.unbind('remove')\n",
       "\n",
       "    // Update the output cell to use the data from the current canvas.\n",
       "    fig.push_to_output();\n",
       "    var dataURL = fig.canvas.toDataURL();\n",
       "    // Re-enable the keyboard manager in IPython - without this line, in FF,\n",
       "    // the notebook keyboard shortcuts fail.\n",
       "    IPython.keyboard_manager.enable()\n",
       "    $(fig.parent_element).html('<img src=\"' + dataURL + '\" width=\"' + width + '\">');\n",
       "    fig.close_ws(fig, msg);\n",
       "}\n",
       "\n",
       "mpl.figure.prototype.close_ws = function(fig, msg){\n",
       "    fig.send_message('closing', msg);\n",
       "    // fig.ws.close()\n",
       "}\n",
       "\n",
       "mpl.figure.prototype.push_to_output = function(remove_interactive) {\n",
       "    // Turn the data on the canvas into data in the output cell.\n",
       "    var width = this.canvas.width/mpl.ratio\n",
       "    var dataURL = this.canvas.toDataURL();\n",
       "    this.cell_info[1]['text/html'] = '<img src=\"' + dataURL + '\" width=\"' + width + '\">';\n",
       "}\n",
       "\n",
       "mpl.figure.prototype.updated_canvas_event = function() {\n",
       "    // Tell IPython that the notebook contents must change.\n",
       "    IPython.notebook.set_dirty(true);\n",
       "    this.send_message(\"ack\", {});\n",
       "    var fig = this;\n",
       "    // Wait a second, then push the new image to the DOM so\n",
       "    // that it is saved nicely (might be nice to debounce this).\n",
       "    setTimeout(function () { fig.push_to_output() }, 1000);\n",
       "}\n",
       "\n",
       "mpl.figure.prototype._init_toolbar = function() {\n",
       "    var fig = this;\n",
       "\n",
       "    var nav_element = $('<div/>')\n",
       "    nav_element.attr('style', 'width: 100%');\n",
       "    this.root.append(nav_element);\n",
       "\n",
       "    // Define a callback function for later on.\n",
       "    function toolbar_event(event) {\n",
       "        return fig.toolbar_button_onclick(event['data']);\n",
       "    }\n",
       "    function toolbar_mouse_event(event) {\n",
       "        return fig.toolbar_button_onmouseover(event['data']);\n",
       "    }\n",
       "\n",
       "    for(var toolbar_ind in mpl.toolbar_items){\n",
       "        var name = mpl.toolbar_items[toolbar_ind][0];\n",
       "        var tooltip = mpl.toolbar_items[toolbar_ind][1];\n",
       "        var image = mpl.toolbar_items[toolbar_ind][2];\n",
       "        var method_name = mpl.toolbar_items[toolbar_ind][3];\n",
       "\n",
       "        if (!name) { continue; };\n",
       "\n",
       "        var button = $('<button class=\"btn btn-default\" href=\"#\" title=\"' + name + '\"><i class=\"fa ' + image + ' fa-lg\"></i></button>');\n",
       "        button.click(method_name, toolbar_event);\n",
       "        button.mouseover(tooltip, toolbar_mouse_event);\n",
       "        nav_element.append(button);\n",
       "    }\n",
       "\n",
       "    // Add the status bar.\n",
       "    var status_bar = $('<span class=\"mpl-message\" style=\"text-align:right; float: right;\"/>');\n",
       "    nav_element.append(status_bar);\n",
       "    this.message = status_bar[0];\n",
       "\n",
       "    // Add the close button to the window.\n",
       "    var buttongrp = $('<div class=\"btn-group inline pull-right\"></div>');\n",
       "    var button = $('<button class=\"btn btn-mini btn-primary\" href=\"#\" title=\"Stop Interaction\"><i class=\"fa fa-power-off icon-remove icon-large\"></i></button>');\n",
       "    button.click(function (evt) { fig.handle_close(fig, {}); } );\n",
       "    button.mouseover('Stop Interaction', toolbar_mouse_event);\n",
       "    buttongrp.append(button);\n",
       "    var titlebar = this.root.find($('.ui-dialog-titlebar'));\n",
       "    titlebar.prepend(buttongrp);\n",
       "}\n",
       "\n",
       "mpl.figure.prototype._root_extra_style = function(el){\n",
       "    var fig = this\n",
       "    el.on(\"remove\", function(){\n",
       "\tfig.close_ws(fig, {});\n",
       "    });\n",
       "}\n",
       "\n",
       "mpl.figure.prototype._canvas_extra_style = function(el){\n",
       "    // this is important to make the div 'focusable\n",
       "    el.attr('tabindex', 0)\n",
       "    // reach out to IPython and tell the keyboard manager to turn it's self\n",
       "    // off when our div gets focus\n",
       "\n",
       "    // location in version 3\n",
       "    if (IPython.notebook.keyboard_manager) {\n",
       "        IPython.notebook.keyboard_manager.register_events(el);\n",
       "    }\n",
       "    else {\n",
       "        // location in version 2\n",
       "        IPython.keyboard_manager.register_events(el);\n",
       "    }\n",
       "\n",
       "}\n",
       "\n",
       "mpl.figure.prototype._key_event_extra = function(event, name) {\n",
       "    var manager = IPython.notebook.keyboard_manager;\n",
       "    if (!manager)\n",
       "        manager = IPython.keyboard_manager;\n",
       "\n",
       "    // Check for shift+enter\n",
       "    if (event.shiftKey && event.which == 13) {\n",
       "        this.canvas_div.blur();\n",
       "        event.shiftKey = false;\n",
       "        // Send a \"J\" for go to next cell\n",
       "        event.which = 74;\n",
       "        event.keyCode = 74;\n",
       "        manager.command_mode();\n",
       "        manager.handle_keydown(event);\n",
       "    }\n",
       "}\n",
       "\n",
       "mpl.figure.prototype.handle_save = function(fig, msg) {\n",
       "    fig.ondownload(fig, null);\n",
       "}\n",
       "\n",
       "\n",
       "mpl.find_output_cell = function(html_output) {\n",
       "    // Return the cell and output element which can be found *uniquely* in the notebook.\n",
       "    // Note - this is a bit hacky, but it is done because the \"notebook_saving.Notebook\"\n",
       "    // IPython event is triggered only after the cells have been serialised, which for\n",
       "    // our purposes (turning an active figure into a static one), is too late.\n",
       "    var cells = IPython.notebook.get_cells();\n",
       "    var ncells = cells.length;\n",
       "    for (var i=0; i<ncells; i++) {\n",
       "        var cell = cells[i];\n",
       "        if (cell.cell_type === 'code'){\n",
       "            for (var j=0; j<cell.output_area.outputs.length; j++) {\n",
       "                var data = cell.output_area.outputs[j];\n",
       "                if (data.data) {\n",
       "                    // IPython >= 3 moved mimebundle to data attribute of output\n",
       "                    data = data.data;\n",
       "                }\n",
       "                if (data['text/html'] == html_output) {\n",
       "                    return [cell, data, j];\n",
       "                }\n",
       "            }\n",
       "        }\n",
       "    }\n",
       "}\n",
       "\n",
       "// Register the function which deals with the matplotlib target/channel.\n",
       "// The kernel may be null if the page has been refreshed.\n",
       "if (IPython.notebook.kernel != null) {\n",
       "    IPython.notebook.kernel.comm_manager.register_target('matplotlib', mpl.mpl_figure_comm);\n",
       "}\n"
      ],
      "text/plain": [
       "<IPython.core.display.Javascript object>"
      ]
     },
     "metadata": {},
     "output_type": "display_data"
    },
    {
     "data": {
      "text/html": [
       "<img src=\"data:image/png;base64,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\" width=\"600\">"
      ],
      "text/plain": [
       "<IPython.core.display.HTML object>"
      ]
     },
     "metadata": {},
     "output_type": "display_data"
    },
    {
     "data": {
      "text/plain": [
       "array([[<matplotlib.axes._subplots.AxesSubplot object at 0x14140b668>,\n",
       "        <matplotlib.axes._subplots.AxesSubplot object at 0x13396ab38>,\n",
       "        <matplotlib.axes._subplots.AxesSubplot object at 0x13398d6d8>,\n",
       "        <matplotlib.axes._subplots.AxesSubplot object at 0x133d14c50>,\n",
       "        <matplotlib.axes._subplots.AxesSubplot object at 0x183e8b048>,\n",
       "        <matplotlib.axes._subplots.AxesSubplot object at 0x1363342b0>,\n",
       "        <matplotlib.axes._subplots.AxesSubplot object at 0x1476eb978>,\n",
       "        <matplotlib.axes._subplots.AxesSubplot object at 0x13d4b38d0>,\n",
       "        <matplotlib.axes._subplots.AxesSubplot object at 0x12780abe0>,\n",
       "        <matplotlib.axes._subplots.AxesSubplot object at 0x12ff5def0>,\n",
       "        <matplotlib.axes._subplots.AxesSubplot object at 0x13d22c240>,\n",
       "        <matplotlib.axes._subplots.AxesSubplot object at 0x1699f9550>],\n",
       "       [<matplotlib.axes._subplots.AxesSubplot object at 0x17d31e860>,\n",
       "        <matplotlib.axes._subplots.AxesSubplot object at 0x136120b70>,\n",
       "        <matplotlib.axes._subplots.AxesSubplot object at 0x136112e80>,\n",
       "        <matplotlib.axes._subplots.AxesSubplot object at 0x188a8f1d0>,\n",
       "        <matplotlib.axes._subplots.AxesSubplot object at 0x186d904e0>,\n",
       "        <matplotlib.axes._subplots.AxesSubplot object at 0x186d747f0>,\n",
       "        <matplotlib.axes._subplots.AxesSubplot object at 0x12b142b00>,\n",
       "        <matplotlib.axes._subplots.AxesSubplot object at 0x11ad65e10>,\n",
       "        <matplotlib.axes._subplots.AxesSubplot object at 0x158323160>,\n",
       "        <matplotlib.axes._subplots.AxesSubplot object at 0x11b5c8470>,\n",
       "        <matplotlib.axes._subplots.AxesSubplot object at 0x1192cc780>,\n",
       "        <matplotlib.axes._subplots.AxesSubplot object at 0x13d94ea90>],\n",
       "       [<matplotlib.axes._subplots.AxesSubplot object at 0x184ccbda0>,\n",
       "        <matplotlib.axes._subplots.AxesSubplot object at 0x1884ab0f0>,\n",
       "        <matplotlib.axes._subplots.AxesSubplot object at 0x1411ac400>,\n",
       "        <matplotlib.axes._subplots.AxesSubplot object at 0x13fb97710>,\n",
       "        <matplotlib.axes._subplots.AxesSubplot object at 0x137498a20>,\n",
       "        <matplotlib.axes._subplots.AxesSubplot object at 0x185b22d30>,\n",
       "        <matplotlib.axes._subplots.AxesSubplot object at 0x12ff02080>,\n",
       "        <matplotlib.axes._subplots.AxesSubplot object at 0x133eba390>,\n",
       "        <matplotlib.axes._subplots.AxesSubplot object at 0x130468978>,\n",
       "        <matplotlib.axes._subplots.AxesSubplot object at 0x1186479b0>,\n",
       "        <matplotlib.axes._subplots.AxesSubplot object at 0x132f46cc0>,\n",
       "        <matplotlib.axes._subplots.AxesSubplot object at 0x133b1efd0>],\n",
       "       [<matplotlib.axes._subplots.AxesSubplot object at 0x129cf7320>,\n",
       "        <matplotlib.axes._subplots.AxesSubplot object at 0x184bff630>,\n",
       "        <matplotlib.axes._subplots.AxesSubplot object at 0x154677940>,\n",
       "        <matplotlib.axes._subplots.AxesSubplot object at 0x17c66ac50>,\n",
       "        <matplotlib.axes._subplots.AxesSubplot object at 0x13faa1f60>,\n",
       "        <matplotlib.axes._subplots.AxesSubplot object at 0x12f6962b0>,\n",
       "        <matplotlib.axes._subplots.AxesSubplot object at 0x1299a75c0>,\n",
       "        <matplotlib.axes._subplots.AxesSubplot object at 0x13129bb38>,\n",
       "        <matplotlib.axes._subplots.AxesSubplot object at 0x12acbf240>,\n",
       "        <matplotlib.axes._subplots.AxesSubplot object at 0x13c073630>,\n",
       "        <matplotlib.axes._subplots.AxesSubplot object at 0x13c0a1ac8>,\n",
       "        <matplotlib.axes._subplots.AxesSubplot object at 0x1192bcd30>],\n",
       "       [<matplotlib.axes._subplots.AxesSubplot object at 0x1398986d8>,\n",
       "        <matplotlib.axes._subplots.AxesSubplot object at 0x13fa0f978>,\n",
       "        <matplotlib.axes._subplots.AxesSubplot object at 0x17a7e77f0>,\n",
       "        <matplotlib.axes._subplots.AxesSubplot object at 0x155428e80>,\n",
       "        <matplotlib.axes._subplots.AxesSubplot object at 0x150d49550>,\n",
       "        <matplotlib.axes._subplots.AxesSubplot object at 0x14fc60be0>,\n",
       "        <matplotlib.axes._subplots.AxesSubplot object at 0x12a1ea2b0>,\n",
       "        <matplotlib.axes._subplots.AxesSubplot object at 0x135c55940>,\n",
       "        <matplotlib.axes._subplots.AxesSubplot object at 0x133f35fd0>,\n",
       "        <matplotlib.axes._subplots.AxesSubplot object at 0x15630a6a0>,\n",
       "        <matplotlib.axes._subplots.AxesSubplot object at 0x154c43d30>,\n",
       "        <matplotlib.axes._subplots.AxesSubplot object at 0x153cc5400>],\n",
       "       [<matplotlib.axes._subplots.AxesSubplot object at 0x155c00a90>,\n",
       "        <matplotlib.axes._subplots.AxesSubplot object at 0x153985160>,\n",
       "        <matplotlib.axes._subplots.AxesSubplot object at 0x13564a7f0>,\n",
       "        <matplotlib.axes._subplots.AxesSubplot object at 0x133b68e80>,\n",
       "        <matplotlib.axes._subplots.AxesSubplot object at 0x1363f9550>,\n",
       "        <matplotlib.axes._subplots.AxesSubplot object at 0x13654cbe0>,\n",
       "        <matplotlib.axes._subplots.AxesSubplot object at 0x13988f2b0>,\n",
       "        <matplotlib.axes._subplots.AxesSubplot object at 0x12e334940>,\n",
       "        <matplotlib.axes._subplots.AxesSubplot object at 0x13941bfd0>,\n",
       "        <matplotlib.axes._subplots.AxesSubplot object at 0x152e2d6a0>,\n",
       "        <matplotlib.axes._subplots.AxesSubplot object at 0x137cf7d30>,\n",
       "        <matplotlib.axes._subplots.AxesSubplot object at 0x137ca9400>],\n",
       "       [<matplotlib.axes._subplots.AxesSubplot object at 0x151551a90>,\n",
       "        <matplotlib.axes._subplots.AxesSubplot object at 0x13ef60160>,\n",
       "        <matplotlib.axes._subplots.AxesSubplot object at 0x140e737f0>,\n",
       "        <matplotlib.axes._subplots.AxesSubplot object at 0x139413e80>,\n",
       "        <matplotlib.axes._subplots.AxesSubplot object at 0x13d7e9550>,\n",
       "        <matplotlib.axes._subplots.AxesSubplot object at 0x151502be0>,\n",
       "        <matplotlib.axes._subplots.AxesSubplot object at 0x14fa062b0>,\n",
       "        <matplotlib.axes._subplots.AxesSubplot object at 0x13ac9f940>,\n",
       "        <matplotlib.axes._subplots.AxesSubplot object at 0x15698afd0>,\n",
       "        <matplotlib.axes._subplots.AxesSubplot object at 0x1356bb6a0>,\n",
       "        <matplotlib.axes._subplots.AxesSubplot object at 0x150cddd30>,\n",
       "        <matplotlib.axes._subplots.AxesSubplot object at 0x138aa1400>],\n",
       "       [<matplotlib.axes._subplots.AxesSubplot object at 0x13644ea90>,\n",
       "        <matplotlib.axes._subplots.AxesSubplot object at 0x155e00160>,\n",
       "        <matplotlib.axes._subplots.AxesSubplot object at 0x1507d57f0>,\n",
       "        <matplotlib.axes._subplots.AxesSubplot object at 0x135e2ce80>,\n",
       "        <matplotlib.axes._subplots.AxesSubplot object at 0x1362c7550>,\n",
       "        <matplotlib.axes._subplots.AxesSubplot object at 0x12d761be0>,\n",
       "        <matplotlib.axes._subplots.AxesSubplot object at 0x131fe12b0>,\n",
       "        <matplotlib.axes._subplots.AxesSubplot object at 0x13976e940>,\n",
       "        <matplotlib.axes._subplots.AxesSubplot object at 0x13952cfd0>,\n",
       "        <matplotlib.axes._subplots.AxesSubplot object at 0x13d3646a0>,\n",
       "        <matplotlib.axes._subplots.AxesSubplot object at 0x137db6d30>,\n",
       "        <matplotlib.axes._subplots.AxesSubplot object at 0x138e39400>],\n",
       "       [<matplotlib.axes._subplots.AxesSubplot object at 0x13896ba90>,\n",
       "        <matplotlib.axes._subplots.AxesSubplot object at 0x152dd3160>,\n",
       "        <matplotlib.axes._subplots.AxesSubplot object at 0x13b3677f0>,\n",
       "        <matplotlib.axes._subplots.AxesSubplot object at 0x155d4fe80>,\n",
       "        <matplotlib.axes._subplots.AxesSubplot object at 0x13880f550>,\n",
       "        <matplotlib.axes._subplots.AxesSubplot object at 0x139855be0>,\n",
       "        <matplotlib.axes._subplots.AxesSubplot object at 0x13bfc42b0>,\n",
       "        <matplotlib.axes._subplots.AxesSubplot object at 0x1367ff940>,\n",
       "        <matplotlib.axes._subplots.AxesSubplot object at 0x13890bfd0>,\n",
       "        <matplotlib.axes._subplots.AxesSubplot object at 0x155cbb6a0>,\n",
       "        <matplotlib.axes._subplots.AxesSubplot object at 0x143158d30>,\n",
       "        <matplotlib.axes._subplots.AxesSubplot object at 0x1512f4400>],\n",
       "       [<matplotlib.axes._subplots.AxesSubplot object at 0x13cd94a90>,\n",
       "        <matplotlib.axes._subplots.AxesSubplot object at 0x157719160>,\n",
       "        <matplotlib.axes._subplots.AxesSubplot object at 0x138d457f0>,\n",
       "        <matplotlib.axes._subplots.AxesSubplot object at 0x155c3be80>,\n",
       "        <matplotlib.axes._subplots.AxesSubplot object at 0x138c27550>,\n",
       "        <matplotlib.axes._subplots.AxesSubplot object at 0x140e3dbe0>,\n",
       "        <matplotlib.axes._subplots.AxesSubplot object at 0x13bd6a2b0>,\n",
       "        <matplotlib.axes._subplots.AxesSubplot object at 0x130d66940>,\n",
       "        <matplotlib.axes._subplots.AxesSubplot object at 0x132822fd0>,\n",
       "        <matplotlib.axes._subplots.AxesSubplot object at 0x1572076a0>,\n",
       "        <matplotlib.axes._subplots.AxesSubplot object at 0x1413e8d30>,\n",
       "        <matplotlib.axes._subplots.AxesSubplot object at 0x12b4fe400>],\n",
       "       [<matplotlib.axes._subplots.AxesSubplot object at 0x129d7ea90>,\n",
       "        <matplotlib.axes._subplots.AxesSubplot object at 0x11b5a7160>,\n",
       "        <matplotlib.axes._subplots.AxesSubplot object at 0x1316207f0>,\n",
       "        <matplotlib.axes._subplots.AxesSubplot object at 0x13133be80>,\n",
       "        <matplotlib.axes._subplots.AxesSubplot object at 0x1360ce550>,\n",
       "        <matplotlib.axes._subplots.AxesSubplot object at 0x131714be0>,\n",
       "        <matplotlib.axes._subplots.AxesSubplot object at 0x133e7e2b0>,\n",
       "        <matplotlib.axes._subplots.AxesSubplot object at 0x138dd6940>,\n",
       "        <matplotlib.axes._subplots.AxesSubplot object at 0x13df26fd0>,\n",
       "        <matplotlib.axes._subplots.AxesSubplot object at 0x138e6c6a0>,\n",
       "        <matplotlib.axes._subplots.AxesSubplot object at 0x139748d30>,\n",
       "        <matplotlib.axes._subplots.AxesSubplot object at 0x140b3a400>],\n",
       "       [<matplotlib.axes._subplots.AxesSubplot object at 0x156388a90>,\n",
       "        <matplotlib.axes._subplots.AxesSubplot object at 0x1437f0160>,\n",
       "        <matplotlib.axes._subplots.AxesSubplot object at 0x133d517f0>,\n",
       "        <matplotlib.axes._subplots.AxesSubplot object at 0x137d4be80>,\n",
       "        <matplotlib.axes._subplots.AxesSubplot object at 0x156d7e550>,\n",
       "        <matplotlib.axes._subplots.AxesSubplot object at 0x14f2d9be0>,\n",
       "        <matplotlib.axes._subplots.AxesSubplot object at 0x1515812b0>,\n",
       "        <matplotlib.axes._subplots.AxesSubplot object at 0x147661940>,\n",
       "        <matplotlib.axes._subplots.AxesSubplot object at 0x1562cafd0>,\n",
       "        <matplotlib.axes._subplots.AxesSubplot object at 0x138a376a0>,\n",
       "        <matplotlib.axes._subplots.AxesSubplot object at 0x13c738d30>,\n",
       "        <matplotlib.axes._subplots.AxesSubplot object at 0x14d2ad400>]],\n",
       "      dtype=object)"
      ]
     },
     "execution_count": 163,
     "metadata": {},
     "output_type": "execute_result"
    },
    {
     "name": "stderr",
     "output_type": "stream",
     "text": [
      "/Users/Ryan/anaconda/lib/python3.5/json/encoder.py:198: DeprecationWarning: Interpreting naive datetime as local 2018-10-27 12:28:58.929027. Please add timezone info to timestamps.\n",
      "  chunks = self.iterencode(o, _one_shot=True)\n"
     ]
    }
   ],
   "source": [
    "from pandas.plotting import scatter_matrix\n",
    "scatter_matrix(df_reviews, alpha=0.2, figsize=(6,6), diagonal='kde')"
   ]
  },
  {
   "cell_type": "markdown",
   "metadata": {},
   "source": [
    "As we see above, "
   ]
  },
  {
   "cell_type": "markdown",
   "metadata": {},
   "source": [
    "## Written Reviews\n",
    "\n",
    "As we have the numerical factors taken care of, the last step before the modeling is to turn the written user reviews into vectors that an algorithm can understand. We do this by assigning a numerical score from 1-5 to the review text."
   ]
  },
  {
   "cell_type": "code",
   "execution_count": 164,
   "metadata": {},
   "outputs": [
    {
     "name": "stdout",
     "output_type": "stream",
     "text": [
      "0:01:51.379603\n"
     ]
    },
    {
     "name": "stderr",
     "output_type": "stream",
     "text": [
      "/Users/Ryan/anaconda/lib/python3.5/site-packages/sklearn/feature_extraction/text.py:1059: FutureWarning: Conversion of the second argument of issubdtype from `float` to `np.floating` is deprecated. In future, it will be treated as `np.float64 == np.dtype(float).type`.\n",
      "  if hasattr(X, 'dtype') and np.issubdtype(X.dtype, np.float):\n",
      "/Users/Ryan/anaconda/lib/python3.5/json/encoder.py:198: DeprecationWarning: Interpreting naive datetime as local 2018-10-27 12:32:57.213204. Please add timezone info to timestamps.\n",
      "  chunks = self.iterencode(o, _one_shot=True)\n"
     ]
    }
   ],
   "source": [
    "from sklearn.feature_extraction.text import TfidfVectorizer\n",
    "import datetime\n",
    "\n",
    "#uses groups of 1 or 2 words\n",
    "vectorizer = TfidfVectorizer(ngram_range=(1,2))\n",
    "t1 = datetime.datetime.now()\n",
    "vectors = vectorizer.fit_transform(df_reviews['Review'])\n",
    "print(datetime.datetime.now()-t1)"
   ]
  },
  {
   "cell_type": "code",
   "execution_count": 165,
   "metadata": {},
   "outputs": [
    {
     "name": "stderr",
     "output_type": "stream",
     "text": [
      "/Users/Ryan/anaconda/lib/python3.5/json/encoder.py:198: DeprecationWarning: Interpreting naive datetime as local 2018-10-27 12:34:56.087535. Please add timezone info to timestamps.\n",
      "  chunks = self.iterencode(o, _one_shot=True)\n"
     ]
    }
   ],
   "source": [
    "from sklearn.model_selection import train_test_split\n",
    "X_train, X_test, y_train, y_test = train_test_split(vectors, df_reviews['Overall'], test_size=.3, random_state=42)\n"
   ]
  },
  {
   "cell_type": "code",
   "execution_count": 166,
   "metadata": {},
   "outputs": [
    {
     "name": "stdout",
     "output_type": "stream",
     "text": [
      "0:00:34.073362\n"
     ]
    },
    {
     "name": "stderr",
     "output_type": "stream",
     "text": [
      "/Users/Ryan/anaconda/lib/python3.5/json/encoder.py:198: DeprecationWarning: Interpreting naive datetime as local 2018-10-27 12:35:01.213057. Please add timezone info to timestamps.\n",
      "  chunks = self.iterencode(o, _one_shot=True)\n"
     ]
    }
   ],
   "source": [
    "from sklearn.svm import LinearSVC\n",
    "\n",
    "classifier = LinearSVC()\n",
    "\n",
    "t1 = datetime.datetime.now()\n",
    "classifier.fit(X_train, y_train)\n",
    "print(datetime.datetime.now()-t1)\n"
   ]
  },
  {
   "cell_type": "code",
   "execution_count": 167,
   "metadata": {},
   "outputs": [
    {
     "name": "stdout",
     "output_type": "stream",
     "text": [
      "[1.0, 4.0, 4.0, 4.0, 4.0, 5.0, 4.0, 5.0, 4.0, 5.0]\n",
      "UR47265277     1.0\n",
      "UR80271913     4.0\n",
      "UR125655104    4.0\n",
      "UR123298282    4.0\n",
      "UR127095571    4.0\n",
      "UR57026667     5.0\n",
      "UR52244048     4.0\n",
      "UR13791531     5.0\n",
      "UR2919535      4.0\n",
      "UR8280299      5.0\n",
      "Name: Overall, dtype: float64\n"
     ]
    },
    {
     "name": "stderr",
     "output_type": "stream",
     "text": [
      "/Users/Ryan/anaconda/lib/python3.5/json/encoder.py:198: DeprecationWarning: Interpreting naive datetime as local 2018-10-27 12:36:30.727960. Please add timezone info to timestamps.\n",
      "  chunks = self.iterencode(o, _one_shot=True)\n"
     ]
    }
   ],
   "source": [
    "preds = classifier.predict(X_test)\n",
    "print (list(preds[:10]))\n",
    "print(y_test[:10])"
   ]
  },
  {
   "cell_type": "code",
   "execution_count": 168,
   "metadata": {},
   "outputs": [
    {
     "name": "stdout",
     "output_type": "stream",
     "text": [
      "0.942064694048238\n"
     ]
    },
    {
     "name": "stderr",
     "output_type": "stream",
     "text": [
      "/Users/Ryan/anaconda/lib/python3.5/json/encoder.py:198: DeprecationWarning: Interpreting naive datetime as local 2018-10-27 12:36:36.238986. Please add timezone info to timestamps.\n",
      "  chunks = self.iterencode(o, _one_shot=True)\n"
     ]
    }
   ],
   "source": [
    "from sklearn.metrics import accuracy_score\n",
    "\n",
    "print (accuracy_score(y_test, preds))"
   ]
  },
  {
   "cell_type": "markdown",
   "metadata": {},
   "source": [
    "Since the accuracy is high, we will perform the transformation to score the reviews and add the column to the dataset."
   ]
  },
  {
   "cell_type": "code",
   "execution_count": 169,
   "metadata": {},
   "outputs": [
    {
     "data": {
      "text/plain": [
       "array(['UR126268620', 'UR126112970', 'UR125859076', ..., 'UR1274417',\n",
       "       'UR1258730', 'UR496794'], dtype=object)"
      ]
     },
     "execution_count": 169,
     "metadata": {},
     "output_type": "execute_result"
    },
    {
     "name": "stderr",
     "output_type": "stream",
     "text": [
      "/Users/Ryan/anaconda/lib/python3.5/json/encoder.py:198: DeprecationWarning: Interpreting naive datetime as local 2018-10-27 12:36:39.791487. Please add timezone info to timestamps.\n",
      "  chunks = self.iterencode(o, _one_shot=True)\n"
     ]
    }
   ],
   "source": [
    "df_reviews.index.values"
   ]
  },
  {
   "cell_type": "code",
   "execution_count": 170,
   "metadata": {},
   "outputs": [
    {
     "name": "stdout",
     "output_type": "stream",
     "text": [
      "             ReviewScores\n",
      "UR126268620           4.0\n",
      "UR126112970           5.0\n",
      "UR125859076           4.0\n",
      "UR125768929           4.0\n",
      "UR125299171           1.0\n",
      "UR125187474           5.0\n",
      "UR125146126           4.0\n",
      "UR125134441           2.0\n",
      "UR124992331           4.0\n",
      "UR124991978           5.0\n",
      "147463\n"
     ]
    },
    {
     "name": "stderr",
     "output_type": "stream",
     "text": [
      "/Users/Ryan/anaconda/lib/python3.5/json/encoder.py:198: DeprecationWarning: Interpreting naive datetime as local 2018-10-27 12:37:04.063513. Please add timezone info to timestamps.\n",
      "  chunks = self.iterencode(o, _one_shot=True)\n"
     ]
    }
   ],
   "source": [
    "df_scores = pd.DataFrame(classifier.predict(vectors), index=df_reviews.index.values, columns=['ReviewScores'])\n",
    "print(df_scores[:10])\n",
    "df_scores.describe()\n",
    "df_scores.dtypes\n",
    "print(len(df_scores))\n"
   ]
  },
  {
   "cell_type": "code",
   "execution_count": 176,
   "metadata": {},
   "outputs": [
    {
     "data": {
      "text/html": [
       "<div>\n",
       "<style>\n",
       "    .dataframe thead tr:only-child th {\n",
       "        text-align: right;\n",
       "    }\n",
       "\n",
       "    .dataframe thead th {\n",
       "        text-align: left;\n",
       "    }\n",
       "\n",
       "    .dataframe tbody tr th {\n",
       "        vertical-align: top;\n",
       "    }\n",
       "</style>\n",
       "<table border=\"1\" class=\"dataframe\">\n",
       "  <thead>\n",
       "    <tr style=\"text-align: right;\">\n",
       "      <th></th>\n",
       "      <th>Author</th>\n",
       "      <th>AuthorLocation</th>\n",
       "      <th>BusServ</th>\n",
       "      <th>CheckIn</th>\n",
       "      <th>Cleanliness</th>\n",
       "      <th>Hotel</th>\n",
       "      <th>HotelID</th>\n",
       "      <th>HotelLocation</th>\n",
       "      <th>Location</th>\n",
       "      <th>Overall</th>\n",
       "      <th>PriceMax</th>\n",
       "      <th>PriceMin</th>\n",
       "      <th>Review</th>\n",
       "      <th>Rooms</th>\n",
       "      <th>Service</th>\n",
       "      <th>Sleep Quality</th>\n",
       "      <th>Value</th>\n",
       "    </tr>\n",
       "  </thead>\n",
       "  <tbody>\n",
       "    <tr>\n",
       "      <th>UR129069779</th>\n",
       "      <td>Peterson41</td>\n",
       "      <td>Indianapolis</td>\n",
       "      <td>5.0</td>\n",
       "      <td>5.0</td>\n",
       "      <td>5.0</td>\n",
       "      <td>Hampton Inn San Diego Airport / SeaWorld</td>\n",
       "      <td>2515612</td>\n",
       "      <td>CA</td>\n",
       "      <td>5.0</td>\n",
       "      <td>5.0</td>\n",
       "      <td>196</td>\n",
       "      <td>107</td>\n",
       "      <td>I have stayed at this hotel a number of times....</td>\n",
       "      <td>5.0</td>\n",
       "      <td>5.0</td>\n",
       "      <td>5.0</td>\n",
       "      <td>5.0</td>\n",
       "    </tr>\n",
       "    <tr>\n",
       "      <th>UR129006183</th>\n",
       "      <td>MOMSPH</td>\n",
       "      <td></td>\n",
       "      <td>4.0</td>\n",
       "      <td>4.0</td>\n",
       "      <td>4.0</td>\n",
       "      <td>Hampton Inn San Diego Airport / SeaWorld</td>\n",
       "      <td>2515612</td>\n",
       "      <td>CA</td>\n",
       "      <td>5.0</td>\n",
       "      <td>4.0</td>\n",
       "      <td>196</td>\n",
       "      <td>107</td>\n",
       "      <td>Love the location, 5 mins from Sea World and a...</td>\n",
       "      <td>3.0</td>\n",
       "      <td>5.0</td>\n",
       "      <td>3.0</td>\n",
       "      <td>4.0</td>\n",
       "    </tr>\n",
       "    <tr>\n",
       "      <th>UR128493326</th>\n",
       "      <td>ken p</td>\n",
       "      <td>Colorado</td>\n",
       "      <td>4.0</td>\n",
       "      <td>4.0</td>\n",
       "      <td>5.0</td>\n",
       "      <td>Hampton Inn San Diego Airport / SeaWorld</td>\n",
       "      <td>2515612</td>\n",
       "      <td>CA</td>\n",
       "      <td>3.0</td>\n",
       "      <td>4.0</td>\n",
       "      <td>196</td>\n",
       "      <td>107</td>\n",
       "      <td>The staff are fantasic especially \"Maegen Iban...</td>\n",
       "      <td>4.0</td>\n",
       "      <td>5.0</td>\n",
       "      <td>4.0</td>\n",
       "      <td>4.0</td>\n",
       "    </tr>\n",
       "    <tr>\n",
       "      <th>UR128482573</th>\n",
       "      <td>venice176</td>\n",
       "      <td>venice</td>\n",
       "      <td>3.0</td>\n",
       "      <td>3.0</td>\n",
       "      <td>3.0</td>\n",
       "      <td>Hampton Inn San Diego Airport / SeaWorld</td>\n",
       "      <td>2515612</td>\n",
       "      <td>CA</td>\n",
       "      <td>1.0</td>\n",
       "      <td>3.0</td>\n",
       "      <td>196</td>\n",
       "      <td>107</td>\n",
       "      <td>Breakfast is good. Location is not so good. Pa...</td>\n",
       "      <td>3.0</td>\n",
       "      <td>3.0</td>\n",
       "      <td>4.0</td>\n",
       "      <td>4.0</td>\n",
       "    </tr>\n",
       "    <tr>\n",
       "      <th>UR128429488</th>\n",
       "      <td>Terry L</td>\n",
       "      <td>Arizona</td>\n",
       "      <td>4.0</td>\n",
       "      <td>4.0</td>\n",
       "      <td>5.0</td>\n",
       "      <td>Hampton Inn San Diego Airport / SeaWorld</td>\n",
       "      <td>2515612</td>\n",
       "      <td>CA</td>\n",
       "      <td>4.0</td>\n",
       "      <td>4.0</td>\n",
       "      <td>196</td>\n",
       "      <td>107</td>\n",
       "      <td>Was very nice, clean, convenient. Very spread ...</td>\n",
       "      <td>5.0</td>\n",
       "      <td>5.0</td>\n",
       "      <td>5.0</td>\n",
       "      <td>4.0</td>\n",
       "    </tr>\n",
       "    <tr>\n",
       "      <th>UR128363980</th>\n",
       "      <td>Gabriel S</td>\n",
       "      <td>Tustin</td>\n",
       "      <td>5.0</td>\n",
       "      <td>5.0</td>\n",
       "      <td>5.0</td>\n",
       "      <td>Hampton Inn San Diego Airport / SeaWorld</td>\n",
       "      <td>2515612</td>\n",
       "      <td>CA</td>\n",
       "      <td>5.0</td>\n",
       "      <td>5.0</td>\n",
       "      <td>196</td>\n",
       "      <td>107</td>\n",
       "      <td>Acommodatons were great and so were the guest ...</td>\n",
       "      <td>5.0</td>\n",
       "      <td>5.0</td>\n",
       "      <td>5.0</td>\n",
       "      <td>5.0</td>\n",
       "    </tr>\n",
       "    <tr>\n",
       "      <th>UR127865307</th>\n",
       "      <td>Dennis S</td>\n",
       "      <td>United States</td>\n",
       "      <td>5.0</td>\n",
       "      <td>5.0</td>\n",
       "      <td>5.0</td>\n",
       "      <td>Hampton Inn San Diego Airport / SeaWorld</td>\n",
       "      <td>2515612</td>\n",
       "      <td>CA</td>\n",
       "      <td>3.0</td>\n",
       "      <td>5.0</td>\n",
       "      <td>196</td>\n",
       "      <td>107</td>\n",
       "      <td>This is a great hotel--definately at the upper...</td>\n",
       "      <td>4.0</td>\n",
       "      <td>5.0</td>\n",
       "      <td>5.0</td>\n",
       "      <td>5.0</td>\n",
       "    </tr>\n",
       "    <tr>\n",
       "      <th>UR127825290</th>\n",
       "      <td>LoriBT</td>\n",
       "      <td>Elk Grove</td>\n",
       "      <td>4.0</td>\n",
       "      <td>4.0</td>\n",
       "      <td>4.0</td>\n",
       "      <td>Hampton Inn San Diego Airport / SeaWorld</td>\n",
       "      <td>2515612</td>\n",
       "      <td>CA</td>\n",
       "      <td>5.0</td>\n",
       "      <td>4.0</td>\n",
       "      <td>196</td>\n",
       "      <td>107</td>\n",
       "      <td>My group was in San Diego for a high school ba...</td>\n",
       "      <td>4.0</td>\n",
       "      <td>5.0</td>\n",
       "      <td>4.0</td>\n",
       "      <td>4.0</td>\n",
       "    </tr>\n",
       "    <tr>\n",
       "      <th>UR127773535</th>\n",
       "      <td>OceanBreezesSD</td>\n",
       "      <td>Indio CA</td>\n",
       "      <td>4.0</td>\n",
       "      <td>4.0</td>\n",
       "      <td>5.0</td>\n",
       "      <td>Hampton Inn San Diego Airport / SeaWorld</td>\n",
       "      <td>2515612</td>\n",
       "      <td>CA</td>\n",
       "      <td>4.0</td>\n",
       "      <td>4.0</td>\n",
       "      <td>196</td>\n",
       "      <td>107</td>\n",
       "      <td>Everything about our stay was flawless. Clean,...</td>\n",
       "      <td>5.0</td>\n",
       "      <td>5.0</td>\n",
       "      <td>5.0</td>\n",
       "      <td>5.0</td>\n",
       "    </tr>\n",
       "    <tr>\n",
       "      <th>UR127639141</th>\n",
       "      <td>Johnny M</td>\n",
       "      <td>San Diego</td>\n",
       "      <td>5.0</td>\n",
       "      <td>5.0</td>\n",
       "      <td>5.0</td>\n",
       "      <td>Hampton Inn San Diego Airport / SeaWorld</td>\n",
       "      <td>2515612</td>\n",
       "      <td>CA</td>\n",
       "      <td>4.0</td>\n",
       "      <td>5.0</td>\n",
       "      <td>196</td>\n",
       "      <td>107</td>\n",
       "      <td>It has been such a pleasant experience staying...</td>\n",
       "      <td>5.0</td>\n",
       "      <td>5.0</td>\n",
       "      <td>5.0</td>\n",
       "      <td>5.0</td>\n",
       "    </tr>\n",
       "    <tr>\n",
       "      <th>UR127461275</th>\n",
       "      <td>davidmlowe</td>\n",
       "      <td>manchester</td>\n",
       "      <td>4.0</td>\n",
       "      <td>4.0</td>\n",
       "      <td>4.0</td>\n",
       "      <td>Hampton Inn San Diego Airport / SeaWorld</td>\n",
       "      <td>2515612</td>\n",
       "      <td>CA</td>\n",
       "      <td>3.0</td>\n",
       "      <td>4.0</td>\n",
       "      <td>196</td>\n",
       "      <td>107</td>\n",
       "      <td>Hotel staff were extremely helpful when we arr...</td>\n",
       "      <td>3.0</td>\n",
       "      <td>4.0</td>\n",
       "      <td>4.0</td>\n",
       "      <td>4.0</td>\n",
       "    </tr>\n",
       "    <tr>\n",
       "      <th>UR127414627</th>\n",
       "      <td>Rory U</td>\n",
       "      <td>California</td>\n",
       "      <td>5.0</td>\n",
       "      <td>5.0</td>\n",
       "      <td>5.0</td>\n",
       "      <td>Hampton Inn San Diego Airport / SeaWorld</td>\n",
       "      <td>2515612</td>\n",
       "      <td>CA</td>\n",
       "      <td>5.0</td>\n",
       "      <td>5.0</td>\n",
       "      <td>196</td>\n",
       "      <td>107</td>\n",
       "      <td>Everybody I came into contact with, who worked...</td>\n",
       "      <td>5.0</td>\n",
       "      <td>5.0</td>\n",
       "      <td>4.0</td>\n",
       "      <td>4.0</td>\n",
       "    </tr>\n",
       "    <tr>\n",
       "      <th>UR126989393</th>\n",
       "      <td>jruggerio</td>\n",
       "      <td>Indiana</td>\n",
       "      <td>5.0</td>\n",
       "      <td>5.0</td>\n",
       "      <td>5.0</td>\n",
       "      <td>Hampton Inn San Diego Airport / SeaWorld</td>\n",
       "      <td>2515612</td>\n",
       "      <td>CA</td>\n",
       "      <td>5.0</td>\n",
       "      <td>5.0</td>\n",
       "      <td>196</td>\n",
       "      <td>107</td>\n",
       "      <td>I was needing a room quick and well before che...</td>\n",
       "      <td>5.0</td>\n",
       "      <td>5.0</td>\n",
       "      <td>5.0</td>\n",
       "      <td>5.0</td>\n",
       "    </tr>\n",
       "    <tr>\n",
       "      <th>UR126949952</th>\n",
       "      <td>Aaron M</td>\n",
       "      <td>United States</td>\n",
       "      <td>5.0</td>\n",
       "      <td>5.0</td>\n",
       "      <td>5.0</td>\n",
       "      <td>Hampton Inn San Diego Airport / SeaWorld</td>\n",
       "      <td>2515612</td>\n",
       "      <td>CA</td>\n",
       "      <td>5.0</td>\n",
       "      <td>5.0</td>\n",
       "      <td>196</td>\n",
       "      <td>107</td>\n",
       "      <td>Justin Macias Has been nothing but a wonderful...</td>\n",
       "      <td>5.0</td>\n",
       "      <td>5.0</td>\n",
       "      <td>5.0</td>\n",
       "      <td>5.0</td>\n",
       "    </tr>\n",
       "    <tr>\n",
       "      <th>UR126736921</th>\n",
       "      <td>jswebsterMinnesota</td>\n",
       "      <td>Minnesota</td>\n",
       "      <td>3.0</td>\n",
       "      <td>3.0</td>\n",
       "      <td>3.0</td>\n",
       "      <td>Hampton Inn San Diego Airport / SeaWorld</td>\n",
       "      <td>2515612</td>\n",
       "      <td>CA</td>\n",
       "      <td>3.0</td>\n",
       "      <td>3.0</td>\n",
       "      <td>196</td>\n",
       "      <td>107</td>\n",
       "      <td>The hotel is nice itself, however, the room co...</td>\n",
       "      <td>3.0</td>\n",
       "      <td>4.0</td>\n",
       "      <td>3.0</td>\n",
       "      <td>3.0</td>\n",
       "    </tr>\n",
       "    <tr>\n",
       "      <th>UR126618086</th>\n",
       "      <td>MemberfromPadova</td>\n",
       "      <td>Italy</td>\n",
       "      <td>4.0</td>\n",
       "      <td>4.0</td>\n",
       "      <td>5.0</td>\n",
       "      <td>Hampton Inn San Diego Airport / SeaWorld</td>\n",
       "      <td>2515612</td>\n",
       "      <td>CA</td>\n",
       "      <td>3.0</td>\n",
       "      <td>4.0</td>\n",
       "      <td>196</td>\n",
       "      <td>107</td>\n",
       "      <td>This is a very nice hotel in a relatively quie...</td>\n",
       "      <td>4.0</td>\n",
       "      <td>4.0</td>\n",
       "      <td>4.0</td>\n",
       "      <td>5.0</td>\n",
       "    </tr>\n",
       "    <tr>\n",
       "      <th>UR126398377</th>\n",
       "      <td>chuparosa412</td>\n",
       "      <td>New Mexico</td>\n",
       "      <td>4.0</td>\n",
       "      <td>4.0</td>\n",
       "      <td>5.0</td>\n",
       "      <td>Hampton Inn San Diego Airport / SeaWorld</td>\n",
       "      <td>2515612</td>\n",
       "      <td>CA</td>\n",
       "      <td>3.0</td>\n",
       "      <td>4.0</td>\n",
       "      <td>196</td>\n",
       "      <td>107</td>\n",
       "      <td>Hampton Inn is always a wonderful chain, and t...</td>\n",
       "      <td>5.0</td>\n",
       "      <td>5.0</td>\n",
       "      <td>5.0</td>\n",
       "      <td>4.0</td>\n",
       "    </tr>\n",
       "    <tr>\n",
       "      <th>UR126398253</th>\n",
       "      <td>Dawn S</td>\n",
       "      <td>California</td>\n",
       "      <td>4.0</td>\n",
       "      <td>4.0</td>\n",
       "      <td>4.0</td>\n",
       "      <td>Hampton Inn San Diego Airport / SeaWorld</td>\n",
       "      <td>2515612</td>\n",
       "      <td>CA</td>\n",
       "      <td>5.0</td>\n",
       "      <td>4.0</td>\n",
       "      <td>196</td>\n",
       "      <td>107</td>\n",
       "      <td>This Hampton Inn was exactly as described in o...</td>\n",
       "      <td>4.0</td>\n",
       "      <td>5.0</td>\n",
       "      <td>4.0</td>\n",
       "      <td>5.0</td>\n",
       "    </tr>\n",
       "    <tr>\n",
       "      <th>UR126231500</th>\n",
       "      <td>mamita78</td>\n",
       "      <td>Washington</td>\n",
       "      <td>5.0</td>\n",
       "      <td>5.0</td>\n",
       "      <td>5.0</td>\n",
       "      <td>Hampton Inn San Diego Airport / SeaWorld</td>\n",
       "      <td>2515612</td>\n",
       "      <td>CA</td>\n",
       "      <td>3.0</td>\n",
       "      <td>5.0</td>\n",
       "      <td>196</td>\n",
       "      <td>107</td>\n",
       "      <td>I travel 2 - 3 times a month for business and ...</td>\n",
       "      <td>4.0</td>\n",
       "      <td>5.0</td>\n",
       "      <td>5.0</td>\n",
       "      <td>5.0</td>\n",
       "    </tr>\n",
       "    <tr>\n",
       "      <th>UR126042871</th>\n",
       "      <td>Bob5211</td>\n",
       "      <td>Texas</td>\n",
       "      <td>5.0</td>\n",
       "      <td>5.0</td>\n",
       "      <td>4.0</td>\n",
       "      <td>Hampton Inn San Diego Airport / SeaWorld</td>\n",
       "      <td>2515612</td>\n",
       "      <td>CA</td>\n",
       "      <td>4.0</td>\n",
       "      <td>5.0</td>\n",
       "      <td>196</td>\n",
       "      <td>107</td>\n",
       "      <td>Booked a room for me and my son ended up havin...</td>\n",
       "      <td>4.0</td>\n",
       "      <td>5.0</td>\n",
       "      <td>4.0</td>\n",
       "      <td>3.0</td>\n",
       "    </tr>\n",
       "    <tr>\n",
       "      <th>UR126042089</th>\n",
       "      <td>papawood</td>\n",
       "      <td>California</td>\n",
       "      <td>5.0</td>\n",
       "      <td>5.0</td>\n",
       "      <td>5.0</td>\n",
       "      <td>Hampton Inn San Diego Airport / SeaWorld</td>\n",
       "      <td>2515612</td>\n",
       "      <td>CA</td>\n",
       "      <td>5.0</td>\n",
       "      <td>5.0</td>\n",
       "      <td>196</td>\n",
       "      <td>107</td>\n",
       "      <td>I travel frequently both for business and plea...</td>\n",
       "      <td>5.0</td>\n",
       "      <td>5.0</td>\n",
       "      <td>5.0</td>\n",
       "      <td>5.0</td>\n",
       "    </tr>\n",
       "    <tr>\n",
       "      <th>UR125989584</th>\n",
       "      <td>Julie W</td>\n",
       "      <td>California</td>\n",
       "      <td>5.0</td>\n",
       "      <td>5.0</td>\n",
       "      <td>5.0</td>\n",
       "      <td>Hampton Inn San Diego Airport / SeaWorld</td>\n",
       "      <td>2515612</td>\n",
       "      <td>CA</td>\n",
       "      <td>4.0</td>\n",
       "      <td>5.0</td>\n",
       "      <td>196</td>\n",
       "      <td>107</td>\n",
       "      <td>My husband and I travel for business and pleas...</td>\n",
       "      <td>4.0</td>\n",
       "      <td>5.0</td>\n",
       "      <td>5.0</td>\n",
       "      <td>5.0</td>\n",
       "    </tr>\n",
       "    <tr>\n",
       "      <th>UR125778950</th>\n",
       "      <td>Auntvalla</td>\n",
       "      <td></td>\n",
       "      <td>5.0</td>\n",
       "      <td>5.0</td>\n",
       "      <td>5.0</td>\n",
       "      <td>Hampton Inn San Diego Airport / SeaWorld</td>\n",
       "      <td>2515612</td>\n",
       "      <td>CA</td>\n",
       "      <td>4.0</td>\n",
       "      <td>5.0</td>\n",
       "      <td>196</td>\n",
       "      <td>107</td>\n",
       "      <td>I stayed in the standard room and was very ple...</td>\n",
       "      <td>4.0</td>\n",
       "      <td>5.0</td>\n",
       "      <td>5.0</td>\n",
       "      <td>5.0</td>\n",
       "    </tr>\n",
       "    <tr>\n",
       "      <th>UR125777594</th>\n",
       "      <td>ctoddg</td>\n",
       "      <td>Arizona</td>\n",
       "      <td>4.0</td>\n",
       "      <td>4.0</td>\n",
       "      <td>4.0</td>\n",
       "      <td>Hampton Inn San Diego Airport / SeaWorld</td>\n",
       "      <td>2515612</td>\n",
       "      <td>CA</td>\n",
       "      <td>4.0</td>\n",
       "      <td>4.0</td>\n",
       "      <td>196</td>\n",
       "      <td>107</td>\n",
       "      <td>good location, extremely clean, comfortable, a...</td>\n",
       "      <td>4.0</td>\n",
       "      <td>5.0</td>\n",
       "      <td>4.0</td>\n",
       "      <td>4.0</td>\n",
       "    </tr>\n",
       "    <tr>\n",
       "      <th>UR125769811</th>\n",
       "      <td>swartzmanh</td>\n",
       "      <td>Leawood</td>\n",
       "      <td>5.0</td>\n",
       "      <td>5.0</td>\n",
       "      <td>5.0</td>\n",
       "      <td>Hampton Inn San Diego Airport / SeaWorld</td>\n",
       "      <td>2515612</td>\n",
       "      <td>CA</td>\n",
       "      <td>5.0</td>\n",
       "      <td>5.0</td>\n",
       "      <td>196</td>\n",
       "      <td>107</td>\n",
       "      <td>I've had a fantastic experience at the hotel. ...</td>\n",
       "      <td>5.0</td>\n",
       "      <td>5.0</td>\n",
       "      <td>5.0</td>\n",
       "      <td>5.0</td>\n",
       "    </tr>\n",
       "    <tr>\n",
       "      <th>UR125749908</th>\n",
       "      <td>YumaAZGirly</td>\n",
       "      <td>Arizona</td>\n",
       "      <td>5.0</td>\n",
       "      <td>5.0</td>\n",
       "      <td>5.0</td>\n",
       "      <td>Hampton Inn San Diego Airport / SeaWorld</td>\n",
       "      <td>2515612</td>\n",
       "      <td>CA</td>\n",
       "      <td>5.0</td>\n",
       "      <td>5.0</td>\n",
       "      <td>196</td>\n",
       "      <td>107</td>\n",
       "      <td>This Hampton in was awesome. Very spacious roo...</td>\n",
       "      <td>5.0</td>\n",
       "      <td>5.0</td>\n",
       "      <td>5.0</td>\n",
       "      <td>5.0</td>\n",
       "    </tr>\n",
       "    <tr>\n",
       "      <th>UR125710696</th>\n",
       "      <td>mgershenson</td>\n",
       "      <td>Southern Cal</td>\n",
       "      <td>4.0</td>\n",
       "      <td>4.0</td>\n",
       "      <td>5.0</td>\n",
       "      <td>Hampton Inn San Diego Airport / SeaWorld</td>\n",
       "      <td>2515612</td>\n",
       "      <td>CA</td>\n",
       "      <td>3.0</td>\n",
       "      <td>4.0</td>\n",
       "      <td>196</td>\n",
       "      <td>107</td>\n",
       "      <td>I recently booked 18 guests here for a total o...</td>\n",
       "      <td>4.0</td>\n",
       "      <td>5.0</td>\n",
       "      <td>4.0</td>\n",
       "      <td>4.0</td>\n",
       "    </tr>\n",
       "    <tr>\n",
       "      <th>UR125666739</th>\n",
       "      <td>ArjunSelvi</td>\n",
       "      <td>California</td>\n",
       "      <td>5.0</td>\n",
       "      <td>5.0</td>\n",
       "      <td>5.0</td>\n",
       "      <td>Hampton Inn San Diego Airport / SeaWorld</td>\n",
       "      <td>2515612</td>\n",
       "      <td>CA</td>\n",
       "      <td>3.0</td>\n",
       "      <td>5.0</td>\n",
       "      <td>196</td>\n",
       "      <td>107</td>\n",
       "      <td>My wife and I stayed here last week-end. The s...</td>\n",
       "      <td>4.0</td>\n",
       "      <td>5.0</td>\n",
       "      <td>5.0</td>\n",
       "      <td>5.0</td>\n",
       "    </tr>\n",
       "    <tr>\n",
       "      <th>UR125655248</th>\n",
       "      <td>Dan S</td>\n",
       "      <td>Main Centre</td>\n",
       "      <td>5.0</td>\n",
       "      <td>5.0</td>\n",
       "      <td>5.0</td>\n",
       "      <td>Hampton Inn San Diego Airport / SeaWorld</td>\n",
       "      <td>2515612</td>\n",
       "      <td>CA</td>\n",
       "      <td>5.0</td>\n",
       "      <td>5.0</td>\n",
       "      <td>196</td>\n",
       "      <td>107</td>\n",
       "      <td>The service was great, especially by the front...</td>\n",
       "      <td>5.0</td>\n",
       "      <td>5.0</td>\n",
       "      <td>5.0</td>\n",
       "      <td>5.0</td>\n",
       "    </tr>\n",
       "    <tr>\n",
       "      <th>UR125653220</th>\n",
       "      <td>Briana A</td>\n",
       "      <td>Spain</td>\n",
       "      <td>5.0</td>\n",
       "      <td>5.0</td>\n",
       "      <td>5.0</td>\n",
       "      <td>Hampton Inn San Diego Airport / SeaWorld</td>\n",
       "      <td>2515612</td>\n",
       "      <td>CA</td>\n",
       "      <td>5.0</td>\n",
       "      <td>5.0</td>\n",
       "      <td>196</td>\n",
       "      <td>107</td>\n",
       "      <td>I stayed here recently for a few days and this...</td>\n",
       "      <td>5.0</td>\n",
       "      <td>5.0</td>\n",
       "      <td>5.0</td>\n",
       "      <td>5.0</td>\n",
       "    </tr>\n",
       "    <tr>\n",
       "      <th>...</th>\n",
       "      <td>...</td>\n",
       "      <td>...</td>\n",
       "      <td>...</td>\n",
       "      <td>...</td>\n",
       "      <td>...</td>\n",
       "      <td>...</td>\n",
       "      <td>...</td>\n",
       "      <td>...</td>\n",
       "      <td>...</td>\n",
       "      <td>...</td>\n",
       "      <td>...</td>\n",
       "      <td>...</td>\n",
       "      <td>...</td>\n",
       "      <td>...</td>\n",
       "      <td>...</td>\n",
       "      <td>...</td>\n",
       "      <td>...</td>\n",
       "    </tr>\n",
       "    <tr>\n",
       "      <th>UR52253945</th>\n",
       "      <td>bninny</td>\n",
       "      <td>kentucky</td>\n",
       "      <td>5.0</td>\n",
       "      <td>5.0</td>\n",
       "      <td>5.0</td>\n",
       "      <td>SpringHill Suites New Orleans Convention Center</td>\n",
       "      <td>223130</td>\n",
       "      <td>LA</td>\n",
       "      <td>4.0</td>\n",
       "      <td>5.0</td>\n",
       "      <td>99</td>\n",
       "      <td>99</td>\n",
       "      <td>We stayed here between Christmas and New Years...</td>\n",
       "      <td>5.0</td>\n",
       "      <td>5.0</td>\n",
       "      <td>5.0</td>\n",
       "      <td>5.0</td>\n",
       "    </tr>\n",
       "    <tr>\n",
       "      <th>UR51595518</th>\n",
       "      <td>bb1976</td>\n",
       "      <td>United Kingdom</td>\n",
       "      <td>3.0</td>\n",
       "      <td>3.0</td>\n",
       "      <td>4.0</td>\n",
       "      <td>SpringHill Suites New Orleans Convention Center</td>\n",
       "      <td>223130</td>\n",
       "      <td>LA</td>\n",
       "      <td>4.0</td>\n",
       "      <td>3.0</td>\n",
       "      <td>99</td>\n",
       "      <td>99</td>\n",
       "      <td>I was 'walked' to this hotel having found out ...</td>\n",
       "      <td>2.0</td>\n",
       "      <td>3.0</td>\n",
       "      <td>3.0</td>\n",
       "      <td>1.0</td>\n",
       "    </tr>\n",
       "    <tr>\n",
       "      <th>UR37473162</th>\n",
       "      <td>BusyBeeFlorida</td>\n",
       "      <td>Florida</td>\n",
       "      <td>5.0</td>\n",
       "      <td>5.0</td>\n",
       "      <td>5.0</td>\n",
       "      <td>SpringHill Suites New Orleans Convention Center</td>\n",
       "      <td>223130</td>\n",
       "      <td>LA</td>\n",
       "      <td>4.0</td>\n",
       "      <td>5.0</td>\n",
       "      <td>99</td>\n",
       "      <td>99</td>\n",
       "      <td>This hotel was an excellent choice for our gro...</td>\n",
       "      <td>5.0</td>\n",
       "      <td>5.0</td>\n",
       "      <td>5.0</td>\n",
       "      <td>5.0</td>\n",
       "    </tr>\n",
       "    <tr>\n",
       "      <th>UR35511976</th>\n",
       "      <td>Maajar</td>\n",
       "      <td>Pennsylvania</td>\n",
       "      <td>5.0</td>\n",
       "      <td>5.0</td>\n",
       "      <td>4.0</td>\n",
       "      <td>SpringHill Suites New Orleans Convention Center</td>\n",
       "      <td>223130</td>\n",
       "      <td>LA</td>\n",
       "      <td>4.0</td>\n",
       "      <td>5.0</td>\n",
       "      <td>99</td>\n",
       "      <td>99</td>\n",
       "      <td>This was the first time at Springhill, but my ...</td>\n",
       "      <td>5.0</td>\n",
       "      <td>4.0</td>\n",
       "      <td>5.0</td>\n",
       "      <td>4.0</td>\n",
       "    </tr>\n",
       "    <tr>\n",
       "      <th>UR30610609</th>\n",
       "      <td>NicNacBeauty</td>\n",
       "      <td>Florida</td>\n",
       "      <td>3.0</td>\n",
       "      <td>3.0</td>\n",
       "      <td>5.0</td>\n",
       "      <td>SpringHill Suites New Orleans Convention Center</td>\n",
       "      <td>223130</td>\n",
       "      <td>LA</td>\n",
       "      <td>4.0</td>\n",
       "      <td>3.0</td>\n",
       "      <td>99</td>\n",
       "      <td>99</td>\n",
       "      <td>The room was large, clean, &amp; cheery with good ...</td>\n",
       "      <td>5.0</td>\n",
       "      <td>1.0</td>\n",
       "      <td>3.0</td>\n",
       "      <td>2.0</td>\n",
       "    </tr>\n",
       "    <tr>\n",
       "      <th>UR29316420</th>\n",
       "      <td>HarrisPhamily</td>\n",
       "      <td>Philadelphia,PA</td>\n",
       "      <td>5.0</td>\n",
       "      <td>5.0</td>\n",
       "      <td>5.0</td>\n",
       "      <td>SpringHill Suites New Orleans Convention Center</td>\n",
       "      <td>223130</td>\n",
       "      <td>LA</td>\n",
       "      <td>5.0</td>\n",
       "      <td>5.0</td>\n",
       "      <td>99</td>\n",
       "      <td>99</td>\n",
       "      <td>We were 100% satisfied with all services. The ...</td>\n",
       "      <td>5.0</td>\n",
       "      <td>5.0</td>\n",
       "      <td>5.0</td>\n",
       "      <td>3.0</td>\n",
       "    </tr>\n",
       "    <tr>\n",
       "      <th>UR28965300</th>\n",
       "      <td>reddotinbluestate</td>\n",
       "      <td>Huntsville,AL</td>\n",
       "      <td>5.0</td>\n",
       "      <td>5.0</td>\n",
       "      <td>5.0</td>\n",
       "      <td>SpringHill Suites New Orleans Convention Center</td>\n",
       "      <td>223130</td>\n",
       "      <td>LA</td>\n",
       "      <td>5.0</td>\n",
       "      <td>5.0</td>\n",
       "      <td>99</td>\n",
       "      <td>99</td>\n",
       "      <td>We were here during the first weekend of Jazz ...</td>\n",
       "      <td>5.0</td>\n",
       "      <td>5.0</td>\n",
       "      <td>5.0</td>\n",
       "      <td>5.0</td>\n",
       "    </tr>\n",
       "    <tr>\n",
       "      <th>UR28245081</th>\n",
       "      <td>Jammingirl33</td>\n",
       "      <td>Alabama</td>\n",
       "      <td>5.0</td>\n",
       "      <td>5.0</td>\n",
       "      <td>5.0</td>\n",
       "      <td>SpringHill Suites New Orleans Convention Center</td>\n",
       "      <td>223130</td>\n",
       "      <td>LA</td>\n",
       "      <td>5.0</td>\n",
       "      <td>5.0</td>\n",
       "      <td>99</td>\n",
       "      <td>99</td>\n",
       "      <td>We stayed at this hotel Easter weekend with ou...</td>\n",
       "      <td>5.0</td>\n",
       "      <td>5.0</td>\n",
       "      <td>5.0</td>\n",
       "      <td>5.0</td>\n",
       "    </tr>\n",
       "    <tr>\n",
       "      <th>UR26273968</th>\n",
       "      <td>Roadtrippinmomma</td>\n",
       "      <td>Mississippi</td>\n",
       "      <td>5.0</td>\n",
       "      <td>5.0</td>\n",
       "      <td>5.0</td>\n",
       "      <td>SpringHill Suites New Orleans Convention Center</td>\n",
       "      <td>223130</td>\n",
       "      <td>LA</td>\n",
       "      <td>5.0</td>\n",
       "      <td>5.0</td>\n",
       "      <td>99</td>\n",
       "      <td>99</td>\n",
       "      <td>We stayed at the Springhill Suites in New Orle...</td>\n",
       "      <td>5.0</td>\n",
       "      <td>5.0</td>\n",
       "      <td>5.0</td>\n",
       "      <td>5.0</td>\n",
       "    </tr>\n",
       "    <tr>\n",
       "      <th>UR21386329</th>\n",
       "      <td>Walby</td>\n",
       "      <td>Indiana</td>\n",
       "      <td>5.0</td>\n",
       "      <td>4.0</td>\n",
       "      <td>4.0</td>\n",
       "      <td>SpringHill Suites New Orleans Convention Center</td>\n",
       "      <td>223130</td>\n",
       "      <td>LA</td>\n",
       "      <td>5.0</td>\n",
       "      <td>5.0</td>\n",
       "      <td>99</td>\n",
       "      <td>99</td>\n",
       "      <td>I stayed here with a friend of mine while in t...</td>\n",
       "      <td>4.0</td>\n",
       "      <td>4.0</td>\n",
       "      <td>5.0</td>\n",
       "      <td>5.0</td>\n",
       "    </tr>\n",
       "    <tr>\n",
       "      <th>UR20127575</th>\n",
       "      <td>WATrvlr</td>\n",
       "      <td>Texas</td>\n",
       "      <td>3.0</td>\n",
       "      <td>1.0</td>\n",
       "      <td>4.0</td>\n",
       "      <td>SpringHill Suites New Orleans Convention Center</td>\n",
       "      <td>223130</td>\n",
       "      <td>LA</td>\n",
       "      <td>3.0</td>\n",
       "      <td>2.0</td>\n",
       "      <td>99</td>\n",
       "      <td>99</td>\n",
       "      <td>The hotel disloses that parking is limited and...</td>\n",
       "      <td>2.0</td>\n",
       "      <td>2.0</td>\n",
       "      <td>2.0</td>\n",
       "      <td>2.0</td>\n",
       "    </tr>\n",
       "    <tr>\n",
       "      <th>UR17620347</th>\n",
       "      <td>meshia1124</td>\n",
       "      <td>Tennessee</td>\n",
       "      <td>1.0</td>\n",
       "      <td>1.0</td>\n",
       "      <td>1.0</td>\n",
       "      <td>SpringHill Suites New Orleans Convention Center</td>\n",
       "      <td>223130</td>\n",
       "      <td>LA</td>\n",
       "      <td>1.0</td>\n",
       "      <td>1.0</td>\n",
       "      <td>99</td>\n",
       "      <td>99</td>\n",
       "      <td>I only ranked this a 1 star cause they dont gi...</td>\n",
       "      <td>1.0</td>\n",
       "      <td>1.0</td>\n",
       "      <td>1.0</td>\n",
       "      <td>1.0</td>\n",
       "    </tr>\n",
       "    <tr>\n",
       "      <th>UR13369739</th>\n",
       "      <td>John D</td>\n",
       "      <td>Mississippi</td>\n",
       "      <td>4.0</td>\n",
       "      <td>5.0</td>\n",
       "      <td>4.0</td>\n",
       "      <td>SpringHill Suites New Orleans Convention Center</td>\n",
       "      <td>223130</td>\n",
       "      <td>LA</td>\n",
       "      <td>3.0</td>\n",
       "      <td>4.0</td>\n",
       "      <td>99</td>\n",
       "      <td>99</td>\n",
       "      <td>Springhill Suites is perfect for people needin...</td>\n",
       "      <td>4.0</td>\n",
       "      <td>5.0</td>\n",
       "      <td>4.0</td>\n",
       "      <td>5.0</td>\n",
       "    </tr>\n",
       "    <tr>\n",
       "      <th>UR10923190</th>\n",
       "      <td>ACaliforniaGuy</td>\n",
       "      <td>Newport Beach CA</td>\n",
       "      <td>3.0</td>\n",
       "      <td>1.0</td>\n",
       "      <td>1.0</td>\n",
       "      <td>SpringHill Suites New Orleans Convention Center</td>\n",
       "      <td>223130</td>\n",
       "      <td>LA</td>\n",
       "      <td>2.0</td>\n",
       "      <td>1.0</td>\n",
       "      <td>99</td>\n",
       "      <td>99</td>\n",
       "      <td>I usually have done well by reading the review...</td>\n",
       "      <td>1.0</td>\n",
       "      <td>1.0</td>\n",
       "      <td>1.0</td>\n",
       "      <td>1.0</td>\n",
       "    </tr>\n",
       "    <tr>\n",
       "      <th>UR10640496</th>\n",
       "      <td>Schotzy</td>\n",
       "      <td>Delaware</td>\n",
       "      <td>5.0</td>\n",
       "      <td>5.0</td>\n",
       "      <td>5.0</td>\n",
       "      <td>SpringHill Suites New Orleans Convention Center</td>\n",
       "      <td>223130</td>\n",
       "      <td>LA</td>\n",
       "      <td>5.0</td>\n",
       "      <td>5.0</td>\n",
       "      <td>99</td>\n",
       "      <td>99</td>\n",
       "      <td>I stayed here for three nights for a conventio...</td>\n",
       "      <td>5.0</td>\n",
       "      <td>5.0</td>\n",
       "      <td>5.0</td>\n",
       "      <td>5.0</td>\n",
       "    </tr>\n",
       "    <tr>\n",
       "      <th>UR10140147</th>\n",
       "      <td>Barracuda30</td>\n",
       "      <td>NJ</td>\n",
       "      <td>5.0</td>\n",
       "      <td>5.0</td>\n",
       "      <td>5.0</td>\n",
       "      <td>SpringHill Suites New Orleans Convention Center</td>\n",
       "      <td>223130</td>\n",
       "      <td>LA</td>\n",
       "      <td>2.0</td>\n",
       "      <td>5.0</td>\n",
       "      <td>99</td>\n",
       "      <td>99</td>\n",
       "      <td>I stayed at the SpringHill Suites (a Marriott ...</td>\n",
       "      <td>5.0</td>\n",
       "      <td>5.0</td>\n",
       "      <td>5.0</td>\n",
       "      <td>5.0</td>\n",
       "    </tr>\n",
       "    <tr>\n",
       "      <th>UR7010458</th>\n",
       "      <td>alyson003</td>\n",
       "      <td>New Orleans</td>\n",
       "      <td>3.0</td>\n",
       "      <td>2.0</td>\n",
       "      <td>4.0</td>\n",
       "      <td>SpringHill Suites New Orleans Convention Center</td>\n",
       "      <td>223130</td>\n",
       "      <td>LA</td>\n",
       "      <td>3.0</td>\n",
       "      <td>3.0</td>\n",
       "      <td>99</td>\n",
       "      <td>99</td>\n",
       "      <td>I stayed here during Mardi Gras due the the go...</td>\n",
       "      <td>4.0</td>\n",
       "      <td>2.0</td>\n",
       "      <td>3.0</td>\n",
       "      <td>4.0</td>\n",
       "    </tr>\n",
       "    <tr>\n",
       "      <th>UR5960194</th>\n",
       "      <td>gradtraveler</td>\n",
       "      <td>CA</td>\n",
       "      <td>4.0</td>\n",
       "      <td>3.0</td>\n",
       "      <td>4.0</td>\n",
       "      <td>SpringHill Suites New Orleans Convention Center</td>\n",
       "      <td>223130</td>\n",
       "      <td>LA</td>\n",
       "      <td>4.0</td>\n",
       "      <td>4.0</td>\n",
       "      <td>99</td>\n",
       "      <td>99</td>\n",
       "      <td>Had quite a nice 4nt stay at Springhill Suites...</td>\n",
       "      <td>4.0</td>\n",
       "      <td>5.0</td>\n",
       "      <td>4.0</td>\n",
       "      <td>4.0</td>\n",
       "    </tr>\n",
       "    <tr>\n",
       "      <th>UR5463584</th>\n",
       "      <td>MetaCat56</td>\n",
       "      <td>New Jersey</td>\n",
       "      <td>4.0</td>\n",
       "      <td>4.0</td>\n",
       "      <td>5.0</td>\n",
       "      <td>SpringHill Suites New Orleans Convention Center</td>\n",
       "      <td>223130</td>\n",
       "      <td>LA</td>\n",
       "      <td>4.0</td>\n",
       "      <td>4.0</td>\n",
       "      <td>99</td>\n",
       "      <td>99</td>\n",
       "      <td>What I liked best: first class service, room w...</td>\n",
       "      <td>5.0</td>\n",
       "      <td>5.0</td>\n",
       "      <td>4.0</td>\n",
       "      <td>5.0</td>\n",
       "    </tr>\n",
       "    <tr>\n",
       "      <th>UR5412695</th>\n",
       "      <td>OhioTraveler62</td>\n",
       "      <td>Ohio</td>\n",
       "      <td>5.0</td>\n",
       "      <td>5.0</td>\n",
       "      <td>5.0</td>\n",
       "      <td>SpringHill Suites New Orleans Convention Center</td>\n",
       "      <td>223130</td>\n",
       "      <td>LA</td>\n",
       "      <td>5.0</td>\n",
       "      <td>5.0</td>\n",
       "      <td>99</td>\n",
       "      <td>99</td>\n",
       "      <td>My husband and I stayed at the Sprinhill Suite...</td>\n",
       "      <td>5.0</td>\n",
       "      <td>5.0</td>\n",
       "      <td>5.0</td>\n",
       "      <td>5.0</td>\n",
       "    </tr>\n",
       "    <tr>\n",
       "      <th>UR5409133</th>\n",
       "      <td>GardenTime</td>\n",
       "      <td>NM</td>\n",
       "      <td>4.0</td>\n",
       "      <td>4.0</td>\n",
       "      <td>4.0</td>\n",
       "      <td>SpringHill Suites New Orleans Convention Center</td>\n",
       "      <td>223130</td>\n",
       "      <td>LA</td>\n",
       "      <td>4.0</td>\n",
       "      <td>4.0</td>\n",
       "      <td>99</td>\n",
       "      <td>99</td>\n",
       "      <td>For a budget hotel, the Springhill Suites acro...</td>\n",
       "      <td>4.0</td>\n",
       "      <td>4.0</td>\n",
       "      <td>4.0</td>\n",
       "      <td>4.0</td>\n",
       "    </tr>\n",
       "    <tr>\n",
       "      <th>UR3583415</th>\n",
       "      <td>A TripAdvisor Member</td>\n",
       "      <td>Unknown</td>\n",
       "      <td>4.0</td>\n",
       "      <td>4.0</td>\n",
       "      <td>3.0</td>\n",
       "      <td>SpringHill Suites New Orleans Convention Center</td>\n",
       "      <td>223130</td>\n",
       "      <td>LA</td>\n",
       "      <td>4.0</td>\n",
       "      <td>4.0</td>\n",
       "      <td>99</td>\n",
       "      <td>99</td>\n",
       "      <td>The hotel is perfect if you are going to the M...</td>\n",
       "      <td>4.0</td>\n",
       "      <td>3.0</td>\n",
       "      <td>4.0</td>\n",
       "      <td>4.0</td>\n",
       "    </tr>\n",
       "    <tr>\n",
       "      <th>UR3575184</th>\n",
       "      <td>Peliroja</td>\n",
       "      <td>Tx</td>\n",
       "      <td>3.0</td>\n",
       "      <td>3.0</td>\n",
       "      <td>2.0</td>\n",
       "      <td>SpringHill Suites New Orleans Convention Center</td>\n",
       "      <td>223130</td>\n",
       "      <td>LA</td>\n",
       "      <td>3.0</td>\n",
       "      <td>3.0</td>\n",
       "      <td>99</td>\n",
       "      <td>99</td>\n",
       "      <td>Very, very average...would try someplace else ...</td>\n",
       "      <td>2.0</td>\n",
       "      <td>3.0</td>\n",
       "      <td>3.0</td>\n",
       "      <td>3.0</td>\n",
       "    </tr>\n",
       "    <tr>\n",
       "      <th>UR2946456</th>\n",
       "      <td>A TripAdvisor Member</td>\n",
       "      <td>Unknown</td>\n",
       "      <td>5.0</td>\n",
       "      <td>5.0</td>\n",
       "      <td>5.0</td>\n",
       "      <td>SpringHill Suites New Orleans Convention Center</td>\n",
       "      <td>223130</td>\n",
       "      <td>LA</td>\n",
       "      <td>5.0</td>\n",
       "      <td>5.0</td>\n",
       "      <td>99</td>\n",
       "      <td>99</td>\n",
       "      <td>This hotel is awesome! We were a little scared...</td>\n",
       "      <td>5.0</td>\n",
       "      <td>5.0</td>\n",
       "      <td>5.0</td>\n",
       "      <td>5.0</td>\n",
       "    </tr>\n",
       "    <tr>\n",
       "      <th>UR2829705</th>\n",
       "      <td>A TripAdvisor Member</td>\n",
       "      <td>Unknown</td>\n",
       "      <td>4.0</td>\n",
       "      <td>4.0</td>\n",
       "      <td>4.0</td>\n",
       "      <td>SpringHill Suites New Orleans Convention Center</td>\n",
       "      <td>223130</td>\n",
       "      <td>LA</td>\n",
       "      <td>4.0</td>\n",
       "      <td>4.0</td>\n",
       "      <td>99</td>\n",
       "      <td>99</td>\n",
       "      <td>My family stayed in the Springhill Suites whil...</td>\n",
       "      <td>4.0</td>\n",
       "      <td>4.0</td>\n",
       "      <td>4.0</td>\n",
       "      <td>4.0</td>\n",
       "    </tr>\n",
       "    <tr>\n",
       "      <th>UR2273187</th>\n",
       "      <td>six9klassic</td>\n",
       "      <td>G</td>\n",
       "      <td>5.0</td>\n",
       "      <td>5.0</td>\n",
       "      <td>4.0</td>\n",
       "      <td>SpringHill Suites New Orleans Convention Center</td>\n",
       "      <td>223130</td>\n",
       "      <td>LA</td>\n",
       "      <td>5.0</td>\n",
       "      <td>5.0</td>\n",
       "      <td>99</td>\n",
       "      <td>99</td>\n",
       "      <td>We stayed at the Springhill Suites during the ...</td>\n",
       "      <td>3.0</td>\n",
       "      <td>4.0</td>\n",
       "      <td>5.0</td>\n",
       "      <td>4.0</td>\n",
       "    </tr>\n",
       "    <tr>\n",
       "      <th>UR1647488</th>\n",
       "      <td>mel&amp;danAlberta</td>\n",
       "      <td>canada</td>\n",
       "      <td>4.0</td>\n",
       "      <td>4.0</td>\n",
       "      <td>4.0</td>\n",
       "      <td>SpringHill Suites New Orleans Convention Center</td>\n",
       "      <td>223130</td>\n",
       "      <td>LA</td>\n",
       "      <td>4.0</td>\n",
       "      <td>4.0</td>\n",
       "      <td>99</td>\n",
       "      <td>99</td>\n",
       "      <td>We stayed here for one night before leaving on...</td>\n",
       "      <td>4.0</td>\n",
       "      <td>4.0</td>\n",
       "      <td>4.0</td>\n",
       "      <td>4.0</td>\n",
       "    </tr>\n",
       "    <tr>\n",
       "      <th>UR1274417</th>\n",
       "      <td>crazyAustin</td>\n",
       "      <td>TX</td>\n",
       "      <td>5.0</td>\n",
       "      <td>5.0</td>\n",
       "      <td>5.0</td>\n",
       "      <td>SpringHill Suites New Orleans Convention Center</td>\n",
       "      <td>223130</td>\n",
       "      <td>LA</td>\n",
       "      <td>5.0</td>\n",
       "      <td>5.0</td>\n",
       "      <td>99</td>\n",
       "      <td>99</td>\n",
       "      <td>We stayed at the Springhill Suites New Orleans...</td>\n",
       "      <td>5.0</td>\n",
       "      <td>5.0</td>\n",
       "      <td>5.0</td>\n",
       "      <td>5.0</td>\n",
       "    </tr>\n",
       "    <tr>\n",
       "      <th>UR1258730</th>\n",
       "      <td>A TripAdvisor Member</td>\n",
       "      <td>Unknown</td>\n",
       "      <td>5.0</td>\n",
       "      <td>5.0</td>\n",
       "      <td>5.0</td>\n",
       "      <td>SpringHill Suites New Orleans Convention Center</td>\n",
       "      <td>223130</td>\n",
       "      <td>LA</td>\n",
       "      <td>5.0</td>\n",
       "      <td>5.0</td>\n",
       "      <td>99</td>\n",
       "      <td>99</td>\n",
       "      <td>I had a wonderful 6-night stay here. The locat...</td>\n",
       "      <td>5.0</td>\n",
       "      <td>5.0</td>\n",
       "      <td>5.0</td>\n",
       "      <td>5.0</td>\n",
       "    </tr>\n",
       "    <tr>\n",
       "      <th>UR496794</th>\n",
       "      <td>A TripAdvisor Member</td>\n",
       "      <td>Unknown</td>\n",
       "      <td>4.0</td>\n",
       "      <td>4.0</td>\n",
       "      <td>4.0</td>\n",
       "      <td>SpringHill Suites New Orleans Convention Center</td>\n",
       "      <td>223130</td>\n",
       "      <td>LA</td>\n",
       "      <td>4.0</td>\n",
       "      <td>4.0</td>\n",
       "      <td>99</td>\n",
       "      <td>99</td>\n",
       "      <td>My family and I stayed there last weekend and ...</td>\n",
       "      <td>4.0</td>\n",
       "      <td>4.0</td>\n",
       "      <td>4.0</td>\n",
       "      <td>4.0</td>\n",
       "    </tr>\n",
       "  </tbody>\n",
       "</table>\n",
       "<p>132588 rows × 17 columns</p>\n",
       "</div>"
      ],
      "text/plain": [
       "                           Author    AuthorLocation  BusServ  CheckIn  \\\n",
       "UR129069779            Peterson41      Indianapolis      5.0      5.0   \n",
       "UR129006183                MOMSPH                        4.0      4.0   \n",
       "UR128493326                 ken p          Colorado      4.0      4.0   \n",
       "UR128482573             venice176            venice      3.0      3.0   \n",
       "UR128429488               Terry L           Arizona      4.0      4.0   \n",
       "UR128363980             Gabriel S            Tustin      5.0      5.0   \n",
       "UR127865307              Dennis S     United States      5.0      5.0   \n",
       "UR127825290                LoriBT         Elk Grove      4.0      4.0   \n",
       "UR127773535        OceanBreezesSD          Indio CA      4.0      4.0   \n",
       "UR127639141              Johnny M         San Diego      5.0      5.0   \n",
       "UR127461275            davidmlowe        manchester      4.0      4.0   \n",
       "UR127414627                Rory U        California      5.0      5.0   \n",
       "UR126989393             jruggerio           Indiana      5.0      5.0   \n",
       "UR126949952               Aaron M     United States      5.0      5.0   \n",
       "UR126736921    jswebsterMinnesota         Minnesota      3.0      3.0   \n",
       "UR126618086      MemberfromPadova             Italy      4.0      4.0   \n",
       "UR126398377          chuparosa412        New Mexico      4.0      4.0   \n",
       "UR126398253                Dawn S        California      4.0      4.0   \n",
       "UR126231500              mamita78        Washington      5.0      5.0   \n",
       "UR126042871               Bob5211             Texas      5.0      5.0   \n",
       "UR126042089              papawood        California      5.0      5.0   \n",
       "UR125989584               Julie W        California      5.0      5.0   \n",
       "UR125778950             Auntvalla                        5.0      5.0   \n",
       "UR125777594                ctoddg           Arizona      4.0      4.0   \n",
       "UR125769811            swartzmanh           Leawood      5.0      5.0   \n",
       "UR125749908           YumaAZGirly           Arizona      5.0      5.0   \n",
       "UR125710696           mgershenson      Southern Cal      4.0      4.0   \n",
       "UR125666739            ArjunSelvi        California      5.0      5.0   \n",
       "UR125655248                 Dan S       Main Centre      5.0      5.0   \n",
       "UR125653220              Briana A             Spain      5.0      5.0   \n",
       "...                           ...               ...      ...      ...   \n",
       "UR52253945                 bninny          kentucky      5.0      5.0   \n",
       "UR51595518                 bb1976    United Kingdom      3.0      3.0   \n",
       "UR37473162         BusyBeeFlorida           Florida      5.0      5.0   \n",
       "UR35511976                 Maajar      Pennsylvania      5.0      5.0   \n",
       "UR30610609           NicNacBeauty           Florida      3.0      3.0   \n",
       "UR29316420          HarrisPhamily   Philadelphia,PA      5.0      5.0   \n",
       "UR28965300      reddotinbluestate     Huntsville,AL      5.0      5.0   \n",
       "UR28245081           Jammingirl33           Alabama      5.0      5.0   \n",
       "UR26273968       Roadtrippinmomma       Mississippi      5.0      5.0   \n",
       "UR21386329                  Walby           Indiana      5.0      4.0   \n",
       "UR20127575                WATrvlr             Texas      3.0      1.0   \n",
       "UR17620347             meshia1124         Tennessee      1.0      1.0   \n",
       "UR13369739                 John D       Mississippi      4.0      5.0   \n",
       "UR10923190         ACaliforniaGuy  Newport Beach CA      3.0      1.0   \n",
       "UR10640496                Schotzy          Delaware      5.0      5.0   \n",
       "UR10140147            Barracuda30                NJ      5.0      5.0   \n",
       "UR7010458               alyson003       New Orleans      3.0      2.0   \n",
       "UR5960194            gradtraveler                CA      4.0      3.0   \n",
       "UR5463584               MetaCat56        New Jersey      4.0      4.0   \n",
       "UR5412695          OhioTraveler62              Ohio      5.0      5.0   \n",
       "UR5409133              GardenTime                NM      4.0      4.0   \n",
       "UR3583415    A TripAdvisor Member           Unknown      4.0      4.0   \n",
       "UR3575184                Peliroja                Tx      3.0      3.0   \n",
       "UR2946456    A TripAdvisor Member           Unknown      5.0      5.0   \n",
       "UR2829705    A TripAdvisor Member           Unknown      4.0      4.0   \n",
       "UR2273187             six9klassic                 G      5.0      5.0   \n",
       "UR1647488          mel&danAlberta            canada      4.0      4.0   \n",
       "UR1274417             crazyAustin                TX      5.0      5.0   \n",
       "UR1258730    A TripAdvisor Member           Unknown      5.0      5.0   \n",
       "UR496794     A TripAdvisor Member           Unknown      4.0      4.0   \n",
       "\n",
       "             Cleanliness                                            Hotel  \\\n",
       "UR129069779          5.0         Hampton Inn San Diego Airport / SeaWorld   \n",
       "UR129006183          4.0         Hampton Inn San Diego Airport / SeaWorld   \n",
       "UR128493326          5.0         Hampton Inn San Diego Airport / SeaWorld   \n",
       "UR128482573          3.0         Hampton Inn San Diego Airport / SeaWorld   \n",
       "UR128429488          5.0         Hampton Inn San Diego Airport / SeaWorld   \n",
       "UR128363980          5.0         Hampton Inn San Diego Airport / SeaWorld   \n",
       "UR127865307          5.0         Hampton Inn San Diego Airport / SeaWorld   \n",
       "UR127825290          4.0         Hampton Inn San Diego Airport / SeaWorld   \n",
       "UR127773535          5.0         Hampton Inn San Diego Airport / SeaWorld   \n",
       "UR127639141          5.0         Hampton Inn San Diego Airport / SeaWorld   \n",
       "UR127461275          4.0         Hampton Inn San Diego Airport / SeaWorld   \n",
       "UR127414627          5.0         Hampton Inn San Diego Airport / SeaWorld   \n",
       "UR126989393          5.0         Hampton Inn San Diego Airport / SeaWorld   \n",
       "UR126949952          5.0         Hampton Inn San Diego Airport / SeaWorld   \n",
       "UR126736921          3.0         Hampton Inn San Diego Airport / SeaWorld   \n",
       "UR126618086          5.0         Hampton Inn San Diego Airport / SeaWorld   \n",
       "UR126398377          5.0         Hampton Inn San Diego Airport / SeaWorld   \n",
       "UR126398253          4.0         Hampton Inn San Diego Airport / SeaWorld   \n",
       "UR126231500          5.0         Hampton Inn San Diego Airport / SeaWorld   \n",
       "UR126042871          4.0         Hampton Inn San Diego Airport / SeaWorld   \n",
       "UR126042089          5.0         Hampton Inn San Diego Airport / SeaWorld   \n",
       "UR125989584          5.0         Hampton Inn San Diego Airport / SeaWorld   \n",
       "UR125778950          5.0         Hampton Inn San Diego Airport / SeaWorld   \n",
       "UR125777594          4.0         Hampton Inn San Diego Airport / SeaWorld   \n",
       "UR125769811          5.0         Hampton Inn San Diego Airport / SeaWorld   \n",
       "UR125749908          5.0         Hampton Inn San Diego Airport / SeaWorld   \n",
       "UR125710696          5.0         Hampton Inn San Diego Airport / SeaWorld   \n",
       "UR125666739          5.0         Hampton Inn San Diego Airport / SeaWorld   \n",
       "UR125655248          5.0         Hampton Inn San Diego Airport / SeaWorld   \n",
       "UR125653220          5.0         Hampton Inn San Diego Airport / SeaWorld   \n",
       "...                  ...                                              ...   \n",
       "UR52253945           5.0  SpringHill Suites New Orleans Convention Center   \n",
       "UR51595518           4.0  SpringHill Suites New Orleans Convention Center   \n",
       "UR37473162           5.0  SpringHill Suites New Orleans Convention Center   \n",
       "UR35511976           4.0  SpringHill Suites New Orleans Convention Center   \n",
       "UR30610609           5.0  SpringHill Suites New Orleans Convention Center   \n",
       "UR29316420           5.0  SpringHill Suites New Orleans Convention Center   \n",
       "UR28965300           5.0  SpringHill Suites New Orleans Convention Center   \n",
       "UR28245081           5.0  SpringHill Suites New Orleans Convention Center   \n",
       "UR26273968           5.0  SpringHill Suites New Orleans Convention Center   \n",
       "UR21386329           4.0  SpringHill Suites New Orleans Convention Center   \n",
       "UR20127575           4.0  SpringHill Suites New Orleans Convention Center   \n",
       "UR17620347           1.0  SpringHill Suites New Orleans Convention Center   \n",
       "UR13369739           4.0  SpringHill Suites New Orleans Convention Center   \n",
       "UR10923190           1.0  SpringHill Suites New Orleans Convention Center   \n",
       "UR10640496           5.0  SpringHill Suites New Orleans Convention Center   \n",
       "UR10140147           5.0  SpringHill Suites New Orleans Convention Center   \n",
       "UR7010458            4.0  SpringHill Suites New Orleans Convention Center   \n",
       "UR5960194            4.0  SpringHill Suites New Orleans Convention Center   \n",
       "UR5463584            5.0  SpringHill Suites New Orleans Convention Center   \n",
       "UR5412695            5.0  SpringHill Suites New Orleans Convention Center   \n",
       "UR5409133            4.0  SpringHill Suites New Orleans Convention Center   \n",
       "UR3583415            3.0  SpringHill Suites New Orleans Convention Center   \n",
       "UR3575184            2.0  SpringHill Suites New Orleans Convention Center   \n",
       "UR2946456            5.0  SpringHill Suites New Orleans Convention Center   \n",
       "UR2829705            4.0  SpringHill Suites New Orleans Convention Center   \n",
       "UR2273187            4.0  SpringHill Suites New Orleans Convention Center   \n",
       "UR1647488            4.0  SpringHill Suites New Orleans Convention Center   \n",
       "UR1274417            5.0  SpringHill Suites New Orleans Convention Center   \n",
       "UR1258730            5.0  SpringHill Suites New Orleans Convention Center   \n",
       "UR496794             4.0  SpringHill Suites New Orleans Convention Center   \n",
       "\n",
       "             HotelID HotelLocation  Location  Overall  PriceMax  PriceMin  \\\n",
       "UR129069779  2515612            CA       5.0      5.0       196       107   \n",
       "UR129006183  2515612            CA       5.0      4.0       196       107   \n",
       "UR128493326  2515612            CA       3.0      4.0       196       107   \n",
       "UR128482573  2515612            CA       1.0      3.0       196       107   \n",
       "UR128429488  2515612            CA       4.0      4.0       196       107   \n",
       "UR128363980  2515612            CA       5.0      5.0       196       107   \n",
       "UR127865307  2515612            CA       3.0      5.0       196       107   \n",
       "UR127825290  2515612            CA       5.0      4.0       196       107   \n",
       "UR127773535  2515612            CA       4.0      4.0       196       107   \n",
       "UR127639141  2515612            CA       4.0      5.0       196       107   \n",
       "UR127461275  2515612            CA       3.0      4.0       196       107   \n",
       "UR127414627  2515612            CA       5.0      5.0       196       107   \n",
       "UR126989393  2515612            CA       5.0      5.0       196       107   \n",
       "UR126949952  2515612            CA       5.0      5.0       196       107   \n",
       "UR126736921  2515612            CA       3.0      3.0       196       107   \n",
       "UR126618086  2515612            CA       3.0      4.0       196       107   \n",
       "UR126398377  2515612            CA       3.0      4.0       196       107   \n",
       "UR126398253  2515612            CA       5.0      4.0       196       107   \n",
       "UR126231500  2515612            CA       3.0      5.0       196       107   \n",
       "UR126042871  2515612            CA       4.0      5.0       196       107   \n",
       "UR126042089  2515612            CA       5.0      5.0       196       107   \n",
       "UR125989584  2515612            CA       4.0      5.0       196       107   \n",
       "UR125778950  2515612            CA       4.0      5.0       196       107   \n",
       "UR125777594  2515612            CA       4.0      4.0       196       107   \n",
       "UR125769811  2515612            CA       5.0      5.0       196       107   \n",
       "UR125749908  2515612            CA       5.0      5.0       196       107   \n",
       "UR125710696  2515612            CA       3.0      4.0       196       107   \n",
       "UR125666739  2515612            CA       3.0      5.0       196       107   \n",
       "UR125655248  2515612            CA       5.0      5.0       196       107   \n",
       "UR125653220  2515612            CA       5.0      5.0       196       107   \n",
       "...              ...           ...       ...      ...       ...       ...   \n",
       "UR52253945    223130            LA       4.0      5.0        99        99   \n",
       "UR51595518    223130            LA       4.0      3.0        99        99   \n",
       "UR37473162    223130            LA       4.0      5.0        99        99   \n",
       "UR35511976    223130            LA       4.0      5.0        99        99   \n",
       "UR30610609    223130            LA       4.0      3.0        99        99   \n",
       "UR29316420    223130            LA       5.0      5.0        99        99   \n",
       "UR28965300    223130            LA       5.0      5.0        99        99   \n",
       "UR28245081    223130            LA       5.0      5.0        99        99   \n",
       "UR26273968    223130            LA       5.0      5.0        99        99   \n",
       "UR21386329    223130            LA       5.0      5.0        99        99   \n",
       "UR20127575    223130            LA       3.0      2.0        99        99   \n",
       "UR17620347    223130            LA       1.0      1.0        99        99   \n",
       "UR13369739    223130            LA       3.0      4.0        99        99   \n",
       "UR10923190    223130            LA       2.0      1.0        99        99   \n",
       "UR10640496    223130            LA       5.0      5.0        99        99   \n",
       "UR10140147    223130            LA       2.0      5.0        99        99   \n",
       "UR7010458     223130            LA       3.0      3.0        99        99   \n",
       "UR5960194     223130            LA       4.0      4.0        99        99   \n",
       "UR5463584     223130            LA       4.0      4.0        99        99   \n",
       "UR5412695     223130            LA       5.0      5.0        99        99   \n",
       "UR5409133     223130            LA       4.0      4.0        99        99   \n",
       "UR3583415     223130            LA       4.0      4.0        99        99   \n",
       "UR3575184     223130            LA       3.0      3.0        99        99   \n",
       "UR2946456     223130            LA       5.0      5.0        99        99   \n",
       "UR2829705     223130            LA       4.0      4.0        99        99   \n",
       "UR2273187     223130            LA       5.0      5.0        99        99   \n",
       "UR1647488     223130            LA       4.0      4.0        99        99   \n",
       "UR1274417     223130            LA       5.0      5.0        99        99   \n",
       "UR1258730     223130            LA       5.0      5.0        99        99   \n",
       "UR496794      223130            LA       4.0      4.0        99        99   \n",
       "\n",
       "                                                        Review  Rooms  \\\n",
       "UR129069779  I have stayed at this hotel a number of times....    5.0   \n",
       "UR129006183  Love the location, 5 mins from Sea World and a...    3.0   \n",
       "UR128493326  The staff are fantasic especially \"Maegen Iban...    4.0   \n",
       "UR128482573  Breakfast is good. Location is not so good. Pa...    3.0   \n",
       "UR128429488  Was very nice, clean, convenient. Very spread ...    5.0   \n",
       "UR128363980  Acommodatons were great and so were the guest ...    5.0   \n",
       "UR127865307  This is a great hotel--definately at the upper...    4.0   \n",
       "UR127825290  My group was in San Diego for a high school ba...    4.0   \n",
       "UR127773535  Everything about our stay was flawless. Clean,...    5.0   \n",
       "UR127639141  It has been such a pleasant experience staying...    5.0   \n",
       "UR127461275  Hotel staff were extremely helpful when we arr...    3.0   \n",
       "UR127414627  Everybody I came into contact with, who worked...    5.0   \n",
       "UR126989393  I was needing a room quick and well before che...    5.0   \n",
       "UR126949952  Justin Macias Has been nothing but a wonderful...    5.0   \n",
       "UR126736921  The hotel is nice itself, however, the room co...    3.0   \n",
       "UR126618086  This is a very nice hotel in a relatively quie...    4.0   \n",
       "UR126398377  Hampton Inn is always a wonderful chain, and t...    5.0   \n",
       "UR126398253  This Hampton Inn was exactly as described in o...    4.0   \n",
       "UR126231500  I travel 2 - 3 times a month for business and ...    4.0   \n",
       "UR126042871  Booked a room for me and my son ended up havin...    4.0   \n",
       "UR126042089  I travel frequently both for business and plea...    5.0   \n",
       "UR125989584  My husband and I travel for business and pleas...    4.0   \n",
       "UR125778950  I stayed in the standard room and was very ple...    4.0   \n",
       "UR125777594  good location, extremely clean, comfortable, a...    4.0   \n",
       "UR125769811  I've had a fantastic experience at the hotel. ...    5.0   \n",
       "UR125749908  This Hampton in was awesome. Very spacious roo...    5.0   \n",
       "UR125710696  I recently booked 18 guests here for a total o...    4.0   \n",
       "UR125666739  My wife and I stayed here last week-end. The s...    4.0   \n",
       "UR125655248  The service was great, especially by the front...    5.0   \n",
       "UR125653220  I stayed here recently for a few days and this...    5.0   \n",
       "...                                                        ...    ...   \n",
       "UR52253945   We stayed here between Christmas and New Years...    5.0   \n",
       "UR51595518   I was 'walked' to this hotel having found out ...    2.0   \n",
       "UR37473162   This hotel was an excellent choice for our gro...    5.0   \n",
       "UR35511976   This was the first time at Springhill, but my ...    5.0   \n",
       "UR30610609   The room was large, clean, & cheery with good ...    5.0   \n",
       "UR29316420   We were 100% satisfied with all services. The ...    5.0   \n",
       "UR28965300   We were here during the first weekend of Jazz ...    5.0   \n",
       "UR28245081   We stayed at this hotel Easter weekend with ou...    5.0   \n",
       "UR26273968   We stayed at the Springhill Suites in New Orle...    5.0   \n",
       "UR21386329   I stayed here with a friend of mine while in t...    4.0   \n",
       "UR20127575   The hotel disloses that parking is limited and...    2.0   \n",
       "UR17620347   I only ranked this a 1 star cause they dont gi...    1.0   \n",
       "UR13369739   Springhill Suites is perfect for people needin...    4.0   \n",
       "UR10923190   I usually have done well by reading the review...    1.0   \n",
       "UR10640496   I stayed here for three nights for a conventio...    5.0   \n",
       "UR10140147   I stayed at the SpringHill Suites (a Marriott ...    5.0   \n",
       "UR7010458    I stayed here during Mardi Gras due the the go...    4.0   \n",
       "UR5960194    Had quite a nice 4nt stay at Springhill Suites...    4.0   \n",
       "UR5463584    What I liked best: first class service, room w...    5.0   \n",
       "UR5412695    My husband and I stayed at the Sprinhill Suite...    5.0   \n",
       "UR5409133    For a budget hotel, the Springhill Suites acro...    4.0   \n",
       "UR3583415    The hotel is perfect if you are going to the M...    4.0   \n",
       "UR3575184    Very, very average...would try someplace else ...    2.0   \n",
       "UR2946456    This hotel is awesome! We were a little scared...    5.0   \n",
       "UR2829705    My family stayed in the Springhill Suites whil...    4.0   \n",
       "UR2273187    We stayed at the Springhill Suites during the ...    3.0   \n",
       "UR1647488    We stayed here for one night before leaving on...    4.0   \n",
       "UR1274417    We stayed at the Springhill Suites New Orleans...    5.0   \n",
       "UR1258730    I had a wonderful 6-night stay here. The locat...    5.0   \n",
       "UR496794     My family and I stayed there last weekend and ...    4.0   \n",
       "\n",
       "             Service  Sleep Quality  Value  \n",
       "UR129069779      5.0            5.0    5.0  \n",
       "UR129006183      5.0            3.0    4.0  \n",
       "UR128493326      5.0            4.0    4.0  \n",
       "UR128482573      3.0            4.0    4.0  \n",
       "UR128429488      5.0            5.0    4.0  \n",
       "UR128363980      5.0            5.0    5.0  \n",
       "UR127865307      5.0            5.0    5.0  \n",
       "UR127825290      5.0            4.0    4.0  \n",
       "UR127773535      5.0            5.0    5.0  \n",
       "UR127639141      5.0            5.0    5.0  \n",
       "UR127461275      4.0            4.0    4.0  \n",
       "UR127414627      5.0            4.0    4.0  \n",
       "UR126989393      5.0            5.0    5.0  \n",
       "UR126949952      5.0            5.0    5.0  \n",
       "UR126736921      4.0            3.0    3.0  \n",
       "UR126618086      4.0            4.0    5.0  \n",
       "UR126398377      5.0            5.0    4.0  \n",
       "UR126398253      5.0            4.0    5.0  \n",
       "UR126231500      5.0            5.0    5.0  \n",
       "UR126042871      5.0            4.0    3.0  \n",
       "UR126042089      5.0            5.0    5.0  \n",
       "UR125989584      5.0            5.0    5.0  \n",
       "UR125778950      5.0            5.0    5.0  \n",
       "UR125777594      5.0            4.0    4.0  \n",
       "UR125769811      5.0            5.0    5.0  \n",
       "UR125749908      5.0            5.0    5.0  \n",
       "UR125710696      5.0            4.0    4.0  \n",
       "UR125666739      5.0            5.0    5.0  \n",
       "UR125655248      5.0            5.0    5.0  \n",
       "UR125653220      5.0            5.0    5.0  \n",
       "...              ...            ...    ...  \n",
       "UR52253945       5.0            5.0    5.0  \n",
       "UR51595518       3.0            3.0    1.0  \n",
       "UR37473162       5.0            5.0    5.0  \n",
       "UR35511976       4.0            5.0    4.0  \n",
       "UR30610609       1.0            3.0    2.0  \n",
       "UR29316420       5.0            5.0    3.0  \n",
       "UR28965300       5.0            5.0    5.0  \n",
       "UR28245081       5.0            5.0    5.0  \n",
       "UR26273968       5.0            5.0    5.0  \n",
       "UR21386329       4.0            5.0    5.0  \n",
       "UR20127575       2.0            2.0    2.0  \n",
       "UR17620347       1.0            1.0    1.0  \n",
       "UR13369739       5.0            4.0    5.0  \n",
       "UR10923190       1.0            1.0    1.0  \n",
       "UR10640496       5.0            5.0    5.0  \n",
       "UR10140147       5.0            5.0    5.0  \n",
       "UR7010458        2.0            3.0    4.0  \n",
       "UR5960194        5.0            4.0    4.0  \n",
       "UR5463584        5.0            4.0    5.0  \n",
       "UR5412695        5.0            5.0    5.0  \n",
       "UR5409133        4.0            4.0    4.0  \n",
       "UR3583415        3.0            4.0    4.0  \n",
       "UR3575184        3.0            3.0    3.0  \n",
       "UR2946456        5.0            5.0    5.0  \n",
       "UR2829705        4.0            4.0    4.0  \n",
       "UR2273187        4.0            5.0    4.0  \n",
       "UR1647488        4.0            4.0    4.0  \n",
       "UR1274417        5.0            5.0    5.0  \n",
       "UR1258730        5.0            5.0    5.0  \n",
       "UR496794         4.0            4.0    4.0  \n",
       "\n",
       "[132588 rows x 17 columns]"
      ]
     },
     "execution_count": 176,
     "metadata": {},
     "output_type": "execute_result"
    },
    {
     "name": "stderr",
     "output_type": "stream",
     "text": [
      "/Users/Ryan/anaconda/lib/python3.5/json/encoder.py:198: DeprecationWarning: Interpreting naive datetime as local 2018-10-27 12:42:43.814926. Please add timezone info to timestamps.\n",
      "  chunks = self.iterencode(o, _one_shot=True)\n"
     ]
    }
   ],
   "source": [
    "#df_reviews.duplicated()\n",
    "#df_scores.duplicated()\n",
    "\n",
    "#df_reviews[df_reviews.duplicated(keep=False)]"
   ]
  },
  {
   "cell_type": "code",
   "execution_count": 177,
   "metadata": {},
   "outputs": [
    {
     "name": "stdout",
     "output_type": "stream",
     "text": [
      "                       Author  AuthorLocation  BusServ  CheckIn  Cleanliness  \\\n",
      "UR10000109            Rover87     Long Island      5.0      5.0          5.0   \n",
      "UR10000237      flowerfloosey              ca      3.0      4.0          2.0   \n",
      "UR10000251            max-sun          Canada      5.0      5.0          5.0   \n",
      "UR100005389      johnneiliona          Canada      1.0      1.0          1.0   \n",
      "UR100008112          frieda-f              PA      4.0      4.0          5.0   \n",
      "UR100010632  ontheroadtoomuch      Pittsburgh      4.0      4.0          3.0   \n",
      "UR10001208   MikeLondonLondon          London      5.0      5.0          5.0   \n",
      "UR100014286             Savur         Ukraine      4.0      4.0          4.0   \n",
      "UR10001641             luki13    Pennsylvania      5.0      5.0          5.0   \n",
      "UR10001646       ElaineCSmith  United Kingdom      3.0      2.0          4.0   \n",
      "\n",
      "                                                Hotel  HotelID HotelLocation  \\\n",
      "UR10000109      The Ritz Carlton Coconut Grove, Miami   213828            FL   \n",
      "UR10000237   Gaylord Palms Resort & Convention Center   225097            FL   \n",
      "UR10000251                      Pacific Terrace Hotel  2515647            CA   \n",
      "UR100005389                        Delta Centre-Ville   218448        Quebec   \n",
      "UR100008112                           Paris Las Vegas   143336            NV   \n",
      "UR100010632                              Park Central  2514645            NY   \n",
      "UR10001208                 MGM Grand Hotel and Casino    91891            NV   \n",
      "UR100014286             Novotel New York Times Square    93516            NY   \n",
      "UR10001641                    Marriott's Harbour Lake  2515942            FL   \n",
      "UR10001646                               Park Central  2514645            NY   \n",
      "\n",
      "             Location  Overall  PriceMax  PriceMin  \\\n",
      "UR10000109        4.0      5.0       487       259   \n",
      "UR10000237        4.0      4.0       279       168   \n",
      "UR10000251        5.0      5.0       436       281   \n",
      "UR100005389       5.0      1.0       274       149   \n",
      "UR100008112       5.0      4.0       278       109   \n",
      "UR100010632       5.0      4.0       446       231   \n",
      "UR10001208        5.0      5.0       234        78   \n",
      "UR100014286       5.0      4.0       481       266   \n",
      "UR10001641        5.0      5.0       359       172   \n",
      "UR10001646        4.0      3.0       446       231   \n",
      "\n",
      "                                                        Review  Rooms  \\\n",
      "UR10000109   1st off...Anyone says otherwise is really just...    5.0   \n",
      "UR10000237   Stayed at this property at a large convention....    4.0   \n",
      "UR10000251   We stayed in the one bedroom Family suite with...    5.0   \n",
      "UR100005389  Went with some friends on Feb. 24/11 to see a ...    1.0   \n",
      "UR100008112  This was my second time to Vegas and I loved s...    3.0   \n",
      "UR100010632  Second stay at the Park Central in the last co...    3.0   \n",
      "UR10001208   Stayed for 4 nights in Delux king room on 26th...    5.0   \n",
      "UR100014286  The location is excellent - just off the Times...    4.0   \n",
      "UR10001641   We totally enjoyed our stay at Horizons. The g...    5.0   \n",
      "UR10001646   I stayed in a group of 3 at the Park Central H...    3.0   \n",
      "\n",
      "             Service  Sleep Quality  Value  ReviewScores  \n",
      "UR10000109       5.0            5.0    4.0           5.0  \n",
      "UR10000237       3.0            4.0    4.0           4.0  \n",
      "UR10000251       5.0            5.0    3.0           5.0  \n",
      "UR100005389      3.0            3.0    2.0           1.0  \n",
      "UR100008112      3.0            4.0    5.0           4.0  \n",
      "UR100010632      4.0            4.0    4.0           4.0  \n",
      "UR10001208       5.0            5.0    5.0           5.0  \n",
      "UR100014286      4.0            4.0    3.0           4.0  \n",
      "UR10001641       5.0            5.0    5.0           5.0  \n",
      "UR10001646       2.0            3.0    3.0           3.0  \n",
      "47218\n"
     ]
    },
    {
     "name": "stderr",
     "output_type": "stream",
     "text": [
      "/Users/Ryan/anaconda/lib/python3.5/json/encoder.py:198: DeprecationWarning: Interpreting naive datetime as local 2018-10-27 12:46:18.071910. Please add timezone info to timestamps.\n",
      "  chunks = self.iterencode(o, _one_shot=True)\n"
     ]
    }
   ],
   "source": [
    "#merge dataframes on index\n",
    "df_reviews2 = df_reviews.join(df_scores, how='inner')\n",
    "df_reviews2.drop_duplicates(keep='first', inplace=True)\n",
    "print(df_reviews2[:10])\n",
    "df_reviews2.describe()\n",
    "print(len(df_reviews2))"
   ]
  },
  {
   "cell_type": "markdown",
   "metadata": {},
   "source": [
    "## Collaborative Filtering\n",
    "\n",
    "Now that we have the data in and examined, we begin the collaborative filtering recommender system."
   ]
  },
  {
   "cell_type": "code",
   "execution_count": 178,
   "metadata": {},
   "outputs": [
    {
     "data": {
      "text/html": [
       "<pre>Materializing SFrame</pre>"
      ],
      "text/plain": [
       "Materializing SFrame"
      ]
     },
     "metadata": {},
     "output_type": "display_data"
    },
    {
     "data": {
      "text/html": [
       "<html>                 <body>                     <iframe style=\"border:0;margin:0\" width=\"1000\" height=\"5700\" srcdoc='<html lang=\"en\">                         <head>                             <script src=\"https://cdnjs.cloudflare.com/ajax/libs/vega/3.0.8/vega.js\"></script>                             <script src=\"https://cdnjs.cloudflare.com/ajax/libs/vega-embed/3.0.0-rc7/vega-embed.js\"></script>                             <script src=\"https://cdnjs.cloudflare.com/ajax/libs/vega-tooltip/0.5.1/vega-tooltip.min.js\"></script>                             <link rel=\"stylesheet\" type=\"text/css\" href=\"https://cdnjs.cloudflare.com/ajax/libs/vega-tooltip/0.5.1/vega-tooltip.min.css\">                             <style>                             .vega-actions > a{                                 color:white;                                 text-decoration: none;                                 font-family: \"Arial\";                                 cursor:pointer;                                 padding:5px;                                 background:#AAAAAA;                                 border-radius:4px;                                 padding-left:10px;                                 padding-right:10px;                                 margin-right:5px;                             }                             .vega-actions{                                 margin-top:20px;                                 text-align:center                             }                            .vega-actions > a{                                 background:#999999;                            }                             </style>                         </head>                         <body>                             <div id=\"vis\">                             </div>                             <script>                                 var vega_json = \"{\\\"height\\\": 5480, \\\"data\\\": [{\\\"name\\\": \\\"pts_store\\\"}, {\\\"progress\\\": 100.0, \\\"name\\\": \\\"source_2\\\", \\\"values\\\": [{\\\"categorical\\\": [{\\\"label\\\": \\\"A TripAdvisor Member\\\", \\\"percentage\\\": \\\"4.46016%\\\", \\\"count\\\": 2106, \\\"label_idx\\\": 0}, {\\\"label\\\": \\\"Posted by an Accorhotels.com traveler\\\", \\\"percentage\\\": \\\"0.715829%\\\", \\\"count\\\": 338, \\\"label_idx\\\": 1}, {\\\"label\\\": \\\"Posted by a La Quinta traveler\\\", \\\"percentage\\\": \\\"0.0232962%\\\", \\\"count\\\": 11, \\\"label_idx\\\": 2}, {\\\"label\\\": \\\"Alicnwondrln\\\", \\\"percentage\\\": \\\"0.012707%\\\", \\\"count\\\": 6, \\\"label_idx\\\": 3}, {\\\"label\\\": \\\"John C\\\", \\\"percentage\\\": \\\"0.012707%\\\", \\\"count\\\": 6, \\\"label_idx\\\": 4}, {\\\"label\\\": \\\"Michael B\\\", \\\"percentage\\\": \\\"0.012707%\\\", \\\"count\\\": 6, \\\"label_idx\\\": 5}, {\\\"label\\\": \\\"ninalinda1023\\\", \\\"percentage\\\": \\\"0.012707%\\\", \\\"count\\\": 6, \\\"label_idx\\\": 6}, {\\\"label\\\": \\\"Chris M\\\", \\\"percentage\\\": \\\"0.0105892%\\\", \\\"count\\\": 5, \\\"label_idx\\\": 7}, {\\\"label\\\": \\\"John H\\\", \\\"percentage\\\": \\\"0.0105892%\\\", \\\"count\\\": 5, \\\"label_idx\\\": 8}, {\\\"label\\\": \\\"John R\\\", \\\"percentage\\\": \\\"0.0105892%\\\", \\\"count\\\": 5, \\\"label_idx\\\": 9}], \\\"type\\\": \\\"str\\\", \\\"a\\\": 0, \\\"title\\\": \\\"Author\\\", \\\"num_row\\\": 47218, \\\"num_unique\\\": 41941, \\\"numeric\\\": [], \\\"num_missing\\\": 0}, {\\\"categorical\\\": [{\\\"label\\\": \\\"California\\\", \\\"percentage\\\": \\\"4.42628%\\\", \\\"count\\\": 2090, \\\"label_idx\\\": 0}, {\\\"label\\\": \\\"\\\", \\\"percentage\\\": \\\"4.33733%\\\", \\\"count\\\": 2048, \\\"label_idx\\\": 1}, {\\\"label\\\": \\\"Canada\\\", \\\"percentage\\\": \\\"4.04083%\\\", \\\"count\\\": 1908, \\\"label_idx\\\": 2}, {\\\"label\\\": \\\"United Kingdom\\\", \\\"percentage\\\": \\\"3.87352%\\\", \\\"count\\\": 1829, \\\"label_idx\\\": 3}, {\\\"label\\\": \\\"Florida\\\", \\\"percentage\\\": \\\"3.32924%\\\", \\\"count\\\": 1572, \\\"label_idx\\\": 4}, {\\\"label\\\": \\\"Australia\\\", \\\"percentage\\\": \\\"2.55623%\\\", \\\"count\\\": 1207, \\\"label_idx\\\": 5}, {\\\"label\\\": \\\"New York\\\", \\\"percentage\\\": \\\"2.4821%\\\", \\\"count\\\": 1172, \\\"label_idx\\\": 6}, {\\\"label\\\": \\\"Texas\\\", \\\"percentage\\\": \\\"1.86793%\\\", \\\"count\\\": 882, \\\"label_idx\\\": 7}, {\\\"label\\\": \\\"CA\\\", \\\"percentage\\\": \\\"1.71333%\\\", \\\"count\\\": 809, \\\"label_idx\\\": 8}, {\\\"label\\\": \\\"UK\\\", \\\"percentage\\\": \\\"1.50366%\\\", \\\"count\\\": 710, \\\"label_idx\\\": 9}], \\\"type\\\": \\\"str\\\", \\\"a\\\": 1, \\\"title\\\": \\\"AuthorLocation\\\", \\\"num_row\\\": 47218, \\\"num_unique\\\": 5385, \\\"numeric\\\": [], \\\"num_missing\\\": 0}, {\\\"categorical\\\": [], \\\"max\\\": 5.0, \\\"num_unique\\\": 5, \\\"min\\\": 1.0, \\\"numeric\\\": [{\\\"left\\\": 0.928, \\\"right\\\": 1.136, \\\"count\\\": 3609}, {\\\"left\\\": 1.136, \\\"right\\\": 1.344, \\\"count\\\": 0}, {\\\"left\\\": 1.344, \\\"right\\\": 1.552, \\\"count\\\": 0}, {\\\"left\\\": 1.552, \\\"right\\\": 1.76, \\\"count\\\": 0}, {\\\"left\\\": 1.76, \\\"right\\\": 1.968, \\\"count\\\": 0}, {\\\"left\\\": 1.968, \\\"right\\\": 2.176, \\\"count\\\": 3568}, {\\\"left\\\": 2.176, \\\"right\\\": 2.384, \\\"count\\\": 0}, {\\\"left\\\": 2.384, \\\"right\\\": 2.592, \\\"count\\\": 0}, {\\\"left\\\": 2.592, \\\"right\\\": 2.8, \\\"count\\\": 0}, {\\\"left\\\": 2.8, \\\"right\\\": 3.008, \\\"count\\\": 7474}, {\\\"left\\\": 3.008, \\\"right\\\": 3.216, \\\"count\\\": 0}, {\\\"left\\\": 3.216, \\\"right\\\": 3.424, \\\"count\\\": 0}, {\\\"left\\\": 3.424, \\\"right\\\": 3.632, \\\"count\\\": 0}, {\\\"left\\\": 3.632, \\\"right\\\": 3.84, \\\"count\\\": 0}, {\\\"left\\\": 3.84, \\\"right\\\": 4.048, \\\"count\\\": 14380}, {\\\"left\\\": 4.048, \\\"right\\\": 4.256, \\\"count\\\": 0}, {\\\"left\\\": 4.256, \\\"right\\\": 4.464, \\\"count\\\": 0}, {\\\"left\\\": 4.464, \\\"right\\\": 4.672, \\\"count\\\": 0}, {\\\"left\\\": 4.672, \\\"right\\\": 4.88, \\\"count\\\": 0}, {\\\"left\\\": 4.88, \\\"right\\\": 5.088, \\\"count\\\": 18187}], \\\"num_missing\\\": 0, \\\"mean\\\": 3.846457, \\\"median\\\": 4.0, \\\"type\\\": \\\"float\\\", \\\"a\\\": 2, \\\"title\\\": \\\"BusServ\\\", \\\"num_row\\\": 47218, \\\"stdev\\\": 1.228835}, {\\\"categorical\\\": [], \\\"max\\\": 5.0, \\\"num_unique\\\": 5, \\\"min\\\": 1.0, \\\"numeric\\\": [{\\\"left\\\": 0.924, \\\"right\\\": 1.132, \\\"count\\\": 3435}, {\\\"left\\\": 1.132, \\\"right\\\": 1.34, \\\"count\\\": 0}, {\\\"left\\\": 1.34, \\\"right\\\": 1.548, \\\"count\\\": 0}, {\\\"left\\\": 1.548, \\\"right\\\": 1.756, \\\"count\\\": 0}, {\\\"left\\\": 1.756, \\\"right\\\": 1.964, \\\"count\\\": 0}, {\\\"left\\\": 1.964, \\\"right\\\": 2.172, \\\"count\\\": 3410}, {\\\"left\\\": 2.172, \\\"right\\\": 2.38, \\\"count\\\": 0}, {\\\"left\\\": 2.38, \\\"right\\\": 2.588, \\\"count\\\": 0}, {\\\"left\\\": 2.588, \\\"right\\\": 2.796, \\\"count\\\": 0}, {\\\"left\\\": 2.796, \\\"right\\\": 3.004, \\\"count\\\": 7085}, {\\\"left\\\": 3.004, \\\"right\\\": 3.212, \\\"count\\\": 0}, {\\\"left\\\": 3.212, \\\"right\\\": 3.42, \\\"count\\\": 0}, {\\\"left\\\": 3.42, \\\"right\\\": 3.628, \\\"count\\\": 0}, {\\\"left\\\": 3.628, \\\"right\\\": 3.836, \\\"count\\\": 0}, {\\\"left\\\": 3.836, \\\"right\\\": 4.044, \\\"count\\\": 14067}, {\\\"left\\\": 4.044, \\\"right\\\": 4.252, \\\"count\\\": 0}, {\\\"left\\\": 4.252, \\\"right\\\": 4.46, \\\"count\\\": 0}, {\\\"left\\\": 4.46, \\\"right\\\": 4.668, \\\"count\\\": 0}, {\\\"left\\\": 4.668, \\\"right\\\": 4.876, \\\"count\\\": 0}, {\\\"left\\\": 4.876, \\\"right\\\": 5.084, \\\"count\\\": 19221}], \\\"num_missing\\\": 0, \\\"mean\\\": 3.894341, \\\"median\\\": 4.0, \\\"type\\\": \\\"float\\\", \\\"a\\\": 3, \\\"title\\\": \\\"CheckIn\\\", \\\"num_row\\\": 47218, \\\"stdev\\\": 1.220474}, {\\\"categorical\\\": [], \\\"max\\\": 5.0, \\\"num_unique\\\": 5, \\\"min\\\": 1.0, \\\"numeric\\\": [{\\\"left\\\": 0.962, \\\"right\\\": 1.166, \\\"count\\\": 2978}, {\\\"left\\\": 1.166, \\\"right\\\": 1.37, \\\"count\\\": 0}, {\\\"left\\\": 1.37, \\\"right\\\": 1.574, \\\"count\\\": 0}, {\\\"left\\\": 1.574, \\\"right\\\": 1.778, \\\"count\\\": 0}, {\\\"left\\\": 1.778, \\\"right\\\": 1.982, \\\"count\\\": 0}, {\\\"left\\\": 1.982, \\\"right\\\": 2.186, \\\"count\\\": 2697}, {\\\"left\\\": 2.186, \\\"right\\\": 2.39, \\\"count\\\": 0}, {\\\"left\\\": 2.39, \\\"right\\\": 2.594, \\\"count\\\": 0}, {\\\"left\\\": 2.594, \\\"right\\\": 2.798, \\\"count\\\": 0}, {\\\"left\\\": 2.798, \\\"right\\\": 3.002, \\\"count\\\": 5698}, {\\\"left\\\": 3.002, \\\"right\\\": 3.206, \\\"count\\\": 0}, {\\\"left\\\": 3.206, \\\"right\\\": 3.41, \\\"count\\\": 0}, {\\\"left\\\": 3.41, \\\"right\\\": 3.614, \\\"count\\\": 0}, {\\\"left\\\": 3.614, \\\"right\\\": 3.818, \\\"count\\\": 0}, {\\\"left\\\": 3.818, \\\"right\\\": 4.022, \\\"count\\\": 12366}, {\\\"left\\\": 4.022, \\\"right\\\": 4.226, \\\"count\\\": 0}, {\\\"left\\\": 4.226, \\\"right\\\": 4.43, \\\"count\\\": 0}, {\\\"left\\\": 4.43, \\\"right\\\": 4.634, \\\"count\\\": 0}, {\\\"left\\\": 4.634, \\\"right\\\": 4.838, \\\"count\\\": 0}, {\\\"left\\\": 4.838, \\\"right\\\": 5.042, \\\"count\\\": 23479}], \\\"num_missing\\\": 0, \\\"mean\\\": 4.073129, \\\"median\\\": 4.0, \\\"type\\\": \\\"float\\\", \\\"a\\\": 4, \\\"title\\\": \\\"Cleanliness\\\", \\\"num_row\\\": 47218, \\\"stdev\\\": 1.186873}, {\\\"categorical\\\": [{\\\"label\\\": \\\"MGM Grand Hotel and Casino\\\", \\\"percentage\\\": \\\"9.2613%\\\", \\\"count\\\": 4373, \\\"label_idx\\\": 0}, {\\\"label\\\": \\\"Paris Las Vegas\\\", \\\"percentage\\\": \\\"5.39413%\\\", \\\"count\\\": 2547, \\\"label_idx\\\": 1}, {\\\"label\\\": \\\"Hotel Pennsylvania New York\\\", \\\"percentage\\\": \\\"4.4284%\\\", \\\"count\\\": 2091, \\\"label_idx\\\": 2}, {\\\"label\\\": \\\"Disney&apos;s Grand Floridian Resort and Spa\\\", \\\"percentage\\\": \\\"3.26994%\\\", \\\"count\\\": 1544, \\\"label_idx\\\": 3}, {\\\"label\\\": \\\"Park Central\\\", \\\"percentage\\\": \\\"3.2297%\\\", \\\"count\\\": 1525, \\\"label_idx\\\": 4}, {\\\"label\\\": \\\"Sofitel New York\\\", \\\"percentage\\\": \\\"3.1111%\\\", \\\"count\\\": 1469, \\\"label_idx\\\": 5}, {\\\"label\\\": \\\"Trump International Hotel Las Vegas\\\", \\\"percentage\\\": \\\"2.75107%\\\", \\\"count\\\": 1299, \\\"label_idx\\\": 6}, {\\\"label\\\": \\\"Edison Hotel Times Square\\\", \\\"percentage\\\": \\\"2.70659%\\\", \\\"count\\\": 1278, \\\"label_idx\\\": 7}, {\\\"label\\\": \\\"Disney&apos;s Port Orleans Resort - French Quarter\\\", \\\"percentage\\\": \\\"2.51387%\\\", \\\"count\\\": 1187, \\\"label_idx\\\": 8}, {\\\"label\\\": \\\"Paradise Point Resort &amp; Spa\\\", \\\"percentage\\\": \\\"2.10089%\\\", \\\"count\\\": 992, \\\"label_idx\\\": 9}], \\\"type\\\": \\\"str\\\", \\\"a\\\": 5, \\\"title\\\": \\\"Hotel\\\", \\\"num_row\\\": 47218, \\\"num_unique\\\": 178, \\\"numeric\\\": [], \\\"num_missing\\\": 0}, {\\\"categorical\\\": [], \\\"max\\\": 2516234.0, \\\"num_unique\\\": 182, \\\"min\\\": 73712.0, \\\"numeric\\\": [{\\\"left\\\": 29061.5, \\\"right\\\": 155995, \\\"count\\\": 17992}, {\\\"left\\\": 155995, \\\"right\\\": 282930, \\\"count\\\": 7075}, {\\\"left\\\": 282930, \\\"right\\\": 409864, \\\"count\\\": 387}, {\\\"left\\\": 409864, \\\"right\\\": 536798, \\\"count\\\": 952}, {\\\"left\\\": 536798, \\\"right\\\": 663732, \\\"count\\\": 495}, {\\\"left\\\": 663732, \\\"right\\\": 790666, \\\"count\\\": 27}, {\\\"left\\\": 790666, \\\"right\\\": 917600, \\\"count\\\": 8}, {\\\"left\\\": 917600, \\\"right\\\": 1044530.0, \\\"count\\\": 0}, {\\\"left\\\": 1044530.0, \\\"right\\\": 1171470.0, \\\"count\\\": 756}, {\\\"left\\\": 1171470.0, \\\"right\\\": 1298400.0, \\\"count\\\": 287}, {\\\"left\\\": 1298400.0, \\\"right\\\": 1425340.0, \\\"count\\\": 116}, {\\\"left\\\": 1425340.0, \\\"right\\\": 1552270.0, \\\"count\\\": 513}, {\\\"left\\\": 1552270.0, \\\"right\\\": 1679200.0, \\\"count\\\": 32}, {\\\"left\\\": 1679200.0, \\\"right\\\": 1806140.0, \\\"count\\\": 351}, {\\\"left\\\": 1806140.0, \\\"right\\\": 1933070.0, \\\"count\\\": 19}, {\\\"left\\\": 1933070.0, \\\"right\\\": 2060010.0, \\\"count\\\": 0}, {\\\"left\\\": 2060010.0, \\\"right\\\": 2186940.0, \\\"count\\\": 0}, {\\\"left\\\": 2186940.0, \\\"right\\\": 2313870.0, \\\"count\\\": 0}, {\\\"left\\\": 2313870.0, \\\"right\\\": 2440810.0, \\\"count\\\": 0}, {\\\"left\\\": 2440810.0, \\\"right\\\": 2567740.0, \\\"count\\\": 18208}], \\\"num_missing\\\": 0, \\\"mean\\\": 1121611.481956, \\\"median\\\": 256663.0, \\\"type\\\": \\\"integer\\\", \\\"a\\\": 6, \\\"title\\\": \\\"HotelID\\\", \\\"num_row\\\": 47218, \\\"stdev\\\": 1133884.919371}, {\\\"categorical\\\": [{\\\"label\\\": \\\"NY\\\", \\\"percentage\\\": \\\"23.4974%\\\", \\\"count\\\": 11095, \\\"label_idx\\\": 0}, {\\\"label\\\": \\\"FL\\\", \\\"percentage\\\": \\\"21.3266%\\\", \\\"count\\\": 10070, \\\"label_idx\\\": 1}, {\\\"label\\\": \\\"NV\\\", \\\"percentage\\\": \\\"20.2423%\\\", \\\"count\\\": 9558, \\\"label_idx\\\": 2}, {\\\"label\\\": \\\"CA\\\", \\\"percentage\\\": \\\"16.6483%\\\", \\\"count\\\": 7861, \\\"label_idx\\\": 3}, {\\\"label\\\": \\\"New South Wales\\\", \\\"percentage\\\": \\\"3.85234%\\\", \\\"count\\\": 1819, \\\"label_idx\\\": 4}, {\\\"label\\\": \\\"IL\\\", \\\"percentage\\\": \\\"2.63247%\\\", \\\"count\\\": 1243, \\\"label_idx\\\": 5}, {\\\"label\\\": \\\"WA\\\", \\\"percentage\\\": \\\"2.55411%\\\", \\\"count\\\": 1206, \\\"label_idx\\\": 6}, {\\\"label\\\": \\\"LA\\\", \\\"percentage\\\": \\\"1.79381%\\\", \\\"count\\\": 847, \\\"label_idx\\\": 7}, {\\\"label\\\": \\\"MA\\\", \\\"percentage\\\": \\\"1.57143%\\\", \\\"count\\\": 742, \\\"label_idx\\\": 8}, {\\\"label\\\": \\\"British Columbia\\\", \\\"percentage\\\": \\\"1.51002%\\\", \\\"count\\\": 713, \\\"label_idx\\\": 9}], \\\"type\\\": \\\"str\\\", \\\"a\\\": 7, \\\"title\\\": \\\"HotelLocation\\\", \\\"num_row\\\": 47218, \\\"num_unique\\\": 18, \\\"numeric\\\": [], \\\"num_missing\\\": 0}, {\\\"categorical\\\": [], \\\"max\\\": 5.0, \\\"num_unique\\\": 5, \\\"min\\\": 1.0, \\\"numeric\\\": [{\\\"left\\\": 0.95824, \\\"right\\\": 1.16304, \\\"count\\\": 1814}, {\\\"left\\\": 1.16304, \\\"right\\\": 1.36784, \\\"count\\\": 0}, {\\\"left\\\": 1.36784, \\\"right\\\": 1.57264, \\\"count\\\": 0}, {\\\"left\\\": 1.57264, \\\"right\\\": 1.77744, \\\"count\\\": 0}, {\\\"left\\\": 1.77744, \\\"right\\\": 1.98224, \\\"count\\\": 0}, {\\\"left\\\": 1.98224, \\\"right\\\": 2.18704, \\\"count\\\": 2042}, {\\\"left\\\": 2.18704, \\\"right\\\": 2.39184, \\\"count\\\": 0}, {\\\"left\\\": 2.39184, \\\"right\\\": 2.59664, \\\"count\\\": 0}, {\\\"left\\\": 2.59664, \\\"right\\\": 2.80144, \\\"count\\\": 0}, {\\\"left\\\": 2.80144, \\\"right\\\": 3.00624, \\\"count\\\": 5342}, {\\\"left\\\": 3.00624, \\\"right\\\": 3.21104, \\\"count\\\": 0}, {\\\"left\\\": 3.21104, \\\"right\\\": 3.41584, \\\"count\\\": 0}, {\\\"left\\\": 3.41584, \\\"right\\\": 3.62064, \\\"count\\\": 0}, {\\\"left\\\": 3.62064, \\\"right\\\": 3.82544, \\\"count\\\": 0}, {\\\"left\\\": 3.82544, \\\"right\\\": 4.03024, \\\"count\\\": 12279}, {\\\"left\\\": 4.03024, \\\"right\\\": 4.23504, \\\"count\\\": 0}, {\\\"left\\\": 4.23504, \\\"right\\\": 4.43984, \\\"count\\\": 0}, {\\\"left\\\": 4.43984, \\\"right\\\": 4.64464, \\\"count\\\": 0}, {\\\"left\\\": 4.64464, \\\"right\\\": 4.84944, \\\"count\\\": 0}, {\\\"left\\\": 4.84944, \\\"right\\\": 5.05424, \\\"count\\\": 25741}], \\\"num_missing\\\": 0, \\\"mean\\\": 4.230272, \\\"median\\\": 5.0, \\\"type\\\": \\\"float\\\", \\\"a\\\": 8, \\\"title\\\": \\\"Location\\\", \\\"num_row\\\": 47218, \\\"stdev\\\": 1.060191}, {\\\"categorical\\\": [], \\\"max\\\": 5.0, \\\"num_unique\\\": 5, \\\"min\\\": 1.0, \\\"numeric\\\": [{\\\"left\\\": 0.924, \\\"right\\\": 1.132, \\\"count\\\": 3573}, {\\\"left\\\": 1.132, \\\"right\\\": 1.34, \\\"count\\\": 0}, {\\\"left\\\": 1.34, \\\"right\\\": 1.548, \\\"count\\\": 0}, {\\\"left\\\": 1.548, \\\"right\\\": 1.756, \\\"count\\\": 0}, {\\\"left\\\": 1.756, \\\"right\\\": 1.964, \\\"count\\\": 0}, {\\\"left\\\": 1.964, \\\"right\\\": 2.172, \\\"count\\\": 3602}, {\\\"left\\\": 2.172, \\\"right\\\": 2.38, \\\"count\\\": 0}, {\\\"left\\\": 2.38, \\\"right\\\": 2.588, \\\"count\\\": 0}, {\\\"left\\\": 2.588, \\\"right\\\": 2.796, \\\"count\\\": 0}, {\\\"left\\\": 2.796, \\\"right\\\": 3.004, \\\"count\\\": 6785}, {\\\"left\\\": 3.004, \\\"right\\\": 3.212, \\\"count\\\": 0}, {\\\"left\\\": 3.212, \\\"right\\\": 3.42, \\\"count\\\": 0}, {\\\"left\\\": 3.42, \\\"right\\\": 3.628, \\\"count\\\": 0}, {\\\"left\\\": 3.628, \\\"right\\\": 3.836, \\\"count\\\": 0}, {\\\"left\\\": 3.836, \\\"right\\\": 4.044, \\\"count\\\": 14694}, {\\\"left\\\": 4.044, \\\"right\\\": 4.252, \\\"count\\\": 0}, {\\\"left\\\": 4.252, \\\"right\\\": 4.46, \\\"count\\\": 0}, {\\\"left\\\": 4.46, \\\"right\\\": 4.668, \\\"count\\\": 0}, {\\\"left\\\": 4.668, \\\"right\\\": 4.876, \\\"count\\\": 0}, {\\\"left\\\": 4.876, \\\"right\\\": 5.084, \\\"count\\\": 18564}], \\\"num_missing\\\": 0, \\\"mean\\\": 3.86988, \\\"median\\\": 4.0, \\\"type\\\": \\\"float\\\", \\\"a\\\": 9, \\\"title\\\": \\\"Overall\\\", \\\"num_row\\\": 47218, \\\"stdev\\\": 1.227228}, {\\\"categorical\\\": [], \\\"max\\\": 1138.0, \\\"num_unique\\\": 156, \\\"min\\\": 0.0, \\\"numeric\\\": [{\\\"left\\\": -13.032, \\\"right\\\": 45.208, \\\"count\\\": 156}, {\\\"left\\\": 45.208, \\\"right\\\": 103.448, \\\"count\\\": 2329}, {\\\"left\\\": 103.448, \\\"right\\\": 161.688, \\\"count\\\": 2131}, {\\\"left\\\": 161.688, \\\"right\\\": 219.928, \\\"count\\\": 5819}, {\\\"left\\\": 219.928, \\\"right\\\": 278.168, \\\"count\\\": 11757}, {\\\"left\\\": 278.168, \\\"right\\\": 336.408, \\\"count\\\": 4010}, {\\\"left\\\": 336.408, \\\"right\\\": 394.648, \\\"count\\\": 3837}, {\\\"left\\\": 394.648, \\\"right\\\": 452.888, \\\"count\\\": 5420}, {\\\"left\\\": 452.888, \\\"right\\\": 511.128, \\\"count\\\": 5290}, {\\\"left\\\": 511.128, \\\"right\\\": 569.368, \\\"count\\\": 812}, {\\\"left\\\": 569.368, \\\"right\\\": 627.608, \\\"count\\\": 2790}, {\\\"left\\\": 627.608, \\\"right\\\": 685.848, \\\"count\\\": 503}, {\\\"left\\\": 685.848, \\\"right\\\": 744.088, \\\"count\\\": 0}, {\\\"left\\\": 744.088, \\\"right\\\": 802.328, \\\"count\\\": 1991}, {\\\"left\\\": 802.328, \\\"right\\\": 860.568, \\\"count\\\": 0}, {\\\"left\\\": 860.568, \\\"right\\\": 918.808, \\\"count\\\": 0}, {\\\"left\\\": 918.808, \\\"right\\\": 977.048, \\\"count\\\": 0}, {\\\"left\\\": 977.048, \\\"right\\\": 1035.29, \\\"count\\\": 0}, {\\\"left\\\": 1035.29, \\\"right\\\": 1093.53, \\\"count\\\": 0}, {\\\"left\\\": 1093.53, \\\"right\\\": 1151.77, \\\"count\\\": 373}], \\\"num_missing\\\": 0, \\\"mean\\\": 346.828116, \\\"median\\\": 304.0, \\\"type\\\": \\\"integer\\\", \\\"a\\\": 10, \\\"title\\\": \\\"PriceMax\\\", \\\"num_row\\\": 47218, \\\"stdev\\\": 178.885597}, {\\\"categorical\\\": [], \\\"max\\\": 482.0, \\\"num_unique\\\": 124, \\\"min\\\": 0.0, \\\"numeric\\\": [{\\\"left\\\": -6.356, \\\"right\\\": 18.396, \\\"count\\\": 96}, {\\\"left\\\": 18.396, \\\"right\\\": 43.148, \\\"count\\\": 823}, {\\\"left\\\": 43.148, \\\"right\\\": 67.9, \\\"count\\\": 1066}, {\\\"left\\\": 67.9, \\\"right\\\": 92.652, \\\"count\\\": 7184}, {\\\"left\\\": 92.652, \\\"right\\\": 117.404, \\\"count\\\": 9516}, {\\\"left\\\": 117.404, \\\"right\\\": 142.156, \\\"count\\\": 2534}, {\\\"left\\\": 142.156, \\\"right\\\": 166.908, \\\"count\\\": 4632}, {\\\"left\\\": 166.908, \\\"right\\\": 191.66, \\\"count\\\": 4001}, {\\\"left\\\": 191.66, \\\"right\\\": 216.412, \\\"count\\\": 2897}, {\\\"left\\\": 216.412, \\\"right\\\": 241.164, \\\"count\\\": 4856}, {\\\"left\\\": 241.164, \\\"right\\\": 265.916, \\\"count\\\": 2244}, {\\\"left\\\": 265.916, \\\"right\\\": 290.668, \\\"count\\\": 3554}, {\\\"left\\\": 290.668, \\\"right\\\": 315.42, \\\"count\\\": 1741}, {\\\"left\\\": 315.42, \\\"right\\\": 340.172, \\\"count\\\": 200}, {\\\"left\\\": 340.172, \\\"right\\\": 364.924, \\\"count\\\": 74}, {\\\"left\\\": 364.924, \\\"right\\\": 389.676, \\\"count\\\": 24}, {\\\"left\\\": 389.676, \\\"right\\\": 414.428, \\\"count\\\": 0}, {\\\"left\\\": 414.428, \\\"right\\\": 439.18, \\\"count\\\": 0}, {\\\"left\\\": 439.18, \\\"right\\\": 463.932, \\\"count\\\": 1544}, {\\\"left\\\": 463.932, \\\"right\\\": 488.684, \\\"count\\\": 232}], \\\"num_missing\\\": 0, \\\"mean\\\": 172.306642, \\\"median\\\": 144.0, \\\"type\\\": \\\"integer\\\", \\\"a\\\": 11, \\\"title\\\": \\\"PriceMin\\\", \\\"num_row\\\": 47218, \\\"stdev\\\": 92.767875}, {\\\"categorical\\\": [{\\\"label\\\": \\\"**** DO NOT USE FOR EXTENDED STAY **** Stayed in a King Bedroom My Fiance and I stayed for four nights and got sick. She left with a pretty bad headache and really congested. Negatives: The Air condi0\\\", \\\"percentage\\\": \\\"0.00423567%\\\", \\\"count\\\": 2, \\\"label_idx\\\": 0}, {\\\"label\\\": \\\"*The first half of this review is of the resort itself, and the second half is about how we got sick at the resort. This review is mainly based on the property, not the illnesses.* We&apos;ve just returne1\\\", \\\"percentage\\\": \\\"0.00423567%\\\", \\\"count\\\": 2, \\\"label_idx\\\": 1}, {\\\"label\\\": \\\"... And we have 2 additional stays scheduled in 2011, until expiration of our Disney Florida resident seasonal passes. We are a family of 3, including a 5 year-old. After trying 3 Orlando \\\\\\\"big name\\\\\\\" 2\\\", \\\"percentage\\\": \\\"0.00423567%\\\", \\\"count\\\": 2, \\\"label_idx\\\": 2}, {\\\"label\\\": \\\"1st trip to disney with my family, originally expected to only stay 4 days 3 night, got extended to 6 days and 5 nights due to weather flight cancellations. Everything well exceded my expectaions exc3\\\", \\\"percentage\\\": \\\"0.00423567%\\\", \\\"count\\\": 2, \\\"label_idx\\\": 3}, {\\\"label\\\": \\\"2 years ago we stayed at the Floridian and loved it. So when we decided to return I was a little bit apprehensive that it wouldn&apos;t live up to the fabulous image I had of it . How wrong I was ,we love4\\\", \\\"percentage\\\": \\\"0.00423567%\\\", \\\"count\\\": 2, \\\"label_idx\\\": 4}, {\\\"label\\\": \\\"A friend and I stayed at the Grand Floridian for three days. We received excelennt service. If you can swing it, stay on the Concierge floors. We were greeted by name by a concierge and were checked 5\\\", \\\"percentage\\\": \\\"0.00423567%\\\", \\\"count\\\": 2, \\\"label_idx\\\": 5}, {\\\"label\\\": \\\"A friend and I stayed at the Hampton Inn for 9 days and loved it, great hotel! Clean, plenty of towels, comfortable, with refrigerator &amp; microwave, 24 hr coffee service, pool &amp; whirlpool, very close 6\\\", \\\"percentage\\\": \\\"0.00423567%\\\", \\\"count\\\": 2, \\\"label_idx\\\": 6}, {\\\"label\\\": \\\"A girlfriend and I stayed here over New Year&apos;s 07-08. Not only was it the most fun I&apos;ve every had over New Years, but since we visited Disney during the Year of a Million Dreams we were selected by t7\\\", \\\"percentage\\\": \\\"0.00423567%\\\", \\\"count\\\": 2, \\\"label_idx\\\": 7}, {\\\"label\\\": \\\"A nice relatively new hotel in a great location . This Hampton Inn provided a nice stay at a reasonable price. I especially liked the ample parking , free internet , and comfortable rooms. My daughte8\\\", \\\"percentage\\\": \\\"0.00423567%\\\", \\\"count\\\": 2, \\\"label_idx\\\": 8}, {\\\"label\\\": \\\"A really GRAND resort. I booked the reservation at the last minute and still got a great deal. The Crew members really exceeded our expectations. When we arrived at the resort we were taken on a tour9\\\", \\\"percentage\\\": \\\"0.00423567%\\\", \\\"count\\\": 2, \\\"label_idx\\\": 9}], \\\"type\\\": \\\"str\\\", \\\"a\\\": 12, \\\"title\\\": \\\"Review\\\", \\\"num_row\\\": 47218, \\\"num_unique\\\": 46152, \\\"numeric\\\": [], \\\"num_missing\\\": 0}, {\\\"categorical\\\": [], \\\"max\\\": 5.0, \\\"num_unique\\\": 5, \\\"min\\\": 1.0, \\\"numeric\\\": [{\\\"left\\\": 0.924, \\\"right\\\": 1.132, \\\"count\\\": 3556}, {\\\"left\\\": 1.132, \\\"right\\\": 1.34, \\\"count\\\": 0}, {\\\"left\\\": 1.34, \\\"right\\\": 1.548, \\\"count\\\": 0}, {\\\"left\\\": 1.548, \\\"right\\\": 1.756, \\\"count\\\": 0}, {\\\"left\\\": 1.756, \\\"right\\\": 1.964, \\\"count\\\": 0}, {\\\"left\\\": 1.964, \\\"right\\\": 2.172, \\\"count\\\": 3589}, {\\\"left\\\": 2.172, \\\"right\\\": 2.38, \\\"count\\\": 0}, {\\\"left\\\": 2.38, \\\"right\\\": 2.588, \\\"count\\\": 0}, {\\\"left\\\": 2.588, \\\"right\\\": 2.796, \\\"count\\\": 0}, {\\\"left\\\": 2.796, \\\"right\\\": 3.004, \\\"count\\\": 7787}, {\\\"left\\\": 3.004, \\\"right\\\": 3.212, \\\"count\\\": 0}, {\\\"left\\\": 3.212, \\\"right\\\": 3.42, \\\"count\\\": 0}, {\\\"left\\\": 3.42, \\\"right\\\": 3.628, \\\"count\\\": 0}, {\\\"left\\\": 3.628, \\\"right\\\": 3.836, \\\"count\\\": 0}, {\\\"left\\\": 3.836, \\\"right\\\": 4.044, \\\"count\\\": 13758}, {\\\"left\\\": 4.044, \\\"right\\\": 4.252, \\\"count\\\": 0}, {\\\"left\\\": 4.252, \\\"right\\\": 4.46, \\\"count\\\": 0}, {\\\"left\\\": 4.46, \\\"right\\\": 4.668, \\\"count\\\": 0}, {\\\"left\\\": 4.668, \\\"right\\\": 4.876, \\\"count\\\": 0}, {\\\"left\\\": 4.876, \\\"right\\\": 5.084, \\\"count\\\": 18528}], \\\"num_missing\\\": 0, \\\"mean\\\": 3.849528, \\\"median\\\": 4.0, \\\"type\\\": \\\"float\\\", \\\"a\\\": 13, \\\"title\\\": \\\"Rooms\\\", \\\"num_row\\\": 47218, \\\"stdev\\\": 1.231461}, {\\\"categorical\\\": [], \\\"max\\\": 5.0, \\\"num_unique\\\": 5, \\\"min\\\": 1.0, \\\"numeric\\\": [{\\\"left\\\": 0.928, \\\"right\\\": 1.136, \\\"count\\\": 3904}, {\\\"left\\\": 1.136, \\\"right\\\": 1.344, \\\"count\\\": 0}, {\\\"left\\\": 1.344, \\\"right\\\": 1.552, \\\"count\\\": 0}, {\\\"left\\\": 1.552, \\\"right\\\": 1.76, \\\"count\\\": 0}, {\\\"left\\\": 1.76, \\\"right\\\": 1.968, \\\"count\\\": 0}, {\\\"left\\\": 1.968, \\\"right\\\": 2.176, \\\"count\\\": 3172}, {\\\"left\\\": 2.176, \\\"right\\\": 2.384, \\\"count\\\": 0}, {\\\"left\\\": 2.384, \\\"right\\\": 2.592, \\\"count\\\": 0}, {\\\"left\\\": 2.592, \\\"right\\\": 2.8, \\\"count\\\": 0}, {\\\"left\\\": 2.8, \\\"right\\\": 3.008, \\\"count\\\": 6789}, {\\\"left\\\": 3.008, \\\"right\\\": 3.216, \\\"count\\\": 0}, {\\\"left\\\": 3.216, \\\"right\\\": 3.424, \\\"count\\\": 0}, {\\\"left\\\": 3.424, \\\"right\\\": 3.632, \\\"count\\\": 0}, {\\\"left\\\": 3.632, \\\"right\\\": 3.84, \\\"count\\\": 0}, {\\\"left\\\": 3.84, \\\"right\\\": 4.048, \\\"count\\\": 12139}, {\\\"left\\\": 4.048, \\\"right\\\": 4.256, \\\"count\\\": 0}, {\\\"left\\\": 4.256, \\\"right\\\": 4.464, \\\"count\\\": 0}, {\\\"left\\\": 4.464, \\\"right\\\": 4.672, \\\"count\\\": 0}, {\\\"left\\\": 4.672, \\\"right\\\": 4.88, \\\"count\\\": 0}, {\\\"left\\\": 4.88, \\\"right\\\": 5.088, \\\"count\\\": 21214}], \\\"num_missing\\\": 0, \\\"mean\\\": 3.923101, \\\"median\\\": 4.0, \\\"type\\\": \\\"float\\\", \\\"a\\\": 14, \\\"title\\\": \\\"Service\\\", \\\"num_row\\\": 47218, \\\"stdev\\\": 1.264903}, {\\\"categorical\\\": [], \\\"max\\\": 5.0, \\\"num_unique\\\": 5, \\\"min\\\": 1.0, \\\"numeric\\\": [{\\\"left\\\": 0.924, \\\"right\\\": 1.132, \\\"count\\\": 3682}, {\\\"left\\\": 1.132, \\\"right\\\": 1.34, \\\"count\\\": 0}, {\\\"left\\\": 1.34, \\\"right\\\": 1.548, \\\"count\\\": 0}, {\\\"left\\\": 1.548, \\\"right\\\": 1.756, \\\"count\\\": 0}, {\\\"left\\\": 1.756, \\\"right\\\": 1.964, \\\"count\\\": 0}, {\\\"left\\\": 1.964, \\\"right\\\": 2.172, \\\"count\\\": 3459}, {\\\"left\\\": 2.172, \\\"right\\\": 2.38, \\\"count\\\": 0}, {\\\"left\\\": 2.38, \\\"right\\\": 2.588, \\\"count\\\": 0}, {\\\"left\\\": 2.588, \\\"right\\\": 2.796, \\\"count\\\": 0}, {\\\"left\\\": 2.796, \\\"right\\\": 3.004, \\\"count\\\": 6464}, {\\\"left\\\": 3.004, \\\"right\\\": 3.212, \\\"count\\\": 0}, {\\\"left\\\": 3.212, \\\"right\\\": 3.42, \\\"count\\\": 0}, {\\\"left\\\": 3.42, \\\"right\\\": 3.628, \\\"count\\\": 0}, {\\\"left\\\": 3.628, \\\"right\\\": 3.836, \\\"count\\\": 0}, {\\\"left\\\": 3.836, \\\"right\\\": 4.044, \\\"count\\\": 13437}, {\\\"left\\\": 4.044, \\\"right\\\": 4.252, \\\"count\\\": 0}, {\\\"left\\\": 4.252, \\\"right\\\": 4.46, \\\"count\\\": 0}, {\\\"left\\\": 4.46, \\\"right\\\": 4.668, \\\"count\\\": 0}, {\\\"left\\\": 4.668, \\\"right\\\": 4.876, \\\"count\\\": 0}, {\\\"left\\\": 4.876, \\\"right\\\": 5.084, \\\"count\\\": 20176}], \\\"num_missing\\\": 0, \\\"mean\\\": 3.90995, \\\"median\\\": 4.0, \\\"type\\\": \\\"float\\\", \\\"a\\\": 15, \\\"title\\\": \\\"Sleep Quality\\\", \\\"num_row\\\": 47218, \\\"stdev\\\": 1.245357}, {\\\"categorical\\\": [], \\\"max\\\": 5.0, \\\"num_unique\\\": 5, \\\"min\\\": 1.0, \\\"numeric\\\": [{\\\"left\\\": 0.95824, \\\"right\\\": 1.16304, \\\"count\\\": 3873}, {\\\"left\\\": 1.16304, \\\"right\\\": 1.36784, \\\"count\\\": 0}, {\\\"left\\\": 1.36784, \\\"right\\\": 1.57264, \\\"count\\\": 0}, {\\\"left\\\": 1.57264, \\\"right\\\": 1.77744, \\\"count\\\": 0}, {\\\"left\\\": 1.77744, \\\"right\\\": 1.98224, \\\"count\\\": 0}, {\\\"left\\\": 1.98224, \\\"right\\\": 2.18704, \\\"count\\\": 3690}, {\\\"left\\\": 2.18704, \\\"right\\\": 2.39184, \\\"count\\\": 0}, {\\\"left\\\": 2.39184, \\\"right\\\": 2.59664, \\\"count\\\": 0}, {\\\"left\\\": 2.59664, \\\"right\\\": 2.80144, \\\"count\\\": 0}, {\\\"left\\\": 2.80144, \\\"right\\\": 3.00624, \\\"count\\\": 7740}, {\\\"left\\\": 3.00624, \\\"right\\\": 3.21104, \\\"count\\\": 0}, {\\\"left\\\": 3.21104, \\\"right\\\": 3.41584, \\\"count\\\": 0}, {\\\"left\\\": 3.41584, \\\"right\\\": 3.62064, \\\"count\\\": 0}, {\\\"left\\\": 3.62064, \\\"right\\\": 3.82544, \\\"count\\\": 0}, {\\\"left\\\": 3.82544, \\\"right\\\": 4.03024, \\\"count\\\": 13313}, {\\\"left\\\": 4.03024, \\\"right\\\": 4.23504, \\\"count\\\": 0}, {\\\"left\\\": 4.23504, \\\"right\\\": 4.43984, \\\"count\\\": 0}, {\\\"left\\\": 4.43984, \\\"right\\\": 4.64464, \\\"count\\\": 0}, {\\\"left\\\": 4.64464, \\\"right\\\": 4.84944, \\\"count\\\": 0}, {\\\"left\\\": 4.84944, \\\"right\\\": 5.05424, \\\"count\\\": 18602}], \\\"num_missing\\\": 0, \\\"mean\\\": 3.827672, \\\"median\\\": 4.0, \\\"type\\\": \\\"float\\\", \\\"a\\\": 16, \\\"title\\\": \\\"Value\\\", \\\"num_row\\\": 47218, \\\"stdev\\\": 1.256579}, {\\\"categorical\\\": [], \\\"max\\\": 5.0, \\\"num_unique\\\": 5, \\\"min\\\": 1.0, \\\"numeric\\\": [{\\\"left\\\": 0.924, \\\"right\\\": 1.132, \\\"count\\\": 3583}, {\\\"left\\\": 1.132, \\\"right\\\": 1.34, \\\"count\\\": 0}, {\\\"left\\\": 1.34, \\\"right\\\": 1.548, \\\"count\\\": 0}, {\\\"left\\\": 1.548, \\\"right\\\": 1.756, \\\"count\\\": 0}, {\\\"left\\\": 1.756, \\\"right\\\": 1.964, \\\"count\\\": 0}, {\\\"left\\\": 1.964, \\\"right\\\": 2.172, \\\"count\\\": 3458}, {\\\"left\\\": 2.172, \\\"right\\\": 2.38, \\\"count\\\": 0}, {\\\"left\\\": 2.38, \\\"right\\\": 2.588, \\\"count\\\": 0}, {\\\"left\\\": 2.588, \\\"right\\\": 2.796, \\\"count\\\": 0}, {\\\"left\\\": 2.796, \\\"right\\\": 3.004, \\\"count\\\": 6673}, {\\\"left\\\": 3.004, \\\"right\\\": 3.212, \\\"count\\\": 0}, {\\\"left\\\": 3.212, \\\"right\\\": 3.42, \\\"count\\\": 0}, {\\\"left\\\": 3.42, \\\"right\\\": 3.628, \\\"count\\\": 0}, {\\\"left\\\": 3.628, \\\"right\\\": 3.836, \\\"count\\\": 0}, {\\\"left\\\": 3.836, \\\"right\\\": 4.044, \\\"count\\\": 14631}, {\\\"left\\\": 4.044, \\\"right\\\": 4.252, \\\"count\\\": 0}, {\\\"left\\\": 4.252, \\\"right\\\": 4.46, \\\"count\\\": 0}, {\\\"left\\\": 4.46, \\\"right\\\": 4.668, \\\"count\\\": 0}, {\\\"left\\\": 4.668, \\\"right\\\": 4.876, \\\"count\\\": 0}, {\\\"left\\\": 4.876, \\\"right\\\": 5.084, \\\"count\\\": 18873}], \\\"num_missing\\\": 0, \\\"mean\\\": 3.88426, \\\"median\\\": 4.0, \\\"type\\\": \\\"float\\\", \\\"a\\\": 17, \\\"title\\\": \\\"ReviewScores\\\", \\\"num_row\\\": 47218, \\\"stdev\\\": 1.226175}]}, {\\\"name\\\": \\\"data_2\\\", \\\"source\\\": \\\"source_2\\\", \\\"transform\\\": [{\\\"type\\\": \\\"formula\\\", \\\"as\\\": \\\"c_x_axis_back\\\", \\\"expr\\\": \\\"20\\\"}, {\\\"type\\\": \\\"formula\\\", \\\"as\\\": \\\"c_main_background\\\", \\\"expr\\\": \\\"toNumber(datum[\\\\\\\"a\\\\\\\"])*300+66\\\"}, {\\\"type\\\": \\\"formula\\\", \\\"as\\\": \\\"c_top_bar\\\", \\\"expr\\\": \\\"toNumber(datum[\\\\\\\"a\\\\\\\"])*300+43\\\"}, {\\\"type\\\": \\\"formula\\\", \\\"as\\\": \\\"c_top_title\\\", \\\"expr\\\": \\\"toNumber(datum[\\\\\\\"a\\\\\\\"])*300+59\\\"}, {\\\"type\\\": \\\"formula\\\", \\\"as\\\": \\\"c_top_type\\\", \\\"expr\\\": \\\"toNumber(datum[\\\\\\\"a\\\\\\\"])*300+58\\\"}, {\\\"type\\\": \\\"formula\\\", \\\"as\\\": \\\"c_rule\\\", \\\"expr\\\": \\\"toNumber(datum[\\\\\\\"a\\\\\\\"])*300+178\\\"}, {\\\"type\\\": \\\"formula\\\", \\\"as\\\": \\\"c_num_rows\\\", \\\"expr\\\": \\\"toNumber(datum[\\\\\\\"a\\\\\\\"])*300+106\\\"}, {\\\"type\\\": \\\"formula\\\", \\\"as\\\": \\\"c_num_unique\\\", \\\"expr\\\": \\\"toNumber(datum[\\\\\\\"a\\\\\\\"])*300+130\\\"}, {\\\"type\\\": \\\"formula\\\", \\\"as\\\": \\\"c_missing\\\", \\\"expr\\\": \\\"toNumber(datum[\\\\\\\"a\\\\\\\"])*300+154\\\"}, {\\\"type\\\": \\\"formula\\\", \\\"as\\\": \\\"c_num_rows_val\\\", \\\"expr\\\": \\\"toNumber(datum[\\\\\\\"a\\\\\\\"])*300+105\\\"}, {\\\"type\\\": \\\"formula\\\", \\\"as\\\": \\\"c_num_unique_val\\\", \\\"expr\\\": \\\"toNumber(datum[\\\\\\\"a\\\\\\\"])*300+130\\\"}, {\\\"type\\\": \\\"formula\\\", \\\"as\\\": \\\"c_missing_val\\\", \\\"expr\\\": \\\"toNumber(datum[\\\\\\\"a\\\\\\\"])*300+154\\\"}, {\\\"type\\\": \\\"formula\\\", \\\"as\\\": \\\"c_frequent_items\\\", \\\"expr\\\": \\\"toNumber(datum[\\\\\\\"a\\\\\\\"])*300+195\\\"}, {\\\"type\\\": \\\"formula\\\", \\\"as\\\": \\\"c_first_item\\\", \\\"expr\\\": \\\"toNumber(datum[\\\\\\\"a\\\\\\\"])*300+218\\\"}, {\\\"type\\\": \\\"formula\\\", \\\"as\\\": \\\"c_second_item\\\", \\\"expr\\\": \\\"toNumber(datum[\\\\\\\"a\\\\\\\"])*300+235\\\"}, {\\\"type\\\": \\\"formula\\\", \\\"as\\\": \\\"c_third_item\\\", \\\"expr\\\": \\\"toNumber(datum[\\\\\\\"a\\\\\\\"])*300+252\\\"}, {\\\"type\\\": \\\"formula\\\", \\\"as\\\": \\\"c_fourth_item\\\", \\\"expr\\\": \\\"toNumber(datum[\\\\\\\"a\\\\\\\"])*300+269\\\"}, {\\\"type\\\": \\\"formula\\\", \\\"as\\\": \\\"c_fifth_item\\\", \\\"expr\\\": \\\"toNumber(datum[\\\\\\\"a\\\\\\\"])*300+286\\\"}, {\\\"type\\\": \\\"formula\\\", \\\"as\\\": \\\"c_mean\\\", \\\"expr\\\": \\\"toNumber(datum[\\\\\\\"a\\\\\\\"])*300+200\\\"}, {\\\"type\\\": \\\"formula\\\", \\\"as\\\": \\\"c_min\\\", \\\"expr\\\": \\\"toNumber(datum[\\\\\\\"a\\\\\\\"])*300+220\\\"}, {\\\"type\\\": \\\"formula\\\", \\\"as\\\": \\\"c_max\\\", \\\"expr\\\": \\\"toNumber(datum[\\\\\\\"a\\\\\\\"])*300+240\\\"}, {\\\"type\\\": \\\"formula\\\", \\\"as\\\": \\\"c_median\\\", \\\"expr\\\": \\\"toNumber(datum[\\\\\\\"a\\\\\\\"])*300+260\\\"}, {\\\"type\\\": \\\"formula\\\", \\\"as\\\": \\\"c_stdev\\\", \\\"expr\\\": \\\"toNumber(datum[\\\\\\\"a\\\\\\\"])*300+280\\\"}, {\\\"type\\\": \\\"formula\\\", \\\"as\\\": \\\"c_mean_val\\\", \\\"expr\\\": \\\"toNumber(datum[\\\\\\\"a\\\\\\\"])*300+198\\\"}, {\\\"type\\\": \\\"formula\\\", \\\"as\\\": \\\"c_min_val\\\", \\\"expr\\\": \\\"toNumber(datum[\\\\\\\"a\\\\\\\"])*300+218\\\"}, {\\\"type\\\": \\\"formula\\\", \\\"as\\\": \\\"c_max_val\\\", \\\"expr\\\": \\\"toNumber(datum[\\\\\\\"a\\\\\\\"])*300+238\\\"}, {\\\"type\\\": \\\"formula\\\", \\\"as\\\": \\\"c_median_val\\\", \\\"expr\\\": \\\"toNumber(datum[\\\\\\\"a\\\\\\\"])*300+258\\\"}, {\\\"type\\\": \\\"formula\\\", \\\"as\\\": \\\"c_stdev_val\\\", \\\"expr\\\": \\\"toNumber(datum[\\\\\\\"a\\\\\\\"])*300+278\\\"}, {\\\"type\\\": \\\"formula\\\", \\\"as\\\": \\\"graph_offset\\\", \\\"expr\\\": \\\"toNumber(datum[\\\\\\\"a\\\\\\\"])*300+106\\\"}, {\\\"type\\\": \\\"formula\\\", \\\"as\\\": \\\"graph_offset_categorical\\\", \\\"expr\\\": \\\"toNumber(datum[\\\\\\\"a\\\\\\\"])*300+132\\\"}, {\\\"type\\\": \\\"formula\\\", \\\"as\\\": \\\"c_clip_val\\\", \\\"expr\\\": \\\"(toString(datum[\\\\\\\"type\\\\\\\"]) == \\\\\\\"integer\\\\\\\" || toString(datum[\\\\\\\"type\\\\\\\"]) == \\\\\\\"float\\\\\\\")?false:true\\\"}, {\\\"type\\\": \\\"formula\\\", \\\"as\\\": \\\"c_width_numeric_val\\\", \\\"expr\\\": \\\"(toString(datum[\\\\\\\"type\\\\\\\"]) == \\\\\\\"integer\\\\\\\" || toString(datum[\\\\\\\"type\\\\\\\"]) == \\\\\\\"float\\\\\\\")?250:0\\\"}, {\\\"type\\\": \\\"formula\\\", \\\"as\\\": \\\"c_clip_val_cat\\\", \\\"expr\\\": \\\"(toString(datum[\\\\\\\"type\\\\\\\"]) == \\\\\\\"str\\\\\\\")?false:true\\\"}, {\\\"type\\\": \\\"formula\\\", \\\"as\\\": \\\"c_width_numeric_val_cat\\\", \\\"expr\\\": \\\"(toString(datum[\\\\\\\"type\\\\\\\"]) == \\\\\\\"str\\\\\\\")?250:0\\\"}]}], \\\"marks\\\": [{\\\"type\\\": \\\"group\\\", \\\"marks\\\": [{\\\"scales\\\": [], \\\"marks\\\": [{\\\"type\\\": \\\"rect\\\", \\\"encode\\\": {\\\"update\\\": {\\\"y\\\": {\\\"field\\\": \\\"c_main_background\\\"}, \\\"x\\\": {\\\"signal\\\": \\\"datum[\\\\\\\"c_x_axis_back\\\\\\\"]\\\"}}, \\\"enter\\\": {\\\"height\\\": {\\\"value\\\": 250}, \\\"strokeWidth\\\": {\\\"value\\\": 0.5}, \\\"y\\\": {\\\"value\\\": 66}, \\\"x\\\": {\\\"value\\\": 33}, \\\"width\\\": {\\\"value\\\": 700}, \\\"fill\\\": {\\\"value\\\": \\\"#FEFEFE\\\"}, \\\"fillOpacity\\\": {\\\"value\\\": 1}, \\\"stroke\\\": {\\\"value\\\": \\\"#DEDEDE\\\"}}}, \\\"from\\\": {\\\"data\\\": \\\"data_2\\\"}}, {\\\"type\\\": \\\"rect\\\", \\\"encode\\\": {\\\"update\\\": {\\\"y\\\": {\\\"field\\\": \\\"c_top_bar\\\"}, \\\"x\\\": {\\\"signal\\\": \\\"datum[\\\\\\\"c_x_axis_back\\\\\\\"]\\\"}}, \\\"enter\\\": {\\\"height\\\": {\\\"value\\\": 30}, \\\"strokeWidth\\\": {\\\"value\\\": 0.5}, \\\"y\\\": {\\\"value\\\": 43}, \\\"x\\\": {\\\"value\\\": 33}, \\\"width\\\": {\\\"value\\\": 700}, \\\"fill\\\": {\\\"value\\\": \\\"#F5F5F5\\\"}, \\\"fillOpacity\\\": {\\\"value\\\": 1}, \\\"stroke\\\": {\\\"value\\\": \\\"#DEDEDE\\\"}}}, \\\"from\\\": {\\\"data\\\": \\\"data_2\\\"}}, {\\\"type\\\": \\\"text\\\", \\\"encode\\\": {\\\"update\\\": {\\\"y\\\": {\\\"field\\\": \\\"c_top_type\\\"}, \\\"x\\\": {\\\"signal\\\": \\\"datum[\\\\\\\"c_x_axis_back\\\\\\\"]+687\\\"}}, \\\"enter\\\": {\\\"dy\\\": {\\\"value\\\": 0, \\\"offset\\\": 0}, \\\"y\\\": {\\\"value\\\": 58}, \\\"x\\\": {\\\"value\\\": 720}, \\\"fontStyle\\\": {\\\"value\\\": \\\"normal\\\"}, \\\"fill\\\": {\\\"value\\\": \\\"#595859\\\"}, \\\"dx\\\": {\\\"value\\\": 0, \\\"offset\\\": 0}, \\\"font\\\": {\\\"value\\\": \\\"AvenirNext-Medium\\\"}, \\\"fontWeight\\\": {\\\"value\\\": \\\"normal\\\"}, \\\"baseline\\\": {\\\"value\\\": \\\"middle\\\"}, \\\"align\\\": {\\\"value\\\": \\\"right\\\"}, \\\"text\\\": {\\\"signal\\\": \\\"&apos;&apos;+datum[\\\\\\\"type\\\\\\\"]\\\"}, \\\"angle\\\": {\\\"value\\\": 0}, \\\"fontSize\\\": {\\\"value\\\": 12}}}, \\\"from\\\": {\\\"data\\\": \\\"data_2\\\"}}, {\\\"type\\\": \\\"text\\\", \\\"encode\\\": {\\\"update\\\": {\\\"y\\\": {\\\"field\\\": \\\"c_top_title\\\"}, \\\"x\\\": {\\\"signal\\\": \\\"datum[\\\\\\\"c_x_axis_back\\\\\\\"]+11\\\"}}, \\\"enter\\\": {\\\"dy\\\": {\\\"value\\\": 0, \\\"offset\\\": 0}, \\\"y\\\": {\\\"value\\\": 59}, \\\"x\\\": {\\\"value\\\": 44}, \\\"fontStyle\\\": {\\\"value\\\": \\\"normal\\\"}, \\\"fill\\\": {\\\"value\\\": \\\"#9B9B9B\\\"}, \\\"dx\\\": {\\\"value\\\": 0, \\\"offset\\\": 0}, \\\"font\\\": {\\\"value\\\": \\\"AvenirNext-Medium\\\"}, \\\"fontWeight\\\": {\\\"value\\\": \\\"normal\\\"}, \\\"baseline\\\": {\\\"value\\\": \\\"middle\\\"}, \\\"align\\\": {\\\"value\\\": \\\"left\\\"}, \\\"text\\\": {\\\"signal\\\": \\\"&apos;&apos;+datum[\\\\\\\"title\\\\\\\"]\\\"}, \\\"angle\\\": {\\\"value\\\": 0}, \\\"fontSize\\\": {\\\"value\\\": 15}}}, \\\"from\\\": {\\\"data\\\": \\\"data_2\\\"}}, {\\\"type\\\": \\\"rule\\\", \\\"encode\\\": {\\\"update\\\": {\\\"x2\\\": {\\\"signal\\\": \\\"datum[\\\\\\\"c_x_axis_back\\\\\\\"]+687\\\"}, \\\"y\\\": {\\\"field\\\": \\\"c_rule\\\"}, \\\"y2\\\": {\\\"field\\\": \\\"c_rule\\\"}, \\\"x\\\": {\\\"signal\\\": \\\"datum[\\\\\\\"c_x_axis_back\\\\\\\"]+467\\\"}}, \\\"enter\\\": {\\\"strokeCap\\\": {\\\"value\\\": \\\"butt\\\"}, \\\"y2\\\": {\\\"value\\\": 178}, \\\"strokeWidth\\\": {\\\"value\\\": 1}, \\\"y\\\": {\\\"value\\\": 178}, \\\"x\\\": {\\\"value\\\": 500}, \\\"x2\\\": {\\\"value\\\": 720}, \\\"stroke\\\": {\\\"value\\\": \\\"#EDEDEB\\\"}}}, \\\"from\\\": {\\\"data\\\": \\\"data_2\\\"}}, {\\\"type\\\": \\\"text\\\", \\\"encode\\\": {\\\"update\\\": {\\\"y\\\": {\\\"field\\\": \\\"c_num_rows\\\"}, \\\"x\\\": {\\\"signal\\\": \\\"datum[\\\\\\\"c_x_axis_back\\\\\\\"]+467\\\"}}, \\\"enter\\\": {\\\"dy\\\": {\\\"value\\\": 0, \\\"offset\\\": 0}, \\\"y\\\": {\\\"value\\\": 106}, \\\"x\\\": {\\\"value\\\": 500}, \\\"fontStyle\\\": {\\\"value\\\": \\\"normal\\\"}, \\\"fill\\\": {\\\"value\\\": \\\"#4A4A4A\\\"}, \\\"dx\\\": {\\\"value\\\": 0, \\\"offset\\\": 0}, \\\"font\\\": {\\\"value\\\": \\\"AvenirNext-Medium\\\"}, \\\"fontWeight\\\": {\\\"value\\\": \\\"normal\\\"}, \\\"baseline\\\": {\\\"value\\\": \\\"middle\\\"}, \\\"align\\\": {\\\"value\\\": \\\"left\\\"}, \\\"text\\\": {\\\"value\\\": \\\"Num. Rows:\\\"}, \\\"angle\\\": {\\\"value\\\": 0}, \\\"fontSize\\\": {\\\"value\\\": 12}}}, \\\"from\\\": {\\\"data\\\": \\\"data_2\\\"}}, {\\\"type\\\": \\\"text\\\", \\\"encode\\\": {\\\"update\\\": {\\\"y\\\": {\\\"field\\\": \\\"c_num_unique\\\"}, \\\"x\\\": {\\\"signal\\\": \\\"datum[\\\\\\\"c_x_axis_back\\\\\\\"]+467\\\"}}, \\\"enter\\\": {\\\"dy\\\": {\\\"value\\\": 0, \\\"offset\\\": 0}, \\\"y\\\": {\\\"value\\\": 130}, \\\"x\\\": {\\\"value\\\": 500}, \\\"fontStyle\\\": {\\\"value\\\": \\\"normal\\\"}, \\\"fill\\\": {\\\"value\\\": \\\"#4A4A4A\\\"}, \\\"dx\\\": {\\\"value\\\": 0, \\\"offset\\\": 0}, \\\"font\\\": {\\\"value\\\": \\\"AvenirNext-Medium\\\"}, \\\"fontWeight\\\": {\\\"value\\\": \\\"normal\\\"}, \\\"baseline\\\": {\\\"value\\\": \\\"middle\\\"}, \\\"align\\\": {\\\"value\\\": \\\"left\\\"}, \\\"text\\\": {\\\"value\\\": \\\"Num. Unique:\\\"}, \\\"angle\\\": {\\\"value\\\": 0}, \\\"fontSize\\\": {\\\"value\\\": 12}}}, \\\"from\\\": {\\\"data\\\": \\\"data_2\\\"}}, {\\\"type\\\": \\\"text\\\", \\\"encode\\\": {\\\"update\\\": {\\\"y\\\": {\\\"field\\\": \\\"c_missing\\\"}, \\\"x\\\": {\\\"signal\\\": \\\"datum[\\\\\\\"c_x_axis_back\\\\\\\"]+467\\\"}}, \\\"enter\\\": {\\\"dy\\\": {\\\"value\\\": 0, \\\"offset\\\": 0}, \\\"y\\\": {\\\"value\\\": 154}, \\\"x\\\": {\\\"value\\\": 500}, \\\"fontStyle\\\": {\\\"value\\\": \\\"normal\\\"}, \\\"fill\\\": {\\\"value\\\": \\\"#4A4A4A\\\"}, \\\"dx\\\": {\\\"value\\\": 0, \\\"offset\\\": 0}, \\\"font\\\": {\\\"value\\\": \\\"AvenirNext-Medium\\\"}, \\\"fontWeight\\\": {\\\"value\\\": \\\"normal\\\"}, \\\"baseline\\\": {\\\"value\\\": \\\"middle\\\"}, \\\"align\\\": {\\\"value\\\": \\\"left\\\"}, \\\"text\\\": {\\\"value\\\": \\\"Missing:\\\"}, \\\"angle\\\": {\\\"value\\\": 0}, \\\"fontSize\\\": {\\\"value\\\": 12}}}, \\\"from\\\": {\\\"data\\\": \\\"data_2\\\"}}, {\\\"type\\\": \\\"text\\\", \\\"encode\\\": {\\\"update\\\": {\\\"y\\\": {\\\"field\\\": \\\"c_num_rows_val\\\"}, \\\"x\\\": {\\\"signal\\\": \\\"datum[\\\\\\\"c_x_axis_back\\\\\\\"]+667\\\"}}, \\\"enter\\\": {\\\"dy\\\": {\\\"value\\\": 0, \\\"offset\\\": 0}, \\\"y\\\": {\\\"value\\\": 105}, \\\"x\\\": {\\\"value\\\": 700}, \\\"fontStyle\\\": {\\\"value\\\": \\\"normal\\\"}, \\\"fill\\\": {\\\"value\\\": \\\"#5A5A5A\\\"}, \\\"dx\\\": {\\\"value\\\": 0, \\\"offset\\\": 0}, \\\"font\\\": {\\\"value\\\": \\\"AvenirNext-Medium\\\"}, \\\"fontWeight\\\": {\\\"value\\\": \\\"normal\\\"}, \\\"baseline\\\": {\\\"value\\\": \\\"middle\\\"}, \\\"align\\\": {\\\"value\\\": \\\"right\\\"}, \\\"text\\\": {\\\"signal\\\": \\\"toString(format(datum[\\\\\\\"num_row\\\\\\\"], \\\\\\\",\\\\\\\"))\\\"}, \\\"angle\\\": {\\\"value\\\": 0}, \\\"fontSize\\\": {\\\"value\\\": 12}}}, \\\"from\\\": {\\\"data\\\": \\\"data_2\\\"}}, {\\\"type\\\": \\\"text\\\", \\\"encode\\\": {\\\"update\\\": {\\\"y\\\": {\\\"field\\\": \\\"c_num_unique_val\\\"}, \\\"x\\\": {\\\"signal\\\": \\\"datum[\\\\\\\"c_x_axis_back\\\\\\\"]+667\\\"}}, \\\"enter\\\": {\\\"dy\\\": {\\\"value\\\": 0, \\\"offset\\\": 0}, \\\"y\\\": {\\\"value\\\": 130}, \\\"x\\\": {\\\"value\\\": 700}, \\\"fontStyle\\\": {\\\"value\\\": \\\"normal\\\"}, \\\"fill\\\": {\\\"value\\\": \\\"#5A5A5A\\\"}, \\\"dx\\\": {\\\"value\\\": 0, \\\"offset\\\": 0}, \\\"font\\\": {\\\"value\\\": \\\"AvenirNext-Medium\\\"}, \\\"fontWeight\\\": {\\\"value\\\": \\\"normal\\\"}, \\\"baseline\\\": {\\\"value\\\": \\\"middle\\\"}, \\\"align\\\": {\\\"value\\\": \\\"right\\\"}, \\\"text\\\": {\\\"signal\\\": \\\"toString(format(datum[\\\\\\\"num_unique\\\\\\\"], \\\\\\\",\\\\\\\"))\\\"}, \\\"angle\\\": {\\\"value\\\": 0}, \\\"fontSize\\\": {\\\"value\\\": 12}}}, \\\"from\\\": {\\\"data\\\": \\\"data_2\\\"}}, {\\\"type\\\": \\\"text\\\", \\\"encode\\\": {\\\"update\\\": {\\\"y\\\": {\\\"field\\\": \\\"c_missing_val\\\"}, \\\"x\\\": {\\\"signal\\\": \\\"datum[\\\\\\\"c_x_axis_back\\\\\\\"]+667\\\"}}, \\\"enter\\\": {\\\"dy\\\": {\\\"value\\\": 0, \\\"offset\\\": 0}, \\\"y\\\": {\\\"value\\\": 154}, \\\"x\\\": {\\\"value\\\": 700}, \\\"fontStyle\\\": {\\\"value\\\": \\\"normal\\\"}, \\\"fill\\\": {\\\"value\\\": \\\"#5A5A5A\\\"}, \\\"dx\\\": {\\\"value\\\": 0, \\\"offset\\\": 0}, \\\"font\\\": {\\\"value\\\": \\\"AvenirNext-Medium\\\"}, \\\"fontWeight\\\": {\\\"value\\\": \\\"normal\\\"}, \\\"baseline\\\": {\\\"value\\\": \\\"middle\\\"}, \\\"align\\\": {\\\"value\\\": \\\"right\\\"}, \\\"text\\\": {\\\"signal\\\": \\\"toString(format(datum[\\\\\\\"num_missing\\\\\\\"], \\\\\\\",\\\\\\\"))\\\"}, \\\"angle\\\": {\\\"value\\\": 0}, \\\"fontSize\\\": {\\\"value\\\": 12}}}, \\\"from\\\": {\\\"data\\\": \\\"data_2\\\"}}, {\\\"type\\\": \\\"text\\\", \\\"encode\\\": {\\\"update\\\": {\\\"y\\\": {\\\"field\\\": \\\"c_frequent_items\\\"}, \\\"x\\\": {\\\"signal\\\": \\\"datum[\\\\\\\"c_x_axis_back\\\\\\\"]+467\\\"}}, \\\"enter\\\": {\\\"dy\\\": {\\\"value\\\": 0, \\\"offset\\\": 0}, \\\"y\\\": {\\\"value\\\": 200}, \\\"x\\\": {\\\"value\\\": 500}, \\\"fontStyle\\\": {\\\"value\\\": \\\"normal\\\"}, \\\"fill\\\": {\\\"value\\\": \\\"#4A4A4A\\\"}, \\\"dx\\\": {\\\"value\\\": 0, \\\"offset\\\": 0}, \\\"font\\\": {\\\"value\\\": \\\"AvenirNext-Medium\\\"}, \\\"baseline\\\": {\\\"value\\\": \\\"middle\\\"}, \\\"fontWeight\\\": {\\\"value\\\": \\\"bold\\\"}, \\\"align\\\": {\\\"value\\\": \\\"left\\\"}, \\\"text\\\": {\\\"signal\\\": \\\"(toString(datum[\\\\\\\"type\\\\\\\"]) == \\\\\\\"str\\\\\\\")? \\\\\\\"Frequent Items\\\\\\\":\\\\\\\"\\\\\\\"\\\"}, \\\"angle\\\": {\\\"value\\\": 0}, \\\"clip\\\": {\\\"value\\\": true}, \\\"fontSize\\\": {\\\"value\\\": 11}}}, \\\"from\\\": {\\\"data\\\": \\\"data_2\\\"}}, {\\\"type\\\": \\\"text\\\", \\\"encode\\\": {\\\"update\\\": {\\\"y\\\": {\\\"field\\\": \\\"c_first_item\\\"}, \\\"x\\\": {\\\"signal\\\": \\\"datum[\\\\\\\"c_x_axis_back\\\\\\\"]+487\\\"}}, \\\"enter\\\": {\\\"dy\\\": {\\\"value\\\": 0, \\\"offset\\\": 0}, \\\"y\\\": {\\\"value\\\": 200}, \\\"x\\\": {\\\"value\\\": 520}, \\\"fontStyle\\\": {\\\"value\\\": \\\"normal\\\"}, \\\"fill\\\": {\\\"value\\\": \\\"#4A4A4A\\\"}, \\\"dx\\\": {\\\"value\\\": 0, \\\"offset\\\": 0}, \\\"font\\\": {\\\"value\\\": \\\"AvenirNext-Medium\\\"}, \\\"baseline\\\": {\\\"value\\\": \\\"middle\\\"}, \\\"fontWeight\\\": {\\\"value\\\": \\\"normal\\\"}, \\\"align\\\": {\\\"value\\\": \\\"left\\\"}, \\\"text\\\": {\\\"signal\\\": \\\"((datum[\\\\\\\"categorical\\\\\\\"].length >= 1) &amp;&amp; (toString(datum[\\\\\\\"type\\\\\\\"]) == \\\\\\\"str\\\\\\\"))? toString(datum[\\\\\\\"categorical\\\\\\\"][0][\\\\\\\"label\\\\\\\"]):\\\\\\\"\\\\\\\"\\\"}, \\\"angle\\\": {\\\"value\\\": 0}, \\\"clip\\\": {\\\"value\\\": true}, \\\"fontSize\\\": {\\\"value\\\": 11}}}, \\\"from\\\": {\\\"data\\\": \\\"data_2\\\"}}, {\\\"type\\\": \\\"text\\\", \\\"encode\\\": {\\\"update\\\": {\\\"y\\\": {\\\"field\\\": \\\"c_second_item\\\"}, \\\"x\\\": {\\\"signal\\\": \\\"datum[\\\\\\\"c_x_axis_back\\\\\\\"]+487\\\"}}, \\\"enter\\\": {\\\"dy\\\": {\\\"value\\\": 0, \\\"offset\\\": 0}, \\\"y\\\": {\\\"value\\\": 200}, \\\"x\\\": {\\\"value\\\": 520}, \\\"fontStyle\\\": {\\\"value\\\": \\\"normal\\\"}, \\\"fill\\\": {\\\"value\\\": \\\"#4A4A4A\\\"}, \\\"dx\\\": {\\\"value\\\": 0, \\\"offset\\\": 0}, \\\"font\\\": {\\\"value\\\": \\\"AvenirNext-Medium\\\"}, \\\"baseline\\\": {\\\"value\\\": \\\"middle\\\"}, \\\"fontWeight\\\": {\\\"value\\\": \\\"normal\\\"}, \\\"align\\\": {\\\"value\\\": \\\"left\\\"}, \\\"text\\\": {\\\"signal\\\": \\\"((datum[\\\\\\\"categorical\\\\\\\"].length >= 2) &amp;&amp; (toString(datum[\\\\\\\"type\\\\\\\"]) == \\\\\\\"str\\\\\\\"))? toString(datum[\\\\\\\"categorical\\\\\\\"][1][\\\\\\\"label\\\\\\\"]):\\\\\\\"\\\\\\\"\\\"}, \\\"angle\\\": {\\\"value\\\": 0}, \\\"clip\\\": {\\\"value\\\": true}, \\\"fontSize\\\": {\\\"value\\\": 11}}}, \\\"from\\\": {\\\"data\\\": \\\"data_2\\\"}}, {\\\"type\\\": \\\"text\\\", \\\"encode\\\": {\\\"update\\\": {\\\"y\\\": {\\\"field\\\": \\\"c_third_item\\\"}, \\\"x\\\": {\\\"signal\\\": \\\"datum[\\\\\\\"c_x_axis_back\\\\\\\"]+487\\\"}}, \\\"enter\\\": {\\\"dy\\\": {\\\"value\\\": 0, \\\"offset\\\": 0}, \\\"y\\\": {\\\"value\\\": 200}, \\\"x\\\": {\\\"value\\\": 520}, \\\"fontStyle\\\": {\\\"value\\\": \\\"normal\\\"}, \\\"fill\\\": {\\\"value\\\": \\\"#4A4A4A\\\"}, \\\"dx\\\": {\\\"value\\\": 0, \\\"offset\\\": 0}, \\\"font\\\": {\\\"value\\\": \\\"AvenirNext-Medium\\\"}, \\\"baseline\\\": {\\\"value\\\": \\\"middle\\\"}, \\\"fontWeight\\\": {\\\"value\\\": \\\"normal\\\"}, \\\"align\\\": {\\\"value\\\": \\\"left\\\"}, \\\"text\\\": {\\\"signal\\\": \\\"((datum[\\\\\\\"categorical\\\\\\\"].length >= 3) &amp;&amp; (toString(datum[\\\\\\\"type\\\\\\\"]) == \\\\\\\"str\\\\\\\"))? toString(datum[\\\\\\\"categorical\\\\\\\"][2][\\\\\\\"label\\\\\\\"]):\\\\\\\"\\\\\\\"\\\"}, \\\"angle\\\": {\\\"value\\\": 0}, \\\"clip\\\": {\\\"value\\\": true}, \\\"fontSize\\\": {\\\"value\\\": 11}}}, \\\"from\\\": {\\\"data\\\": \\\"data_2\\\"}}, {\\\"type\\\": \\\"text\\\", \\\"encode\\\": {\\\"update\\\": {\\\"y\\\": {\\\"field\\\": \\\"c_fourth_item\\\"}, \\\"x\\\": {\\\"signal\\\": \\\"datum[\\\\\\\"c_x_axis_back\\\\\\\"]+487\\\"}}, \\\"enter\\\": {\\\"dy\\\": {\\\"value\\\": 0, \\\"offset\\\": 0}, \\\"y\\\": {\\\"value\\\": 200}, \\\"x\\\": {\\\"value\\\": 520}, \\\"fontStyle\\\": {\\\"value\\\": \\\"normal\\\"}, \\\"fill\\\": {\\\"value\\\": \\\"#4A4A4A\\\"}, \\\"dx\\\": {\\\"value\\\": 0, \\\"offset\\\": 0}, \\\"font\\\": {\\\"value\\\": \\\"AvenirNext-Medium\\\"}, \\\"baseline\\\": {\\\"value\\\": \\\"middle\\\"}, \\\"fontWeight\\\": {\\\"value\\\": \\\"normal\\\"}, \\\"align\\\": {\\\"value\\\": \\\"left\\\"}, \\\"text\\\": {\\\"signal\\\": \\\"((datum[\\\\\\\"categorical\\\\\\\"].length >= 4) &amp;&amp; (toString(datum[\\\\\\\"type\\\\\\\"]) == \\\\\\\"str\\\\\\\"))? toString(datum[\\\\\\\"categorical\\\\\\\"][3][\\\\\\\"label\\\\\\\"]):\\\\\\\"\\\\\\\"\\\"}, \\\"angle\\\": {\\\"value\\\": 0}, \\\"clip\\\": {\\\"value\\\": true}, \\\"fontSize\\\": {\\\"value\\\": 11}}}, \\\"from\\\": {\\\"data\\\": \\\"data_2\\\"}}, {\\\"type\\\": \\\"text\\\", \\\"encode\\\": {\\\"update\\\": {\\\"y\\\": {\\\"field\\\": \\\"c_fifth_item\\\"}, \\\"x\\\": {\\\"signal\\\": \\\"datum[\\\\\\\"c_x_axis_back\\\\\\\"]+487\\\"}}, \\\"enter\\\": {\\\"dy\\\": {\\\"value\\\": 0, \\\"offset\\\": 0}, \\\"y\\\": {\\\"value\\\": 200}, \\\"x\\\": {\\\"value\\\": 520}, \\\"fontStyle\\\": {\\\"value\\\": \\\"normal\\\"}, \\\"fill\\\": {\\\"value\\\": \\\"#4A4A4A\\\"}, \\\"dx\\\": {\\\"value\\\": 0, \\\"offset\\\": 0}, \\\"font\\\": {\\\"value\\\": \\\"AvenirNext-Medium\\\"}, \\\"baseline\\\": {\\\"value\\\": \\\"middle\\\"}, \\\"fontWeight\\\": {\\\"value\\\": \\\"normal\\\"}, \\\"align\\\": {\\\"value\\\": \\\"left\\\"}, \\\"text\\\": {\\\"signal\\\": \\\"((datum[\\\\\\\"categorical\\\\\\\"].length >= 5) &amp;&amp; (toString(datum[\\\\\\\"type\\\\\\\"]) == \\\\\\\"str\\\\\\\"))? toString(datum[\\\\\\\"categorical\\\\\\\"][4][\\\\\\\"label\\\\\\\"]):\\\\\\\"\\\\\\\"\\\"}, \\\"angle\\\": {\\\"value\\\": 0}, \\\"clip\\\": {\\\"value\\\": true}, \\\"fontSize\\\": {\\\"value\\\": 11}}}, \\\"from\\\": {\\\"data\\\": \\\"data_2\\\"}}, {\\\"type\\\": \\\"text\\\", \\\"encode\\\": {\\\"update\\\": {\\\"y\\\": {\\\"field\\\": \\\"c_first_item\\\"}, \\\"x\\\": {\\\"signal\\\": \\\"datum[\\\\\\\"c_x_axis_back\\\\\\\"]+667\\\"}}, \\\"enter\\\": {\\\"dy\\\": {\\\"value\\\": 0, \\\"offset\\\": 0}, \\\"y\\\": {\\\"value\\\": 200}, \\\"x\\\": {\\\"value\\\": 700}, \\\"fontStyle\\\": {\\\"value\\\": \\\"normal\\\"}, \\\"fill\\\": {\\\"value\\\": \\\"#7A7A7A\\\"}, \\\"dx\\\": {\\\"value\\\": 0, \\\"offset\\\": 0}, \\\"font\\\": {\\\"value\\\": \\\"AvenirNext-Medium\\\"}, \\\"baseline\\\": {\\\"value\\\": \\\"middle\\\"}, \\\"fontWeight\\\": {\\\"value\\\": \\\"normal\\\"}, \\\"align\\\": {\\\"value\\\": \\\"right\\\"}, \\\"text\\\": {\\\"signal\\\": \\\"((datum[\\\\\\\"categorical\\\\\\\"].length >= 1) &amp;&amp; (toString(datum[\\\\\\\"type\\\\\\\"]) == \\\\\\\"str\\\\\\\"))? toString(datum[\\\\\\\"categorical\\\\\\\"][0][\\\\\\\"count\\\\\\\"]):\\\\\\\"\\\\\\\"\\\"}, \\\"angle\\\": {\\\"value\\\": 0}, \\\"clip\\\": {\\\"value\\\": true}, \\\"fontSize\\\": {\\\"value\\\": 11}}}, \\\"from\\\": {\\\"data\\\": \\\"data_2\\\"}}, {\\\"type\\\": \\\"text\\\", \\\"encode\\\": {\\\"update\\\": {\\\"y\\\": {\\\"field\\\": \\\"c_second_item\\\"}, \\\"x\\\": {\\\"signal\\\": \\\"datum[\\\\\\\"c_x_axis_back\\\\\\\"]+667\\\"}}, \\\"enter\\\": {\\\"dy\\\": {\\\"value\\\": 0, \\\"offset\\\": 0}, \\\"y\\\": {\\\"value\\\": 200}, \\\"x\\\": {\\\"value\\\": 700}, \\\"fontStyle\\\": {\\\"value\\\": \\\"normal\\\"}, \\\"fill\\\": {\\\"value\\\": \\\"#7A7A7A\\\"}, \\\"dx\\\": {\\\"value\\\": 0, \\\"offset\\\": 0}, \\\"font\\\": {\\\"value\\\": \\\"AvenirNext-Medium\\\"}, \\\"baseline\\\": {\\\"value\\\": \\\"middle\\\"}, \\\"fontWeight\\\": {\\\"value\\\": \\\"normal\\\"}, \\\"align\\\": {\\\"value\\\": \\\"right\\\"}, \\\"text\\\": {\\\"signal\\\": \\\"((datum[\\\\\\\"categorical\\\\\\\"].length >= 2) &amp;&amp; (toString(datum[\\\\\\\"type\\\\\\\"]) == \\\\\\\"str\\\\\\\"))? toString(datum[\\\\\\\"categorical\\\\\\\"][1][\\\\\\\"count\\\\\\\"]):\\\\\\\"\\\\\\\"\\\"}, \\\"angle\\\": {\\\"value\\\": 0}, \\\"clip\\\": {\\\"value\\\": true}, \\\"fontSize\\\": {\\\"value\\\": 10}}}, \\\"from\\\": {\\\"data\\\": \\\"data_2\\\"}}, {\\\"type\\\": \\\"text\\\", \\\"encode\\\": {\\\"update\\\": {\\\"y\\\": {\\\"field\\\": \\\"c_third_item\\\"}, \\\"x\\\": {\\\"signal\\\": \\\"datum[\\\\\\\"c_x_axis_back\\\\\\\"]+667\\\"}}, \\\"enter\\\": {\\\"dy\\\": {\\\"value\\\": 0, \\\"offset\\\": 0}, \\\"y\\\": {\\\"value\\\": 200}, \\\"x\\\": {\\\"value\\\": 700}, \\\"fontStyle\\\": {\\\"value\\\": \\\"normal\\\"}, \\\"fill\\\": {\\\"value\\\": \\\"#7A7A7A\\\"}, \\\"dx\\\": {\\\"value\\\": 0, \\\"offset\\\": 0}, \\\"font\\\": {\\\"value\\\": \\\"AvenirNext-Medium\\\"}, \\\"baseline\\\": {\\\"value\\\": \\\"middle\\\"}, \\\"fontWeight\\\": {\\\"value\\\": \\\"normal\\\"}, \\\"align\\\": {\\\"value\\\": \\\"right\\\"}, \\\"text\\\": {\\\"signal\\\": \\\"((datum[\\\\\\\"categorical\\\\\\\"].length >= 3) &amp;&amp; (toString(datum[\\\\\\\"type\\\\\\\"]) == \\\\\\\"str\\\\\\\"))? toString(datum[\\\\\\\"categorical\\\\\\\"][2][\\\\\\\"count\\\\\\\"]):\\\\\\\"\\\\\\\"\\\"}, \\\"angle\\\": {\\\"value\\\": 0}, \\\"clip\\\": {\\\"value\\\": true}, \\\"fontSize\\\": {\\\"value\\\": 10}}}, \\\"from\\\": {\\\"data\\\": \\\"data_2\\\"}}, {\\\"type\\\": \\\"text\\\", \\\"encode\\\": {\\\"update\\\": {\\\"y\\\": {\\\"field\\\": \\\"c_fourth_item\\\"}, \\\"x\\\": {\\\"signal\\\": \\\"datum[\\\\\\\"c_x_axis_back\\\\\\\"]+667\\\"}}, \\\"enter\\\": {\\\"dy\\\": {\\\"value\\\": 0, \\\"offset\\\": 0}, \\\"y\\\": {\\\"value\\\": 200}, \\\"x\\\": {\\\"value\\\": 700}, \\\"fontStyle\\\": {\\\"value\\\": \\\"normal\\\"}, \\\"fill\\\": {\\\"value\\\": \\\"#7A7A7A\\\"}, \\\"dx\\\": {\\\"value\\\": 0, \\\"offset\\\": 0}, \\\"font\\\": {\\\"value\\\": \\\"AvenirNext-Medium\\\"}, \\\"baseline\\\": {\\\"value\\\": \\\"middle\\\"}, \\\"fontWeight\\\": {\\\"value\\\": \\\"normal\\\"}, \\\"align\\\": {\\\"value\\\": \\\"right\\\"}, \\\"text\\\": {\\\"signal\\\": \\\"((datum[\\\\\\\"categorical\\\\\\\"].length >= 4) &amp;&amp; (toString(datum[\\\\\\\"type\\\\\\\"]) == \\\\\\\"str\\\\\\\"))? toString(datum[\\\\\\\"categorical\\\\\\\"][3][\\\\\\\"count\\\\\\\"]):\\\\\\\"\\\\\\\"\\\"}, \\\"angle\\\": {\\\"value\\\": 0}, \\\"clip\\\": {\\\"value\\\": true}, \\\"fontSize\\\": {\\\"value\\\": 10}}}, \\\"from\\\": {\\\"data\\\": \\\"data_2\\\"}}, {\\\"type\\\": \\\"text\\\", \\\"encode\\\": {\\\"update\\\": {\\\"y\\\": {\\\"field\\\": \\\"c_fifth_item\\\"}, \\\"x\\\": {\\\"signal\\\": \\\"datum[\\\\\\\"c_x_axis_back\\\\\\\"]+667\\\"}}, \\\"enter\\\": {\\\"dy\\\": {\\\"value\\\": 0, \\\"offset\\\": 0}, \\\"y\\\": {\\\"value\\\": 200}, \\\"x\\\": {\\\"value\\\": 700}, \\\"fontStyle\\\": {\\\"value\\\": \\\"normal\\\"}, \\\"fill\\\": {\\\"value\\\": \\\"#7A7A7A\\\"}, \\\"dx\\\": {\\\"value\\\": 0, \\\"offset\\\": 0}, \\\"font\\\": {\\\"value\\\": \\\"AvenirNext-Medium\\\"}, \\\"baseline\\\": {\\\"value\\\": \\\"middle\\\"}, \\\"fontWeight\\\": {\\\"value\\\": \\\"normal\\\"}, \\\"align\\\": {\\\"value\\\": \\\"right\\\"}, \\\"text\\\": {\\\"signal\\\": \\\"((datum[\\\\\\\"categorical\\\\\\\"].length >= 5) &amp;&amp; (toString(datum[\\\\\\\"type\\\\\\\"]) == \\\\\\\"str\\\\\\\"))? toString(datum[\\\\\\\"categorical\\\\\\\"][4][\\\\\\\"count\\\\\\\"]):\\\\\\\"\\\\\\\"\\\"}, \\\"angle\\\": {\\\"value\\\": 0}, \\\"clip\\\": {\\\"value\\\": true}, \\\"fontSize\\\": {\\\"value\\\": 10}}}, \\\"from\\\": {\\\"data\\\": \\\"data_2\\\"}}, {\\\"type\\\": \\\"text\\\", \\\"encode\\\": {\\\"update\\\": {\\\"y\\\": {\\\"field\\\": \\\"c_mean\\\"}, \\\"x\\\": {\\\"signal\\\": \\\"datum[\\\\\\\"c_x_axis_back\\\\\\\"]+467\\\"}}, \\\"enter\\\": {\\\"dy\\\": {\\\"value\\\": 0, \\\"offset\\\": 0}, \\\"y\\\": {\\\"value\\\": 200}, \\\"x\\\": {\\\"value\\\": 500}, \\\"fontStyle\\\": {\\\"value\\\": \\\"normal\\\"}, \\\"fill\\\": {\\\"value\\\": \\\"#4A4A4A\\\"}, \\\"dx\\\": {\\\"value\\\": 0, \\\"offset\\\": 0}, \\\"font\\\": {\\\"value\\\": \\\"AvenirNext-Medium\\\"}, \\\"baseline\\\": {\\\"value\\\": \\\"middle\\\"}, \\\"fontWeight\\\": {\\\"value\\\": \\\"bold\\\"}, \\\"align\\\": {\\\"value\\\": \\\"left\\\"}, \\\"text\\\": {\\\"signal\\\": \\\"(toString(datum[\\\\\\\"type\\\\\\\"]) == \\\\\\\"integer\\\\\\\" || toString(datum[\\\\\\\"type\\\\\\\"]) == \\\\\\\"float\\\\\\\")? \\\\\\\"Mean:\\\\\\\":\\\\\\\"\\\\\\\"\\\"}, \\\"angle\\\": {\\\"value\\\": 0}, \\\"clip\\\": {\\\"value\\\": true}, \\\"fontSize\\\": {\\\"value\\\": 11}}}, \\\"from\\\": {\\\"data\\\": \\\"data_2\\\"}}, {\\\"type\\\": \\\"text\\\", \\\"encode\\\": {\\\"update\\\": {\\\"y\\\": {\\\"field\\\": \\\"c_min\\\"}, \\\"x\\\": {\\\"signal\\\": \\\"datum[\\\\\\\"c_x_axis_back\\\\\\\"]+467\\\"}}, \\\"enter\\\": {\\\"dy\\\": {\\\"value\\\": 0, \\\"offset\\\": 0}, \\\"y\\\": {\\\"value\\\": 220}, \\\"x\\\": {\\\"value\\\": 500}, \\\"fontStyle\\\": {\\\"value\\\": \\\"normal\\\"}, \\\"fill\\\": {\\\"value\\\": \\\"#4A4A4A\\\"}, \\\"dx\\\": {\\\"value\\\": 0, \\\"offset\\\": 0}, \\\"font\\\": {\\\"value\\\": \\\"AvenirNext-Medium\\\"}, \\\"fontWeight\\\": {\\\"value\\\": \\\"bold\\\"}, \\\"baseline\\\": {\\\"value\\\": \\\"middle\\\"}, \\\"align\\\": {\\\"value\\\": \\\"left\\\"}, \\\"text\\\": {\\\"signal\\\": \\\"(toString(datum[\\\\\\\"type\\\\\\\"]) == \\\\\\\"integer\\\\\\\" || toString(datum[\\\\\\\"type\\\\\\\"]) == \\\\\\\"float\\\\\\\")? \\\\\\\"Min:\\\\\\\":\\\\\\\"\\\\\\\"\\\"}, \\\"angle\\\": {\\\"value\\\": 0}, \\\"fontSize\\\": {\\\"value\\\": 11}}}, \\\"from\\\": {\\\"data\\\": \\\"data_2\\\"}}, {\\\"type\\\": \\\"text\\\", \\\"encode\\\": {\\\"update\\\": {\\\"y\\\": {\\\"field\\\": \\\"c_max\\\"}, \\\"x\\\": {\\\"signal\\\": \\\"datum[\\\\\\\"c_x_axis_back\\\\\\\"]+467\\\"}}, \\\"enter\\\": {\\\"dy\\\": {\\\"value\\\": 0, \\\"offset\\\": 0}, \\\"y\\\": {\\\"value\\\": 240}, \\\"x\\\": {\\\"value\\\": 500}, \\\"fontStyle\\\": {\\\"value\\\": \\\"normal\\\"}, \\\"fill\\\": {\\\"value\\\": \\\"#4A4A4A\\\"}, \\\"dx\\\": {\\\"value\\\": 0, \\\"offset\\\": 0}, \\\"font\\\": {\\\"value\\\": \\\"AvenirNext-Medium\\\"}, \\\"fontWeight\\\": {\\\"value\\\": \\\"bold\\\"}, \\\"baseline\\\": {\\\"value\\\": \\\"middle\\\"}, \\\"align\\\": {\\\"value\\\": \\\"left\\\"}, \\\"text\\\": {\\\"signal\\\": \\\"(toString(datum[\\\\\\\"type\\\\\\\"]) == \\\\\\\"integer\\\\\\\" || toString(datum[\\\\\\\"type\\\\\\\"]) == \\\\\\\"float\\\\\\\")? \\\\\\\"Max:\\\\\\\":\\\\\\\"\\\\\\\"\\\"}, \\\"angle\\\": {\\\"value\\\": 0}, \\\"fontSize\\\": {\\\"value\\\": 11}}}, \\\"from\\\": {\\\"data\\\": \\\"data_2\\\"}}, {\\\"type\\\": \\\"text\\\", \\\"encode\\\": {\\\"update\\\": {\\\"y\\\": {\\\"field\\\": \\\"c_median\\\"}, \\\"x\\\": {\\\"signal\\\": \\\"datum[\\\\\\\"c_x_axis_back\\\\\\\"]+467\\\"}}, \\\"enter\\\": {\\\"dy\\\": {\\\"value\\\": 0, \\\"offset\\\": 0}, \\\"y\\\": {\\\"value\\\": 260}, \\\"x\\\": {\\\"value\\\": 500}, \\\"fontStyle\\\": {\\\"value\\\": \\\"normal\\\"}, \\\"fill\\\": {\\\"value\\\": \\\"#4A4A4A\\\"}, \\\"dx\\\": {\\\"value\\\": 0, \\\"offset\\\": 0}, \\\"font\\\": {\\\"value\\\": \\\"AvenirNext-Medium\\\"}, \\\"fontWeight\\\": {\\\"value\\\": \\\"bold\\\"}, \\\"baseline\\\": {\\\"value\\\": \\\"middle\\\"}, \\\"align\\\": {\\\"value\\\": \\\"left\\\"}, \\\"text\\\": {\\\"signal\\\": \\\"(toString(datum[\\\\\\\"type\\\\\\\"]) == \\\\\\\"integer\\\\\\\" || toString(datum[\\\\\\\"type\\\\\\\"]) == \\\\\\\"float\\\\\\\")? \\\\\\\"Median:\\\\\\\":\\\\\\\"\\\\\\\"\\\"}, \\\"angle\\\": {\\\"value\\\": 0}, \\\"fontSize\\\": {\\\"value\\\": 11}}}, \\\"from\\\": {\\\"data\\\": \\\"data_2\\\"}}, {\\\"type\\\": \\\"text\\\", \\\"encode\\\": {\\\"update\\\": {\\\"y\\\": {\\\"field\\\": \\\"c_stdev\\\"}, \\\"x\\\": {\\\"signal\\\": \\\"datum[\\\\\\\"c_x_axis_back\\\\\\\"]+467\\\"}}, \\\"enter\\\": {\\\"dy\\\": {\\\"value\\\": 0, \\\"offset\\\": 0}, \\\"y\\\": {\\\"value\\\": 280}, \\\"x\\\": {\\\"value\\\": 500}, \\\"fontStyle\\\": {\\\"value\\\": \\\"normal\\\"}, \\\"fill\\\": {\\\"value\\\": \\\"#4A4A4A\\\"}, \\\"dx\\\": {\\\"value\\\": 0, \\\"offset\\\": 0}, \\\"font\\\": {\\\"value\\\": \\\"AvenirNext-Medium\\\"}, \\\"fontWeight\\\": {\\\"value\\\": \\\"bold\\\"}, \\\"baseline\\\": {\\\"value\\\": \\\"middle\\\"}, \\\"align\\\": {\\\"value\\\": \\\"left\\\"}, \\\"text\\\": {\\\"signal\\\": \\\"(toString(datum[\\\\\\\"type\\\\\\\"]) == \\\\\\\"integer\\\\\\\" || toString(datum[\\\\\\\"type\\\\\\\"]) == \\\\\\\"float\\\\\\\")? \\\\\\\"St. Dev:\\\\\\\":\\\\\\\"\\\\\\\"\\\"}, \\\"angle\\\": {\\\"value\\\": 0}, \\\"fontSize\\\": {\\\"value\\\": 11}}}, \\\"from\\\": {\\\"data\\\": \\\"data_2\\\"}}, {\\\"type\\\": \\\"text\\\", \\\"encode\\\": {\\\"update\\\": {\\\"y\\\": {\\\"field\\\": \\\"c_mean_val\\\"}, \\\"x\\\": {\\\"signal\\\": \\\"datum[\\\\\\\"c_x_axis_back\\\\\\\"]+667\\\"}}, \\\"enter\\\": {\\\"dy\\\": {\\\"value\\\": 0, \\\"offset\\\": 0}, \\\"y\\\": {\\\"value\\\": 198}, \\\"x\\\": {\\\"value\\\": 700}, \\\"fontStyle\\\": {\\\"value\\\": \\\"normal\\\"}, \\\"fill\\\": {\\\"value\\\": \\\"#6A6A6A\\\"}, \\\"dx\\\": {\\\"value\\\": 0, \\\"offset\\\": 0}, \\\"font\\\": {\\\"value\\\": \\\"AvenirNext-Medium\\\"}, \\\"fontWeight\\\": {\\\"value\\\": \\\"normal\\\"}, \\\"baseline\\\": {\\\"value\\\": \\\"middle\\\"}, \\\"align\\\": {\\\"value\\\": \\\"right\\\"}, \\\"text\\\": {\\\"signal\\\": \\\"(toString(datum[\\\\\\\"type\\\\\\\"]) == \\\\\\\"integer\\\\\\\" || toString(datum[\\\\\\\"type\\\\\\\"]) == \\\\\\\"float\\\\\\\")?toString(format(datum[\\\\\\\"mean\\\\\\\"], \\\\\\\",\\\\\\\")):\\\\\\\"\\\\\\\"\\\"}, \\\"angle\\\": {\\\"value\\\": 0}, \\\"fontSize\\\": {\\\"value\\\": 10}}}, \\\"from\\\": {\\\"data\\\": \\\"data_2\\\"}}, {\\\"type\\\": \\\"text\\\", \\\"encode\\\": {\\\"update\\\": {\\\"y\\\": {\\\"field\\\": \\\"c_min_val\\\"}, \\\"x\\\": {\\\"signal\\\": \\\"datum[\\\\\\\"c_x_axis_back\\\\\\\"]+667\\\"}}, \\\"enter\\\": {\\\"dy\\\": {\\\"value\\\": 0, \\\"offset\\\": 0}, \\\"y\\\": {\\\"value\\\": 218}, \\\"x\\\": {\\\"value\\\": 700}, \\\"fontStyle\\\": {\\\"value\\\": \\\"normal\\\"}, \\\"fill\\\": {\\\"value\\\": \\\"#6A6A6A\\\"}, \\\"dx\\\": {\\\"value\\\": 0, \\\"offset\\\": 0}, \\\"font\\\": {\\\"value\\\": \\\"AvenirNext-Medium\\\"}, \\\"fontWeight\\\": {\\\"value\\\": \\\"normal\\\"}, \\\"baseline\\\": {\\\"value\\\": \\\"middle\\\"}, \\\"align\\\": {\\\"value\\\": \\\"right\\\"}, \\\"text\\\": {\\\"signal\\\": \\\"(toString(datum[\\\\\\\"type\\\\\\\"]) == \\\\\\\"integer\\\\\\\" || toString(datum[\\\\\\\"type\\\\\\\"]) == \\\\\\\"float\\\\\\\")?toString(format(datum[\\\\\\\"min\\\\\\\"], \\\\\\\",\\\\\\\")):\\\\\\\"\\\\\\\"\\\"}, \\\"angle\\\": {\\\"value\\\": 0}, \\\"fontSize\\\": {\\\"value\\\": 10}}}, \\\"from\\\": {\\\"data\\\": \\\"data_2\\\"}}, {\\\"type\\\": \\\"text\\\", \\\"encode\\\": {\\\"update\\\": {\\\"y\\\": {\\\"field\\\": \\\"c_max_val\\\"}, \\\"x\\\": {\\\"signal\\\": \\\"datum[\\\\\\\"c_x_axis_back\\\\\\\"]+667\\\"}}, \\\"enter\\\": {\\\"dy\\\": {\\\"value\\\": 0, \\\"offset\\\": 0}, \\\"y\\\": {\\\"value\\\": 238}, \\\"x\\\": {\\\"value\\\": 700}, \\\"fontStyle\\\": {\\\"value\\\": \\\"normal\\\"}, \\\"fill\\\": {\\\"value\\\": \\\"#6A6A6A\\\"}, \\\"dx\\\": {\\\"value\\\": 0, \\\"offset\\\": 0}, \\\"font\\\": {\\\"value\\\": \\\"AvenirNext-Medium\\\"}, \\\"fontWeight\\\": {\\\"value\\\": \\\"normal\\\"}, \\\"baseline\\\": {\\\"value\\\": \\\"middle\\\"}, \\\"align\\\": {\\\"value\\\": \\\"right\\\"}, \\\"text\\\": {\\\"signal\\\": \\\"(toString(datum[\\\\\\\"type\\\\\\\"]) == \\\\\\\"integer\\\\\\\" || toString(datum[\\\\\\\"type\\\\\\\"]) == \\\\\\\"float\\\\\\\")?toString(format(datum[\\\\\\\"max\\\\\\\"], \\\\\\\",\\\\\\\")):\\\\\\\"\\\\\\\"\\\"}, \\\"angle\\\": {\\\"value\\\": 0}, \\\"fontSize\\\": {\\\"value\\\": 10}}}, \\\"from\\\": {\\\"data\\\": \\\"data_2\\\"}}, {\\\"type\\\": \\\"text\\\", \\\"encode\\\": {\\\"update\\\": {\\\"y\\\": {\\\"field\\\": \\\"c_median_val\\\"}, \\\"x\\\": {\\\"signal\\\": \\\"datum[\\\\\\\"c_x_axis_back\\\\\\\"]+667\\\"}}, \\\"enter\\\": {\\\"dy\\\": {\\\"value\\\": 0, \\\"offset\\\": 0}, \\\"y\\\": {\\\"value\\\": 258}, \\\"x\\\": {\\\"value\\\": 700}, \\\"fontStyle\\\": {\\\"value\\\": \\\"normal\\\"}, \\\"fill\\\": {\\\"value\\\": \\\"#6A6A6A\\\"}, \\\"dx\\\": {\\\"value\\\": 0, \\\"offset\\\": 0}, \\\"font\\\": {\\\"value\\\": \\\"AvenirNext-Medium\\\"}, \\\"fontWeight\\\": {\\\"value\\\": \\\"normal\\\"}, \\\"baseline\\\": {\\\"value\\\": \\\"middle\\\"}, \\\"align\\\": {\\\"value\\\": \\\"right\\\"}, \\\"text\\\": {\\\"signal\\\": \\\"(toString(datum[\\\\\\\"type\\\\\\\"]) == \\\\\\\"integer\\\\\\\" || toString(datum[\\\\\\\"type\\\\\\\"]) == \\\\\\\"float\\\\\\\")?toString(format(datum[\\\\\\\"median\\\\\\\"], \\\\\\\",\\\\\\\")):\\\\\\\"\\\\\\\"\\\"}, \\\"angle\\\": {\\\"value\\\": 0}, \\\"fontSize\\\": {\\\"value\\\": 10}}}, \\\"from\\\": {\\\"data\\\": \\\"data_2\\\"}}, {\\\"type\\\": \\\"text\\\", \\\"encode\\\": {\\\"update\\\": {\\\"y\\\": {\\\"field\\\": \\\"c_stdev_val\\\"}, \\\"x\\\": {\\\"signal\\\": \\\"datum[\\\\\\\"c_x_axis_back\\\\\\\"]+667\\\"}}, \\\"enter\\\": {\\\"dy\\\": {\\\"value\\\": 0, \\\"offset\\\": 0}, \\\"y\\\": {\\\"value\\\": 278}, \\\"x\\\": {\\\"value\\\": 700}, \\\"fontStyle\\\": {\\\"value\\\": \\\"normal\\\"}, \\\"fill\\\": {\\\"value\\\": \\\"#6A6A6A\\\"}, \\\"dx\\\": {\\\"value\\\": 0, \\\"offset\\\": 0}, \\\"font\\\": {\\\"value\\\": \\\"AvenirNext-Medium\\\"}, \\\"fontWeight\\\": {\\\"value\\\": \\\"normal\\\"}, \\\"baseline\\\": {\\\"value\\\": \\\"middle\\\"}, \\\"align\\\": {\\\"value\\\": \\\"right\\\"}, \\\"text\\\": {\\\"signal\\\": \\\"(toString(datum[\\\\\\\"type\\\\\\\"]) == \\\\\\\"integer\\\\\\\" || toString(datum[\\\\\\\"type\\\\\\\"]) == \\\\\\\"float\\\\\\\")?toString(format(datum[\\\\\\\"stdev\\\\\\\"], \\\\\\\",\\\\\\\")):\\\\\\\"\\\\\\\"\\\"}, \\\"angle\\\": {\\\"value\\\": 0}, \\\"fontSize\\\": {\\\"value\\\": 10}}}, \\\"from\\\": {\\\"data\\\": \\\"data_2\\\"}}, {\\\"type\\\": \\\"group\\\", \\\"signals\\\": [{\\\"name\\\": \\\"width\\\", \\\"update\\\": \\\"250\\\"}, {\\\"name\\\": \\\"height\\\", \\\"update\\\": \\\"150\\\"}], \\\"marks\\\": [{\\\"type\\\": \\\"rect\\\", \\\"style\\\": [\\\"rect\\\"], \\\"name\\\": \\\"marks\\\", \\\"encode\\\": {\\\"hover\\\": {\\\"fill\\\": {\\\"value\\\": \\\"#7EC2F3\\\"}}, \\\"update\\\": {\\\"fill\\\": {\\\"value\\\": \\\"#108EE9\\\"}, \\\"x2\\\": {\\\"field\\\": \\\"right\\\", \\\"scale\\\": \\\"x\\\"}, \\\"y\\\": {\\\"field\\\": \\\"count\\\", \\\"scale\\\": \\\"y\\\"}, \\\"y2\\\": {\\\"value\\\": 0, \\\"scale\\\": \\\"y\\\"}, \\\"x\\\": {\\\"field\\\": \\\"left\\\", \\\"scale\\\": \\\"x\\\"}}}, \\\"from\\\": {\\\"data\\\": \\\"new_data\\\"}}], \\\"encode\\\": {\\\"update\\\": {\\\"clip\\\": {\\\"field\\\": \\\"c_clip_val\\\"}, \\\"x\\\": {\\\"signal\\\": \\\"datum[\\\\\\\"c_x_axis_back\\\\\\\"]+87\\\"}, \\\"width\\\": {\\\"field\\\": \\\"c_width_numeric_val\\\"}}, \\\"enter\\\": {\\\"height\\\": {\\\"value\\\": 150}, \\\"strokeWidth\\\": {\\\"value\\\": 0}, \\\"y\\\": {\\\"field\\\": \\\"graph_offset\\\"}, \\\"x\\\": {\\\"value\\\": 120}, \\\"width\\\": {\\\"value\\\": 250}, \\\"fill\\\": {\\\"value\\\": \\\"#ffffff\\\"}, \\\"fillOpacity\\\": {\\\"value\\\": 0}, \\\"stroke\\\": {\\\"value\\\": \\\"#000000\\\"}}}, \\\"scales\\\": [{\\\"type\\\": \\\"linear\\\", \\\"name\\\": \\\"x\\\", \\\"range\\\": [0, {\\\"signal\\\": \\\"width\\\"}], \\\"nice\\\": true, \\\"zero\\\": true, \\\"domain\\\": {\\\"sort\\\": true, \\\"data\\\": \\\"new_data\\\", \\\"fields\\\": [\\\"left\\\", \\\"right\\\"]}}, {\\\"type\\\": \\\"linear\\\", \\\"name\\\": \\\"y\\\", \\\"range\\\": [{\\\"signal\\\": \\\"height\\\"}, 0], \\\"nice\\\": true, \\\"zero\\\": true, \\\"domain\\\": {\\\"field\\\": \\\"count\\\", \\\"data\\\": \\\"new_data\\\"}}], \\\"style\\\": \\\"cell\\\", \\\"from\\\": {\\\"facet\\\": {\\\"field\\\": \\\"numeric\\\", \\\"data\\\": \\\"data_2\\\", \\\"name\\\": \\\"new_data\\\"}}, \\\"axes\\\": [{\\\"zindex\\\": 1, \\\"labelOverlap\\\": true, \\\"tickCount\\\": {\\\"signal\\\": \\\"ceil(width/40)\\\"}, \\\"scale\\\": \\\"x\\\", \\\"orient\\\": \\\"bottom\\\", \\\"title\\\": \\\"Values\\\"}, {\\\"zindex\\\": 0, \\\"tickCount\\\": {\\\"signal\\\": \\\"ceil(width/40)\\\"}, \\\"ticks\\\": false, \\\"scale\\\": \\\"x\\\", \\\"orient\\\": \\\"bottom\\\", \\\"gridScale\\\": \\\"y\\\", \\\"labels\\\": false, \\\"minExtent\\\": 0, \\\"maxExtent\\\": 0, \\\"grid\\\": true, \\\"domain\\\": false}, {\\\"zindex\\\": 1, \\\"labelOverlap\\\": true, \\\"tickCount\\\": {\\\"signal\\\": \\\"ceil(height/40)\\\"}, \\\"scale\\\": \\\"y\\\", \\\"orient\\\": \\\"left\\\", \\\"title\\\": \\\"Count\\\"}, {\\\"zindex\\\": 0, \\\"tickCount\\\": {\\\"signal\\\": \\\"ceil(height/40)\\\"}, \\\"ticks\\\": false, \\\"scale\\\": \\\"y\\\", \\\"orient\\\": \\\"left\\\", \\\"gridScale\\\": \\\"x\\\", \\\"labels\\\": false, \\\"minExtent\\\": 0, \\\"maxExtent\\\": 0, \\\"grid\\\": true, \\\"domain\\\": false}]}, {\\\"type\\\": \\\"group\\\", \\\"signals\\\": [{\\\"on\\\": [{\\\"events\\\": \\\"mousemove\\\", \\\"update\\\": \\\"isTuple(group()) ? group() : unit\\\"}], \\\"value\\\": {}, \\\"name\\\": \\\"unit\\\"}, {\\\"name\\\": \\\"pts\\\", \\\"update\\\": \\\"data(\\\\\\\"pts_store\\\\\\\").length &amp;&amp; {count: data(\\\\\\\"pts_store\\\\\\\")[0].values[0]}\\\"}, {\\\"on\\\": [{\\\"force\\\": true, \\\"events\\\": [{\\\"type\\\": \\\"click\\\", \\\"source\\\": \\\"scope\\\"}], \\\"update\\\": \\\"datum &amp;&amp; item().mark.marktype !== &apos;group&apos; ? {unit: \\\\\\\"\\\\\\\", encodings: [\\\\\\\"x\\\\\\\"], fields: [\\\\\\\"count\\\\\\\"], values: [datum[\\\\\\\"count\\\\\\\"]]} : null\\\"}], \\\"value\\\": {}, \\\"name\\\": \\\"pts_tuple\\\"}, {\\\"on\\\": [{\\\"events\\\": {\\\"signal\\\": \\\"pts_tuple\\\"}, \\\"update\\\": \\\"modify(\\\\\\\"pts_store\\\\\\\", pts_tuple, true)\\\"}], \\\"name\\\": \\\"pts_modify\\\"}], \\\"marks\\\": [{\\\"type\\\": \\\"rect\\\", \\\"style\\\": [\\\"bar\\\"], \\\"name\\\": \\\"marks\\\", \\\"encode\\\": {\\\"hover\\\": {\\\"fill\\\": {\\\"value\\\": \\\"#7EC2F3\\\"}}, \\\"update\\\": {\\\"fill\\\": {\\\"value\\\": \\\"#108EE9\\\"}, \\\"height\\\": {\\\"scale\\\": \\\"y\\\", \\\"band\\\": true}, \\\"x2\\\": {\\\"value\\\": 0, \\\"scale\\\": \\\"x\\\"}, \\\"y\\\": {\\\"field\\\": \\\"label\\\", \\\"scale\\\": \\\"y\\\"}, \\\"x\\\": {\\\"field\\\": \\\"count\\\", \\\"scale\\\": \\\"x\\\"}}}, \\\"from\\\": {\\\"data\\\": \\\"data_5\\\"}}], \\\"encode\\\": {\\\"update\\\": {\\\"clip\\\": {\\\"field\\\": \\\"c_clip_val_cat\\\"}, \\\"x\\\": {\\\"signal\\\": \\\"datum[\\\\\\\"c_x_axis_back\\\\\\\"]+137\\\"}, \\\"width\\\": {\\\"field\\\": \\\"c_width_numeric_val_cat\\\"}}, \\\"enter\\\": {\\\"height\\\": {\\\"value\\\": 150}, \\\"strokeWidth\\\": {\\\"value\\\": 0}, \\\"y\\\": {\\\"field\\\": \\\"graph_offset_categorical\\\"}, \\\"x\\\": {\\\"value\\\": 170}, \\\"width\\\": {\\\"value\\\": 250}, \\\"fill\\\": {\\\"value\\\": \\\"#ffffff\\\"}, \\\"fillOpacity\\\": {\\\"value\\\": 0}, \\\"stroke\\\": {\\\"value\\\": \\\"#000000\\\"}}}, \\\"from\\\": {\\\"facet\\\": {\\\"field\\\": \\\"categorical\\\", \\\"data\\\": \\\"data_2\\\", \\\"name\\\": \\\"data_5\\\"}}, \\\"style\\\": \\\"cell\\\", \\\"scales\\\": [{\\\"type\\\": \\\"linear\\\", \\\"name\\\": \\\"x\\\", \\\"range\\\": [0, 250], \\\"nice\\\": true, \\\"zero\\\": true, \\\"domain\\\": {\\\"field\\\": \\\"count\\\", \\\"data\\\": \\\"data_5\\\"}}, {\\\"type\\\": \\\"band\\\", \\\"range\\\": [150, 0], \\\"paddingInner\\\": 0.1, \\\"name\\\": \\\"y\\\", \\\"paddingOuter\\\": 0.05, \\\"domain\\\": {\\\"sort\\\": {\\\"field\\\": \\\"label_idx\\\", \\\"order\\\": \\\"descending\\\", \\\"op\\\": \\\"mean\\\"}, \\\"field\\\": \\\"label\\\", \\\"data\\\": \\\"data_5\\\"}}], \\\"axes\\\": [{\\\"zindex\\\": 1, \\\"labelOverlap\\\": true, \\\"tickCount\\\": {\\\"signal\\\": \\\"ceil(width/40)\\\"}, \\\"title\\\": \\\"Count\\\", \\\"orient\\\": \\\"top\\\", \\\"scale\\\": \\\"x\\\"}, {\\\"zindex\\\": 0, \\\"tickCount\\\": {\\\"signal\\\": \\\"ceil(width/40)\\\"}, \\\"ticks\\\": false, \\\"scale\\\": \\\"x\\\", \\\"orient\\\": \\\"top\\\", \\\"gridScale\\\": \\\"y\\\", \\\"labels\\\": false, \\\"minExtent\\\": 0, \\\"maxExtent\\\": 0, \\\"grid\\\": true, \\\"domain\\\": false}, {\\\"title\\\": \\\"Label\\\", \\\"labelOverlap\\\": true, \\\"scale\\\": \\\"y\\\", \\\"orient\\\": \\\"left\\\", \\\"zindex\\\": 1}]}], \\\"encode\\\": {\\\"enter\\\": {\\\"height\\\": {\\\"value\\\": 366}, \\\"strokeWidth\\\": {\\\"value\\\": 0}, \\\"y\\\": {\\\"value\\\": 0}, \\\"x\\\": {\\\"value\\\": 0}, \\\"width\\\": {\\\"value\\\": 734}, \\\"fill\\\": {\\\"value\\\": \\\"#ffffff\\\"}, \\\"clip\\\": {\\\"value\\\": 0}, \\\"fillOpacity\\\": {\\\"value\\\": 0}, \\\"stroke\\\": {\\\"value\\\": \\\"#000000\\\"}}}, \\\"type\\\": \\\"group\\\", \\\"axes\\\": []}], \\\"encode\\\": {\\\"enter\\\": {\\\"height\\\": {\\\"value\\\": 366}, \\\"strokeWidth\\\": {\\\"value\\\": 0}, \\\"y\\\": {\\\"value\\\": 0}, \\\"x\\\": {\\\"value\\\": 0}, \\\"width\\\": {\\\"value\\\": 734}, \\\"fill\\\": {\\\"value\\\": \\\"#ffffff\\\"}, \\\"clip\\\": {\\\"value\\\": 0}, \\\"fillOpacity\\\": {\\\"value\\\": 0}, \\\"stroke\\\": {\\\"value\\\": \\\"#000000\\\"}}}}], \\\"padding\\\": 0, \\\"width\\\": 800, \\\"$schema\\\": \\\"https://vega.github.io/schema/vega/v4.json\\\", \\\"config\\\": {\\\"axisY\\\": {\\\"minExtent\\\": 30}, \\\"axis\\\": {\\\"titleFontSize\\\": 12, \\\"titleColor\\\": \\\"#595959\\\", \\\"labelFontSize\\\": 7, \\\"labelFont\\\": \\\"HelveticaNeue-Light, Arial\\\", \\\"labelColor\\\": \\\"#595959\\\", \\\"titlePadding\\\": 9, \\\"labelPadding\\\": 10, \\\"titleFontWeight\\\": \\\"normal\\\", \\\"titleFont\\\": \\\"HelveticaNeue-Light, Arial\\\"}, \\\"style\\\": {\\\"group-title\\\": {\\\"fill\\\": \\\"#595959\\\", \\\"font\\\": \\\"HelveticaNeue-Light, Arial\\\", \\\"fontSize\\\": 20, \\\"fontWeight\\\": \\\"normal\\\"}, \\\"rect\\\": {\\\"stroke\\\": \\\"rgba(200, 200, 200, 0.5)\\\"}}}, \\\"metadata\\\": {\\\"bubbleOpts\\\": {\\\"fields\\\": [{\\\"field\\\": \\\"left\\\"}, {\\\"field\\\": \\\"right\\\"}, {\\\"field\\\": \\\"count\\\"}, {\\\"field\\\": \\\"label\\\"}], \\\"showAllFields\\\": false}}}\";                                 var vega_json_parsed = JSON.parse(vega_json);                                 var toolTipOpts = {                                     showAllFields: true                                 };                                 if(vega_json_parsed[\"metadata\"] != null){                                     if(vega_json_parsed[\"metadata\"][\"bubbleOpts\"] != null){                                         toolTipOpts = vega_json_parsed[\"metadata\"][\"bubbleOpts\"];                                     };                                 };                                 vegaEmbed(\"#vis\", vega_json_parsed).then(function (result) {                                     vegaTooltip.vega(result.view, toolTipOpts);                                  });                             </script>                         </body>                     </html>' src=\"demo_iframe_srcdoc.htm\">                         <p>Your browser does not support iframes.</p>                     </iframe>                 </body>             </html>"
      ],
      "text/plain": [
       "<IPython.core.display.HTML object>"
      ]
     },
     "metadata": {},
     "output_type": "display_data"
    },
    {
     "name": "stderr",
     "output_type": "stream",
     "text": [
      "/Users/Ryan/anaconda/lib/python3.5/json/encoder.py:198: DeprecationWarning: Interpreting naive datetime as local 2018-10-27 12:46:55.886335. Please add timezone info to timestamps.\n",
      "  chunks = self.iterencode(o, _one_shot=True)\n"
     ]
    }
   ],
   "source": [
    "#graphlab is deprecated so we are using turi create from Apple\n",
    "#make Sframe out of pandas dataframe\n",
    "import turicreate as tc\n",
    "from turicreate import SFrame\n",
    "sf_reviews = SFrame(data=df_reviews2)\n",
    "sf_reviews.show()\n"
   ]
  },
  {
   "cell_type": "code",
   "execution_count": 179,
   "metadata": {},
   "outputs": [
    {
     "data": {
      "text/plain": [
       "dtype: float\n",
       "Rows: 47218\n",
       "[5.0, 4.0, 5.0, 1.0, 4.0, 4.0, 5.0, 4.0, 5.0, 3.0, 5.0, 2.0, 5.0, 2.0, 3.0, 4.0, 5.0, 5.0, 5.0, 3.0, 1.0, 2.0, 4.0, 3.0, 4.0, 5.0, 5.0, 5.0, 5.0, 4.0, 4.0, 4.0, 1.0, 4.0, 2.0, 2.0, 4.0, 4.0, 5.0, 5.0, 5.0, 5.0, 5.0, 4.0, 5.0, 3.0, 5.0, 1.0, 4.0, 5.0, 5.0, 5.0, 2.0, 1.0, 2.0, 5.0, 4.0, 5.0, 1.0, 5.0, 1.0, 4.0, 2.0, 5.0, 5.0, 5.0, 4.0, 4.0, 2.0, 5.0, 5.0, 3.0, 4.0, 5.0, 5.0, 5.0, 5.0, 4.0, 5.0, 5.0, 4.0, 3.0, 4.0, 5.0, 5.0, 5.0, 5.0, 3.0, 4.0, 3.0, 5.0, 5.0, 4.0, 5.0, 5.0, 4.0, 1.0, 3.0, 4.0, 5.0, ... ]"
      ]
     },
     "execution_count": 179,
     "metadata": {},
     "output_type": "execute_result"
    },
    {
     "name": "stderr",
     "output_type": "stream",
     "text": [
      "/Users/Ryan/anaconda/lib/python3.5/json/encoder.py:198: DeprecationWarning: Interpreting naive datetime as local 2018-10-27 12:47:11.097841. Please add timezone info to timestamps.\n",
      "  chunks = self.iterencode(o, _one_shot=True)\n"
     ]
    }
   ],
   "source": [
    "sf_reviews['ReviewScores']"
   ]
  },
  {
   "cell_type": "code",
   "execution_count": 180,
   "metadata": {},
   "outputs": [
    {
     "name": "stderr",
     "output_type": "stream",
     "text": [
      "/Users/Ryan/anaconda/lib/python3.5/json/encoder.py:198: DeprecationWarning: Interpreting naive datetime as local 2018-10-27 12:47:19.784965. Please add timezone info to timestamps.\n",
      "  chunks = self.iterencode(o, _one_shot=True)\n"
     ]
    }
   ],
   "source": [
    "#train test split\n",
    "#this is for now, we will likely use specific usernames later to test\n",
    "training_data, validation_data = tc.recommender.util.random_split_by_user(sf_reviews, user_id='Author', item_id='Hotel')\n"
   ]
  },
  {
   "cell_type": "code",
   "execution_count": null,
   "metadata": {},
   "outputs": [],
   "source": [
    "#model = tc.load_model(\"collab.model\")"
   ]
  },
  {
   "cell_type": "code",
   "execution_count": 181,
   "metadata": {},
   "outputs": [
    {
     "data": {
      "text/html": [
       "<pre>Recsys training: model = item_similarity</pre>"
      ],
      "text/plain": [
       "Recsys training: model = item_similarity"
      ]
     },
     "metadata": {},
     "output_type": "display_data"
    },
    {
     "data": {
      "text/html": [
       "<pre>Warning: Ignoring columns AuthorLocation, BusServ, CheckIn, Cleanliness, HotelID, HotelLocation, Location, PriceMax, PriceMin, Review, Rooms, Service, Sleep Quality, Value, ReviewScores;</pre>"
      ],
      "text/plain": [
       "Warning: Ignoring columns AuthorLocation, BusServ, CheckIn, Cleanliness, HotelID, HotelLocation, Location, PriceMax, PriceMin, Review, Rooms, Service, Sleep Quality, Value, ReviewScores;"
      ]
     },
     "metadata": {},
     "output_type": "display_data"
    },
    {
     "data": {
      "text/html": [
       "<pre>    To use these columns in scoring predictions, use a model that allows the use of additional features.</pre>"
      ],
      "text/plain": [
       "    To use these columns in scoring predictions, use a model that allows the use of additional features."
      ]
     },
     "metadata": {},
     "output_type": "display_data"
    },
    {
     "data": {
      "text/html": [
       "<pre>Preparing data set.</pre>"
      ],
      "text/plain": [
       "Preparing data set."
      ]
     },
     "metadata": {},
     "output_type": "display_data"
    },
    {
     "data": {
      "text/html": [
       "<pre>    Data has 47009 observations with 41758 users and 178 items.</pre>"
      ],
      "text/plain": [
       "    Data has 47009 observations with 41758 users and 178 items."
      ]
     },
     "metadata": {},
     "output_type": "display_data"
    },
    {
     "data": {
      "text/html": [
       "<pre>    Data prepared in: 0.144009s</pre>"
      ],
      "text/plain": [
       "    Data prepared in: 0.144009s"
      ]
     },
     "metadata": {},
     "output_type": "display_data"
    },
    {
     "data": {
      "text/html": [
       "<pre>Training model from provided data.</pre>"
      ],
      "text/plain": [
       "Training model from provided data."
      ]
     },
     "metadata": {},
     "output_type": "display_data"
    },
    {
     "data": {
      "text/html": [
       "<pre>Gathering per-item and per-user statistics.</pre>"
      ],
      "text/plain": [
       "Gathering per-item and per-user statistics."
      ]
     },
     "metadata": {},
     "output_type": "display_data"
    },
    {
     "data": {
      "text/html": [
       "<pre>+--------------------------------+------------+</pre>"
      ],
      "text/plain": [
       "+--------------------------------+------------+"
      ]
     },
     "metadata": {},
     "output_type": "display_data"
    },
    {
     "data": {
      "text/html": [
       "<pre>| Elapsed Time (Item Statistics) | % Complete |</pre>"
      ],
      "text/plain": [
       "| Elapsed Time (Item Statistics) | % Complete |"
      ]
     },
     "metadata": {},
     "output_type": "display_data"
    },
    {
     "data": {
      "text/html": [
       "<pre>+--------------------------------+------------+</pre>"
      ],
      "text/plain": [
       "+--------------------------------+------------+"
      ]
     },
     "metadata": {},
     "output_type": "display_data"
    },
    {
     "data": {
      "text/html": [
       "<pre>| 4.115ms                        | 2.25       |</pre>"
      ],
      "text/plain": [
       "| 4.115ms                        | 2.25       |"
      ]
     },
     "metadata": {},
     "output_type": "display_data"
    },
    {
     "data": {
      "text/html": [
       "<pre>| 13.834ms                       | 100        |</pre>"
      ],
      "text/plain": [
       "| 13.834ms                       | 100        |"
      ]
     },
     "metadata": {},
     "output_type": "display_data"
    },
    {
     "data": {
      "text/html": [
       "<pre>+--------------------------------+------------+</pre>"
      ],
      "text/plain": [
       "+--------------------------------+------------+"
      ]
     },
     "metadata": {},
     "output_type": "display_data"
    },
    {
     "data": {
      "text/html": [
       "<pre>Setting up lookup tables.</pre>"
      ],
      "text/plain": [
       "Setting up lookup tables."
      ]
     },
     "metadata": {},
     "output_type": "display_data"
    },
    {
     "data": {
      "text/html": [
       "<pre>Processing data in one pass using dense lookup tables.</pre>"
      ],
      "text/plain": [
       "Processing data in one pass using dense lookup tables."
      ]
     },
     "metadata": {},
     "output_type": "display_data"
    },
    {
     "data": {
      "text/html": [
       "<pre>+-------------------------------------+------------------+-----------------+</pre>"
      ],
      "text/plain": [
       "+-------------------------------------+------------------+-----------------+"
      ]
     },
     "metadata": {},
     "output_type": "display_data"
    },
    {
     "data": {
      "text/html": [
       "<pre>| Elapsed Time (Constructing Lookups) | Total % Complete | Items Processed |</pre>"
      ],
      "text/plain": [
       "| Elapsed Time (Constructing Lookups) | Total % Complete | Items Processed |"
      ]
     },
     "metadata": {},
     "output_type": "display_data"
    },
    {
     "data": {
      "text/html": [
       "<pre>+-------------------------------------+------------------+-----------------+</pre>"
      ],
      "text/plain": [
       "+-------------------------------------+------------------+-----------------+"
      ]
     },
     "metadata": {},
     "output_type": "display_data"
    },
    {
     "data": {
      "text/html": [
       "<pre>| 19.19ms                             | 0                | 0               |</pre>"
      ],
      "text/plain": [
       "| 19.19ms                             | 0                | 0               |"
      ]
     },
     "metadata": {},
     "output_type": "display_data"
    },
    {
     "data": {
      "text/html": [
       "<pre>| 33.66ms                             | 100              | 178             |</pre>"
      ],
      "text/plain": [
       "| 33.66ms                             | 100              | 178             |"
      ]
     },
     "metadata": {},
     "output_type": "display_data"
    },
    {
     "data": {
      "text/html": [
       "<pre>+-------------------------------------+------------------+-----------------+</pre>"
      ],
      "text/plain": [
       "+-------------------------------------+------------------+-----------------+"
      ]
     },
     "metadata": {},
     "output_type": "display_data"
    },
    {
     "data": {
      "text/html": [
       "<pre>Finalizing lookup tables.</pre>"
      ],
      "text/plain": [
       "Finalizing lookup tables."
      ]
     },
     "metadata": {},
     "output_type": "display_data"
    },
    {
     "data": {
      "text/html": [
       "<pre>Generating candidate set for working with new users.</pre>"
      ],
      "text/plain": [
       "Generating candidate set for working with new users."
      ]
     },
     "metadata": {},
     "output_type": "display_data"
    },
    {
     "data": {
      "text/html": [
       "<pre>Finished training in 1.04803s</pre>"
      ],
      "text/plain": [
       "Finished training in 1.04803s"
      ]
     },
     "metadata": {},
     "output_type": "display_data"
    },
    {
     "name": "stderr",
     "output_type": "stream",
     "text": [
      "/Users/Ryan/anaconda/lib/python3.5/json/encoder.py:198: DeprecationWarning: Interpreting naive datetime as local 2018-10-27 12:47:25.079866. Please add timezone info to timestamps.\n",
      "  chunks = self.iterencode(o, _one_shot=True)\n"
     ]
    }
   ],
   "source": [
    "#collaborative filtering model\n",
    "model = tc.item_similarity_recommender.create(training_data, user_id='Author', item_id='Hotel', target=\"Overall\")\n",
    "model.save(\"collab.model\")\n"
   ]
  },
  {
   "cell_type": "code",
   "execution_count": 182,
   "metadata": {},
   "outputs": [
    {
     "data": {
      "text/html": [
       "<pre>recommendations finished on 1000/41758 queries. users per second: 161891</pre>"
      ],
      "text/plain": [
       "recommendations finished on 1000/41758 queries. users per second: 161891"
      ]
     },
     "metadata": {},
     "output_type": "display_data"
    },
    {
     "data": {
      "text/html": [
       "<pre>recommendations finished on 2000/41758 queries. users per second: 151757</pre>"
      ],
      "text/plain": [
       "recommendations finished on 2000/41758 queries. users per second: 151757"
      ]
     },
     "metadata": {},
     "output_type": "display_data"
    },
    {
     "data": {
      "text/html": [
       "<pre>recommendations finished on 3000/41758 queries. users per second: 178923</pre>"
      ],
      "text/plain": [
       "recommendations finished on 3000/41758 queries. users per second: 178923"
      ]
     },
     "metadata": {},
     "output_type": "display_data"
    },
    {
     "data": {
      "text/html": [
       "<pre>recommendations finished on 4000/41758 queries. users per second: 154297</pre>"
      ],
      "text/plain": [
       "recommendations finished on 4000/41758 queries. users per second: 154297"
      ]
     },
     "metadata": {},
     "output_type": "display_data"
    },
    {
     "data": {
      "text/html": [
       "<pre>recommendations finished on 5000/41758 queries. users per second: 151837</pre>"
      ],
      "text/plain": [
       "recommendations finished on 5000/41758 queries. users per second: 151837"
      ]
     },
     "metadata": {},
     "output_type": "display_data"
    },
    {
     "data": {
      "text/html": [
       "<pre>recommendations finished on 6000/41758 queries. users per second: 142494</pre>"
      ],
      "text/plain": [
       "recommendations finished on 6000/41758 queries. users per second: 142494"
      ]
     },
     "metadata": {},
     "output_type": "display_data"
    },
    {
     "data": {
      "text/html": [
       "<pre>recommendations finished on 7000/41758 queries. users per second: 153657</pre>"
      ],
      "text/plain": [
       "recommendations finished on 7000/41758 queries. users per second: 153657"
      ]
     },
     "metadata": {},
     "output_type": "display_data"
    },
    {
     "data": {
      "text/html": [
       "<pre>recommendations finished on 8000/41758 queries. users per second: 149886</pre>"
      ],
      "text/plain": [
       "recommendations finished on 8000/41758 queries. users per second: 149886"
      ]
     },
     "metadata": {},
     "output_type": "display_data"
    },
    {
     "data": {
      "text/html": [
       "<pre>recommendations finished on 9000/41758 queries. users per second: 155529</pre>"
      ],
      "text/plain": [
       "recommendations finished on 9000/41758 queries. users per second: 155529"
      ]
     },
     "metadata": {},
     "output_type": "display_data"
    },
    {
     "data": {
      "text/html": [
       "<pre>recommendations finished on 10000/41758 queries. users per second: 145389</pre>"
      ],
      "text/plain": [
       "recommendations finished on 10000/41758 queries. users per second: 145389"
      ]
     },
     "metadata": {},
     "output_type": "display_data"
    },
    {
     "data": {
      "text/html": [
       "<pre>recommendations finished on 11000/41758 queries. users per second: 152367</pre>"
      ],
      "text/plain": [
       "recommendations finished on 11000/41758 queries. users per second: 152367"
      ]
     },
     "metadata": {},
     "output_type": "display_data"
    },
    {
     "data": {
      "text/html": [
       "<pre>recommendations finished on 12000/41758 queries. users per second: 158128</pre>"
      ],
      "text/plain": [
       "recommendations finished on 12000/41758 queries. users per second: 158128"
      ]
     },
     "metadata": {},
     "output_type": "display_data"
    },
    {
     "data": {
      "text/html": [
       "<pre>recommendations finished on 13000/41758 queries. users per second: 162141</pre>"
      ],
      "text/plain": [
       "recommendations finished on 13000/41758 queries. users per second: 162141"
      ]
     },
     "metadata": {},
     "output_type": "display_data"
    },
    {
     "data": {
      "text/html": [
       "<pre>recommendations finished on 14000/41758 queries. users per second: 151396</pre>"
      ],
      "text/plain": [
       "recommendations finished on 14000/41758 queries. users per second: 151396"
      ]
     },
     "metadata": {},
     "output_type": "display_data"
    },
    {
     "data": {
      "text/html": [
       "<pre>recommendations finished on 15000/41758 queries. users per second: 150557</pre>"
      ],
      "text/plain": [
       "recommendations finished on 15000/41758 queries. users per second: 150557"
      ]
     },
     "metadata": {},
     "output_type": "display_data"
    },
    {
     "data": {
      "text/html": [
       "<pre>recommendations finished on 16000/41758 queries. users per second: 133056</pre>"
      ],
      "text/plain": [
       "recommendations finished on 16000/41758 queries. users per second: 133056"
      ]
     },
     "metadata": {},
     "output_type": "display_data"
    },
    {
     "data": {
      "text/html": [
       "<pre>recommendations finished on 17000/41758 queries. users per second: 130854</pre>"
      ],
      "text/plain": [
       "recommendations finished on 17000/41758 queries. users per second: 130854"
      ]
     },
     "metadata": {},
     "output_type": "display_data"
    },
    {
     "data": {
      "text/html": [
       "<pre>recommendations finished on 18000/41758 queries. users per second: 123147</pre>"
      ],
      "text/plain": [
       "recommendations finished on 18000/41758 queries. users per second: 123147"
      ]
     },
     "metadata": {},
     "output_type": "display_data"
    },
    {
     "data": {
      "text/html": [
       "<pre>recommendations finished on 19000/41758 queries. users per second: 122916</pre>"
      ],
      "text/plain": [
       "recommendations finished on 19000/41758 queries. users per second: 122916"
      ]
     },
     "metadata": {},
     "output_type": "display_data"
    },
    {
     "data": {
      "text/html": [
       "<pre>recommendations finished on 20000/41758 queries. users per second: 122505</pre>"
      ],
      "text/plain": [
       "recommendations finished on 20000/41758 queries. users per second: 122505"
      ]
     },
     "metadata": {},
     "output_type": "display_data"
    },
    {
     "data": {
      "text/html": [
       "<pre>recommendations finished on 21000/41758 queries. users per second: 124440</pre>"
      ],
      "text/plain": [
       "recommendations finished on 21000/41758 queries. users per second: 124440"
      ]
     },
     "metadata": {},
     "output_type": "display_data"
    },
    {
     "data": {
      "text/html": [
       "<pre>recommendations finished on 22000/41758 queries. users per second: 126140</pre>"
      ],
      "text/plain": [
       "recommendations finished on 22000/41758 queries. users per second: 126140"
      ]
     },
     "metadata": {},
     "output_type": "display_data"
    },
    {
     "data": {
      "text/html": [
       "<pre>recommendations finished on 23000/41758 queries. users per second: 127712</pre>"
      ],
      "text/plain": [
       "recommendations finished on 23000/41758 queries. users per second: 127712"
      ]
     },
     "metadata": {},
     "output_type": "display_data"
    },
    {
     "data": {
      "text/html": [
       "<pre>recommendations finished on 24000/41758 queries. users per second: 127986</pre>"
      ],
      "text/plain": [
       "recommendations finished on 24000/41758 queries. users per second: 127986"
      ]
     },
     "metadata": {},
     "output_type": "display_data"
    },
    {
     "data": {
      "text/html": [
       "<pre>recommendations finished on 25000/41758 queries. users per second: 130191</pre>"
      ],
      "text/plain": [
       "recommendations finished on 25000/41758 queries. users per second: 130191"
      ]
     },
     "metadata": {},
     "output_type": "display_data"
    },
    {
     "data": {
      "text/html": [
       "<pre>recommendations finished on 26000/41758 queries. users per second: 132683</pre>"
      ],
      "text/plain": [
       "recommendations finished on 26000/41758 queries. users per second: 132683"
      ]
     },
     "metadata": {},
     "output_type": "display_data"
    },
    {
     "data": {
      "text/html": [
       "<pre>recommendations finished on 27000/41758 queries. users per second: 133202</pre>"
      ],
      "text/plain": [
       "recommendations finished on 27000/41758 queries. users per second: 133202"
      ]
     },
     "metadata": {},
     "output_type": "display_data"
    },
    {
     "data": {
      "text/html": [
       "<pre>recommendations finished on 28000/41758 queries. users per second: 133780</pre>"
      ],
      "text/plain": [
       "recommendations finished on 28000/41758 queries. users per second: 133780"
      ]
     },
     "metadata": {},
     "output_type": "display_data"
    },
    {
     "data": {
      "text/html": [
       "<pre>recommendations finished on 29000/41758 queries. users per second: 135531</pre>"
      ],
      "text/plain": [
       "recommendations finished on 29000/41758 queries. users per second: 135531"
      ]
     },
     "metadata": {},
     "output_type": "display_data"
    },
    {
     "data": {
      "text/html": [
       "<pre>recommendations finished on 30000/41758 queries. users per second: 136223</pre>"
      ],
      "text/plain": [
       "recommendations finished on 30000/41758 queries. users per second: 136223"
      ]
     },
     "metadata": {},
     "output_type": "display_data"
    },
    {
     "data": {
      "text/html": [
       "<pre>recommendations finished on 31000/41758 queries. users per second: 136795</pre>"
      ],
      "text/plain": [
       "recommendations finished on 31000/41758 queries. users per second: 136795"
      ]
     },
     "metadata": {},
     "output_type": "display_data"
    },
    {
     "data": {
      "text/html": [
       "<pre>recommendations finished on 32000/41758 queries. users per second: 137222</pre>"
      ],
      "text/plain": [
       "recommendations finished on 32000/41758 queries. users per second: 137222"
      ]
     },
     "metadata": {},
     "output_type": "display_data"
    },
    {
     "data": {
      "text/html": [
       "<pre>recommendations finished on 33000/41758 queries. users per second: 136452</pre>"
      ],
      "text/plain": [
       "recommendations finished on 33000/41758 queries. users per second: 136452"
      ]
     },
     "metadata": {},
     "output_type": "display_data"
    },
    {
     "data": {
      "text/html": [
       "<pre>recommendations finished on 34000/41758 queries. users per second: 138506</pre>"
      ],
      "text/plain": [
       "recommendations finished on 34000/41758 queries. users per second: 138506"
      ]
     },
     "metadata": {},
     "output_type": "display_data"
    },
    {
     "data": {
      "text/html": [
       "<pre>recommendations finished on 35000/41758 queries. users per second: 134965</pre>"
      ],
      "text/plain": [
       "recommendations finished on 35000/41758 queries. users per second: 134965"
      ]
     },
     "metadata": {},
     "output_type": "display_data"
    },
    {
     "data": {
      "text/html": [
       "<pre>recommendations finished on 36000/41758 queries. users per second: 136836</pre>"
      ],
      "text/plain": [
       "recommendations finished on 36000/41758 queries. users per second: 136836"
      ]
     },
     "metadata": {},
     "output_type": "display_data"
    },
    {
     "data": {
      "text/html": [
       "<pre>recommendations finished on 37000/41758 queries. users per second: 136946</pre>"
      ],
      "text/plain": [
       "recommendations finished on 37000/41758 queries. users per second: 136946"
      ]
     },
     "metadata": {},
     "output_type": "display_data"
    },
    {
     "data": {
      "text/html": [
       "<pre>recommendations finished on 38000/41758 queries. users per second: 137169</pre>"
      ],
      "text/plain": [
       "recommendations finished on 38000/41758 queries. users per second: 137169"
      ]
     },
     "metadata": {},
     "output_type": "display_data"
    },
    {
     "data": {
      "text/html": [
       "<pre>recommendations finished on 39000/41758 queries. users per second: 138886</pre>"
      ],
      "text/plain": [
       "recommendations finished on 39000/41758 queries. users per second: 138886"
      ]
     },
     "metadata": {},
     "output_type": "display_data"
    },
    {
     "data": {
      "text/html": [
       "<pre>recommendations finished on 40000/41758 queries. users per second: 140725</pre>"
      ],
      "text/plain": [
       "recommendations finished on 40000/41758 queries. users per second: 140725"
      ]
     },
     "metadata": {},
     "output_type": "display_data"
    },
    {
     "data": {
      "text/html": [
       "<pre>recommendations finished on 41000/41758 queries. users per second: 140902</pre>"
      ],
      "text/plain": [
       "recommendations finished on 41000/41758 queries. users per second: 140902"
      ]
     },
     "metadata": {},
     "output_type": "display_data"
    },
    {
     "name": "stderr",
     "output_type": "stream",
     "text": [
      "/Users/Ryan/anaconda/lib/python3.5/json/encoder.py:198: DeprecationWarning: Interpreting naive datetime as local 2018-10-27 12:47:31.901018. Please add timezone info to timestamps.\n",
      "  chunks = self.iterencode(o, _one_shot=True)\n"
     ]
    }
   ],
   "source": [
    "recs = model.recommend()"
   ]
  },
  {
   "cell_type": "code",
   "execution_count": null,
   "metadata": {},
   "outputs": [],
   "source": [
    "#model2 = tc.load_model(\"factor.model\")"
   ]
  },
  {
   "cell_type": "code",
   "execution_count": 183,
   "metadata": {},
   "outputs": [
    {
     "data": {
      "text/html": [
       "<pre>Recsys training: model = ranking_factorization_recommender</pre>"
      ],
      "text/plain": [
       "Recsys training: model = ranking_factorization_recommender"
      ]
     },
     "metadata": {},
     "output_type": "display_data"
    },
    {
     "data": {
      "text/html": [
       "<pre>Preparing data set.</pre>"
      ],
      "text/plain": [
       "Preparing data set."
      ]
     },
     "metadata": {},
     "output_type": "display_data"
    },
    {
     "data": {
      "text/html": [
       "<pre>    Data has 47009 observations with 41758 users and 178 items.</pre>"
      ],
      "text/plain": [
       "    Data has 47009 observations with 41758 users and 178 items."
      ]
     },
     "metadata": {},
     "output_type": "display_data"
    },
    {
     "data": {
      "text/html": [
       "<pre>    Data prepared in: 0.594681s</pre>"
      ],
      "text/plain": [
       "    Data prepared in: 0.594681s"
      ]
     },
     "metadata": {},
     "output_type": "display_data"
    },
    {
     "data": {
      "text/html": [
       "<pre>Training ranking_factorization_recommender for recommendations.</pre>"
      ],
      "text/plain": [
       "Training ranking_factorization_recommender for recommendations."
      ]
     },
     "metadata": {},
     "output_type": "display_data"
    },
    {
     "data": {
      "text/html": [
       "<pre>+--------------------------------+--------------------------------------------------+----------+</pre>"
      ],
      "text/plain": [
       "+--------------------------------+--------------------------------------------------+----------+"
      ]
     },
     "metadata": {},
     "output_type": "display_data"
    },
    {
     "data": {
      "text/html": [
       "<pre>| Parameter                      | Description                                      | Value    |</pre>"
      ],
      "text/plain": [
       "| Parameter                      | Description                                      | Value    |"
      ]
     },
     "metadata": {},
     "output_type": "display_data"
    },
    {
     "data": {
      "text/html": [
       "<pre>+--------------------------------+--------------------------------------------------+----------+</pre>"
      ],
      "text/plain": [
       "+--------------------------------+--------------------------------------------------+----------+"
      ]
     },
     "metadata": {},
     "output_type": "display_data"
    },
    {
     "data": {
      "text/html": [
       "<pre>| num_factors                    | Factor Dimension                                 | 32       |</pre>"
      ],
      "text/plain": [
       "| num_factors                    | Factor Dimension                                 | 32       |"
      ]
     },
     "metadata": {},
     "output_type": "display_data"
    },
    {
     "data": {
      "text/html": [
       "<pre>| regularization                 | L2 Regularization on Factors                     | 1e-09    |</pre>"
      ],
      "text/plain": [
       "| regularization                 | L2 Regularization on Factors                     | 1e-09    |"
      ]
     },
     "metadata": {},
     "output_type": "display_data"
    },
    {
     "data": {
      "text/html": [
       "<pre>| solver                         | Solver used for training                         | adagrad  |</pre>"
      ],
      "text/plain": [
       "| solver                         | Solver used for training                         | adagrad  |"
      ]
     },
     "metadata": {},
     "output_type": "display_data"
    },
    {
     "data": {
      "text/html": [
       "<pre>| linear_regularization          | L2 Regularization on Linear Coefficients         | 1e-09    |</pre>"
      ],
      "text/plain": [
       "| linear_regularization          | L2 Regularization on Linear Coefficients         | 1e-09    |"
      ]
     },
     "metadata": {},
     "output_type": "display_data"
    },
    {
     "data": {
      "text/html": [
       "<pre>| ranking_regularization         | Rank-based Regularization Weight                 | 0.25     |</pre>"
      ],
      "text/plain": [
       "| ranking_regularization         | Rank-based Regularization Weight                 | 0.25     |"
      ]
     },
     "metadata": {},
     "output_type": "display_data"
    },
    {
     "data": {
      "text/html": [
       "<pre>| max_iterations                 | Maximum Number of Iterations                     | 25       |</pre>"
      ],
      "text/plain": [
       "| max_iterations                 | Maximum Number of Iterations                     | 25       |"
      ]
     },
     "metadata": {},
     "output_type": "display_data"
    },
    {
     "data": {
      "text/html": [
       "<pre>+--------------------------------+--------------------------------------------------+----------+</pre>"
      ],
      "text/plain": [
       "+--------------------------------+--------------------------------------------------+----------+"
      ]
     },
     "metadata": {},
     "output_type": "display_data"
    },
    {
     "data": {
      "text/html": [
       "<pre>  Optimizing model using SGD; tuning step size.</pre>"
      ],
      "text/plain": [
       "  Optimizing model using SGD; tuning step size."
      ]
     },
     "metadata": {},
     "output_type": "display_data"
    },
    {
     "data": {
      "text/html": [
       "<pre>  Using 10000 / 47009 points for tuning the step size.</pre>"
      ],
      "text/plain": [
       "  Using 10000 / 47009 points for tuning the step size."
      ]
     },
     "metadata": {},
     "output_type": "display_data"
    },
    {
     "data": {
      "text/html": [
       "<pre>+---------+-------------------+------------------------------------------+</pre>"
      ],
      "text/plain": [
       "+---------+-------------------+------------------------------------------+"
      ]
     },
     "metadata": {},
     "output_type": "display_data"
    },
    {
     "data": {
      "text/html": [
       "<pre>| Attempt | Initial Step Size | Estimated Objective Value                |</pre>"
      ],
      "text/plain": [
       "| Attempt | Initial Step Size | Estimated Objective Value                |"
      ]
     },
     "metadata": {},
     "output_type": "display_data"
    },
    {
     "data": {
      "text/html": [
       "<pre>+---------+-------------------+------------------------------------------+</pre>"
      ],
      "text/plain": [
       "+---------+-------------------+------------------------------------------+"
      ]
     },
     "metadata": {},
     "output_type": "display_data"
    },
    {
     "data": {
      "text/html": [
       "<pre>| 0       | 2.94118           | Not Viable                               |</pre>"
      ],
      "text/plain": [
       "| 0       | 2.94118           | Not Viable                               |"
      ]
     },
     "metadata": {},
     "output_type": "display_data"
    },
    {
     "data": {
      "text/html": [
       "<pre>| 1       | 0.735294          | Not Viable                               |</pre>"
      ],
      "text/plain": [
       "| 1       | 0.735294          | Not Viable                               |"
      ]
     },
     "metadata": {},
     "output_type": "display_data"
    },
    {
     "data": {
      "text/html": [
       "<pre>| 2       | 0.183824          | Not Viable                               |</pre>"
      ],
      "text/plain": [
       "| 2       | 0.183824          | Not Viable                               |"
      ]
     },
     "metadata": {},
     "output_type": "display_data"
    },
    {
     "data": {
      "text/html": [
       "<pre>| 3       | 0.0459559         | Not Viable                               |</pre>"
      ],
      "text/plain": [
       "| 3       | 0.0459559         | Not Viable                               |"
      ]
     },
     "metadata": {},
     "output_type": "display_data"
    },
    {
     "data": {
      "text/html": [
       "<pre>| 4       | 0.011489          | Not Viable                               |</pre>"
      ],
      "text/plain": [
       "| 4       | 0.011489          | Not Viable                               |"
      ]
     },
     "metadata": {},
     "output_type": "display_data"
    },
    {
     "data": {
      "text/html": [
       "<pre>| 5       | 0.00287224        | Not Viable                               |</pre>"
      ],
      "text/plain": [
       "| 5       | 0.00287224        | Not Viable                               |"
      ]
     },
     "metadata": {},
     "output_type": "display_data"
    },
    {
     "data": {
      "text/html": [
       "<pre>| 6       | 0.000718061       | Not Viable                               |</pre>"
      ],
      "text/plain": [
       "| 6       | 0.000718061       | Not Viable                               |"
      ]
     },
     "metadata": {},
     "output_type": "display_data"
    },
    {
     "data": {
      "text/html": [
       "<pre>| 7       | 0.000179515       | No Decrease (26.6136 >= 2.96614)         |</pre>"
      ],
      "text/plain": [
       "| 7       | 0.000179515       | No Decrease (26.6136 >= 2.96614)         |"
      ]
     },
     "metadata": {},
     "output_type": "display_data"
    },
    {
     "data": {
      "text/html": [
       "<pre>| 8       | 4.48788e-05       | No Decrease (3.56238 >= 2.96614)         |</pre>"
      ],
      "text/plain": [
       "| 8       | 4.48788e-05       | No Decrease (3.56238 >= 2.96614)         |"
      ]
     },
     "metadata": {},
     "output_type": "display_data"
    },
    {
     "data": {
      "text/html": [
       "<pre>| 9       | 1.12197e-05       | 2.95776                                  |</pre>"
      ],
      "text/plain": [
       "| 9       | 1.12197e-05       | 2.95776                                  |"
      ]
     },
     "metadata": {},
     "output_type": "display_data"
    },
    {
     "data": {
      "text/html": [
       "<pre>| 10      | 5.60985e-06       | 2.95044                                  |</pre>"
      ],
      "text/plain": [
       "| 10      | 5.60985e-06       | 2.95044                                  |"
      ]
     },
     "metadata": {},
     "output_type": "display_data"
    },
    {
     "data": {
      "text/html": [
       "<pre>| 11      | 2.80492e-06       | 2.9555                                   |</pre>"
      ],
      "text/plain": [
       "| 11      | 2.80492e-06       | 2.9555                                   |"
      ]
     },
     "metadata": {},
     "output_type": "display_data"
    },
    {
     "data": {
      "text/html": [
       "<pre>| 12      | 1.40246e-06       | 2.96024                                  |</pre>"
      ],
      "text/plain": [
       "| 12      | 1.40246e-06       | 2.96024                                  |"
      ]
     },
     "metadata": {},
     "output_type": "display_data"
    },
    {
     "data": {
      "text/html": [
       "<pre>| 13      | 7.01231e-07       | 2.96296                                  |</pre>"
      ],
      "text/plain": [
       "| 13      | 7.01231e-07       | 2.96296                                  |"
      ]
     },
     "metadata": {},
     "output_type": "display_data"
    },
    {
     "data": {
      "text/html": [
       "<pre>+---------+-------------------+------------------------------------------+</pre>"
      ],
      "text/plain": [
       "+---------+-------------------+------------------------------------------+"
      ]
     },
     "metadata": {},
     "output_type": "display_data"
    },
    {
     "data": {
      "text/html": [
       "<pre>| Final   | 5.60985e-06       | 2.95044                                  |</pre>"
      ],
      "text/plain": [
       "| Final   | 5.60985e-06       | 2.95044                                  |"
      ]
     },
     "metadata": {},
     "output_type": "display_data"
    },
    {
     "data": {
      "text/html": [
       "<pre>+---------+-------------------+------------------------------------------+</pre>"
      ],
      "text/plain": [
       "+---------+-------------------+------------------------------------------+"
      ]
     },
     "metadata": {},
     "output_type": "display_data"
    },
    {
     "data": {
      "text/html": [
       "<pre>Starting Optimization.</pre>"
      ],
      "text/plain": [
       "Starting Optimization."
      ]
     },
     "metadata": {},
     "output_type": "display_data"
    },
    {
     "data": {
      "text/html": [
       "<pre>+---------+--------------+-------------------+-----------------------+-------------+</pre>"
      ],
      "text/plain": [
       "+---------+--------------+-------------------+-----------------------+-------------+"
      ]
     },
     "metadata": {},
     "output_type": "display_data"
    },
    {
     "data": {
      "text/html": [
       "<pre>| Iter.   | Elapsed Time | Approx. Objective | Approx. Training RMSE | Step Size   |</pre>"
      ],
      "text/plain": [
       "| Iter.   | Elapsed Time | Approx. Objective | Approx. Training RMSE | Step Size   |"
      ]
     },
     "metadata": {},
     "output_type": "display_data"
    },
    {
     "data": {
      "text/html": [
       "<pre>+---------+--------------+-------------------+-----------------------+-------------+</pre>"
      ],
      "text/plain": [
       "+---------+--------------+-------------------+-----------------------+-------------+"
      ]
     },
     "metadata": {},
     "output_type": "display_data"
    },
    {
     "data": {
      "text/html": [
       "<pre>| Initial | 159us        | 2.9511            | 1.22646               |             |</pre>"
      ],
      "text/plain": [
       "| Initial | 159us        | 2.9511            | 1.22646               |             |"
      ]
     },
     "metadata": {},
     "output_type": "display_data"
    },
    {
     "data": {
      "text/html": [
       "<pre>+---------+--------------+-------------------+-----------------------+-------------+</pre>"
      ],
      "text/plain": [
       "+---------+--------------+-------------------+-----------------------+-------------+"
      ]
     },
     "metadata": {},
     "output_type": "display_data"
    },
    {
     "data": {
      "text/html": [
       "<pre>| 1       | 791.697ms    | 2.87252           | 1.2213                | 5.60985e-06 |</pre>"
      ],
      "text/plain": [
       "| 1       | 791.697ms    | 2.87252           | 1.2213                | 5.60985e-06 |"
      ]
     },
     "metadata": {},
     "output_type": "display_data"
    },
    {
     "data": {
      "text/html": [
       "<pre>| 2       | 1.39s        | 2.86845           | 1.21833               | 5.60985e-06 |</pre>"
      ],
      "text/plain": [
       "| 2       | 1.39s        | 2.86845           | 1.21833               | 5.60985e-06 |"
      ]
     },
     "metadata": {},
     "output_type": "display_data"
    },
    {
     "data": {
      "text/html": [
       "<pre>| 3       | 2.16s        | 2.86899           | 1.21713               | 5.60985e-06 |</pre>"
      ],
      "text/plain": [
       "| 3       | 2.16s        | 2.86899           | 1.21713               | 5.60985e-06 |"
      ]
     },
     "metadata": {},
     "output_type": "display_data"
    },
    {
     "data": {
      "text/html": [
       "<pre>| 4       | 2.74s        | 2.87147           | 1.21669               | 5.60985e-06 |</pre>"
      ],
      "text/plain": [
       "| 4       | 2.74s        | 2.87147           | 1.21669               | 5.60985e-06 |"
      ]
     },
     "metadata": {},
     "output_type": "display_data"
    },
    {
     "data": {
      "text/html": [
       "<pre>| 5       | 3.34s        | 2.87522           | 1.21681               | 5.60985e-06 |</pre>"
      ],
      "text/plain": [
       "| 5       | 3.34s        | 2.87522           | 1.21681               | 5.60985e-06 |"
      ]
     },
     "metadata": {},
     "output_type": "display_data"
    },
    {
     "data": {
      "text/html": [
       "<pre>| 10      | 6.54s        | 2.90355           | 1.22029               | 5.60985e-06 |</pre>"
      ],
      "text/plain": [
       "| 10      | 6.54s        | 2.90355           | 1.22029               | 5.60985e-06 |"
      ]
     },
     "metadata": {},
     "output_type": "display_data"
    },
    {
     "data": {
      "text/html": [
       "<pre>| 15      | 9.86s        | 2.94457           | 1.22813               | 5.60985e-06 |</pre>"
      ],
      "text/plain": [
       "| 15      | 9.86s        | 2.94457           | 1.22813               | 5.60985e-06 |"
      ]
     },
     "metadata": {},
     "output_type": "display_data"
    },
    {
     "data": {
      "text/html": [
       "<pre>| 20      | 12.49s       | 2.99513           | 1.23871               | 5.60985e-06 |</pre>"
      ],
      "text/plain": [
       "| 20      | 12.49s       | 2.99513           | 1.23871               | 5.60985e-06 |"
      ]
     },
     "metadata": {},
     "output_type": "display_data"
    },
    {
     "data": {
      "text/html": [
       "<pre>| 21      | 13.24s       | DIVERGED          | DIVERGED              | 5.60985e-06 |</pre>"
      ],
      "text/plain": [
       "| 21      | 13.24s       | DIVERGED          | DIVERGED              | 5.60985e-06 |"
      ]
     },
     "metadata": {},
     "output_type": "display_data"
    },
    {
     "data": {
      "text/html": [
       "<pre>| RESET   | 13.46s       | 2.95164           | 1.22661               |             |</pre>"
      ],
      "text/plain": [
       "| RESET   | 13.46s       | 2.95164           | 1.22661               |             |"
      ]
     },
     "metadata": {},
     "output_type": "display_data"
    },
    {
     "data": {
      "text/html": [
       "<pre>| 4       | 15.56s       | 2.86959           | 1.21956               | 2.80492e-06 |</pre>"
      ],
      "text/plain": [
       "| 4       | 15.56s       | 2.86959           | 1.21956               | 2.80492e-06 |"
      ]
     },
     "metadata": {},
     "output_type": "display_data"
    },
    {
     "data": {
      "text/html": [
       "<pre>| 9       | 18.23s       | 2.86842           | 1.21713               | 2.80492e-06 |</pre>"
      ],
      "text/plain": [
       "| 9       | 18.23s       | 2.86842           | 1.21713               | 2.80492e-06 |"
      ]
     },
     "metadata": {},
     "output_type": "display_data"
    },
    {
     "data": {
      "text/html": [
       "<pre>+---------+--------------+-------------------+-----------------------+-------------+</pre>"
      ],
      "text/plain": [
       "+---------+--------------+-------------------+-----------------------+-------------+"
      ]
     },
     "metadata": {},
     "output_type": "display_data"
    },
    {
     "data": {
      "text/html": [
       "<pre>Optimization Complete: Maximum number of passes through the data reached (hard limit).</pre>"
      ],
      "text/plain": [
       "Optimization Complete: Maximum number of passes through the data reached (hard limit)."
      ]
     },
     "metadata": {},
     "output_type": "display_data"
    },
    {
     "data": {
      "text/html": [
       "<pre>Computing final objective value and training RMSE.</pre>"
      ],
      "text/plain": [
       "Computing final objective value and training RMSE."
      ]
     },
     "metadata": {},
     "output_type": "display_data"
    },
    {
     "data": {
      "text/html": [
       "<pre>       Final objective value: 2.93625</pre>"
      ],
      "text/plain": [
       "       Final objective value: 2.93625"
      ]
     },
     "metadata": {},
     "output_type": "display_data"
    },
    {
     "data": {
      "text/html": [
       "<pre>       Final training RMSE: 1.21701</pre>"
      ],
      "text/plain": [
       "       Final training RMSE: 1.21701"
      ]
     },
     "metadata": {},
     "output_type": "display_data"
    },
    {
     "name": "stderr",
     "output_type": "stream",
     "text": [
      "/Users/Ryan/anaconda/lib/python3.5/json/encoder.py:198: DeprecationWarning: Interpreting naive datetime as local 2018-10-27 12:47:38.510058. Please add timezone info to timestamps.\n",
      "  chunks = self.iterencode(o, _one_shot=True)\n"
     ]
    }
   ],
   "source": [
    "#factorization model\n",
    "model2 = tc.ranking_factorization_recommender.create(training_data, user_id='Author', item_id='Hotel', target=\"Overall\")\n",
    "model2.save(\"factor.model\")\n"
   ]
  },
  {
   "cell_type": "code",
   "execution_count": 184,
   "metadata": {},
   "outputs": [
    {
     "data": {
      "text/html": [
       "<pre>recommendations finished on 1000/41758 queries. users per second: 25675.9</pre>"
      ],
      "text/plain": [
       "recommendations finished on 1000/41758 queries. users per second: 25675.9"
      ]
     },
     "metadata": {},
     "output_type": "display_data"
    },
    {
     "data": {
      "text/html": [
       "<pre>recommendations finished on 2000/41758 queries. users per second: 23635.4</pre>"
      ],
      "text/plain": [
       "recommendations finished on 2000/41758 queries. users per second: 23635.4"
      ]
     },
     "metadata": {},
     "output_type": "display_data"
    },
    {
     "data": {
      "text/html": [
       "<pre>recommendations finished on 3000/41758 queries. users per second: 25196.7</pre>"
      ],
      "text/plain": [
       "recommendations finished on 3000/41758 queries. users per second: 25196.7"
      ]
     },
     "metadata": {},
     "output_type": "display_data"
    },
    {
     "data": {
      "text/html": [
       "<pre>recommendations finished on 4000/41758 queries. users per second: 22383.3</pre>"
      ],
      "text/plain": [
       "recommendations finished on 4000/41758 queries. users per second: 22383.3"
      ]
     },
     "metadata": {},
     "output_type": "display_data"
    },
    {
     "data": {
      "text/html": [
       "<pre>recommendations finished on 5000/41758 queries. users per second: 21144.9</pre>"
      ],
      "text/plain": [
       "recommendations finished on 5000/41758 queries. users per second: 21144.9"
      ]
     },
     "metadata": {},
     "output_type": "display_data"
    },
    {
     "data": {
      "text/html": [
       "<pre>recommendations finished on 6000/41758 queries. users per second: 20227.9</pre>"
      ],
      "text/plain": [
       "recommendations finished on 6000/41758 queries. users per second: 20227.9"
      ]
     },
     "metadata": {},
     "output_type": "display_data"
    },
    {
     "data": {
      "text/html": [
       "<pre>recommendations finished on 7000/41758 queries. users per second: 20899.1</pre>"
      ],
      "text/plain": [
       "recommendations finished on 7000/41758 queries. users per second: 20899.1"
      ]
     },
     "metadata": {},
     "output_type": "display_data"
    },
    {
     "data": {
      "text/html": [
       "<pre>recommendations finished on 8000/41758 queries. users per second: 21028.1</pre>"
      ],
      "text/plain": [
       "recommendations finished on 8000/41758 queries. users per second: 21028.1"
      ]
     },
     "metadata": {},
     "output_type": "display_data"
    },
    {
     "data": {
      "text/html": [
       "<pre>recommendations finished on 9000/41758 queries. users per second: 20956.2</pre>"
      ],
      "text/plain": [
       "recommendations finished on 9000/41758 queries. users per second: 20956.2"
      ]
     },
     "metadata": {},
     "output_type": "display_data"
    },
    {
     "data": {
      "text/html": [
       "<pre>recommendations finished on 10000/41758 queries. users per second: 21067.8</pre>"
      ],
      "text/plain": [
       "recommendations finished on 10000/41758 queries. users per second: 21067.8"
      ]
     },
     "metadata": {},
     "output_type": "display_data"
    },
    {
     "data": {
      "text/html": [
       "<pre>recommendations finished on 11000/41758 queries. users per second: 21364</pre>"
      ],
      "text/plain": [
       "recommendations finished on 11000/41758 queries. users per second: 21364"
      ]
     },
     "metadata": {},
     "output_type": "display_data"
    },
    {
     "data": {
      "text/html": [
       "<pre>recommendations finished on 12000/41758 queries. users per second: 21280.9</pre>"
      ],
      "text/plain": [
       "recommendations finished on 12000/41758 queries. users per second: 21280.9"
      ]
     },
     "metadata": {},
     "output_type": "display_data"
    },
    {
     "data": {
      "text/html": [
       "<pre>recommendations finished on 13000/41758 queries. users per second: 21509.4</pre>"
      ],
      "text/plain": [
       "recommendations finished on 13000/41758 queries. users per second: 21509.4"
      ]
     },
     "metadata": {},
     "output_type": "display_data"
    },
    {
     "data": {
      "text/html": [
       "<pre>recommendations finished on 14000/41758 queries. users per second: 21123.5</pre>"
      ],
      "text/plain": [
       "recommendations finished on 14000/41758 queries. users per second: 21123.5"
      ]
     },
     "metadata": {},
     "output_type": "display_data"
    },
    {
     "data": {
      "text/html": [
       "<pre>recommendations finished on 15000/41758 queries. users per second: 20928.3</pre>"
      ],
      "text/plain": [
       "recommendations finished on 15000/41758 queries. users per second: 20928.3"
      ]
     },
     "metadata": {},
     "output_type": "display_data"
    },
    {
     "data": {
      "text/html": [
       "<pre>recommendations finished on 16000/41758 queries. users per second: 20966.8</pre>"
      ],
      "text/plain": [
       "recommendations finished on 16000/41758 queries. users per second: 20966.8"
      ]
     },
     "metadata": {},
     "output_type": "display_data"
    },
    {
     "data": {
      "text/html": [
       "<pre>recommendations finished on 17000/41758 queries. users per second: 20822.7</pre>"
      ],
      "text/plain": [
       "recommendations finished on 17000/41758 queries. users per second: 20822.7"
      ]
     },
     "metadata": {},
     "output_type": "display_data"
    },
    {
     "data": {
      "text/html": [
       "<pre>recommendations finished on 18000/41758 queries. users per second: 20760.7</pre>"
      ],
      "text/plain": [
       "recommendations finished on 18000/41758 queries. users per second: 20760.7"
      ]
     },
     "metadata": {},
     "output_type": "display_data"
    },
    {
     "data": {
      "text/html": [
       "<pre>recommendations finished on 19000/41758 queries. users per second: 20653.6</pre>"
      ],
      "text/plain": [
       "recommendations finished on 19000/41758 queries. users per second: 20653.6"
      ]
     },
     "metadata": {},
     "output_type": "display_data"
    },
    {
     "data": {
      "text/html": [
       "<pre>recommendations finished on 20000/41758 queries. users per second: 20729</pre>"
      ],
      "text/plain": [
       "recommendations finished on 20000/41758 queries. users per second: 20729"
      ]
     },
     "metadata": {},
     "output_type": "display_data"
    },
    {
     "data": {
      "text/html": [
       "<pre>recommendations finished on 21000/41758 queries. users per second: 20898.3</pre>"
      ],
      "text/plain": [
       "recommendations finished on 21000/41758 queries. users per second: 20898.3"
      ]
     },
     "metadata": {},
     "output_type": "display_data"
    },
    {
     "data": {
      "text/html": [
       "<pre>recommendations finished on 22000/41758 queries. users per second: 21109.4</pre>"
      ],
      "text/plain": [
       "recommendations finished on 22000/41758 queries. users per second: 21109.4"
      ]
     },
     "metadata": {},
     "output_type": "display_data"
    },
    {
     "data": {
      "text/html": [
       "<pre>recommendations finished on 23000/41758 queries. users per second: 21021.7</pre>"
      ],
      "text/plain": [
       "recommendations finished on 23000/41758 queries. users per second: 21021.7"
      ]
     },
     "metadata": {},
     "output_type": "display_data"
    },
    {
     "data": {
      "text/html": [
       "<pre>recommendations finished on 24000/41758 queries. users per second: 21105.6</pre>"
      ],
      "text/plain": [
       "recommendations finished on 24000/41758 queries. users per second: 21105.6"
      ]
     },
     "metadata": {},
     "output_type": "display_data"
    },
    {
     "data": {
      "text/html": [
       "<pre>recommendations finished on 25000/41758 queries. users per second: 21206.4</pre>"
      ],
      "text/plain": [
       "recommendations finished on 25000/41758 queries. users per second: 21206.4"
      ]
     },
     "metadata": {},
     "output_type": "display_data"
    },
    {
     "data": {
      "text/html": [
       "<pre>recommendations finished on 26000/41758 queries. users per second: 21202.9</pre>"
      ],
      "text/plain": [
       "recommendations finished on 26000/41758 queries. users per second: 21202.9"
      ]
     },
     "metadata": {},
     "output_type": "display_data"
    },
    {
     "data": {
      "text/html": [
       "<pre>recommendations finished on 27000/41758 queries. users per second: 21262.2</pre>"
      ],
      "text/plain": [
       "recommendations finished on 27000/41758 queries. users per second: 21262.2"
      ]
     },
     "metadata": {},
     "output_type": "display_data"
    },
    {
     "data": {
      "text/html": [
       "<pre>recommendations finished on 28000/41758 queries. users per second: 21067.2</pre>"
      ],
      "text/plain": [
       "recommendations finished on 28000/41758 queries. users per second: 21067.2"
      ]
     },
     "metadata": {},
     "output_type": "display_data"
    },
    {
     "data": {
      "text/html": [
       "<pre>recommendations finished on 29000/41758 queries. users per second: 21137.7</pre>"
      ],
      "text/plain": [
       "recommendations finished on 29000/41758 queries. users per second: 21137.7"
      ]
     },
     "metadata": {},
     "output_type": "display_data"
    },
    {
     "data": {
      "text/html": [
       "<pre>recommendations finished on 30000/41758 queries. users per second: 21200.7</pre>"
      ],
      "text/plain": [
       "recommendations finished on 30000/41758 queries. users per second: 21200.7"
      ]
     },
     "metadata": {},
     "output_type": "display_data"
    },
    {
     "data": {
      "text/html": [
       "<pre>recommendations finished on 31000/41758 queries. users per second: 21193.1</pre>"
      ],
      "text/plain": [
       "recommendations finished on 31000/41758 queries. users per second: 21193.1"
      ]
     },
     "metadata": {},
     "output_type": "display_data"
    },
    {
     "data": {
      "text/html": [
       "<pre>recommendations finished on 32000/41758 queries. users per second: 21249.8</pre>"
      ],
      "text/plain": [
       "recommendations finished on 32000/41758 queries. users per second: 21249.8"
      ]
     },
     "metadata": {},
     "output_type": "display_data"
    },
    {
     "data": {
      "text/html": [
       "<pre>recommendations finished on 33000/41758 queries. users per second: 21198.2</pre>"
      ],
      "text/plain": [
       "recommendations finished on 33000/41758 queries. users per second: 21198.2"
      ]
     },
     "metadata": {},
     "output_type": "display_data"
    },
    {
     "data": {
      "text/html": [
       "<pre>recommendations finished on 34000/41758 queries. users per second: 21236.5</pre>"
      ],
      "text/plain": [
       "recommendations finished on 34000/41758 queries. users per second: 21236.5"
      ]
     },
     "metadata": {},
     "output_type": "display_data"
    },
    {
     "data": {
      "text/html": [
       "<pre>recommendations finished on 35000/41758 queries. users per second: 21303.5</pre>"
      ],
      "text/plain": [
       "recommendations finished on 35000/41758 queries. users per second: 21303.5"
      ]
     },
     "metadata": {},
     "output_type": "display_data"
    },
    {
     "data": {
      "text/html": [
       "<pre>recommendations finished on 36000/41758 queries. users per second: 21340.2</pre>"
      ],
      "text/plain": [
       "recommendations finished on 36000/41758 queries. users per second: 21340.2"
      ]
     },
     "metadata": {},
     "output_type": "display_data"
    },
    {
     "data": {
      "text/html": [
       "<pre>recommendations finished on 37000/41758 queries. users per second: 21407.9</pre>"
      ],
      "text/plain": [
       "recommendations finished on 37000/41758 queries. users per second: 21407.9"
      ]
     },
     "metadata": {},
     "output_type": "display_data"
    },
    {
     "data": {
      "text/html": [
       "<pre>recommendations finished on 38000/41758 queries. users per second: 21398.9</pre>"
      ],
      "text/plain": [
       "recommendations finished on 38000/41758 queries. users per second: 21398.9"
      ]
     },
     "metadata": {},
     "output_type": "display_data"
    },
    {
     "data": {
      "text/html": [
       "<pre>recommendations finished on 39000/41758 queries. users per second: 21489</pre>"
      ],
      "text/plain": [
       "recommendations finished on 39000/41758 queries. users per second: 21489"
      ]
     },
     "metadata": {},
     "output_type": "display_data"
    },
    {
     "data": {
      "text/html": [
       "<pre>recommendations finished on 40000/41758 queries. users per second: 21457.5</pre>"
      ],
      "text/plain": [
       "recommendations finished on 40000/41758 queries. users per second: 21457.5"
      ]
     },
     "metadata": {},
     "output_type": "display_data"
    },
    {
     "data": {
      "text/html": [
       "<pre>recommendations finished on 41000/41758 queries. users per second: 21548.6</pre>"
      ],
      "text/plain": [
       "recommendations finished on 41000/41758 queries. users per second: 21548.6"
      ]
     },
     "metadata": {},
     "output_type": "display_data"
    },
    {
     "name": "stderr",
     "output_type": "stream",
     "text": [
      "/Users/Ryan/anaconda/lib/python3.5/json/encoder.py:198: DeprecationWarning: Interpreting naive datetime as local 2018-10-27 12:48:11.156326. Please add timezone info to timestamps.\n",
      "  chunks = self.iterencode(o, _one_shot=True)\n"
     ]
    }
   ],
   "source": [
    "recs2 = model2.recommend()"
   ]
  },
  {
   "cell_type": "code",
   "execution_count": 185,
   "metadata": {},
   "outputs": [
    {
     "name": "stdout",
     "output_type": "stream",
     "text": [
      "PROGRESS: Evaluate model Collab\n",
      "\n",
      "Precision and recall summary statistics by cutoff\n",
      "+--------+-----------------------+----------------------+\n",
      "| cutoff |     mean_precision    |     mean_recall      |\n",
      "+--------+-----------------------+----------------------+\n",
      "|   1    |          0.0          |         0.0          |\n",
      "|   2    |          0.0          |         0.0          |\n",
      "|   3    |          0.0          |         0.0          |\n",
      "|   4    |          0.0          |         0.0          |\n",
      "|   5    |          0.0          |         0.0          |\n",
      "|   6    | 0.0008090614886731398 | 0.004854368932038834 |\n",
      "|   7    | 0.0006934812760055487 | 0.004854368932038834 |\n",
      "|   8    | 0.0006067961165048542 | 0.004854368932038834 |\n",
      "|   9    | 0.0005393743257820921 | 0.004854368932038834 |\n",
      "|   10   | 0.0004854368932038837 | 0.004854368932038834 |\n",
      "+--------+-----------------------+----------------------+\n",
      "[10 rows x 3 columns]\n",
      "\n",
      "\n",
      "Overall RMSE: 4.089374522814296\n",
      "\n",
      "Per User RMSE (best)\n",
      "+--------+-------+--------------------+\n",
      "| Author | count |        rmse        |\n",
      "+--------+-------+--------------------+\n",
      "|  Seyo  |   1   | 0.9987631440162659 |\n",
      "+--------+-------+--------------------+\n",
      "[1 rows x 3 columns]\n",
      "\n",
      "\n",
      "Per User RMSE (worst)\n",
      "+------------+-------+------+\n",
      "|   Author   | count | rmse |\n",
      "+------------+-------+------+\n",
      "| disneybuff |   1   | 5.0  |\n",
      "+------------+-------+------+\n",
      "[1 rows x 3 columns]\n",
      "\n",
      "\n",
      "Per Item RMSE (best)\n",
      "+-----------------------+-------+--------------------+\n",
      "|         Hotel         | count |        rmse        |\n",
      "+-----------------------+-------+--------------------+\n",
      "| Marina Inn and Suites |   1   | 0.9987631440162659 |\n",
      "+-----------------------+-------+--------------------+\n",
      "[1 rows x 3 columns]\n",
      "\n",
      "\n",
      "Per Item RMSE (worst)\n",
      "+-------------+-------+--------------------+\n",
      "|    Hotel    | count |        rmse        |\n",
      "+-------------+-------+--------------------+\n",
      "| Sea Club IV |   1   | 4.9999551570415495 |\n",
      "+-------------+-------+--------------------+\n",
      "[1 rows x 3 columns]\n",
      "\n",
      "PROGRESS: Evaluate model Factorization\n",
      "\n",
      "Precision and recall summary statistics by cutoff\n",
      "+--------+----------------------+----------------------+\n",
      "| cutoff |    mean_precision    |     mean_recall      |\n",
      "+--------+----------------------+----------------------+\n",
      "|   1    | 0.024271844660194185 | 0.024271844660194185 |\n",
      "|   2    | 0.024271844660194178 | 0.048543689320388356 |\n",
      "|   3    | 0.04207119741100325  | 0.12378640776699025  |\n",
      "|   4    | 0.03276699029126214  | 0.12864077669902912  |\n",
      "|   5    | 0.02621359223300973  | 0.12864077669902912  |\n",
      "|   6    | 0.02346278317152104  | 0.13592233009708743  |\n",
      "|   7    | 0.03259361997226075  | 0.22330097087378642  |\n",
      "|   8    | 0.033980582524271864 | 0.26456310679611644  |\n",
      "|   9    | 0.030204962243797203 | 0.26456310679611644  |\n",
      "|   10   | 0.02766990291262137  | 0.26941747572815544  |\n",
      "+--------+----------------------+----------------------+\n",
      "[10 rows x 3 columns]\n",
      "\n",
      "\n",
      "Overall RMSE: 1.2082893253293159\n",
      "\n",
      "Per User RMSE (best)\n",
      "+---------------+-------+---------------------+\n",
      "|     Author    | count |         rmse        |\n",
      "+---------------+-------+---------------------+\n",
      "| Love2Travel88 |   1   | 0.11435659742806248 |\n",
      "+---------------+-------+---------------------+\n",
      "[1 rows x 3 columns]\n",
      "\n",
      "\n",
      "Per User RMSE (worst)\n",
      "+------------+-------+-------------------+\n",
      "|   Author   | count |        rmse       |\n",
      "+------------+-------+-------------------+\n",
      "| larsolnxta |   1   | 2.882753245280297 |\n",
      "+------------+-------+-------------------+\n",
      "[1 rows x 3 columns]\n",
      "\n",
      "\n",
      "Per Item RMSE (best)\n",
      "+-------------------------------+-------+---------------------+\n",
      "|             Hotel             | count |         rmse        |\n",
      "+-------------------------------+-------+---------------------+\n",
      "| Hotel Vitale, a Joie de Vi... |   1   | 0.11781210535192921 |\n",
      "+-------------------------------+-------+---------------------+\n",
      "[1 rows x 3 columns]\n",
      "\n",
      "\n",
      "Per Item RMSE (worst)\n",
      "+----------------------------+-------+--------------------+\n",
      "|           Hotel            | count |        rmse        |\n",
      "+----------------------------+-------+--------------------+\n",
      "| Millennium Bostonian Hotel |   1   | 2.8721498896757223 |\n",
      "+----------------------------+-------+--------------------+\n",
      "[1 rows x 3 columns]\n",
      "\n"
     ]
    },
    {
     "data": {
      "text/plain": [
       "[{'precision_recall_by_user': Columns:\n",
       "  \tAuthor\tstr\n",
       "  \tcutoff\tint\n",
       "  \tprecision\tfloat\n",
       "  \trecall\tfloat\n",
       "  \tcount\tint\n",
       "  \n",
       "  Rows: 3708\n",
       "  \n",
       "  Data:\n",
       "  +---------------+--------+-----------+--------+-------+\n",
       "  |     Author    | cutoff | precision | recall | count |\n",
       "  +---------------+--------+-----------+--------+-------+\n",
       "  | 101dalmations |   1    |    0.0    |  0.0   |   1   |\n",
       "  | 101dalmations |   2    |    0.0    |  0.0   |   1   |\n",
       "  | 101dalmations |   3    |    0.0    |  0.0   |   1   |\n",
       "  | 101dalmations |   4    |    0.0    |  0.0   |   1   |\n",
       "  | 101dalmations |   5    |    0.0    |  0.0   |   1   |\n",
       "  | 101dalmations |   6    |    0.0    |  0.0   |   1   |\n",
       "  | 101dalmations |   7    |    0.0    |  0.0   |   1   |\n",
       "  | 101dalmations |   8    |    0.0    |  0.0   |   1   |\n",
       "  | 101dalmations |   9    |    0.0    |  0.0   |   1   |\n",
       "  | 101dalmations |   10   |    0.0    |  0.0   |   1   |\n",
       "  +---------------+--------+-----------+--------+-------+\n",
       "  [3708 rows x 5 columns]\n",
       "  Note: Only the head of the SFrame is printed.\n",
       "  You can use print_rows(num_rows=m, num_columns=n) to print more rows and columns.,\n",
       "  'precision_recall_overall': Columns:\n",
       "  \tcutoff\tint\n",
       "  \tprecision\tfloat\n",
       "  \trecall\tfloat\n",
       "  \n",
       "  Rows: 18\n",
       "  \n",
       "  Data:\n",
       "  +--------+-----------------------+----------------------+\n",
       "  | cutoff |       precision       |        recall        |\n",
       "  +--------+-----------------------+----------------------+\n",
       "  |   1    |          0.0          |         0.0          |\n",
       "  |   2    |          0.0          |         0.0          |\n",
       "  |   3    |          0.0          |         0.0          |\n",
       "  |   4    |          0.0          |         0.0          |\n",
       "  |   5    |          0.0          |         0.0          |\n",
       "  |   6    | 0.0008090614886731393 | 0.004854368932038834 |\n",
       "  |   7    | 0.0006934812760055481 | 0.004854368932038834 |\n",
       "  |   8    | 0.0006067961165048542 | 0.004854368932038834 |\n",
       "  |   9    | 0.0005393743257820926 | 0.004854368932038834 |\n",
       "  |   10   | 0.0004854368932038837 | 0.004854368932038834 |\n",
       "  +--------+-----------------------+----------------------+\n",
       "  [18 rows x 3 columns]\n",
       "  Note: Only the head of the SFrame is printed.\n",
       "  You can use print_rows(num_rows=m, num_columns=n) to print more rows and columns.,\n",
       "  'rmse_by_item': Columns:\n",
       "  \tHotel\tstr\n",
       "  \tcount\tint\n",
       "  \trmse\tfloat\n",
       "  \n",
       "  Rows: 87\n",
       "  \n",
       "  Data:\n",
       "  +-------------------------------+-------+--------------------+\n",
       "  |             Hotel             | count |        rmse        |\n",
       "  +-------------------------------+-------+--------------------+\n",
       "  |     Champions World Resort    |   3   | 4.434507320074193  |\n",
       "  | Sheraton Tribeca New York ... |   1   | 4.999766372442245  |\n",
       "  | Homewood Suites San Diego ... |   1   | 3.999859993457794  |\n",
       "  |          Park Central         |   6   | 3.3163987877920587 |\n",
       "  |  Onyx Hotel - a Kimpton Hotel |   2   | 4.122555826661061  |\n",
       "  | Trump International Hotel ... |   5   | 4.471518351856424  |\n",
       "  | The Manhattan at Times Squ... |   2   | 3.9997333216667177 |\n",
       "  |  Four Seasons Hotel Vancouver |   2   | 3.9994178879261018 |\n",
       "  |   Millennium Hotel Broadway   |   3   | 3.365900258784518  |\n",
       "  | The Roosevelt New Orleans,... |   2   | 3.807638381332329  |\n",
       "  +-------------------------------+-------+--------------------+\n",
       "  [87 rows x 3 columns]\n",
       "  Note: Only the head of the SFrame is printed.\n",
       "  You can use print_rows(num_rows=m, num_columns=n) to print more rows and columns.,\n",
       "  'rmse_by_user': Columns:\n",
       "  \tAuthor\tstr\n",
       "  \tcount\tint\n",
       "  \trmse\tfloat\n",
       "  \n",
       "  Rows: 206\n",
       "  \n",
       "  Data:\n",
       "  +------------------+-------+--------------------+\n",
       "  |      Author      | count |        rmse        |\n",
       "  +------------------+-------+--------------------+\n",
       "  |     9xKINGx9     |   2   | 4.122616396799452  |\n",
       "  |  thecrosbygang   |   1   | 4.999544385671616  |\n",
       "  |      LicaBT      |   1   | 4.999814082384109  |\n",
       "  |    kimandremy    |   1   |  4.99990329861641  |\n",
       "  |  Runskipandjump  |   1   | 4.999700171947479  |\n",
       "  | BriarClubCommish |   1   | 4.999372270107269  |\n",
       "  |    sparerib62    |   1   | 3.999552137851715  |\n",
       "  |    coffeesmit    |   1   | 3.999383454322815  |\n",
       "  |     MO_Blues     |   1   | 4.9995679962635045 |\n",
       "  |  Amelietravels   |   1   | 3.999372270107269  |\n",
       "  +------------------+-------+--------------------+\n",
       "  [206 rows x 3 columns]\n",
       "  Note: Only the head of the SFrame is printed.\n",
       "  You can use print_rows(num_rows=m, num_columns=n) to print more rows and columns.,\n",
       "  'rmse_overall': 4.089374522814296},\n",
       " {'precision_recall_by_user': Columns:\n",
       "  \tAuthor\tstr\n",
       "  \tcutoff\tint\n",
       "  \tprecision\tfloat\n",
       "  \trecall\tfloat\n",
       "  \tcount\tint\n",
       "  \n",
       "  Rows: 3708\n",
       "  \n",
       "  Data:\n",
       "  +---------------+--------+-----------+--------+-------+\n",
       "  |     Author    | cutoff | precision | recall | count |\n",
       "  +---------------+--------+-----------+--------+-------+\n",
       "  | 101dalmations |   1    |    0.0    |  0.0   |   1   |\n",
       "  | 101dalmations |   2    |    0.0    |  0.0   |   1   |\n",
       "  | 101dalmations |   3    |    0.0    |  0.0   |   1   |\n",
       "  | 101dalmations |   4    |    0.0    |  0.0   |   1   |\n",
       "  | 101dalmations |   5    |    0.0    |  0.0   |   1   |\n",
       "  | 101dalmations |   6    |    0.0    |  0.0   |   1   |\n",
       "  | 101dalmations |   7    |    0.0    |  0.0   |   1   |\n",
       "  | 101dalmations |   8    |    0.0    |  0.0   |   1   |\n",
       "  | 101dalmations |   9    |    0.0    |  0.0   |   1   |\n",
       "  | 101dalmations |   10   |    0.0    |  0.0   |   1   |\n",
       "  +---------------+--------+-----------+--------+-------+\n",
       "  [3708 rows x 5 columns]\n",
       "  Note: Only the head of the SFrame is printed.\n",
       "  You can use print_rows(num_rows=m, num_columns=n) to print more rows and columns.,\n",
       "  'precision_recall_overall': Columns:\n",
       "  \tcutoff\tint\n",
       "  \tprecision\tfloat\n",
       "  \trecall\tfloat\n",
       "  \n",
       "  Rows: 18\n",
       "  \n",
       "  Data:\n",
       "  +--------+----------------------+----------------------+\n",
       "  | cutoff |      precision       |        recall        |\n",
       "  +--------+----------------------+----------------------+\n",
       "  |   1    | 0.024271844660194178 | 0.024271844660194178 |\n",
       "  |   2    | 0.02427184466019417  | 0.04854368932038834  |\n",
       "  |   3    | 0.04207119741100324  | 0.12378640776699022  |\n",
       "  |   4    | 0.03276699029126212  |  0.128640776699029   |\n",
       "  |   5    | 0.026213592233009717 |  0.128640776699029   |\n",
       "  |   6    | 0.023462783171521055 | 0.13592233009708735  |\n",
       "  |   7    | 0.03259361997226074  | 0.22330097087378656  |\n",
       "  |   8    | 0.03398058252427185  |  0.2645631067961162  |\n",
       "  |   9    | 0.030204962243797175 |  0.2645631067961162  |\n",
       "  |   10   | 0.027669902912621353 |  0.2694174757281552  |\n",
       "  +--------+----------------------+----------------------+\n",
       "  [18 rows x 3 columns]\n",
       "  Note: Only the head of the SFrame is printed.\n",
       "  You can use print_rows(num_rows=m, num_columns=n) to print more rows and columns.,\n",
       "  'rmse_by_item': Columns:\n",
       "  \tHotel\tstr\n",
       "  \tcount\tint\n",
       "  \trmse\tfloat\n",
       "  \n",
       "  Rows: 87\n",
       "  \n",
       "  Data:\n",
       "  +-------------------------------+-------+---------------------+\n",
       "  |             Hotel             | count |         rmse        |\n",
       "  +-------------------------------+-------+---------------------+\n",
       "  |     Champions World Resort    |   3   |  1.037139899126217  |\n",
       "  | Sheraton Tribeca New York ... |   1   |  1.1022585184440166 |\n",
       "  | Homewood Suites San Diego ... |   1   | 0.11887522347430357 |\n",
       "  |          Park Central         |   6   |  1.6471316130116682 |\n",
       "  |  Onyx Hotel - a Kimpton Hotel |   2   |  0.9890502741775705 |\n",
       "  | Trump International Hotel ... |   5   |  0.9444439554726126 |\n",
       "  | The Manhattan at Times Squ... |   2   |  0.1229000205129049 |\n",
       "  |  Four Seasons Hotel Vancouver |   2   | 0.12580343866706542 |\n",
       "  |   Millennium Hotel Broadway   |   3   |  0.7046745346531048 |\n",
       "  | The Roosevelt New Orleans,... |   2   |  1.5348300694819752 |\n",
       "  +-------------------------------+-------+---------------------+\n",
       "  [87 rows x 3 columns]\n",
       "  Note: Only the head of the SFrame is printed.\n",
       "  You can use print_rows(num_rows=m, num_columns=n) to print more rows and columns.,\n",
       "  'rmse_by_user': Columns:\n",
       "  \tAuthor\tstr\n",
       "  \tcount\tint\n",
       "  \trmse\tfloat\n",
       "  \n",
       "  Rows: 206\n",
       "  \n",
       "  Data:\n",
       "  +------------------+-------+---------------------+\n",
       "  |      Author      | count |         rmse        |\n",
       "  +------------------+-------+---------------------+\n",
       "  |     9xKINGx9     |   2   |  0.9954399153675884 |\n",
       "  |  thecrosbygang   |   1   |  1.1070512054169082 |\n",
       "  |      LicaBT      |   1   |  1.107635604877034  |\n",
       "  |    kimandremy    |   1   |  1.1075468683601133 |\n",
       "  |  Runskipandjump  |   1   |  1.1000443441992145 |\n",
       "  | BriarClubCommish |   1   |  1.1167347187603398 |\n",
       "  |    sparerib62    |   1   | 0.12385897497109655 |\n",
       "  |    coffeesmit    |   1   | 0.12014144621691303 |\n",
       "  |     MO_Blues     |   1   |  1.1083557792699126 |\n",
       "  |  Amelietravels   |   1   | 0.12843514830074776 |\n",
       "  +------------------+-------+---------------------+\n",
       "  [206 rows x 3 columns]\n",
       "  Note: Only the head of the SFrame is printed.\n",
       "  You can use print_rows(num_rows=m, num_columns=n) to print more rows and columns.,\n",
       "  'rmse_overall': 1.2082893253293159}]"
      ]
     },
     "execution_count": 185,
     "metadata": {},
     "output_type": "execute_result"
    },
    {
     "name": "stderr",
     "output_type": "stream",
     "text": [
      "/Users/Ryan/anaconda/lib/python3.5/json/encoder.py:198: DeprecationWarning: Interpreting naive datetime as local 2018-10-27 12:48:13.181014. Please add timezone info to timestamps.\n",
      "  chunks = self.iterencode(o, _one_shot=True)\n"
     ]
    }
   ],
   "source": [
    "tc.recommender.util.compare_models(validation_data, [model, model2], model_names=[\"Collab\",\"Factorization\"])"
   ]
  }
 ],
 "metadata": {
  "kernelspec": {
   "display_name": "Python 3",
   "language": "python",
   "name": "python3"
  },
  "language_info": {
   "codemirror_mode": {
    "name": "ipython",
    "version": 3
   },
   "file_extension": ".py",
   "mimetype": "text/x-python",
   "name": "python",
   "nbconvert_exporter": "python",
   "pygments_lexer": "ipython3",
   "version": "3.5.6"
  }
 },
 "nbformat": 4,
 "nbformat_minor": 1
}
