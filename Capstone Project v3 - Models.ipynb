{
 "cells": [
  {
   "cell_type": "markdown",
   "metadata": {},
   "source": [
    "# Capstone Project (real title to come later)\n",
    "### Ryan Khaleghi and Kevin Cannon"
   ]
  },
  {
   "cell_type": "markdown",
   "metadata": {},
   "source": [
    "## Introduction\n",
    "\n",
    "\n",
    "We"
   ]
  },
  {
   "cell_type": "markdown",
   "metadata": {},
   "source": [
    "## Data\n",
    "\n",
    "The dataset \n",
    "\n",
    "There are 8 ratings in the dataset: overall, value, rooms, location, cleanliness, check in/front desk, service, and business service. These are rated from 0-5 stars, with missing ratings indicated by -1."
   ]
  },
  {
   "cell_type": "code",
   "execution_count": 1,
   "metadata": {},
   "outputs": [],
   "source": [
    "import pandas as pd\n",
    "import numpy as np\n",
    "import glob\n",
    "import tripadvisor_convert\n",
    "import dill\n",
    "\n",
    "#save session\n",
    "#dill.dump_session('notebook_env.db')\n",
    "\n",
    "#load session\n",
    "dill.load_session('notebook_env.db')\n",
    "\n",
    "#json_file = '/Users/Ryan/Desktop/Programming/SMU/Capstone/TripAdvisor/json_copy/73739.json'\n",
    "#json_file = '/Users/Ryan/Desktop/Programming/SMU/Capstone/TripAdvisor/json/3256888.json'\n",
    "#df = tripadvisor_convert.to_df(json_file)\n",
    "#print(df.head(2))\n"
   ]
  },
  {
   "cell_type": "code",
   "execution_count": 2,
   "metadata": {
    "scrolled": true
   },
   "outputs": [
    {
     "name": "stdout",
     "output_type": "stream",
     "text": [
      "             Author AuthorLocation Business service (e.g., internet access)  \\\n",
      "UR124988753  jnegri      Argentina                                      NaN   \n",
      "UR122180520   Cru22                                                     NaN   \n",
      "\n",
      "            Check in / front desk Cleanliness               Date  \\\n",
      "UR124988753                   NaN           5  February 21, 2012   \n",
      "UR122180520                   NaN           5  December 28, 2011   \n",
      "\n",
      "                                          Hotel  HotelID HotelLocation  \\\n",
      "UR124988753  Staybridge Suites Miami Doral Area   195791            FL   \n",
      "UR122180520  Staybridge Suites Miami Doral Area   195791            FL   \n",
      "\n",
      "            Location Overall  PriceMax  PriceMin Rooms Service Sleep Quality  \\\n",
      "UR124988753        3     4.0       220       125     4       5             4   \n",
      "UR122180520        5     5.0       220       125     5       5           NaN   \n",
      "\n",
      "            Value  \n",
      "UR124988753     5  \n",
      "UR122180520     5  \n",
      "486.9114172690024\n",
      "72646\n"
     ]
    }
   ],
   "source": [
    "from timeit import default_timer as timer #for timing\n",
    "\n",
    "start = timer()\n",
    "#load data\n",
    "#path ='/Users/Ryan/Desktop/Programming/SMU/Capstone/TripAdvisor/json_copy' # use your path\n",
    "path ='/Users/Ryan/Desktop/Programming/SMU/Capstone/TripAdvisor/json' # use your path\n",
    "allFiles = glob.glob(path + \"/*.json\")\n",
    "#print(allFiles)\n",
    "randFiles = np.random.choice(allFiles, 500, False)\n",
    "df = pd.DataFrame()\n",
    "df_reviews = pd.DataFrame()\n",
    "list_ = []\n",
    "\n",
    "for file_ in randFiles:\n",
    "    try:\n",
    "        df = tripadvisor_convert.to_df(file_)\n",
    "    except Exception:\n",
    "        pass \n",
    "    list_.append(df)\n",
    "    df_reviews = pd.concat(list_)\n",
    "print(df_reviews.head(2))\n",
    "end = timer()\n",
    "print (end - start)\n",
    "print(len(df_reviews))\n"
   ]
  },
  {
   "cell_type": "markdown",
   "metadata": {
    "collapsed": true
   },
   "source": [
    "### EDA\n",
    "Here we will explore the data."
   ]
  },
  {
   "cell_type": "code",
   "execution_count": 3,
   "metadata": {},
   "outputs": [
    {
     "data": {
      "text/plain": [
       "Author                                      object\n",
       "AuthorLocation                              object\n",
       "Business service (e.g., internet access)    object\n",
       "Check in / front desk                       object\n",
       "Cleanliness                                 object\n",
       "Date                                        object\n",
       "Hotel                                       object\n",
       "HotelID                                      int64\n",
       "HotelLocation                               object\n",
       "Location                                    object\n",
       "Overall                                     object\n",
       "PriceMax                                     int64\n",
       "PriceMin                                     int64\n",
       "Rooms                                       object\n",
       "Service                                     object\n",
       "Sleep Quality                               object\n",
       "Value                                       object\n",
       "dtype: object"
      ]
     },
     "execution_count": 3,
     "metadata": {},
     "output_type": "execute_result"
    }
   ],
   "source": [
    "df_reviews.dtypes"
   ]
  },
  {
   "cell_type": "code",
   "execution_count": 4,
   "metadata": {},
   "outputs": [],
   "source": [
    "#deal with missing numbers\n",
    "df_reviews.fillna(0, inplace = True)\n",
    "#df_reviews.isnull()"
   ]
  },
  {
   "cell_type": "code",
   "execution_count": 5,
   "metadata": {},
   "outputs": [
    {
     "data": {
      "text/plain": [
       "Author                                       object\n",
       "AuthorLocation                               object\n",
       "Business service (e.g., internet access)      int64\n",
       "Check in / front desk                         int64\n",
       "Cleanliness                                   int64\n",
       "Date                                         object\n",
       "Hotel                                        object\n",
       "HotelID                                       int64\n",
       "HotelLocation                                object\n",
       "Location                                      int64\n",
       "Overall                                     float64\n",
       "PriceMax                                      int64\n",
       "PriceMin                                      int64\n",
       "Rooms                                         int64\n",
       "Service                                       int64\n",
       "Sleep Quality                                 int64\n",
       "Value                                         int64\n",
       "dtype: object"
      ]
     },
     "execution_count": 5,
     "metadata": {},
     "output_type": "execute_result"
    }
   ],
   "source": [
    "#convert ratings into numbers instead of objects\n",
    "df_reviews = df_reviews.astype({'Cleanliness': 'int64', 'Location': 'int64', 'Rooms': 'int64', 'Service': 'int64', \\\n",
    "                   'Sleep Quality': 'int64', 'Value': 'int64', 'Business service (e.g., internet access)': 'int64', \\\n",
    "                  'Check in / front desk': 'int64', 'Overall': 'float'})\n",
    "df_reviews.dtypes"
   ]
  },
  {
   "cell_type": "code",
   "execution_count": 6,
   "metadata": {},
   "outputs": [
    {
     "data": {
      "text/html": [
       "<div>\n",
       "<style>\n",
       "    .dataframe thead tr:only-child th {\n",
       "        text-align: right;\n",
       "    }\n",
       "\n",
       "    .dataframe thead th {\n",
       "        text-align: left;\n",
       "    }\n",
       "\n",
       "    .dataframe tbody tr th {\n",
       "        vertical-align: top;\n",
       "    }\n",
       "</style>\n",
       "<table border=\"1\" class=\"dataframe\">\n",
       "  <thead>\n",
       "    <tr style=\"text-align: right;\">\n",
       "      <th></th>\n",
       "      <th>Business service (e.g., internet access)</th>\n",
       "      <th>Check in / front desk</th>\n",
       "      <th>Cleanliness</th>\n",
       "      <th>HotelID</th>\n",
       "      <th>Location</th>\n",
       "      <th>Overall</th>\n",
       "      <th>PriceMax</th>\n",
       "      <th>PriceMin</th>\n",
       "      <th>Rooms</th>\n",
       "      <th>Service</th>\n",
       "      <th>Sleep Quality</th>\n",
       "      <th>Value</th>\n",
       "    </tr>\n",
       "  </thead>\n",
       "  <tbody>\n",
       "    <tr>\n",
       "      <th>count</th>\n",
       "      <td>72646.000000</td>\n",
       "      <td>72646.000000</td>\n",
       "      <td>72646.000000</td>\n",
       "      <td>7.264600e+04</td>\n",
       "      <td>72646.000000</td>\n",
       "      <td>72646.000000</td>\n",
       "      <td>72646.000000</td>\n",
       "      <td>72646.000000</td>\n",
       "      <td>72646.000000</td>\n",
       "      <td>72646.000000</td>\n",
       "      <td>72646.000000</td>\n",
       "      <td>72646.000000</td>\n",
       "    </tr>\n",
       "    <tr>\n",
       "      <th>mean</th>\n",
       "      <td>0.393208</td>\n",
       "      <td>0.714065</td>\n",
       "      <td>3.652658</td>\n",
       "      <td>8.823511e+05</td>\n",
       "      <td>3.324904</td>\n",
       "      <td>3.786334</td>\n",
       "      <td>332.149052</td>\n",
       "      <td>156.328401</td>\n",
       "      <td>3.056232</td>\n",
       "      <td>3.585662</td>\n",
       "      <td>1.994976</td>\n",
       "      <td>3.455579</td>\n",
       "    </tr>\n",
       "    <tr>\n",
       "      <th>std</th>\n",
       "      <td>1.181003</td>\n",
       "      <td>1.588297</td>\n",
       "      <td>1.642745</td>\n",
       "      <td>1.083306e+06</td>\n",
       "      <td>2.018935</td>\n",
       "      <td>1.275755</td>\n",
       "      <td>352.873866</td>\n",
       "      <td>147.981299</td>\n",
       "      <td>1.844447</td>\n",
       "      <td>1.670061</td>\n",
       "      <td>2.180142</td>\n",
       "      <td>1.649425</td>\n",
       "    </tr>\n",
       "    <tr>\n",
       "      <th>min</th>\n",
       "      <td>0.000000</td>\n",
       "      <td>0.000000</td>\n",
       "      <td>0.000000</td>\n",
       "      <td>7.364400e+04</td>\n",
       "      <td>0.000000</td>\n",
       "      <td>1.000000</td>\n",
       "      <td>0.000000</td>\n",
       "      <td>0.000000</td>\n",
       "      <td>0.000000</td>\n",
       "      <td>0.000000</td>\n",
       "      <td>0.000000</td>\n",
       "      <td>0.000000</td>\n",
       "    </tr>\n",
       "    <tr>\n",
       "      <th>1%</th>\n",
       "      <td>0.000000</td>\n",
       "      <td>0.000000</td>\n",
       "      <td>0.000000</td>\n",
       "      <td>7.394300e+04</td>\n",
       "      <td>0.000000</td>\n",
       "      <td>1.000000</td>\n",
       "      <td>20.000000</td>\n",
       "      <td>16.000000</td>\n",
       "      <td>0.000000</td>\n",
       "      <td>0.000000</td>\n",
       "      <td>0.000000</td>\n",
       "      <td>0.000000</td>\n",
       "    </tr>\n",
       "    <tr>\n",
       "      <th>5%</th>\n",
       "      <td>0.000000</td>\n",
       "      <td>0.000000</td>\n",
       "      <td>0.000000</td>\n",
       "      <td>8.021900e+04</td>\n",
       "      <td>0.000000</td>\n",
       "      <td>1.000000</td>\n",
       "      <td>82.000000</td>\n",
       "      <td>45.000000</td>\n",
       "      <td>0.000000</td>\n",
       "      <td>0.000000</td>\n",
       "      <td>0.000000</td>\n",
       "      <td>0.000000</td>\n",
       "    </tr>\n",
       "    <tr>\n",
       "      <th>25%</th>\n",
       "      <td>0.000000</td>\n",
       "      <td>0.000000</td>\n",
       "      <td>3.000000</td>\n",
       "      <td>8.808700e+04</td>\n",
       "      <td>1.000000</td>\n",
       "      <td>3.000000</td>\n",
       "      <td>150.000000</td>\n",
       "      <td>91.000000</td>\n",
       "      <td>1.000000</td>\n",
       "      <td>3.000000</td>\n",
       "      <td>0.000000</td>\n",
       "      <td>3.000000</td>\n",
       "    </tr>\n",
       "    <tr>\n",
       "      <th>50%</th>\n",
       "      <td>0.000000</td>\n",
       "      <td>0.000000</td>\n",
       "      <td>4.000000</td>\n",
       "      <td>1.857470e+05</td>\n",
       "      <td>4.000000</td>\n",
       "      <td>4.000000</td>\n",
       "      <td>309.000000</td>\n",
       "      <td>152.000000</td>\n",
       "      <td>4.000000</td>\n",
       "      <td>4.000000</td>\n",
       "      <td>0.000000</td>\n",
       "      <td>4.000000</td>\n",
       "    </tr>\n",
       "    <tr>\n",
       "      <th>75%</th>\n",
       "      <td>0.000000</td>\n",
       "      <td>0.000000</td>\n",
       "      <td>5.000000</td>\n",
       "      <td>2.514425e+06</td>\n",
       "      <td>5.000000</td>\n",
       "      <td>5.000000</td>\n",
       "      <td>432.000000</td>\n",
       "      <td>191.000000</td>\n",
       "      <td>5.000000</td>\n",
       "      <td>5.000000</td>\n",
       "      <td>4.000000</td>\n",
       "      <td>5.000000</td>\n",
       "    </tr>\n",
       "    <tr>\n",
       "      <th>95%</th>\n",
       "      <td>4.000000</td>\n",
       "      <td>5.000000</td>\n",
       "      <td>5.000000</td>\n",
       "      <td>2.515580e+06</td>\n",
       "      <td>5.000000</td>\n",
       "      <td>5.000000</td>\n",
       "      <td>664.000000</td>\n",
       "      <td>302.000000</td>\n",
       "      <td>5.000000</td>\n",
       "      <td>5.000000</td>\n",
       "      <td>5.000000</td>\n",
       "      <td>5.000000</td>\n",
       "    </tr>\n",
       "    <tr>\n",
       "      <th>99%</th>\n",
       "      <td>5.000000</td>\n",
       "      <td>5.000000</td>\n",
       "      <td>5.000000</td>\n",
       "      <td>2.516114e+06</td>\n",
       "      <td>5.000000</td>\n",
       "      <td>5.000000</td>\n",
       "      <td>793.000000</td>\n",
       "      <td>448.000000</td>\n",
       "      <td>5.000000</td>\n",
       "      <td>5.000000</td>\n",
       "      <td>5.000000</td>\n",
       "      <td>5.000000</td>\n",
       "    </tr>\n",
       "    <tr>\n",
       "      <th>max</th>\n",
       "      <td>5.000000</td>\n",
       "      <td>5.000000</td>\n",
       "      <td>5.000000</td>\n",
       "      <td>2.516207e+06</td>\n",
       "      <td>5.000000</td>\n",
       "      <td>5.000000</td>\n",
       "      <td>5000.000000</td>\n",
       "      <td>5000.000000</td>\n",
       "      <td>5.000000</td>\n",
       "      <td>5.000000</td>\n",
       "      <td>5.000000</td>\n",
       "      <td>5.000000</td>\n",
       "    </tr>\n",
       "  </tbody>\n",
       "</table>\n",
       "</div>"
      ],
      "text/plain": [
       "       Business service (e.g., internet access)  Check in / front desk  \\\n",
       "count                              72646.000000           72646.000000   \n",
       "mean                                   0.393208               0.714065   \n",
       "std                                    1.181003               1.588297   \n",
       "min                                    0.000000               0.000000   \n",
       "1%                                     0.000000               0.000000   \n",
       "5%                                     0.000000               0.000000   \n",
       "25%                                    0.000000               0.000000   \n",
       "50%                                    0.000000               0.000000   \n",
       "75%                                    0.000000               0.000000   \n",
       "95%                                    4.000000               5.000000   \n",
       "99%                                    5.000000               5.000000   \n",
       "max                                    5.000000               5.000000   \n",
       "\n",
       "        Cleanliness       HotelID      Location       Overall      PriceMax  \\\n",
       "count  72646.000000  7.264600e+04  72646.000000  72646.000000  72646.000000   \n",
       "mean       3.652658  8.823511e+05      3.324904      3.786334    332.149052   \n",
       "std        1.642745  1.083306e+06      2.018935      1.275755    352.873866   \n",
       "min        0.000000  7.364400e+04      0.000000      1.000000      0.000000   \n",
       "1%         0.000000  7.394300e+04      0.000000      1.000000     20.000000   \n",
       "5%         0.000000  8.021900e+04      0.000000      1.000000     82.000000   \n",
       "25%        3.000000  8.808700e+04      1.000000      3.000000    150.000000   \n",
       "50%        4.000000  1.857470e+05      4.000000      4.000000    309.000000   \n",
       "75%        5.000000  2.514425e+06      5.000000      5.000000    432.000000   \n",
       "95%        5.000000  2.515580e+06      5.000000      5.000000    664.000000   \n",
       "99%        5.000000  2.516114e+06      5.000000      5.000000    793.000000   \n",
       "max        5.000000  2.516207e+06      5.000000      5.000000   5000.000000   \n",
       "\n",
       "           PriceMin         Rooms       Service  Sleep Quality         Value  \n",
       "count  72646.000000  72646.000000  72646.000000   72646.000000  72646.000000  \n",
       "mean     156.328401      3.056232      3.585662       1.994976      3.455579  \n",
       "std      147.981299      1.844447      1.670061       2.180142      1.649425  \n",
       "min        0.000000      0.000000      0.000000       0.000000      0.000000  \n",
       "1%        16.000000      0.000000      0.000000       0.000000      0.000000  \n",
       "5%        45.000000      0.000000      0.000000       0.000000      0.000000  \n",
       "25%       91.000000      1.000000      3.000000       0.000000      3.000000  \n",
       "50%      152.000000      4.000000      4.000000       0.000000      4.000000  \n",
       "75%      191.000000      5.000000      5.000000       4.000000      5.000000  \n",
       "95%      302.000000      5.000000      5.000000       5.000000      5.000000  \n",
       "99%      448.000000      5.000000      5.000000       5.000000      5.000000  \n",
       "max     5000.000000      5.000000      5.000000       5.000000      5.000000  "
      ]
     },
     "execution_count": 6,
     "metadata": {},
     "output_type": "execute_result"
    }
   ],
   "source": [
    "df_reviews.describe([.01, .05, .25, .5, .75, .95, .99])"
   ]
  },
  {
   "cell_type": "code",
   "execution_count": 7,
   "metadata": {},
   "outputs": [
    {
     "name": "stdout",
     "output_type": "stream",
     "text": [
      "             Author AuthorLocation  Business service (e.g., internet access)  \\\n",
      "UR124988753  jnegri      Argentina                                         0   \n",
      "UR122180520   Cru22                                                        0   \n",
      "\n",
      "             Check in / front desk  Cleanliness  \\\n",
      "UR124988753                      0            5   \n",
      "UR122180520                      0            5   \n",
      "\n",
      "                                          Hotel  HotelID HotelLocation  \\\n",
      "UR124988753  Staybridge Suites Miami Doral Area   195791            FL   \n",
      "UR122180520  Staybridge Suites Miami Doral Area   195791            FL   \n",
      "\n",
      "             Location  Overall  PriceMax  PriceMin  Rooms  Service  \\\n",
      "UR124988753         3      4.0       220       125      4        5   \n",
      "UR122180520         5      5.0       220       125      5        5   \n",
      "\n",
      "             Sleep Quality  Value  \n",
      "UR124988753              4      5  \n",
      "UR122180520              0      5  \n"
     ]
    }
   ],
   "source": [
    "# Remove date attribute that isn't going to be used in the analysis\n",
    "df_reviews = df_reviews.drop(['Date'], axis = 1)\n",
    "print(df_reviews.head(2))"
   ]
  },
  {
   "cell_type": "code",
   "execution_count": 8,
   "metadata": {},
   "outputs": [
    {
     "name": "stdout",
     "output_type": "stream",
     "text": [
      "             Author AuthorLocation  BusServ  CheckIn  Cleanliness  \\\n",
      "UR124988753  jnegri      Argentina        0        0            5   \n",
      "UR122180520   Cru22                       0        0            5   \n",
      "\n",
      "                                          Hotel  HotelID HotelLocation  \\\n",
      "UR124988753  Staybridge Suites Miami Doral Area   195791            FL   \n",
      "UR122180520  Staybridge Suites Miami Doral Area   195791            FL   \n",
      "\n",
      "             Location  Overall  PriceMax  PriceMin  Rooms  Service  \\\n",
      "UR124988753         3      4.0       220       125      4        5   \n",
      "UR122180520         5      5.0       220       125      5        5   \n",
      "\n",
      "             Sleep Quality  Value  \n",
      "UR124988753              4      5  \n",
      "UR122180520              0      5  \n"
     ]
    }
   ],
   "source": [
    "df_reviews.rename(index=str, columns={\"Business service (e.g., internet access)\": \"BusServ\", \\\n",
    "                                     \"Check in / front desk\": \"CheckIn\"}, inplace= True)\n",
    "print(df_reviews.head(2))"
   ]
  },
  {
   "cell_type": "code",
   "execution_count": 9,
   "metadata": {},
   "outputs": [
    {
     "data": {
      "text/plain": [
       "Author             object\n",
       "AuthorLocation     object\n",
       "BusServ           float64\n",
       "CheckIn           float64\n",
       "Cleanliness       float64\n",
       "Hotel              object\n",
       "HotelID             int64\n",
       "HotelLocation      object\n",
       "Location          float64\n",
       "Overall           float64\n",
       "PriceMax            int64\n",
       "PriceMin            int64\n",
       "Rooms             float64\n",
       "Service           float64\n",
       "Sleep Quality     float64\n",
       "Value             float64\n",
       "dtype: object"
      ]
     },
     "execution_count": 9,
     "metadata": {},
     "output_type": "execute_result"
    }
   ],
   "source": [
    "#what to do with missing values, now set to zero?\n",
    "#set missing values to overall rating doesn't seem crazy, since it's the average of other ratings\n",
    "#need to change from int64 to float64 because overall is a float\n",
    "df_reviews = df_reviews.astype({'Cleanliness': 'float', 'Location': 'float', 'Rooms': 'float', 'Service': 'float', \\\n",
    "                   'Sleep Quality': 'float', 'Value': 'float', 'BusServ': 'float', 'CheckIn': 'float'})\n",
    "df_reviews.dtypes\n"
   ]
  },
  {
   "cell_type": "code",
   "execution_count": 10,
   "metadata": {},
   "outputs": [
    {
     "data": {
      "text/html": [
       "<div>\n",
       "<style>\n",
       "    .dataframe thead tr:only-child th {\n",
       "        text-align: right;\n",
       "    }\n",
       "\n",
       "    .dataframe thead th {\n",
       "        text-align: left;\n",
       "    }\n",
       "\n",
       "    .dataframe tbody tr th {\n",
       "        vertical-align: top;\n",
       "    }\n",
       "</style>\n",
       "<table border=\"1\" class=\"dataframe\">\n",
       "  <thead>\n",
       "    <tr style=\"text-align: right;\">\n",
       "      <th></th>\n",
       "      <th>BusServ</th>\n",
       "      <th>CheckIn</th>\n",
       "      <th>Cleanliness</th>\n",
       "      <th>HotelID</th>\n",
       "      <th>Location</th>\n",
       "      <th>Overall</th>\n",
       "      <th>PriceMax</th>\n",
       "      <th>PriceMin</th>\n",
       "      <th>Rooms</th>\n",
       "      <th>Service</th>\n",
       "      <th>Sleep Quality</th>\n",
       "      <th>Value</th>\n",
       "    </tr>\n",
       "  </thead>\n",
       "  <tbody>\n",
       "    <tr>\n",
       "      <th>count</th>\n",
       "      <td>72646.000000</td>\n",
       "      <td>72646.000000</td>\n",
       "      <td>72646.000000</td>\n",
       "      <td>7.264600e+04</td>\n",
       "      <td>72646.000000</td>\n",
       "      <td>72646.000000</td>\n",
       "      <td>72646.000000</td>\n",
       "      <td>72646.000000</td>\n",
       "      <td>72646.000000</td>\n",
       "      <td>72646.000000</td>\n",
       "      <td>72646.000000</td>\n",
       "      <td>72646.000000</td>\n",
       "    </tr>\n",
       "    <tr>\n",
       "      <th>mean</th>\n",
       "      <td>3.770311</td>\n",
       "      <td>3.837156</td>\n",
       "      <td>3.982601</td>\n",
       "      <td>8.823511e+05</td>\n",
       "      <td>4.185557</td>\n",
       "      <td>3.786334</td>\n",
       "      <td>332.149052</td>\n",
       "      <td>156.328401</td>\n",
       "      <td>3.738279</td>\n",
       "      <td>3.913512</td>\n",
       "      <td>3.813204</td>\n",
       "      <td>3.781585</td>\n",
       "    </tr>\n",
       "    <tr>\n",
       "      <th>std</th>\n",
       "      <td>1.272211</td>\n",
       "      <td>1.253583</td>\n",
       "      <td>1.234409</td>\n",
       "      <td>1.083306e+06</td>\n",
       "      <td>1.099563</td>\n",
       "      <td>1.275755</td>\n",
       "      <td>352.873866</td>\n",
       "      <td>147.981299</td>\n",
       "      <td>1.283036</td>\n",
       "      <td>1.284070</td>\n",
       "      <td>1.296847</td>\n",
       "      <td>1.298927</td>\n",
       "    </tr>\n",
       "    <tr>\n",
       "      <th>min</th>\n",
       "      <td>1.000000</td>\n",
       "      <td>1.000000</td>\n",
       "      <td>1.000000</td>\n",
       "      <td>7.364400e+04</td>\n",
       "      <td>1.000000</td>\n",
       "      <td>1.000000</td>\n",
       "      <td>0.000000</td>\n",
       "      <td>0.000000</td>\n",
       "      <td>1.000000</td>\n",
       "      <td>1.000000</td>\n",
       "      <td>1.000000</td>\n",
       "      <td>1.000000</td>\n",
       "    </tr>\n",
       "    <tr>\n",
       "      <th>1%</th>\n",
       "      <td>1.000000</td>\n",
       "      <td>1.000000</td>\n",
       "      <td>1.000000</td>\n",
       "      <td>7.394300e+04</td>\n",
       "      <td>1.000000</td>\n",
       "      <td>1.000000</td>\n",
       "      <td>20.000000</td>\n",
       "      <td>16.000000</td>\n",
       "      <td>1.000000</td>\n",
       "      <td>1.000000</td>\n",
       "      <td>1.000000</td>\n",
       "      <td>1.000000</td>\n",
       "    </tr>\n",
       "    <tr>\n",
       "      <th>5%</th>\n",
       "      <td>1.000000</td>\n",
       "      <td>1.000000</td>\n",
       "      <td>1.000000</td>\n",
       "      <td>8.021900e+04</td>\n",
       "      <td>2.000000</td>\n",
       "      <td>1.000000</td>\n",
       "      <td>82.000000</td>\n",
       "      <td>45.000000</td>\n",
       "      <td>1.000000</td>\n",
       "      <td>1.000000</td>\n",
       "      <td>1.000000</td>\n",
       "      <td>1.000000</td>\n",
       "    </tr>\n",
       "    <tr>\n",
       "      <th>25%</th>\n",
       "      <td>3.000000</td>\n",
       "      <td>3.000000</td>\n",
       "      <td>3.000000</td>\n",
       "      <td>8.808700e+04</td>\n",
       "      <td>4.000000</td>\n",
       "      <td>3.000000</td>\n",
       "      <td>150.000000</td>\n",
       "      <td>91.000000</td>\n",
       "      <td>3.000000</td>\n",
       "      <td>3.000000</td>\n",
       "      <td>3.000000</td>\n",
       "      <td>3.000000</td>\n",
       "    </tr>\n",
       "    <tr>\n",
       "      <th>50%</th>\n",
       "      <td>4.000000</td>\n",
       "      <td>4.000000</td>\n",
       "      <td>4.000000</td>\n",
       "      <td>1.857470e+05</td>\n",
       "      <td>5.000000</td>\n",
       "      <td>4.000000</td>\n",
       "      <td>309.000000</td>\n",
       "      <td>152.000000</td>\n",
       "      <td>4.000000</td>\n",
       "      <td>4.000000</td>\n",
       "      <td>4.000000</td>\n",
       "      <td>4.000000</td>\n",
       "    </tr>\n",
       "    <tr>\n",
       "      <th>75%</th>\n",
       "      <td>5.000000</td>\n",
       "      <td>5.000000</td>\n",
       "      <td>5.000000</td>\n",
       "      <td>2.514425e+06</td>\n",
       "      <td>5.000000</td>\n",
       "      <td>5.000000</td>\n",
       "      <td>432.000000</td>\n",
       "      <td>191.000000</td>\n",
       "      <td>5.000000</td>\n",
       "      <td>5.000000</td>\n",
       "      <td>5.000000</td>\n",
       "      <td>5.000000</td>\n",
       "    </tr>\n",
       "    <tr>\n",
       "      <th>95%</th>\n",
       "      <td>5.000000</td>\n",
       "      <td>5.000000</td>\n",
       "      <td>5.000000</td>\n",
       "      <td>2.515580e+06</td>\n",
       "      <td>5.000000</td>\n",
       "      <td>5.000000</td>\n",
       "      <td>664.000000</td>\n",
       "      <td>302.000000</td>\n",
       "      <td>5.000000</td>\n",
       "      <td>5.000000</td>\n",
       "      <td>5.000000</td>\n",
       "      <td>5.000000</td>\n",
       "    </tr>\n",
       "    <tr>\n",
       "      <th>99%</th>\n",
       "      <td>5.000000</td>\n",
       "      <td>5.000000</td>\n",
       "      <td>5.000000</td>\n",
       "      <td>2.516114e+06</td>\n",
       "      <td>5.000000</td>\n",
       "      <td>5.000000</td>\n",
       "      <td>793.000000</td>\n",
       "      <td>448.000000</td>\n",
       "      <td>5.000000</td>\n",
       "      <td>5.000000</td>\n",
       "      <td>5.000000</td>\n",
       "      <td>5.000000</td>\n",
       "    </tr>\n",
       "    <tr>\n",
       "      <th>max</th>\n",
       "      <td>5.000000</td>\n",
       "      <td>5.000000</td>\n",
       "      <td>5.000000</td>\n",
       "      <td>2.516207e+06</td>\n",
       "      <td>5.000000</td>\n",
       "      <td>5.000000</td>\n",
       "      <td>5000.000000</td>\n",
       "      <td>5000.000000</td>\n",
       "      <td>5.000000</td>\n",
       "      <td>5.000000</td>\n",
       "      <td>5.000000</td>\n",
       "      <td>5.000000</td>\n",
       "    </tr>\n",
       "  </tbody>\n",
       "</table>\n",
       "</div>"
      ],
      "text/plain": [
       "            BusServ       CheckIn   Cleanliness       HotelID      Location  \\\n",
       "count  72646.000000  72646.000000  72646.000000  7.264600e+04  72646.000000   \n",
       "mean       3.770311      3.837156      3.982601  8.823511e+05      4.185557   \n",
       "std        1.272211      1.253583      1.234409  1.083306e+06      1.099563   \n",
       "min        1.000000      1.000000      1.000000  7.364400e+04      1.000000   \n",
       "1%         1.000000      1.000000      1.000000  7.394300e+04      1.000000   \n",
       "5%         1.000000      1.000000      1.000000  8.021900e+04      2.000000   \n",
       "25%        3.000000      3.000000      3.000000  8.808700e+04      4.000000   \n",
       "50%        4.000000      4.000000      4.000000  1.857470e+05      5.000000   \n",
       "75%        5.000000      5.000000      5.000000  2.514425e+06      5.000000   \n",
       "95%        5.000000      5.000000      5.000000  2.515580e+06      5.000000   \n",
       "99%        5.000000      5.000000      5.000000  2.516114e+06      5.000000   \n",
       "max        5.000000      5.000000      5.000000  2.516207e+06      5.000000   \n",
       "\n",
       "            Overall      PriceMax      PriceMin         Rooms       Service  \\\n",
       "count  72646.000000  72646.000000  72646.000000  72646.000000  72646.000000   \n",
       "mean       3.786334    332.149052    156.328401      3.738279      3.913512   \n",
       "std        1.275755    352.873866    147.981299      1.283036      1.284070   \n",
       "min        1.000000      0.000000      0.000000      1.000000      1.000000   \n",
       "1%         1.000000     20.000000     16.000000      1.000000      1.000000   \n",
       "5%         1.000000     82.000000     45.000000      1.000000      1.000000   \n",
       "25%        3.000000    150.000000     91.000000      3.000000      3.000000   \n",
       "50%        4.000000    309.000000    152.000000      4.000000      4.000000   \n",
       "75%        5.000000    432.000000    191.000000      5.000000      5.000000   \n",
       "95%        5.000000    664.000000    302.000000      5.000000      5.000000   \n",
       "99%        5.000000    793.000000    448.000000      5.000000      5.000000   \n",
       "max        5.000000   5000.000000   5000.000000      5.000000      5.000000   \n",
       "\n",
       "       Sleep Quality         Value  \n",
       "count   72646.000000  72646.000000  \n",
       "mean        3.813204      3.781585  \n",
       "std         1.296847      1.298927  \n",
       "min         1.000000      1.000000  \n",
       "1%          1.000000      1.000000  \n",
       "5%          1.000000      1.000000  \n",
       "25%         3.000000      3.000000  \n",
       "50%         4.000000      4.000000  \n",
       "75%         5.000000      5.000000  \n",
       "95%         5.000000      5.000000  \n",
       "99%         5.000000      5.000000  \n",
       "max         5.000000      5.000000  "
      ]
     },
     "execution_count": 10,
     "metadata": {},
     "output_type": "execute_result"
    }
   ],
   "source": [
    "#now we can assign values\n",
    "df_reviews['BusServ'] = np.where(df_reviews['BusServ'] == 0, df_reviews['Overall'], df_reviews['BusServ'])\n",
    "df_reviews['CheckIn'] = np.where(df_reviews['CheckIn'] == 0, df_reviews['Overall'], df_reviews['CheckIn'])\n",
    "df_reviews['Cleanliness'] = np.where(df_reviews['Cleanliness'] == 0, df_reviews['Overall'], df_reviews['Cleanliness'])\n",
    "df_reviews['Location'] = np.where(df_reviews['Location'] == 0, df_reviews['Overall'], df_reviews['Location'])\n",
    "df_reviews['Rooms'] = np.where(df_reviews['Rooms'] == 0, df_reviews['Overall'], df_reviews['Rooms'])\n",
    "df_reviews['Service'] = np.where(df_reviews['Service'] == 0, df_reviews['Overall'], df_reviews['Service'])\n",
    "df_reviews['Sleep Quality'] = np.where(df_reviews['Sleep Quality'] == 0, df_reviews['Overall'], df_reviews['Sleep Quality'])\n",
    "df_reviews['Value'] = np.where(df_reviews['Value'] == 0, df_reviews['Overall'], df_reviews['Value'])\n",
    "df_reviews.describe([.01, .05, .25, .5, .75, .95, .99])\n"
   ]
  },
  {
   "cell_type": "code",
   "execution_count": 14,
   "metadata": {},
   "outputs": [
    {
     "data": {
      "application/javascript": [
       "/* Put everything inside the global mpl namespace */\n",
       "window.mpl = {};\n",
       "\n",
       "\n",
       "mpl.get_websocket_type = function() {\n",
       "    if (typeof(WebSocket) !== 'undefined') {\n",
       "        return WebSocket;\n",
       "    } else if (typeof(MozWebSocket) !== 'undefined') {\n",
       "        return MozWebSocket;\n",
       "    } else {\n",
       "        alert('Your browser does not have WebSocket support.' +\n",
       "              'Please try Chrome, Safari or Firefox ≥ 6. ' +\n",
       "              'Firefox 4 and 5 are also supported but you ' +\n",
       "              'have to enable WebSockets in about:config.');\n",
       "    };\n",
       "}\n",
       "\n",
       "mpl.figure = function(figure_id, websocket, ondownload, parent_element) {\n",
       "    this.id = figure_id;\n",
       "\n",
       "    this.ws = websocket;\n",
       "\n",
       "    this.supports_binary = (this.ws.binaryType != undefined);\n",
       "\n",
       "    if (!this.supports_binary) {\n",
       "        var warnings = document.getElementById(\"mpl-warnings\");\n",
       "        if (warnings) {\n",
       "            warnings.style.display = 'block';\n",
       "            warnings.textContent = (\n",
       "                \"This browser does not support binary websocket messages. \" +\n",
       "                    \"Performance may be slow.\");\n",
       "        }\n",
       "    }\n",
       "\n",
       "    this.imageObj = new Image();\n",
       "\n",
       "    this.context = undefined;\n",
       "    this.message = undefined;\n",
       "    this.canvas = undefined;\n",
       "    this.rubberband_canvas = undefined;\n",
       "    this.rubberband_context = undefined;\n",
       "    this.format_dropdown = undefined;\n",
       "\n",
       "    this.image_mode = 'full';\n",
       "\n",
       "    this.root = $('<div/>');\n",
       "    this._root_extra_style(this.root)\n",
       "    this.root.attr('style', 'display: inline-block');\n",
       "\n",
       "    $(parent_element).append(this.root);\n",
       "\n",
       "    this._init_header(this);\n",
       "    this._init_canvas(this);\n",
       "    this._init_toolbar(this);\n",
       "\n",
       "    var fig = this;\n",
       "\n",
       "    this.waiting = false;\n",
       "\n",
       "    this.ws.onopen =  function () {\n",
       "            fig.send_message(\"supports_binary\", {value: fig.supports_binary});\n",
       "            fig.send_message(\"send_image_mode\", {});\n",
       "            if (mpl.ratio != 1) {\n",
       "                fig.send_message(\"set_dpi_ratio\", {'dpi_ratio': mpl.ratio});\n",
       "            }\n",
       "            fig.send_message(\"refresh\", {});\n",
       "        }\n",
       "\n",
       "    this.imageObj.onload = function() {\n",
       "            if (fig.image_mode == 'full') {\n",
       "                // Full images could contain transparency (where diff images\n",
       "                // almost always do), so we need to clear the canvas so that\n",
       "                // there is no ghosting.\n",
       "                fig.context.clearRect(0, 0, fig.canvas.width, fig.canvas.height);\n",
       "            }\n",
       "            fig.context.drawImage(fig.imageObj, 0, 0);\n",
       "        };\n",
       "\n",
       "    this.imageObj.onunload = function() {\n",
       "        fig.ws.close();\n",
       "    }\n",
       "\n",
       "    this.ws.onmessage = this._make_on_message_function(this);\n",
       "\n",
       "    this.ondownload = ondownload;\n",
       "}\n",
       "\n",
       "mpl.figure.prototype._init_header = function() {\n",
       "    var titlebar = $(\n",
       "        '<div class=\"ui-dialog-titlebar ui-widget-header ui-corner-all ' +\n",
       "        'ui-helper-clearfix\"/>');\n",
       "    var titletext = $(\n",
       "        '<div class=\"ui-dialog-title\" style=\"width: 100%; ' +\n",
       "        'text-align: center; padding: 3px;\"/>');\n",
       "    titlebar.append(titletext)\n",
       "    this.root.append(titlebar);\n",
       "    this.header = titletext[0];\n",
       "}\n",
       "\n",
       "\n",
       "\n",
       "mpl.figure.prototype._canvas_extra_style = function(canvas_div) {\n",
       "\n",
       "}\n",
       "\n",
       "\n",
       "mpl.figure.prototype._root_extra_style = function(canvas_div) {\n",
       "\n",
       "}\n",
       "\n",
       "mpl.figure.prototype._init_canvas = function() {\n",
       "    var fig = this;\n",
       "\n",
       "    var canvas_div = $('<div/>');\n",
       "\n",
       "    canvas_div.attr('style', 'position: relative; clear: both; outline: 0');\n",
       "\n",
       "    function canvas_keyboard_event(event) {\n",
       "        return fig.key_event(event, event['data']);\n",
       "    }\n",
       "\n",
       "    canvas_div.keydown('key_press', canvas_keyboard_event);\n",
       "    canvas_div.keyup('key_release', canvas_keyboard_event);\n",
       "    this.canvas_div = canvas_div\n",
       "    this._canvas_extra_style(canvas_div)\n",
       "    this.root.append(canvas_div);\n",
       "\n",
       "    var canvas = $('<canvas/>');\n",
       "    canvas.addClass('mpl-canvas');\n",
       "    canvas.attr('style', \"left: 0; top: 0; z-index: 0; outline: 0\")\n",
       "\n",
       "    this.canvas = canvas[0];\n",
       "    this.context = canvas[0].getContext(\"2d\");\n",
       "\n",
       "    var backingStore = this.context.backingStorePixelRatio ||\n",
       "\tthis.context.webkitBackingStorePixelRatio ||\n",
       "\tthis.context.mozBackingStorePixelRatio ||\n",
       "\tthis.context.msBackingStorePixelRatio ||\n",
       "\tthis.context.oBackingStorePixelRatio ||\n",
       "\tthis.context.backingStorePixelRatio || 1;\n",
       "\n",
       "    mpl.ratio = (window.devicePixelRatio || 1) / backingStore;\n",
       "\n",
       "    var rubberband = $('<canvas/>');\n",
       "    rubberband.attr('style', \"position: absolute; left: 0; top: 0; z-index: 1;\")\n",
       "\n",
       "    var pass_mouse_events = true;\n",
       "\n",
       "    canvas_div.resizable({\n",
       "        start: function(event, ui) {\n",
       "            pass_mouse_events = false;\n",
       "        },\n",
       "        resize: function(event, ui) {\n",
       "            fig.request_resize(ui.size.width, ui.size.height);\n",
       "        },\n",
       "        stop: function(event, ui) {\n",
       "            pass_mouse_events = true;\n",
       "            fig.request_resize(ui.size.width, ui.size.height);\n",
       "        },\n",
       "    });\n",
       "\n",
       "    function mouse_event_fn(event) {\n",
       "        if (pass_mouse_events)\n",
       "            return fig.mouse_event(event, event['data']);\n",
       "    }\n",
       "\n",
       "    rubberband.mousedown('button_press', mouse_event_fn);\n",
       "    rubberband.mouseup('button_release', mouse_event_fn);\n",
       "    // Throttle sequential mouse events to 1 every 20ms.\n",
       "    rubberband.mousemove('motion_notify', mouse_event_fn);\n",
       "\n",
       "    rubberband.mouseenter('figure_enter', mouse_event_fn);\n",
       "    rubberband.mouseleave('figure_leave', mouse_event_fn);\n",
       "\n",
       "    canvas_div.on(\"wheel\", function (event) {\n",
       "        event = event.originalEvent;\n",
       "        event['data'] = 'scroll'\n",
       "        if (event.deltaY < 0) {\n",
       "            event.step = 1;\n",
       "        } else {\n",
       "            event.step = -1;\n",
       "        }\n",
       "        mouse_event_fn(event);\n",
       "    });\n",
       "\n",
       "    canvas_div.append(canvas);\n",
       "    canvas_div.append(rubberband);\n",
       "\n",
       "    this.rubberband = rubberband;\n",
       "    this.rubberband_canvas = rubberband[0];\n",
       "    this.rubberband_context = rubberband[0].getContext(\"2d\");\n",
       "    this.rubberband_context.strokeStyle = \"#000000\";\n",
       "\n",
       "    this._resize_canvas = function(width, height) {\n",
       "        // Keep the size of the canvas, canvas container, and rubber band\n",
       "        // canvas in synch.\n",
       "        canvas_div.css('width', width)\n",
       "        canvas_div.css('height', height)\n",
       "\n",
       "        canvas.attr('width', width * mpl.ratio);\n",
       "        canvas.attr('height', height * mpl.ratio);\n",
       "        canvas.attr('style', 'width: ' + width + 'px; height: ' + height + 'px;');\n",
       "\n",
       "        rubberband.attr('width', width);\n",
       "        rubberband.attr('height', height);\n",
       "    }\n",
       "\n",
       "    // Set the figure to an initial 600x600px, this will subsequently be updated\n",
       "    // upon first draw.\n",
       "    this._resize_canvas(600, 600);\n",
       "\n",
       "    // Disable right mouse context menu.\n",
       "    $(this.rubberband_canvas).bind(\"contextmenu\",function(e){\n",
       "        return false;\n",
       "    });\n",
       "\n",
       "    function set_focus () {\n",
       "        canvas.focus();\n",
       "        canvas_div.focus();\n",
       "    }\n",
       "\n",
       "    window.setTimeout(set_focus, 100);\n",
       "}\n",
       "\n",
       "mpl.figure.prototype._init_toolbar = function() {\n",
       "    var fig = this;\n",
       "\n",
       "    var nav_element = $('<div/>')\n",
       "    nav_element.attr('style', 'width: 100%');\n",
       "    this.root.append(nav_element);\n",
       "\n",
       "    // Define a callback function for later on.\n",
       "    function toolbar_event(event) {\n",
       "        return fig.toolbar_button_onclick(event['data']);\n",
       "    }\n",
       "    function toolbar_mouse_event(event) {\n",
       "        return fig.toolbar_button_onmouseover(event['data']);\n",
       "    }\n",
       "\n",
       "    for(var toolbar_ind in mpl.toolbar_items) {\n",
       "        var name = mpl.toolbar_items[toolbar_ind][0];\n",
       "        var tooltip = mpl.toolbar_items[toolbar_ind][1];\n",
       "        var image = mpl.toolbar_items[toolbar_ind][2];\n",
       "        var method_name = mpl.toolbar_items[toolbar_ind][3];\n",
       "\n",
       "        if (!name) {\n",
       "            // put a spacer in here.\n",
       "            continue;\n",
       "        }\n",
       "        var button = $('<button/>');\n",
       "        button.addClass('ui-button ui-widget ui-state-default ui-corner-all ' +\n",
       "                        'ui-button-icon-only');\n",
       "        button.attr('role', 'button');\n",
       "        button.attr('aria-disabled', 'false');\n",
       "        button.click(method_name, toolbar_event);\n",
       "        button.mouseover(tooltip, toolbar_mouse_event);\n",
       "\n",
       "        var icon_img = $('<span/>');\n",
       "        icon_img.addClass('ui-button-icon-primary ui-icon');\n",
       "        icon_img.addClass(image);\n",
       "        icon_img.addClass('ui-corner-all');\n",
       "\n",
       "        var tooltip_span = $('<span/>');\n",
       "        tooltip_span.addClass('ui-button-text');\n",
       "        tooltip_span.html(tooltip);\n",
       "\n",
       "        button.append(icon_img);\n",
       "        button.append(tooltip_span);\n",
       "\n",
       "        nav_element.append(button);\n",
       "    }\n",
       "\n",
       "    var fmt_picker_span = $('<span/>');\n",
       "\n",
       "    var fmt_picker = $('<select/>');\n",
       "    fmt_picker.addClass('mpl-toolbar-option ui-widget ui-widget-content');\n",
       "    fmt_picker_span.append(fmt_picker);\n",
       "    nav_element.append(fmt_picker_span);\n",
       "    this.format_dropdown = fmt_picker[0];\n",
       "\n",
       "    for (var ind in mpl.extensions) {\n",
       "        var fmt = mpl.extensions[ind];\n",
       "        var option = $(\n",
       "            '<option/>', {selected: fmt === mpl.default_extension}).html(fmt);\n",
       "        fmt_picker.append(option)\n",
       "    }\n",
       "\n",
       "    // Add hover states to the ui-buttons\n",
       "    $( \".ui-button\" ).hover(\n",
       "        function() { $(this).addClass(\"ui-state-hover\");},\n",
       "        function() { $(this).removeClass(\"ui-state-hover\");}\n",
       "    );\n",
       "\n",
       "    var status_bar = $('<span class=\"mpl-message\"/>');\n",
       "    nav_element.append(status_bar);\n",
       "    this.message = status_bar[0];\n",
       "}\n",
       "\n",
       "mpl.figure.prototype.request_resize = function(x_pixels, y_pixels) {\n",
       "    // Request matplotlib to resize the figure. Matplotlib will then trigger a resize in the client,\n",
       "    // which will in turn request a refresh of the image.\n",
       "    this.send_message('resize', {'width': x_pixels, 'height': y_pixels});\n",
       "}\n",
       "\n",
       "mpl.figure.prototype.send_message = function(type, properties) {\n",
       "    properties['type'] = type;\n",
       "    properties['figure_id'] = this.id;\n",
       "    this.ws.send(JSON.stringify(properties));\n",
       "}\n",
       "\n",
       "mpl.figure.prototype.send_draw_message = function() {\n",
       "    if (!this.waiting) {\n",
       "        this.waiting = true;\n",
       "        this.ws.send(JSON.stringify({type: \"draw\", figure_id: this.id}));\n",
       "    }\n",
       "}\n",
       "\n",
       "\n",
       "mpl.figure.prototype.handle_save = function(fig, msg) {\n",
       "    var format_dropdown = fig.format_dropdown;\n",
       "    var format = format_dropdown.options[format_dropdown.selectedIndex].value;\n",
       "    fig.ondownload(fig, format);\n",
       "}\n",
       "\n",
       "\n",
       "mpl.figure.prototype.handle_resize = function(fig, msg) {\n",
       "    var size = msg['size'];\n",
       "    if (size[0] != fig.canvas.width || size[1] != fig.canvas.height) {\n",
       "        fig._resize_canvas(size[0], size[1]);\n",
       "        fig.send_message(\"refresh\", {});\n",
       "    };\n",
       "}\n",
       "\n",
       "mpl.figure.prototype.handle_rubberband = function(fig, msg) {\n",
       "    var x0 = msg['x0'] / mpl.ratio;\n",
       "    var y0 = (fig.canvas.height - msg['y0']) / mpl.ratio;\n",
       "    var x1 = msg['x1'] / mpl.ratio;\n",
       "    var y1 = (fig.canvas.height - msg['y1']) / mpl.ratio;\n",
       "    x0 = Math.floor(x0) + 0.5;\n",
       "    y0 = Math.floor(y0) + 0.5;\n",
       "    x1 = Math.floor(x1) + 0.5;\n",
       "    y1 = Math.floor(y1) + 0.5;\n",
       "    var min_x = Math.min(x0, x1);\n",
       "    var min_y = Math.min(y0, y1);\n",
       "    var width = Math.abs(x1 - x0);\n",
       "    var height = Math.abs(y1 - y0);\n",
       "\n",
       "    fig.rubberband_context.clearRect(\n",
       "        0, 0, fig.canvas.width, fig.canvas.height);\n",
       "\n",
       "    fig.rubberband_context.strokeRect(min_x, min_y, width, height);\n",
       "}\n",
       "\n",
       "mpl.figure.prototype.handle_figure_label = function(fig, msg) {\n",
       "    // Updates the figure title.\n",
       "    fig.header.textContent = msg['label'];\n",
       "}\n",
       "\n",
       "mpl.figure.prototype.handle_cursor = function(fig, msg) {\n",
       "    var cursor = msg['cursor'];\n",
       "    switch(cursor)\n",
       "    {\n",
       "    case 0:\n",
       "        cursor = 'pointer';\n",
       "        break;\n",
       "    case 1:\n",
       "        cursor = 'default';\n",
       "        break;\n",
       "    case 2:\n",
       "        cursor = 'crosshair';\n",
       "        break;\n",
       "    case 3:\n",
       "        cursor = 'move';\n",
       "        break;\n",
       "    }\n",
       "    fig.rubberband_canvas.style.cursor = cursor;\n",
       "}\n",
       "\n",
       "mpl.figure.prototype.handle_message = function(fig, msg) {\n",
       "    fig.message.textContent = msg['message'];\n",
       "}\n",
       "\n",
       "mpl.figure.prototype.handle_draw = function(fig, msg) {\n",
       "    // Request the server to send over a new figure.\n",
       "    fig.send_draw_message();\n",
       "}\n",
       "\n",
       "mpl.figure.prototype.handle_image_mode = function(fig, msg) {\n",
       "    fig.image_mode = msg['mode'];\n",
       "}\n",
       "\n",
       "mpl.figure.prototype.updated_canvas_event = function() {\n",
       "    // Called whenever the canvas gets updated.\n",
       "    this.send_message(\"ack\", {});\n",
       "}\n",
       "\n",
       "// A function to construct a web socket function for onmessage handling.\n",
       "// Called in the figure constructor.\n",
       "mpl.figure.prototype._make_on_message_function = function(fig) {\n",
       "    return function socket_on_message(evt) {\n",
       "        if (evt.data instanceof Blob) {\n",
       "            /* FIXME: We get \"Resource interpreted as Image but\n",
       "             * transferred with MIME type text/plain:\" errors on\n",
       "             * Chrome.  But how to set the MIME type?  It doesn't seem\n",
       "             * to be part of the websocket stream */\n",
       "            evt.data.type = \"image/png\";\n",
       "\n",
       "            /* Free the memory for the previous frames */\n",
       "            if (fig.imageObj.src) {\n",
       "                (window.URL || window.webkitURL).revokeObjectURL(\n",
       "                    fig.imageObj.src);\n",
       "            }\n",
       "\n",
       "            fig.imageObj.src = (window.URL || window.webkitURL).createObjectURL(\n",
       "                evt.data);\n",
       "            fig.updated_canvas_event();\n",
       "            fig.waiting = false;\n",
       "            return;\n",
       "        }\n",
       "        else if (typeof evt.data === 'string' && evt.data.slice(0, 21) == \"data:image/png;base64\") {\n",
       "            fig.imageObj.src = evt.data;\n",
       "            fig.updated_canvas_event();\n",
       "            fig.waiting = false;\n",
       "            return;\n",
       "        }\n",
       "\n",
       "        var msg = JSON.parse(evt.data);\n",
       "        var msg_type = msg['type'];\n",
       "\n",
       "        // Call the  \"handle_{type}\" callback, which takes\n",
       "        // the figure and JSON message as its only arguments.\n",
       "        try {\n",
       "            var callback = fig[\"handle_\" + msg_type];\n",
       "        } catch (e) {\n",
       "            console.log(\"No handler for the '\" + msg_type + \"' message type: \", msg);\n",
       "            return;\n",
       "        }\n",
       "\n",
       "        if (callback) {\n",
       "            try {\n",
       "                // console.log(\"Handling '\" + msg_type + \"' message: \", msg);\n",
       "                callback(fig, msg);\n",
       "            } catch (e) {\n",
       "                console.log(\"Exception inside the 'handler_\" + msg_type + \"' callback:\", e, e.stack, msg);\n",
       "            }\n",
       "        }\n",
       "    };\n",
       "}\n",
       "\n",
       "// from http://stackoverflow.com/questions/1114465/getting-mouse-location-in-canvas\n",
       "mpl.findpos = function(e) {\n",
       "    //this section is from http://www.quirksmode.org/js/events_properties.html\n",
       "    var targ;\n",
       "    if (!e)\n",
       "        e = window.event;\n",
       "    if (e.target)\n",
       "        targ = e.target;\n",
       "    else if (e.srcElement)\n",
       "        targ = e.srcElement;\n",
       "    if (targ.nodeType == 3) // defeat Safari bug\n",
       "        targ = targ.parentNode;\n",
       "\n",
       "    // jQuery normalizes the pageX and pageY\n",
       "    // pageX,Y are the mouse positions relative to the document\n",
       "    // offset() returns the position of the element relative to the document\n",
       "    var x = e.pageX - $(targ).offset().left;\n",
       "    var y = e.pageY - $(targ).offset().top;\n",
       "\n",
       "    return {\"x\": x, \"y\": y};\n",
       "};\n",
       "\n",
       "/*\n",
       " * return a copy of an object with only non-object keys\n",
       " * we need this to avoid circular references\n",
       " * http://stackoverflow.com/a/24161582/3208463\n",
       " */\n",
       "function simpleKeys (original) {\n",
       "  return Object.keys(original).reduce(function (obj, key) {\n",
       "    if (typeof original[key] !== 'object')\n",
       "        obj[key] = original[key]\n",
       "    return obj;\n",
       "  }, {});\n",
       "}\n",
       "\n",
       "mpl.figure.prototype.mouse_event = function(event, name) {\n",
       "    var canvas_pos = mpl.findpos(event)\n",
       "\n",
       "    if (name === 'button_press')\n",
       "    {\n",
       "        this.canvas.focus();\n",
       "        this.canvas_div.focus();\n",
       "    }\n",
       "\n",
       "    var x = canvas_pos.x * mpl.ratio;\n",
       "    var y = canvas_pos.y * mpl.ratio;\n",
       "\n",
       "    this.send_message(name, {x: x, y: y, button: event.button,\n",
       "                             step: event.step,\n",
       "                             guiEvent: simpleKeys(event)});\n",
       "\n",
       "    /* This prevents the web browser from automatically changing to\n",
       "     * the text insertion cursor when the button is pressed.  We want\n",
       "     * to control all of the cursor setting manually through the\n",
       "     * 'cursor' event from matplotlib */\n",
       "    event.preventDefault();\n",
       "    return false;\n",
       "}\n",
       "\n",
       "mpl.figure.prototype._key_event_extra = function(event, name) {\n",
       "    // Handle any extra behaviour associated with a key event\n",
       "}\n",
       "\n",
       "mpl.figure.prototype.key_event = function(event, name) {\n",
       "\n",
       "    // Prevent repeat events\n",
       "    if (name == 'key_press')\n",
       "    {\n",
       "        if (event.which === this._key)\n",
       "            return;\n",
       "        else\n",
       "            this._key = event.which;\n",
       "    }\n",
       "    if (name == 'key_release')\n",
       "        this._key = null;\n",
       "\n",
       "    var value = '';\n",
       "    if (event.ctrlKey && event.which != 17)\n",
       "        value += \"ctrl+\";\n",
       "    if (event.altKey && event.which != 18)\n",
       "        value += \"alt+\";\n",
       "    if (event.shiftKey && event.which != 16)\n",
       "        value += \"shift+\";\n",
       "\n",
       "    value += 'k';\n",
       "    value += event.which.toString();\n",
       "\n",
       "    this._key_event_extra(event, name);\n",
       "\n",
       "    this.send_message(name, {key: value,\n",
       "                             guiEvent: simpleKeys(event)});\n",
       "    return false;\n",
       "}\n",
       "\n",
       "mpl.figure.prototype.toolbar_button_onclick = function(name) {\n",
       "    if (name == 'download') {\n",
       "        this.handle_save(this, null);\n",
       "    } else {\n",
       "        this.send_message(\"toolbar_button\", {name: name});\n",
       "    }\n",
       "};\n",
       "\n",
       "mpl.figure.prototype.toolbar_button_onmouseover = function(tooltip) {\n",
       "    this.message.textContent = tooltip;\n",
       "};\n",
       "mpl.toolbar_items = [[\"Home\", \"Reset original view\", \"fa fa-home icon-home\", \"home\"], [\"Back\", \"Back to  previous view\", \"fa fa-arrow-left icon-arrow-left\", \"back\"], [\"Forward\", \"Forward to next view\", \"fa fa-arrow-right icon-arrow-right\", \"forward\"], [\"\", \"\", \"\", \"\"], [\"Pan\", \"Pan axes with left mouse, zoom with right\", \"fa fa-arrows icon-move\", \"pan\"], [\"Zoom\", \"Zoom to rectangle\", \"fa fa-square-o icon-check-empty\", \"zoom\"], [\"\", \"\", \"\", \"\"], [\"Download\", \"Download plot\", \"fa fa-floppy-o icon-save\", \"download\"]];\n",
       "\n",
       "mpl.extensions = [\"eps\", \"jpeg\", \"pdf\", \"png\", \"ps\", \"raw\", \"svg\", \"tif\"];\n",
       "\n",
       "mpl.default_extension = \"png\";var comm_websocket_adapter = function(comm) {\n",
       "    // Create a \"websocket\"-like object which calls the given IPython comm\n",
       "    // object with the appropriate methods. Currently this is a non binary\n",
       "    // socket, so there is still some room for performance tuning.\n",
       "    var ws = {};\n",
       "\n",
       "    ws.close = function() {\n",
       "        comm.close()\n",
       "    };\n",
       "    ws.send = function(m) {\n",
       "        //console.log('sending', m);\n",
       "        comm.send(m);\n",
       "    };\n",
       "    // Register the callback with on_msg.\n",
       "    comm.on_msg(function(msg) {\n",
       "        //console.log('receiving', msg['content']['data'], msg);\n",
       "        // Pass the mpl event to the overridden (by mpl) onmessage function.\n",
       "        ws.onmessage(msg['content']['data'])\n",
       "    });\n",
       "    return ws;\n",
       "}\n",
       "\n",
       "mpl.mpl_figure_comm = function(comm, msg) {\n",
       "    // This is the function which gets called when the mpl process\n",
       "    // starts-up an IPython Comm through the \"matplotlib\" channel.\n",
       "\n",
       "    var id = msg.content.data.id;\n",
       "    // Get hold of the div created by the display call when the Comm\n",
       "    // socket was opened in Python.\n",
       "    var element = $(\"#\" + id);\n",
       "    var ws_proxy = comm_websocket_adapter(comm)\n",
       "\n",
       "    function ondownload(figure, format) {\n",
       "        window.open(figure.imageObj.src);\n",
       "    }\n",
       "\n",
       "    var fig = new mpl.figure(id, ws_proxy,\n",
       "                           ondownload,\n",
       "                           element.get(0));\n",
       "\n",
       "    // Call onopen now - mpl needs it, as it is assuming we've passed it a real\n",
       "    // web socket which is closed, not our websocket->open comm proxy.\n",
       "    ws_proxy.onopen();\n",
       "\n",
       "    fig.parent_element = element.get(0);\n",
       "    fig.cell_info = mpl.find_output_cell(\"<div id='\" + id + \"'></div>\");\n",
       "    if (!fig.cell_info) {\n",
       "        console.error(\"Failed to find cell for figure\", id, fig);\n",
       "        return;\n",
       "    }\n",
       "\n",
       "    var output_index = fig.cell_info[2]\n",
       "    var cell = fig.cell_info[0];\n",
       "\n",
       "};\n",
       "\n",
       "mpl.figure.prototype.handle_close = function(fig, msg) {\n",
       "    var width = fig.canvas.width/mpl.ratio\n",
       "    fig.root.unbind('remove')\n",
       "\n",
       "    // Update the output cell to use the data from the current canvas.\n",
       "    fig.push_to_output();\n",
       "    var dataURL = fig.canvas.toDataURL();\n",
       "    // Re-enable the keyboard manager in IPython - without this line, in FF,\n",
       "    // the notebook keyboard shortcuts fail.\n",
       "    IPython.keyboard_manager.enable()\n",
       "    $(fig.parent_element).html('<img src=\"' + dataURL + '\" width=\"' + width + '\">');\n",
       "    fig.close_ws(fig, msg);\n",
       "}\n",
       "\n",
       "mpl.figure.prototype.close_ws = function(fig, msg){\n",
       "    fig.send_message('closing', msg);\n",
       "    // fig.ws.close()\n",
       "}\n",
       "\n",
       "mpl.figure.prototype.push_to_output = function(remove_interactive) {\n",
       "    // Turn the data on the canvas into data in the output cell.\n",
       "    var width = this.canvas.width/mpl.ratio\n",
       "    var dataURL = this.canvas.toDataURL();\n",
       "    this.cell_info[1]['text/html'] = '<img src=\"' + dataURL + '\" width=\"' + width + '\">';\n",
       "}\n",
       "\n",
       "mpl.figure.prototype.updated_canvas_event = function() {\n",
       "    // Tell IPython that the notebook contents must change.\n",
       "    IPython.notebook.set_dirty(true);\n",
       "    this.send_message(\"ack\", {});\n",
       "    var fig = this;\n",
       "    // Wait a second, then push the new image to the DOM so\n",
       "    // that it is saved nicely (might be nice to debounce this).\n",
       "    setTimeout(function () { fig.push_to_output() }, 1000);\n",
       "}\n",
       "\n",
       "mpl.figure.prototype._init_toolbar = function() {\n",
       "    var fig = this;\n",
       "\n",
       "    var nav_element = $('<div/>')\n",
       "    nav_element.attr('style', 'width: 100%');\n",
       "    this.root.append(nav_element);\n",
       "\n",
       "    // Define a callback function for later on.\n",
       "    function toolbar_event(event) {\n",
       "        return fig.toolbar_button_onclick(event['data']);\n",
       "    }\n",
       "    function toolbar_mouse_event(event) {\n",
       "        return fig.toolbar_button_onmouseover(event['data']);\n",
       "    }\n",
       "\n",
       "    for(var toolbar_ind in mpl.toolbar_items){\n",
       "        var name = mpl.toolbar_items[toolbar_ind][0];\n",
       "        var tooltip = mpl.toolbar_items[toolbar_ind][1];\n",
       "        var image = mpl.toolbar_items[toolbar_ind][2];\n",
       "        var method_name = mpl.toolbar_items[toolbar_ind][3];\n",
       "\n",
       "        if (!name) { continue; };\n",
       "\n",
       "        var button = $('<button class=\"btn btn-default\" href=\"#\" title=\"' + name + '\"><i class=\"fa ' + image + ' fa-lg\"></i></button>');\n",
       "        button.click(method_name, toolbar_event);\n",
       "        button.mouseover(tooltip, toolbar_mouse_event);\n",
       "        nav_element.append(button);\n",
       "    }\n",
       "\n",
       "    // Add the status bar.\n",
       "    var status_bar = $('<span class=\"mpl-message\" style=\"text-align:right; float: right;\"/>');\n",
       "    nav_element.append(status_bar);\n",
       "    this.message = status_bar[0];\n",
       "\n",
       "    // Add the close button to the window.\n",
       "    var buttongrp = $('<div class=\"btn-group inline pull-right\"></div>');\n",
       "    var button = $('<button class=\"btn btn-mini btn-primary\" href=\"#\" title=\"Stop Interaction\"><i class=\"fa fa-power-off icon-remove icon-large\"></i></button>');\n",
       "    button.click(function (evt) { fig.handle_close(fig, {}); } );\n",
       "    button.mouseover('Stop Interaction', toolbar_mouse_event);\n",
       "    buttongrp.append(button);\n",
       "    var titlebar = this.root.find($('.ui-dialog-titlebar'));\n",
       "    titlebar.prepend(buttongrp);\n",
       "}\n",
       "\n",
       "mpl.figure.prototype._root_extra_style = function(el){\n",
       "    var fig = this\n",
       "    el.on(\"remove\", function(){\n",
       "\tfig.close_ws(fig, {});\n",
       "    });\n",
       "}\n",
       "\n",
       "mpl.figure.prototype._canvas_extra_style = function(el){\n",
       "    // this is important to make the div 'focusable\n",
       "    el.attr('tabindex', 0)\n",
       "    // reach out to IPython and tell the keyboard manager to turn it's self\n",
       "    // off when our div gets focus\n",
       "\n",
       "    // location in version 3\n",
       "    if (IPython.notebook.keyboard_manager) {\n",
       "        IPython.notebook.keyboard_manager.register_events(el);\n",
       "    }\n",
       "    else {\n",
       "        // location in version 2\n",
       "        IPython.keyboard_manager.register_events(el);\n",
       "    }\n",
       "\n",
       "}\n",
       "\n",
       "mpl.figure.prototype._key_event_extra = function(event, name) {\n",
       "    var manager = IPython.notebook.keyboard_manager;\n",
       "    if (!manager)\n",
       "        manager = IPython.keyboard_manager;\n",
       "\n",
       "    // Check for shift+enter\n",
       "    if (event.shiftKey && event.which == 13) {\n",
       "        this.canvas_div.blur();\n",
       "        event.shiftKey = false;\n",
       "        // Send a \"J\" for go to next cell\n",
       "        event.which = 74;\n",
       "        event.keyCode = 74;\n",
       "        manager.command_mode();\n",
       "        manager.handle_keydown(event);\n",
       "    }\n",
       "}\n",
       "\n",
       "mpl.figure.prototype.handle_save = function(fig, msg) {\n",
       "    fig.ondownload(fig, null);\n",
       "}\n",
       "\n",
       "\n",
       "mpl.find_output_cell = function(html_output) {\n",
       "    // Return the cell and output element which can be found *uniquely* in the notebook.\n",
       "    // Note - this is a bit hacky, but it is done because the \"notebook_saving.Notebook\"\n",
       "    // IPython event is triggered only after the cells have been serialised, which for\n",
       "    // our purposes (turning an active figure into a static one), is too late.\n",
       "    var cells = IPython.notebook.get_cells();\n",
       "    var ncells = cells.length;\n",
       "    for (var i=0; i<ncells; i++) {\n",
       "        var cell = cells[i];\n",
       "        if (cell.cell_type === 'code'){\n",
       "            for (var j=0; j<cell.output_area.outputs.length; j++) {\n",
       "                var data = cell.output_area.outputs[j];\n",
       "                if (data.data) {\n",
       "                    // IPython >= 3 moved mimebundle to data attribute of output\n",
       "                    data = data.data;\n",
       "                }\n",
       "                if (data['text/html'] == html_output) {\n",
       "                    return [cell, data, j];\n",
       "                }\n",
       "            }\n",
       "        }\n",
       "    }\n",
       "}\n",
       "\n",
       "// Register the function which deals with the matplotlib target/channel.\n",
       "// The kernel may be null if the page has been refreshed.\n",
       "if (IPython.notebook.kernel != null) {\n",
       "    IPython.notebook.kernel.comm_manager.register_target('matplotlib', mpl.mpl_figure_comm);\n",
       "}\n"
      ],
      "text/plain": [
       "<IPython.core.display.Javascript object>"
      ]
     },
     "metadata": {},
     "output_type": "display_data"
    },
    {
     "data": {
      "text/html": [
       "<img src=\"data:image/png;base64,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\" width=\"640\">"
      ],
      "text/plain": [
       "<IPython.core.display.HTML object>"
      ]
     },
     "metadata": {},
     "output_type": "display_data"
    }
   ],
   "source": [
    "%matplotlib notebook\n",
    "import matplotlib.pyplot as plt\n",
    "df_reviews.boxplot(column=['Overall', 'BusServ', 'CheckIn', 'Cleanliness', 'Location', 'Rooms', 'Service', \\\n",
    "                           'Sleep Quality', 'Value'])\n",
    "plt.xticks(rotation=45)\n",
    "plt.show()\n",
    "\n"
   ]
  },
  {
   "cell_type": "markdown",
   "metadata": {},
   "source": [
    "As we see above, "
   ]
  },
  {
   "cell_type": "markdown",
   "metadata": {},
   "source": [
    "## Collaborative Filtering\n",
    "\n",
    "Now that we have the data in and examined, we begin the collaborative filtering recommender system."
   ]
  },
  {
   "cell_type": "code",
   "execution_count": 17,
   "metadata": {},
   "outputs": [
    {
     "data": {
      "text/html": [
       "<pre>Materializing SFrame</pre>"
      ],
      "text/plain": [
       "Materializing SFrame"
      ]
     },
     "metadata": {},
     "output_type": "display_data"
    },
    {
     "data": {
      "text/html": [
       "<html>                 <body>                     <iframe style=\"border:0;margin:0\" width=\"1000\" height=\"5100\" srcdoc='<html lang=\"en\">                         <head>                             <script src=\"https://cdnjs.cloudflare.com/ajax/libs/vega/3.0.8/vega.js\"></script>                             <script src=\"https://cdnjs.cloudflare.com/ajax/libs/vega-embed/3.0.0-rc7/vega-embed.js\"></script>                             <script src=\"https://cdnjs.cloudflare.com/ajax/libs/vega-tooltip/0.5.1/vega-tooltip.min.js\"></script>                             <link rel=\"stylesheet\" type=\"text/css\" href=\"https://cdnjs.cloudflare.com/ajax/libs/vega-tooltip/0.5.1/vega-tooltip.min.css\">                             <style>                             .vega-actions > a{                                 color:white;                                 text-decoration: none;                                 font-family: \"Arial\";                                 cursor:pointer;                                 padding:5px;                                 background:#AAAAAA;                                 border-radius:4px;                                 padding-left:10px;                                 padding-right:10px;                                 margin-right:5px;                             }                             .vega-actions{                                 margin-top:20px;                                 text-align:center                             }                            .vega-actions > a{                                 background:#999999;                            }                             </style>                         </head>                         <body>                             <div id=\"vis\">                             </div>                             <script>                                 var vega_json = \"{\\\"height\\\": 4880, \\\"data\\\": [{\\\"name\\\": \\\"pts_store\\\"}, {\\\"progress\\\": 100.0, \\\"values\\\": [{\\\"type\\\": \\\"str\\\", \\\"a\\\": 0, \\\"numeric\\\": [], \\\"title\\\": \\\"Author\\\", \\\"num_unique\\\": 27484, \\\"categorical\\\": [{\\\"label\\\": \\\"A TripAdvisor Member\\\", \\\"count\\\": 2697, \\\"percentage\\\": \\\"3.71252%\\\", \\\"label_idx\\\": 0}, {\\\"label\\\": \\\"bigcop73\\\", \\\"count\\\": 39, \\\"percentage\\\": \\\"0.053685%\\\", \\\"label_idx\\\": 1}, {\\\"label\\\": \\\"Posted by a cheaprooms.com traveler\\\", \\\"count\\\": 26, \\\"percentage\\\": \\\"0.03579%\\\", \\\"label_idx\\\": 2}, {\\\"label\\\": \\\"Vieraeveedhnick\\\", \\\"count\\\": 26, \\\"percentage\\\": \\\"0.03579%\\\", \\\"label_idx\\\": 3}, {\\\"label\\\": \\\"Jeff B\\\", \\\"count\\\": 20, \\\"percentage\\\": \\\"0.0275308%\\\", \\\"label_idx\\\": 4}, {\\\"label\\\": \\\"Larry28\\\", \\\"count\\\": 18, \\\"percentage\\\": \\\"0.0247777%\\\", \\\"label_idx\\\": 5}, {\\\"label\\\": \\\"Palmbury\\\", \\\"count\\\": 17, \\\"percentage\\\": \\\"0.0234012%\\\", \\\"label_idx\\\": 6}, {\\\"label\\\": \\\"Petwriter\\\", \\\"count\\\": 17, \\\"percentage\\\": \\\"0.0234012%\\\", \\\"label_idx\\\": 7}, {\\\"label\\\": \\\"BeachBabe1966\\\", \\\"count\\\": 16, \\\"percentage\\\": \\\"0.0220246%\\\", \\\"label_idx\\\": 8}, {\\\"label\\\": \\\"Brian C\\\", \\\"count\\\": 16, \\\"percentage\\\": \\\"0.0220246%\\\", \\\"label_idx\\\": 9}], \\\"num_row\\\": 72646, \\\"num_missing\\\": 0}, {\\\"type\\\": \\\"str\\\", \\\"a\\\": 1, \\\"numeric\\\": [], \\\"title\\\": \\\"AuthorLocation\\\", \\\"num_unique\\\": 3793, \\\"categorical\\\": [{\\\"label\\\": \\\"California\\\", \\\"count\\\": 3943, \\\"percentage\\\": \\\"5.42769%\\\", \\\"label_idx\\\": 0}, {\\\"label\\\": \\\"Canada\\\", \\\"count\\\": 3554, \\\"percentage\\\": \\\"4.89222%\\\", \\\"label_idx\\\": 1}, {\\\"label\\\": \\\"\\\", \\\"count\\\": 3247, \\\"percentage\\\": \\\"4.46962%\\\", \\\"label_idx\\\": 2}, {\\\"label\\\": \\\"Florida\\\", \\\"count\\\": 2594, \\\"percentage\\\": \\\"3.57074%\\\", \\\"label_idx\\\": 3}, {\\\"label\\\": \\\"New York\\\", \\\"count\\\": 1947, \\\"percentage\\\": \\\"2.68012%\\\", \\\"label_idx\\\": 4}, {\\\"label\\\": \\\"United Kingdom\\\", \\\"count\\\": 1887, \\\"percentage\\\": \\\"2.59753%\\\", \\\"label_idx\\\": 5}, {\\\"label\\\": \\\"Texas\\\", \\\"count\\\": 1506, \\\"percentage\\\": \\\"2.07307%\\\", \\\"label_idx\\\": 6}, {\\\"label\\\": \\\"CA\\\", \\\"count\\\": 1474, \\\"percentage\\\": \\\"2.02902%\\\", \\\"label_idx\\\": 7}, {\\\"label\\\": \\\"Arizona\\\", \\\"count\\\": 1057, \\\"percentage\\\": \\\"1.455%\\\", \\\"label_idx\\\": 8}, {\\\"label\\\": \\\"Illinois\\\", \\\"count\\\": 1053, \\\"percentage\\\": \\\"1.44949%\\\", \\\"label_idx\\\": 9}], \\\"num_row\\\": 72646, \\\"num_missing\\\": 0}, {\\\"median\\\": 4.0, \\\"min\\\": 1.0, \\\"numeric\\\": [{\\\"right\\\": 1.132, \\\"count\\\": 6428, \\\"left\\\": 0.924}, {\\\"right\\\": 1.34, \\\"count\\\": 0, \\\"left\\\": 1.132}, {\\\"right\\\": 1.548, \\\"count\\\": 0, \\\"left\\\": 1.34}, {\\\"right\\\": 1.756, \\\"count\\\": 0, \\\"left\\\": 1.548}, {\\\"right\\\": 1.964, \\\"count\\\": 0, \\\"left\\\": 1.756}, {\\\"right\\\": 2.172, \\\"count\\\": 6260, \\\"left\\\": 1.964}, {\\\"right\\\": 2.38, \\\"count\\\": 0, \\\"left\\\": 2.172}, {\\\"right\\\": 2.588, \\\"count\\\": 0, \\\"left\\\": 2.38}, {\\\"right\\\": 2.796, \\\"count\\\": 0, \\\"left\\\": 2.588}, {\\\"right\\\": 3.004, \\\"count\\\": 11700, \\\"left\\\": 2.796}, {\\\"right\\\": 3.212, \\\"count\\\": 0, \\\"left\\\": 3.004}, {\\\"right\\\": 3.42, \\\"count\\\": 0, \\\"left\\\": 3.212}, {\\\"right\\\": 3.628, \\\"count\\\": 0, \\\"left\\\": 3.42}, {\\\"right\\\": 3.836, \\\"count\\\": 0, \\\"left\\\": 3.628}, {\\\"right\\\": 4.044, \\\"count\\\": 21440, \\\"left\\\": 3.836}, {\\\"right\\\": 4.252, \\\"count\\\": 0, \\\"left\\\": 4.044}, {\\\"right\\\": 4.46, \\\"count\\\": 0, \\\"left\\\": 4.252}, {\\\"right\\\": 4.668, \\\"count\\\": 0, \\\"left\\\": 4.46}, {\\\"right\\\": 4.876, \\\"count\\\": 0, \\\"left\\\": 4.668}, {\\\"right\\\": 5.084, \\\"count\\\": 26818, \\\"left\\\": 4.876}], \\\"title\\\": \\\"BusServ\\\", \\\"num_unique\\\": 5, \\\"num_missing\\\": 0, \\\"type\\\": \\\"float\\\", \\\"a\\\": 2, \\\"categorical\\\": [], \\\"stdev\\\": 1.272202, \\\"num_row\\\": 72646, \\\"mean\\\": 3.770311, \\\"max\\\": 5.0}, {\\\"median\\\": 4.0, \\\"min\\\": 1.0, \\\"numeric\\\": [{\\\"right\\\": 1.132, \\\"count\\\": 5932, \\\"left\\\": 0.924}, {\\\"right\\\": 1.34, \\\"count\\\": 0, \\\"left\\\": 1.132}, {\\\"right\\\": 1.548, \\\"count\\\": 0, \\\"left\\\": 1.34}, {\\\"right\\\": 1.756, \\\"count\\\": 0, \\\"left\\\": 1.548}, {\\\"right\\\": 1.964, \\\"count\\\": 0, \\\"left\\\": 1.756}, {\\\"right\\\": 2.172, \\\"count\\\": 5775, \\\"left\\\": 1.964}, {\\\"right\\\": 2.38, \\\"count\\\": 0, \\\"left\\\": 2.172}, {\\\"right\\\": 2.588, \\\"count\\\": 0, \\\"left\\\": 2.38}, {\\\"right\\\": 2.796, \\\"count\\\": 0, \\\"left\\\": 2.588}, {\\\"right\\\": 3.004, \\\"count\\\": 11041, \\\"left\\\": 2.796}, {\\\"right\\\": 3.212, \\\"count\\\": 0, \\\"left\\\": 3.004}, {\\\"right\\\": 3.42, \\\"count\\\": 0, \\\"left\\\": 3.212}, {\\\"right\\\": 3.628, \\\"count\\\": 0, \\\"left\\\": 3.42}, {\\\"right\\\": 3.836, \\\"count\\\": 0, \\\"left\\\": 3.628}, {\\\"right\\\": 4.044, \\\"count\\\": 21341, \\\"left\\\": 3.836}, {\\\"right\\\": 4.252, \\\"count\\\": 0, \\\"left\\\": 4.044}, {\\\"right\\\": 4.46, \\\"count\\\": 0, \\\"left\\\": 4.252}, {\\\"right\\\": 4.668, \\\"count\\\": 0, \\\"left\\\": 4.46}, {\\\"right\\\": 4.876, \\\"count\\\": 0, \\\"left\\\": 4.668}, {\\\"right\\\": 5.084, \\\"count\\\": 28557, \\\"left\\\": 4.876}], \\\"title\\\": \\\"CheckIn\\\", \\\"num_unique\\\": 5, \\\"num_missing\\\": 0, \\\"type\\\": \\\"float\\\", \\\"a\\\": 3, \\\"categorical\\\": [], \\\"stdev\\\": 1.253575, \\\"num_row\\\": 72646, \\\"mean\\\": 3.837156, \\\"max\\\": 5.0}, {\\\"median\\\": 4.0, \\\"min\\\": 1.0, \\\"numeric\\\": [{\\\"right\\\": 1.1594, \\\"count\\\": 5228, \\\"left\\\": 0.9546}, {\\\"right\\\": 1.3642, \\\"count\\\": 0, \\\"left\\\": 1.1594}, {\\\"right\\\": 1.569, \\\"count\\\": 0, \\\"left\\\": 1.3642}, {\\\"right\\\": 1.7738, \\\"count\\\": 0, \\\"left\\\": 1.569}, {\\\"right\\\": 1.9786, \\\"count\\\": 0, \\\"left\\\": 1.7738}, {\\\"right\\\": 2.1834, \\\"count\\\": 4971, \\\"left\\\": 1.9786}, {\\\"right\\\": 2.3882, \\\"count\\\": 0, \\\"left\\\": 2.1834}, {\\\"right\\\": 2.593, \\\"count\\\": 0, \\\"left\\\": 2.3882}, {\\\"right\\\": 2.7978, \\\"count\\\": 0, \\\"left\\\": 2.593}, {\\\"right\\\": 3.0026, \\\"count\\\": 9709, \\\"left\\\": 2.7978}, {\\\"right\\\": 3.2074, \\\"count\\\": 0, \\\"left\\\": 3.0026}, {\\\"right\\\": 3.4122, \\\"count\\\": 0, \\\"left\\\": 3.2074}, {\\\"right\\\": 3.617, \\\"count\\\": 0, \\\"left\\\": 3.4122}, {\\\"right\\\": 3.8218, \\\"count\\\": 0, \\\"left\\\": 3.617}, {\\\"right\\\": 4.0266, \\\"count\\\": 18667, \\\"left\\\": 3.8218}, {\\\"right\\\": 4.2314, \\\"count\\\": 0, \\\"left\\\": 4.0266}, {\\\"right\\\": 4.4362, \\\"count\\\": 0, \\\"left\\\": 4.2314}, {\\\"right\\\": 4.641, \\\"count\\\": 0, \\\"left\\\": 4.4362}, {\\\"right\\\": 4.8458, \\\"count\\\": 0, \\\"left\\\": 4.641}, {\\\"right\\\": 5.0506, \\\"count\\\": 34071, \\\"left\\\": 4.8458}], \\\"title\\\": \\\"Cleanliness\\\", \\\"num_unique\\\": 5, \\\"num_missing\\\": 0, \\\"type\\\": \\\"float\\\", \\\"a\\\": 4, \\\"categorical\\\": [], \\\"stdev\\\": 1.234401, \\\"num_row\\\": 72646, \\\"mean\\\": 3.982601, \\\"max\\\": 5.0}, {\\\"type\\\": \\\"str\\\", \\\"a\\\": 5, \\\"numeric\\\": [], \\\"title\\\": \\\"Hotel\\\", \\\"num_unique\\\": 176, \\\"categorical\\\": [{\\\"label\\\": \\\"Seralago Hotel and Suites\\\", \\\"count\\\": 6994, \\\"percentage\\\": \\\"9.62751%\\\", \\\"label_idx\\\": 0}, {\\\"label\\\": \\\"The Reach, A Waldorf Astoria Resort\\\", \\\"count\\\": 2688, \\\"percentage\\\": \\\"3.70013%\\\", \\\"label_idx\\\": 1}, {\\\"label\\\": \\\"Manchester Grand Hyatt San Diego\\\", \\\"count\\\": 2514, \\\"percentage\\\": \\\"3.46062%\\\", \\\"label_idx\\\": 2}, {\\\"label\\\": \\\"W New York - Times Square\\\", \\\"count\\\": 2493, \\\"percentage\\\": \\\"3.43171%\\\", \\\"label_idx\\\": 3}, {\\\"label\\\": \\\"Wellington Hotel\\\", \\\"count\\\": 2424, \\\"percentage\\\": \\\"3.33673%\\\", \\\"label_idx\\\": 4}, {\\\"label\\\": \\\"The New York Helmsley\\\", \\\"count\\\": 2337, \\\"percentage\\\": \\\"3.21697%\\\", \\\"label_idx\\\": 5}, {\\\"label\\\": \\\"Fairmont The Queen Elizabeth\\\", \\\"count\\\": 2305, \\\"percentage\\\": \\\"3.17292%\\\", \\\"label_idx\\\": 6}, {\\\"label\\\": \\\"Royal Palms Resort and Spa\\\", \\\"count\\\": 2240, \\\"percentage\\\": \\\"3.08345%\\\", \\\"label_idx\\\": 7}, {\\\"label\\\": \\\"Paradise Point Resort &amp; Spa\\\", \\\"count\\\": 1984, \\\"percentage\\\": \\\"2.73105%\\\", \\\"label_idx\\\": 8}, {\\\"label\\\": \\\"Arizona Biltmore\\\", \\\"count\\\": 1956, \\\"percentage\\\": \\\"2.69251%\\\", \\\"label_idx\\\": 9}], \\\"num_row\\\": 72646, \\\"num_missing\\\": 0}, {\\\"median\\\": 185747.0, \\\"min\\\": 73644.0, \\\"numeric\\\": [{\\\"right\\\": 140633, \\\"count\\\": 33142, \\\"left\\\": 12319.2}, {\\\"right\\\": 268946, \\\"count\\\": 11781, \\\"left\\\": 140633}, {\\\"right\\\": 397260, \\\"count\\\": 2505, \\\"left\\\": 268946}, {\\\"right\\\": 525574, \\\"count\\\": 496, \\\"left\\\": 397260}, {\\\"right\\\": 653887, \\\"count\\\": 393, \\\"left\\\": 525574}, {\\\"right\\\": 782201, \\\"count\\\": 641, \\\"left\\\": 653887}, {\\\"right\\\": 910514, \\\"count\\\": 0, \\\"left\\\": 782201}, {\\\"right\\\": 1038830.0, \\\"count\\\": 216, \\\"left\\\": 910514}, {\\\"right\\\": 1167140.0, \\\"count\\\": 1108, \\\"left\\\": 1038830.0}, {\\\"right\\\": 1295460.0, \\\"count\\\": 362, \\\"left\\\": 1167140.0}, {\\\"right\\\": 1423770.0, \\\"count\\\": 0, \\\"left\\\": 1295460.0}, {\\\"right\\\": 1552080.0, \\\"count\\\": 78, \\\"left\\\": 1423770.0}, {\\\"right\\\": 1680400.0, \\\"count\\\": 85, \\\"left\\\": 1552080.0}, {\\\"right\\\": 1808710.0, \\\"count\\\": 14, \\\"left\\\": 1680400.0}, {\\\"right\\\": 1937020.0, \\\"count\\\": 114, \\\"left\\\": 1808710.0}, {\\\"right\\\": 2065340.0, \\\"count\\\": 0, \\\"left\\\": 1937020.0}, {\\\"right\\\": 2193650.0, \\\"count\\\": 0, \\\"left\\\": 2065340.0}, {\\\"right\\\": 2321960.0, \\\"count\\\": 0, \\\"left\\\": 2193650.0}, {\\\"right\\\": 2450280.0, \\\"count\\\": 0, \\\"left\\\": 2321960.0}, {\\\"right\\\": 2578590.0, \\\"count\\\": 21711, \\\"left\\\": 2450280.0}], \\\"title\\\": \\\"HotelID\\\", \\\"num_unique\\\": 179, \\\"num_missing\\\": 0, \\\"type\\\": \\\"integer\\\", \\\"a\\\": 6, \\\"categorical\\\": [], \\\"stdev\\\": 1083298.320913, \\\"num_row\\\": 72646, \\\"mean\\\": 882351.056989, \\\"max\\\": 2516207.0}, {\\\"type\\\": \\\"str\\\", \\\"a\\\": 7, \\\"numeric\\\": [], \\\"title\\\": \\\"HotelLocation\\\", \\\"num_unique\\\": 20, \\\"categorical\\\": [{\\\"label\\\": \\\"FL\\\", \\\"count\\\": 15378, \\\"percentage\\\": \\\"21.1684%\\\", \\\"label_idx\\\": 0}, {\\\"label\\\": \\\"CA\\\", \\\"count\\\": 13898, \\\"percentage\\\": \\\"19.1311%\\\", \\\"label_idx\\\": 1}, {\\\"label\\\": \\\"NY\\\", \\\"count\\\": 11202, \\\"percentage\\\": \\\"15.42%\\\", \\\"label_idx\\\": 2}, {\\\"label\\\": \\\"NV\\\", \\\"count\\\": 6218, \\\"percentage\\\": \\\"8.55931%\\\", \\\"label_idx\\\": 3}, {\\\"label\\\": \\\"AZ\\\", \\\"count\\\": 5613, \\\"percentage\\\": \\\"7.72651%\\\", \\\"label_idx\\\": 4}, {\\\"label\\\": \\\"WA\\\", \\\"count\\\": 3643, \\\"percentage\\\": \\\"5.01473%\\\", \\\"label_idx\\\": 5}, {\\\"label\\\": \\\"Quebec\\\", \\\"count\\\": 3470, \\\"percentage\\\": \\\"4.77659%\\\", \\\"label_idx\\\": 6}, {\\\"label\\\": \\\"British Columbia\\\", \\\"count\\\": 2488, \\\"percentage\\\": \\\"3.42483%\\\", \\\"label_idx\\\": 7}, {\\\"label\\\": \\\"MO\\\", \\\"count\\\": 2466, \\\"percentage\\\": \\\"3.39454%\\\", \\\"label_idx\\\": 8}, {\\\"label\\\": \\\"IL\\\", \\\"count\\\": 1516, \\\"percentage\\\": \\\"2.08683%\\\", \\\"label_idx\\\": 9}], \\\"num_row\\\": 72646, \\\"num_missing\\\": 0}, {\\\"median\\\": 5.0, \\\"min\\\": 1.0, \\\"numeric\\\": [{\\\"right\\\": 1.136, \\\"count\\\": 3289, \\\"left\\\": 0.928}, {\\\"right\\\": 1.344, \\\"count\\\": 0, \\\"left\\\": 1.136}, {\\\"right\\\": 1.552, \\\"count\\\": 0, \\\"left\\\": 1.344}, {\\\"right\\\": 1.76, \\\"count\\\": 0, \\\"left\\\": 1.552}, {\\\"right\\\": 1.968, \\\"count\\\": 0, \\\"left\\\": 1.76}, {\\\"right\\\": 2.176, \\\"count\\\": 3395, \\\"left\\\": 1.968}, {\\\"right\\\": 2.384, \\\"count\\\": 0, \\\"left\\\": 2.176}, {\\\"right\\\": 2.592, \\\"count\\\": 0, \\\"left\\\": 2.384}, {\\\"right\\\": 2.8, \\\"count\\\": 0, \\\"left\\\": 2.592}, {\\\"right\\\": 3.008, \\\"count\\\": 8507, \\\"left\\\": 2.8}, {\\\"right\\\": 3.216, \\\"count\\\": 0, \\\"left\\\": 3.008}, {\\\"right\\\": 3.424, \\\"count\\\": 0, \\\"left\\\": 3.216}, {\\\"right\\\": 3.632, \\\"count\\\": 0, \\\"left\\\": 3.424}, {\\\"right\\\": 3.84, \\\"count\\\": 0, \\\"left\\\": 3.632}, {\\\"right\\\": 4.048, \\\"count\\\": 18811, \\\"left\\\": 3.84}, {\\\"right\\\": 4.256, \\\"count\\\": 0, \\\"left\\\": 4.048}, {\\\"right\\\": 4.464, \\\"count\\\": 0, \\\"left\\\": 4.256}, {\\\"right\\\": 4.672, \\\"count\\\": 0, \\\"left\\\": 4.464}, {\\\"right\\\": 4.88, \\\"count\\\": 0, \\\"left\\\": 4.672}, {\\\"right\\\": 5.088, \\\"count\\\": 38644, \\\"left\\\": 4.88}], \\\"title\\\": \\\"Location\\\", \\\"num_unique\\\": 5, \\\"num_missing\\\": 0, \\\"type\\\": \\\"float\\\", \\\"a\\\": 8, \\\"categorical\\\": [], \\\"stdev\\\": 1.099556, \\\"num_row\\\": 72646, \\\"mean\\\": 4.185557, \\\"max\\\": 5.0}, {\\\"median\\\": 4.0, \\\"min\\\": 1.0, \\\"numeric\\\": [{\\\"right\\\": 1.132, \\\"count\\\": 6482, \\\"left\\\": 0.924}, {\\\"right\\\": 1.34, \\\"count\\\": 0, \\\"left\\\": 1.132}, {\\\"right\\\": 1.548, \\\"count\\\": 0, \\\"left\\\": 1.34}, {\\\"right\\\": 1.756, \\\"count\\\": 0, \\\"left\\\": 1.548}, {\\\"right\\\": 1.964, \\\"count\\\": 0, \\\"left\\\": 1.756}, {\\\"right\\\": 2.172, \\\"count\\\": 6420, \\\"left\\\": 1.964}, {\\\"right\\\": 2.38, \\\"count\\\": 0, \\\"left\\\": 2.172}, {\\\"right\\\": 2.588, \\\"count\\\": 0, \\\"left\\\": 2.38}, {\\\"right\\\": 2.796, \\\"count\\\": 0, \\\"left\\\": 2.588}, {\\\"right\\\": 3.004, \\\"count\\\": 10384, \\\"left\\\": 2.796}, {\\\"right\\\": 3.212, \\\"count\\\": 0, \\\"left\\\": 3.004}, {\\\"right\\\": 3.42, \\\"count\\\": 0, \\\"left\\\": 3.212}, {\\\"right\\\": 3.628, \\\"count\\\": 0, \\\"left\\\": 3.42}, {\\\"right\\\": 3.836, \\\"count\\\": 0, \\\"left\\\": 3.628}, {\\\"right\\\": 4.044, \\\"count\\\": 22212, \\\"left\\\": 3.836}, {\\\"right\\\": 4.252, \\\"count\\\": 0, \\\"left\\\": 4.044}, {\\\"right\\\": 4.46, \\\"count\\\": 0, \\\"left\\\": 4.252}, {\\\"right\\\": 4.668, \\\"count\\\": 0, \\\"left\\\": 4.46}, {\\\"right\\\": 4.876, \\\"count\\\": 0, \\\"left\\\": 4.668}, {\\\"right\\\": 5.084, \\\"count\\\": 27148, \\\"left\\\": 4.876}], \\\"title\\\": \\\"Overall\\\", \\\"num_unique\\\": 5, \\\"num_missing\\\": 0, \\\"type\\\": \\\"float\\\", \\\"a\\\": 9, \\\"categorical\\\": [], \\\"stdev\\\": 1.275746, \\\"num_row\\\": 72646, \\\"mean\\\": 3.786334, \\\"max\\\": 5.0}, {\\\"median\\\": 309.0, \\\"min\\\": 0.0, \\\"numeric\\\": [{\\\"right\\\": 239.122, \\\"count\\\": 28418, \\\"left\\\": -13.1912}, {\\\"right\\\": 491.436, \\\"count\\\": 35158, \\\"left\\\": 239.122}, {\\\"right\\\": 743.75, \\\"count\\\": 8290, \\\"left\\\": 491.436}, {\\\"right\\\": 996.063, \\\"count\\\": 97, \\\"left\\\": 743.75}, {\\\"right\\\": 1248.38, \\\"count\\\": 84, \\\"left\\\": 996.063}, {\\\"right\\\": 1500.69, \\\"count\\\": 0, \\\"left\\\": 1248.38}, {\\\"right\\\": 1753, \\\"count\\\": 0, \\\"left\\\": 1500.69}, {\\\"right\\\": 2005.32, \\\"count\\\": 0, \\\"left\\\": 1753}, {\\\"right\\\": 2257.63, \\\"count\\\": 0, \\\"left\\\": 2005.32}, {\\\"right\\\": 2509.94, \\\"count\\\": 0, \\\"left\\\": 2257.63}, {\\\"right\\\": 2762.26, \\\"count\\\": 0, \\\"left\\\": 2509.94}, {\\\"right\\\": 3014.57, \\\"count\\\": 0, \\\"left\\\": 2762.26}, {\\\"right\\\": 3266.89, \\\"count\\\": 0, \\\"left\\\": 3014.57}, {\\\"right\\\": 3519.2, \\\"count\\\": 0, \\\"left\\\": 3266.89}, {\\\"right\\\": 3771.51, \\\"count\\\": 555, \\\"left\\\": 3519.2}, {\\\"right\\\": 4023.83, \\\"count\\\": 0, \\\"left\\\": 3771.51}, {\\\"right\\\": 4276.14, \\\"count\\\": 0, \\\"left\\\": 4023.83}, {\\\"right\\\": 4528.45, \\\"count\\\": 0, \\\"left\\\": 4276.14}, {\\\"right\\\": 4780.77, \\\"count\\\": 0, \\\"left\\\": 4528.45}, {\\\"right\\\": 5033.08, \\\"count\\\": 44, \\\"left\\\": 4780.77}], \\\"title\\\": \\\"PriceMax\\\", \\\"num_unique\\\": 143, \\\"num_missing\\\": 0, \\\"type\\\": \\\"integer\\\", \\\"a\\\": 10, \\\"categorical\\\": [], \\\"stdev\\\": 352.871438, \\\"num_row\\\": 72646, \\\"mean\\\": 332.149052, \\\"max\\\": 5000.0}, {\\\"median\\\": 152.0, \\\"min\\\": 0.0, \\\"numeric\\\": [{\\\"right\\\": 197.305, \\\"count\\\": 57670, \\\"left\\\": -58.695}, {\\\"right\\\": 453.305, \\\"count\\\": 14736, \\\"left\\\": 197.305}, {\\\"right\\\": 709.305, \\\"count\\\": 55, \\\"left\\\": 453.305}, {\\\"right\\\": 965.305, \\\"count\\\": 141, \\\"left\\\": 709.305}, {\\\"right\\\": 1221.31, \\\"count\\\": 0, \\\"left\\\": 965.305}, {\\\"right\\\": 1477.31, \\\"count\\\": 0, \\\"left\\\": 1221.31}, {\\\"right\\\": 1733.31, \\\"count\\\": 0, \\\"left\\\": 1477.31}, {\\\"right\\\": 1989.31, \\\"count\\\": 0, \\\"left\\\": 1733.31}, {\\\"right\\\": 2245.31, \\\"count\\\": 0, \\\"left\\\": 1989.31}, {\\\"right\\\": 2501.31, \\\"count\\\": 0, \\\"left\\\": 2245.31}, {\\\"right\\\": 2757.31, \\\"count\\\": 0, \\\"left\\\": 2501.31}, {\\\"right\\\": 3013.31, \\\"count\\\": 0, \\\"left\\\": 2757.31}, {\\\"right\\\": 3269.31, \\\"count\\\": 0, \\\"left\\\": 3013.31}, {\\\"right\\\": 3525.31, \\\"count\\\": 0, \\\"left\\\": 3269.31}, {\\\"right\\\": 3781.31, \\\"count\\\": 0, \\\"left\\\": 3525.31}, {\\\"right\\\": 4037.31, \\\"count\\\": 0, \\\"left\\\": 3781.31}, {\\\"right\\\": 4293.31, \\\"count\\\": 0, \\\"left\\\": 4037.31}, {\\\"right\\\": 4549.31, \\\"count\\\": 0, \\\"left\\\": 4293.31}, {\\\"right\\\": 4805.31, \\\"count\\\": 0, \\\"left\\\": 4549.31}, {\\\"right\\\": 5061.31, \\\"count\\\": 44, \\\"left\\\": 4805.31}], \\\"title\\\": \\\"PriceMin\\\", \\\"num_unique\\\": 124, \\\"num_missing\\\": 0, \\\"type\\\": \\\"integer\\\", \\\"a\\\": 11, \\\"categorical\\\": [], \\\"stdev\\\": 147.98028, \\\"num_row\\\": 72646, \\\"mean\\\": 156.328401, \\\"max\\\": 5000.0}, {\\\"median\\\": 4.0, \\\"min\\\": 1.0, \\\"numeric\\\": [{\\\"right\\\": 1.132, \\\"count\\\": 6648, \\\"left\\\": 0.924}, {\\\"right\\\": 1.34, \\\"count\\\": 0, \\\"left\\\": 1.132}, {\\\"right\\\": 1.548, \\\"count\\\": 0, \\\"left\\\": 1.34}, {\\\"right\\\": 1.756, \\\"count\\\": 0, \\\"left\\\": 1.548}, {\\\"right\\\": 1.964, \\\"count\\\": 0, \\\"left\\\": 1.756}, {\\\"right\\\": 2.172, \\\"count\\\": 6508, \\\"left\\\": 1.964}, {\\\"right\\\": 2.38, \\\"count\\\": 0, \\\"left\\\": 2.172}, {\\\"right\\\": 2.588, \\\"count\\\": 0, \\\"left\\\": 2.38}, {\\\"right\\\": 2.796, \\\"count\\\": 0, \\\"left\\\": 2.588}, {\\\"right\\\": 3.004, \\\"count\\\": 12376, \\\"left\\\": 2.796}, {\\\"right\\\": 3.212, \\\"count\\\": 0, \\\"left\\\": 3.004}, {\\\"right\\\": 3.42, \\\"count\\\": 0, \\\"left\\\": 3.212}, {\\\"right\\\": 3.628, \\\"count\\\": 0, \\\"left\\\": 3.42}, {\\\"right\\\": 3.836, \\\"count\\\": 0, \\\"left\\\": 3.628}, {\\\"right\\\": 4.044, \\\"count\\\": 20791, \\\"left\\\": 3.836}, {\\\"right\\\": 4.252, \\\"count\\\": 0, \\\"left\\\": 4.044}, {\\\"right\\\": 4.46, \\\"count\\\": 0, \\\"left\\\": 4.252}, {\\\"right\\\": 4.668, \\\"count\\\": 0, \\\"left\\\": 4.46}, {\\\"right\\\": 4.876, \\\"count\\\": 0, \\\"left\\\": 4.668}, {\\\"right\\\": 5.084, \\\"count\\\": 26323, \\\"left\\\": 4.876}], \\\"title\\\": \\\"Rooms\\\", \\\"num_unique\\\": 5, \\\"num_missing\\\": 0, \\\"type\\\": \\\"float\\\", \\\"a\\\": 12, \\\"categorical\\\": [], \\\"stdev\\\": 1.283027, \\\"num_row\\\": 72646, \\\"mean\\\": 3.738279, \\\"max\\\": 5.0}, {\\\"median\\\": 4.0, \\\"min\\\": 1.0, \\\"numeric\\\": [{\\\"right\\\": 1.1594, \\\"count\\\": 6239, \\\"left\\\": 0.9546}, {\\\"right\\\": 1.3642, \\\"count\\\": 0, \\\"left\\\": 1.1594}, {\\\"right\\\": 1.569, \\\"count\\\": 0, \\\"left\\\": 1.3642}, {\\\"right\\\": 1.7738, \\\"count\\\": 0, \\\"left\\\": 1.569}, {\\\"right\\\": 1.9786, \\\"count\\\": 0, \\\"left\\\": 1.7738}, {\\\"right\\\": 2.1834, \\\"count\\\": 5183, \\\"left\\\": 1.9786}, {\\\"right\\\": 2.3882, \\\"count\\\": 0, \\\"left\\\": 2.1834}, {\\\"right\\\": 2.593, \\\"count\\\": 0, \\\"left\\\": 2.3882}, {\\\"right\\\": 2.7978, \\\"count\\\": 0, \\\"left\\\": 2.593}, {\\\"right\\\": 3.0026, \\\"count\\\": 10320, \\\"left\\\": 2.7978}, {\\\"right\\\": 3.2074, \\\"count\\\": 0, \\\"left\\\": 3.0026}, {\\\"right\\\": 3.4122, \\\"count\\\": 0, \\\"left\\\": 3.2074}, {\\\"right\\\": 3.617, \\\"count\\\": 0, \\\"left\\\": 3.4122}, {\\\"right\\\": 3.8218, \\\"count\\\": 0, \\\"left\\\": 3.617}, {\\\"right\\\": 4.0266, \\\"count\\\": 17784, \\\"left\\\": 3.8218}, {\\\"right\\\": 4.2314, \\\"count\\\": 0, \\\"left\\\": 4.0266}, {\\\"right\\\": 4.4362, \\\"count\\\": 0, \\\"left\\\": 4.2314}, {\\\"right\\\": 4.641, \\\"count\\\": 0, \\\"left\\\": 4.4362}, {\\\"right\\\": 4.8458, \\\"count\\\": 0, \\\"left\\\": 4.641}, {\\\"right\\\": 5.0506, \\\"count\\\": 33120, \\\"left\\\": 4.8458}], \\\"title\\\": \\\"Service\\\", \\\"num_unique\\\": 5, \\\"num_missing\\\": 0, \\\"type\\\": \\\"float\\\", \\\"a\\\": 13, \\\"categorical\\\": [], \\\"stdev\\\": 1.284061, \\\"num_row\\\": 72646, \\\"mean\\\": 3.913512, \\\"max\\\": 5.0}, {\\\"median\\\": 4.0, \\\"min\\\": 1.0, \\\"numeric\\\": [{\\\"right\\\": 1.132, \\\"count\\\": 6643, \\\"left\\\": 0.924}, {\\\"right\\\": 1.34, \\\"count\\\": 0, \\\"left\\\": 1.132}, {\\\"right\\\": 1.548, \\\"count\\\": 0, \\\"left\\\": 1.34}, {\\\"right\\\": 1.756, \\\"count\\\": 0, \\\"left\\\": 1.548}, {\\\"right\\\": 1.964, \\\"count\\\": 0, \\\"left\\\": 1.756}, {\\\"right\\\": 2.172, \\\"count\\\": 6313, \\\"left\\\": 1.964}, {\\\"right\\\": 2.38, \\\"count\\\": 0, \\\"left\\\": 2.172}, {\\\"right\\\": 2.588, \\\"count\\\": 0, \\\"left\\\": 2.38}, {\\\"right\\\": 2.796, \\\"count\\\": 0, \\\"left\\\": 2.588}, {\\\"right\\\": 3.004, \\\"count\\\": 10343, \\\"left\\\": 2.796}, {\\\"right\\\": 3.212, \\\"count\\\": 0, \\\"left\\\": 3.004}, {\\\"right\\\": 3.42, \\\"count\\\": 0, \\\"left\\\": 3.212}, {\\\"right\\\": 3.628, \\\"count\\\": 0, \\\"left\\\": 3.42}, {\\\"right\\\": 3.836, \\\"count\\\": 0, \\\"left\\\": 3.628}, {\\\"right\\\": 4.044, \\\"count\\\": 20019, \\\"left\\\": 3.836}, {\\\"right\\\": 4.252, \\\"count\\\": 0, \\\"left\\\": 4.044}, {\\\"right\\\": 4.46, \\\"count\\\": 0, \\\"left\\\": 4.252}, {\\\"right\\\": 4.668, \\\"count\\\": 0, \\\"left\\\": 4.46}, {\\\"right\\\": 4.876, \\\"count\\\": 0, \\\"left\\\": 4.668}, {\\\"right\\\": 5.084, \\\"count\\\": 29328, \\\"left\\\": 4.876}], \\\"title\\\": \\\"Sleep Quality\\\", \\\"num_unique\\\": 5, \\\"num_missing\\\": 0, \\\"type\\\": \\\"float\\\", \\\"a\\\": 14, \\\"categorical\\\": [], \\\"stdev\\\": 1.296838, \\\"num_row\\\": 72646, \\\"mean\\\": 3.813204, \\\"max\\\": 5.0}, {\\\"median\\\": 4.0, \\\"min\\\": 1.0, \\\"numeric\\\": [{\\\"right\\\": 1.1594, \\\"count\\\": 6888, \\\"left\\\": 0.9546}, {\\\"right\\\": 1.3642, \\\"count\\\": 0, \\\"left\\\": 1.1594}, {\\\"right\\\": 1.569, \\\"count\\\": 0, \\\"left\\\": 1.3642}, {\\\"right\\\": 1.7738, \\\"count\\\": 0, \\\"left\\\": 1.569}, {\\\"right\\\": 1.9786, \\\"count\\\": 0, \\\"left\\\": 1.7738}, {\\\"right\\\": 2.1834, \\\"count\\\": 6051, \\\"left\\\": 1.9786}, {\\\"right\\\": 2.3882, \\\"count\\\": 0, \\\"left\\\": 2.1834}, {\\\"right\\\": 2.593, \\\"count\\\": 0, \\\"left\\\": 2.3882}, {\\\"right\\\": 2.7978, \\\"count\\\": 0, \\\"left\\\": 2.593}, {\\\"right\\\": 3.0026, \\\"count\\\": 11469, \\\"left\\\": 2.7978}, {\\\"right\\\": 3.2074, \\\"count\\\": 0, \\\"left\\\": 3.0026}, {\\\"right\\\": 3.4122, \\\"count\\\": 0, \\\"left\\\": 3.2074}, {\\\"right\\\": 3.617, \\\"count\\\": 0, \\\"left\\\": 3.4122}, {\\\"right\\\": 3.8218, \\\"count\\\": 0, \\\"left\\\": 3.617}, {\\\"right\\\": 4.0266, \\\"count\\\": 19870, \\\"left\\\": 3.8218}, {\\\"right\\\": 4.2314, \\\"count\\\": 0, \\\"left\\\": 4.0266}, {\\\"right\\\": 4.4362, \\\"count\\\": 0, \\\"left\\\": 4.2314}, {\\\"right\\\": 4.641, \\\"count\\\": 0, \\\"left\\\": 4.4362}, {\\\"right\\\": 4.8458, \\\"count\\\": 0, \\\"left\\\": 4.641}, {\\\"right\\\": 5.0506, \\\"count\\\": 28368, \\\"left\\\": 4.8458}], \\\"title\\\": \\\"Value\\\", \\\"num_unique\\\": 5, \\\"num_missing\\\": 0, \\\"type\\\": \\\"float\\\", \\\"a\\\": 15, \\\"categorical\\\": [], \\\"stdev\\\": 1.298918, \\\"num_row\\\": 72646, \\\"mean\\\": 3.781585, \\\"max\\\": 5.0}], \\\"name\\\": \\\"source_2\\\"}, {\\\"transform\\\": [{\\\"expr\\\": \\\"20\\\", \\\"type\\\": \\\"formula\\\", \\\"as\\\": \\\"c_x_axis_back\\\"}, {\\\"expr\\\": \\\"toNumber(datum[\\\\\\\"a\\\\\\\"])*300+66\\\", \\\"type\\\": \\\"formula\\\", \\\"as\\\": \\\"c_main_background\\\"}, {\\\"expr\\\": \\\"toNumber(datum[\\\\\\\"a\\\\\\\"])*300+43\\\", \\\"type\\\": \\\"formula\\\", \\\"as\\\": \\\"c_top_bar\\\"}, {\\\"expr\\\": \\\"toNumber(datum[\\\\\\\"a\\\\\\\"])*300+59\\\", \\\"type\\\": \\\"formula\\\", \\\"as\\\": \\\"c_top_title\\\"}, {\\\"expr\\\": \\\"toNumber(datum[\\\\\\\"a\\\\\\\"])*300+58\\\", \\\"type\\\": \\\"formula\\\", \\\"as\\\": \\\"c_top_type\\\"}, {\\\"expr\\\": \\\"toNumber(datum[\\\\\\\"a\\\\\\\"])*300+178\\\", \\\"type\\\": \\\"formula\\\", \\\"as\\\": \\\"c_rule\\\"}, {\\\"expr\\\": \\\"toNumber(datum[\\\\\\\"a\\\\\\\"])*300+106\\\", \\\"type\\\": \\\"formula\\\", \\\"as\\\": \\\"c_num_rows\\\"}, {\\\"expr\\\": \\\"toNumber(datum[\\\\\\\"a\\\\\\\"])*300+130\\\", \\\"type\\\": \\\"formula\\\", \\\"as\\\": \\\"c_num_unique\\\"}, {\\\"expr\\\": \\\"toNumber(datum[\\\\\\\"a\\\\\\\"])*300+154\\\", \\\"type\\\": \\\"formula\\\", \\\"as\\\": \\\"c_missing\\\"}, {\\\"expr\\\": \\\"toNumber(datum[\\\\\\\"a\\\\\\\"])*300+105\\\", \\\"type\\\": \\\"formula\\\", \\\"as\\\": \\\"c_num_rows_val\\\"}, {\\\"expr\\\": \\\"toNumber(datum[\\\\\\\"a\\\\\\\"])*300+130\\\", \\\"type\\\": \\\"formula\\\", \\\"as\\\": \\\"c_num_unique_val\\\"}, {\\\"expr\\\": \\\"toNumber(datum[\\\\\\\"a\\\\\\\"])*300+154\\\", \\\"type\\\": \\\"formula\\\", \\\"as\\\": \\\"c_missing_val\\\"}, {\\\"expr\\\": \\\"toNumber(datum[\\\\\\\"a\\\\\\\"])*300+195\\\", \\\"type\\\": \\\"formula\\\", \\\"as\\\": \\\"c_frequent_items\\\"}, {\\\"expr\\\": \\\"toNumber(datum[\\\\\\\"a\\\\\\\"])*300+218\\\", \\\"type\\\": \\\"formula\\\", \\\"as\\\": \\\"c_first_item\\\"}, {\\\"expr\\\": \\\"toNumber(datum[\\\\\\\"a\\\\\\\"])*300+235\\\", \\\"type\\\": \\\"formula\\\", \\\"as\\\": \\\"c_second_item\\\"}, {\\\"expr\\\": \\\"toNumber(datum[\\\\\\\"a\\\\\\\"])*300+252\\\", \\\"type\\\": \\\"formula\\\", \\\"as\\\": \\\"c_third_item\\\"}, {\\\"expr\\\": \\\"toNumber(datum[\\\\\\\"a\\\\\\\"])*300+269\\\", \\\"type\\\": \\\"formula\\\", \\\"as\\\": \\\"c_fourth_item\\\"}, {\\\"expr\\\": \\\"toNumber(datum[\\\\\\\"a\\\\\\\"])*300+286\\\", \\\"type\\\": \\\"formula\\\", \\\"as\\\": \\\"c_fifth_item\\\"}, {\\\"expr\\\": \\\"toNumber(datum[\\\\\\\"a\\\\\\\"])*300+200\\\", \\\"type\\\": \\\"formula\\\", \\\"as\\\": \\\"c_mean\\\"}, {\\\"expr\\\": \\\"toNumber(datum[\\\\\\\"a\\\\\\\"])*300+220\\\", \\\"type\\\": \\\"formula\\\", \\\"as\\\": \\\"c_min\\\"}, {\\\"expr\\\": \\\"toNumber(datum[\\\\\\\"a\\\\\\\"])*300+240\\\", \\\"type\\\": \\\"formula\\\", \\\"as\\\": \\\"c_max\\\"}, {\\\"expr\\\": \\\"toNumber(datum[\\\\\\\"a\\\\\\\"])*300+260\\\", \\\"type\\\": \\\"formula\\\", \\\"as\\\": \\\"c_median\\\"}, {\\\"expr\\\": \\\"toNumber(datum[\\\\\\\"a\\\\\\\"])*300+280\\\", \\\"type\\\": \\\"formula\\\", \\\"as\\\": \\\"c_stdev\\\"}, {\\\"expr\\\": \\\"toNumber(datum[\\\\\\\"a\\\\\\\"])*300+198\\\", \\\"type\\\": \\\"formula\\\", \\\"as\\\": \\\"c_mean_val\\\"}, {\\\"expr\\\": \\\"toNumber(datum[\\\\\\\"a\\\\\\\"])*300+218\\\", \\\"type\\\": \\\"formula\\\", \\\"as\\\": \\\"c_min_val\\\"}, {\\\"expr\\\": \\\"toNumber(datum[\\\\\\\"a\\\\\\\"])*300+238\\\", \\\"type\\\": \\\"formula\\\", \\\"as\\\": \\\"c_max_val\\\"}, {\\\"expr\\\": \\\"toNumber(datum[\\\\\\\"a\\\\\\\"])*300+258\\\", \\\"type\\\": \\\"formula\\\", \\\"as\\\": \\\"c_median_val\\\"}, {\\\"expr\\\": \\\"toNumber(datum[\\\\\\\"a\\\\\\\"])*300+278\\\", \\\"type\\\": \\\"formula\\\", \\\"as\\\": \\\"c_stdev_val\\\"}, {\\\"expr\\\": \\\"toNumber(datum[\\\\\\\"a\\\\\\\"])*300+106\\\", \\\"type\\\": \\\"formula\\\", \\\"as\\\": \\\"graph_offset\\\"}, {\\\"expr\\\": \\\"toNumber(datum[\\\\\\\"a\\\\\\\"])*300+132\\\", \\\"type\\\": \\\"formula\\\", \\\"as\\\": \\\"graph_offset_categorical\\\"}, {\\\"expr\\\": \\\"(toString(datum[\\\\\\\"type\\\\\\\"]) == \\\\\\\"integer\\\\\\\" || toString(datum[\\\\\\\"type\\\\\\\"]) == \\\\\\\"float\\\\\\\")?false:true\\\", \\\"type\\\": \\\"formula\\\", \\\"as\\\": \\\"c_clip_val\\\"}, {\\\"expr\\\": \\\"(toString(datum[\\\\\\\"type\\\\\\\"]) == \\\\\\\"integer\\\\\\\" || toString(datum[\\\\\\\"type\\\\\\\"]) == \\\\\\\"float\\\\\\\")?250:0\\\", \\\"type\\\": \\\"formula\\\", \\\"as\\\": \\\"c_width_numeric_val\\\"}, {\\\"expr\\\": \\\"(toString(datum[\\\\\\\"type\\\\\\\"]) == \\\\\\\"str\\\\\\\")?false:true\\\", \\\"type\\\": \\\"formula\\\", \\\"as\\\": \\\"c_clip_val_cat\\\"}, {\\\"expr\\\": \\\"(toString(datum[\\\\\\\"type\\\\\\\"]) == \\\\\\\"str\\\\\\\")?250:0\\\", \\\"type\\\": \\\"formula\\\", \\\"as\\\": \\\"c_width_numeric_val_cat\\\"}], \\\"source\\\": \\\"source_2\\\", \\\"name\\\": \\\"data_2\\\"}], \\\"padding\\\": 0, \\\"width\\\": 800, \\\"metadata\\\": {\\\"bubbleOpts\\\": {\\\"showAllFields\\\": false, \\\"fields\\\": [{\\\"field\\\": \\\"left\\\"}, {\\\"field\\\": \\\"right\\\"}, {\\\"field\\\": \\\"count\\\"}, {\\\"field\\\": \\\"label\\\"}]}}, \\\"marks\\\": [{\\\"encode\\\": {\\\"enter\\\": {\\\"fillOpacity\\\": {\\\"value\\\": 0}, \\\"height\\\": {\\\"value\\\": 366}, \\\"clip\\\": {\\\"value\\\": 0}, \\\"fill\\\": {\\\"value\\\": \\\"#ffffff\\\"}, \\\"width\\\": {\\\"value\\\": 734}, \\\"stroke\\\": {\\\"value\\\": \\\"#000000\\\"}, \\\"x\\\": {\\\"value\\\": 0}, \\\"strokeWidth\\\": {\\\"value\\\": 0}, \\\"y\\\": {\\\"value\\\": 0}}}, \\\"marks\\\": [{\\\"scales\\\": [], \\\"encode\\\": {\\\"enter\\\": {\\\"fillOpacity\\\": {\\\"value\\\": 0}, \\\"height\\\": {\\\"value\\\": 366}, \\\"clip\\\": {\\\"value\\\": 0}, \\\"fill\\\": {\\\"value\\\": \\\"#ffffff\\\"}, \\\"width\\\": {\\\"value\\\": 734}, \\\"stroke\\\": {\\\"value\\\": \\\"#000000\\\"}, \\\"x\\\": {\\\"value\\\": 0}, \\\"strokeWidth\\\": {\\\"value\\\": 0}, \\\"y\\\": {\\\"value\\\": 0}}}, \\\"marks\\\": [{\\\"from\\\": {\\\"data\\\": \\\"data_2\\\"}, \\\"encode\\\": {\\\"enter\\\": {\\\"fillOpacity\\\": {\\\"value\\\": 1}, \\\"height\\\": {\\\"value\\\": 250}, \\\"fill\\\": {\\\"value\\\": \\\"#FEFEFE\\\"}, \\\"width\\\": {\\\"value\\\": 700}, \\\"stroke\\\": {\\\"value\\\": \\\"#DEDEDE\\\"}, \\\"x\\\": {\\\"value\\\": 33}, \\\"strokeWidth\\\": {\\\"value\\\": 0.5}, \\\"y\\\": {\\\"value\\\": 66}}, \\\"update\\\": {\\\"y\\\": {\\\"field\\\": \\\"c_main_background\\\"}, \\\"x\\\": {\\\"signal\\\": \\\"datum[\\\\\\\"c_x_axis_back\\\\\\\"]\\\"}}}, \\\"type\\\": \\\"rect\\\"}, {\\\"from\\\": {\\\"data\\\": \\\"data_2\\\"}, \\\"encode\\\": {\\\"enter\\\": {\\\"fillOpacity\\\": {\\\"value\\\": 1}, \\\"height\\\": {\\\"value\\\": 30}, \\\"fill\\\": {\\\"value\\\": \\\"#F5F5F5\\\"}, \\\"width\\\": {\\\"value\\\": 700}, \\\"stroke\\\": {\\\"value\\\": \\\"#DEDEDE\\\"}, \\\"x\\\": {\\\"value\\\": 33}, \\\"strokeWidth\\\": {\\\"value\\\": 0.5}, \\\"y\\\": {\\\"value\\\": 43}}, \\\"update\\\": {\\\"y\\\": {\\\"field\\\": \\\"c_top_bar\\\"}, \\\"x\\\": {\\\"signal\\\": \\\"datum[\\\\\\\"c_x_axis_back\\\\\\\"]\\\"}}}, \\\"type\\\": \\\"rect\\\"}, {\\\"from\\\": {\\\"data\\\": \\\"data_2\\\"}, \\\"encode\\\": {\\\"enter\\\": {\\\"fill\\\": {\\\"value\\\": \\\"#595859\\\"}, \\\"text\\\": {\\\"signal\\\": \\\"&apos;&apos;+datum[\\\\\\\"type\\\\\\\"]\\\"}, \\\"dx\\\": {\\\"value\\\": 0, \\\"offset\\\": 0}, \\\"angle\\\": {\\\"value\\\": 0}, \\\"font\\\": {\\\"value\\\": \\\"AvenirNext-Medium\\\"}, \\\"fontStyle\\\": {\\\"value\\\": \\\"normal\\\"}, \\\"fontSize\\\": {\\\"value\\\": 12}, \\\"fontWeight\\\": {\\\"value\\\": \\\"normal\\\"}, \\\"x\\\": {\\\"value\\\": 720}, \\\"align\\\": {\\\"value\\\": \\\"right\\\"}, \\\"dy\\\": {\\\"value\\\": 0, \\\"offset\\\": 0}, \\\"y\\\": {\\\"value\\\": 58}, \\\"baseline\\\": {\\\"value\\\": \\\"middle\\\"}}, \\\"update\\\": {\\\"y\\\": {\\\"field\\\": \\\"c_top_type\\\"}, \\\"x\\\": {\\\"signal\\\": \\\"datum[\\\\\\\"c_x_axis_back\\\\\\\"]+687\\\"}}}, \\\"type\\\": \\\"text\\\"}, {\\\"from\\\": {\\\"data\\\": \\\"data_2\\\"}, \\\"encode\\\": {\\\"enter\\\": {\\\"fill\\\": {\\\"value\\\": \\\"#9B9B9B\\\"}, \\\"text\\\": {\\\"signal\\\": \\\"&apos;&apos;+datum[\\\\\\\"title\\\\\\\"]\\\"}, \\\"dx\\\": {\\\"value\\\": 0, \\\"offset\\\": 0}, \\\"angle\\\": {\\\"value\\\": 0}, \\\"font\\\": {\\\"value\\\": \\\"AvenirNext-Medium\\\"}, \\\"fontStyle\\\": {\\\"value\\\": \\\"normal\\\"}, \\\"fontSize\\\": {\\\"value\\\": 15}, \\\"fontWeight\\\": {\\\"value\\\": \\\"normal\\\"}, \\\"x\\\": {\\\"value\\\": 44}, \\\"align\\\": {\\\"value\\\": \\\"left\\\"}, \\\"dy\\\": {\\\"value\\\": 0, \\\"offset\\\": 0}, \\\"y\\\": {\\\"value\\\": 59}, \\\"baseline\\\": {\\\"value\\\": \\\"middle\\\"}}, \\\"update\\\": {\\\"y\\\": {\\\"field\\\": \\\"c_top_title\\\"}, \\\"x\\\": {\\\"signal\\\": \\\"datum[\\\\\\\"c_x_axis_back\\\\\\\"]+11\\\"}}}, \\\"type\\\": \\\"text\\\"}, {\\\"from\\\": {\\\"data\\\": \\\"data_2\\\"}, \\\"encode\\\": {\\\"enter\\\": {\\\"stroke\\\": {\\\"value\\\": \\\"#EDEDEB\\\"}, \\\"x2\\\": {\\\"value\\\": 720}, \\\"strokeCap\\\": {\\\"value\\\": \\\"butt\\\"}, \\\"x\\\": {\\\"value\\\": 500}, \\\"strokeWidth\\\": {\\\"value\\\": 1}, \\\"y2\\\": {\\\"value\\\": 178}, \\\"y\\\": {\\\"value\\\": 178}}, \\\"update\\\": {\\\"x2\\\": {\\\"signal\\\": \\\"datum[\\\\\\\"c_x_axis_back\\\\\\\"]+687\\\"}, \\\"y2\\\": {\\\"field\\\": \\\"c_rule\\\"}, \\\"y\\\": {\\\"field\\\": \\\"c_rule\\\"}, \\\"x\\\": {\\\"signal\\\": \\\"datum[\\\\\\\"c_x_axis_back\\\\\\\"]+467\\\"}}}, \\\"type\\\": \\\"rule\\\"}, {\\\"from\\\": {\\\"data\\\": \\\"data_2\\\"}, \\\"encode\\\": {\\\"enter\\\": {\\\"fill\\\": {\\\"value\\\": \\\"#4A4A4A\\\"}, \\\"text\\\": {\\\"value\\\": \\\"Num. Rows:\\\"}, \\\"dx\\\": {\\\"value\\\": 0, \\\"offset\\\": 0}, \\\"angle\\\": {\\\"value\\\": 0}, \\\"font\\\": {\\\"value\\\": \\\"AvenirNext-Medium\\\"}, \\\"fontStyle\\\": {\\\"value\\\": \\\"normal\\\"}, \\\"fontSize\\\": {\\\"value\\\": 12}, \\\"fontWeight\\\": {\\\"value\\\": \\\"normal\\\"}, \\\"x\\\": {\\\"value\\\": 500}, \\\"align\\\": {\\\"value\\\": \\\"left\\\"}, \\\"dy\\\": {\\\"value\\\": 0, \\\"offset\\\": 0}, \\\"y\\\": {\\\"value\\\": 106}, \\\"baseline\\\": {\\\"value\\\": \\\"middle\\\"}}, \\\"update\\\": {\\\"y\\\": {\\\"field\\\": \\\"c_num_rows\\\"}, \\\"x\\\": {\\\"signal\\\": \\\"datum[\\\\\\\"c_x_axis_back\\\\\\\"]+467\\\"}}}, \\\"type\\\": \\\"text\\\"}, {\\\"from\\\": {\\\"data\\\": \\\"data_2\\\"}, \\\"encode\\\": {\\\"enter\\\": {\\\"fill\\\": {\\\"value\\\": \\\"#4A4A4A\\\"}, \\\"text\\\": {\\\"value\\\": \\\"Num. Unique:\\\"}, \\\"dx\\\": {\\\"value\\\": 0, \\\"offset\\\": 0}, \\\"angle\\\": {\\\"value\\\": 0}, \\\"font\\\": {\\\"value\\\": \\\"AvenirNext-Medium\\\"}, \\\"fontStyle\\\": {\\\"value\\\": \\\"normal\\\"}, \\\"fontSize\\\": {\\\"value\\\": 12}, \\\"fontWeight\\\": {\\\"value\\\": \\\"normal\\\"}, \\\"x\\\": {\\\"value\\\": 500}, \\\"align\\\": {\\\"value\\\": \\\"left\\\"}, \\\"dy\\\": {\\\"value\\\": 0, \\\"offset\\\": 0}, \\\"y\\\": {\\\"value\\\": 130}, \\\"baseline\\\": {\\\"value\\\": \\\"middle\\\"}}, \\\"update\\\": {\\\"y\\\": {\\\"field\\\": \\\"c_num_unique\\\"}, \\\"x\\\": {\\\"signal\\\": \\\"datum[\\\\\\\"c_x_axis_back\\\\\\\"]+467\\\"}}}, \\\"type\\\": \\\"text\\\"}, {\\\"from\\\": {\\\"data\\\": \\\"data_2\\\"}, \\\"encode\\\": {\\\"enter\\\": {\\\"fill\\\": {\\\"value\\\": \\\"#4A4A4A\\\"}, \\\"text\\\": {\\\"value\\\": \\\"Missing:\\\"}, \\\"dx\\\": {\\\"value\\\": 0, \\\"offset\\\": 0}, \\\"angle\\\": {\\\"value\\\": 0}, \\\"font\\\": {\\\"value\\\": \\\"AvenirNext-Medium\\\"}, \\\"fontStyle\\\": {\\\"value\\\": \\\"normal\\\"}, \\\"fontSize\\\": {\\\"value\\\": 12}, \\\"fontWeight\\\": {\\\"value\\\": \\\"normal\\\"}, \\\"x\\\": {\\\"value\\\": 500}, \\\"align\\\": {\\\"value\\\": \\\"left\\\"}, \\\"dy\\\": {\\\"value\\\": 0, \\\"offset\\\": 0}, \\\"y\\\": {\\\"value\\\": 154}, \\\"baseline\\\": {\\\"value\\\": \\\"middle\\\"}}, \\\"update\\\": {\\\"y\\\": {\\\"field\\\": \\\"c_missing\\\"}, \\\"x\\\": {\\\"signal\\\": \\\"datum[\\\\\\\"c_x_axis_back\\\\\\\"]+467\\\"}}}, \\\"type\\\": \\\"text\\\"}, {\\\"from\\\": {\\\"data\\\": \\\"data_2\\\"}, \\\"encode\\\": {\\\"enter\\\": {\\\"fill\\\": {\\\"value\\\": \\\"#5A5A5A\\\"}, \\\"text\\\": {\\\"signal\\\": \\\"toString(format(datum[\\\\\\\"num_row\\\\\\\"], \\\\\\\",\\\\\\\"))\\\"}, \\\"dx\\\": {\\\"value\\\": 0, \\\"offset\\\": 0}, \\\"angle\\\": {\\\"value\\\": 0}, \\\"font\\\": {\\\"value\\\": \\\"AvenirNext-Medium\\\"}, \\\"fontStyle\\\": {\\\"value\\\": \\\"normal\\\"}, \\\"fontSize\\\": {\\\"value\\\": 12}, \\\"fontWeight\\\": {\\\"value\\\": \\\"normal\\\"}, \\\"x\\\": {\\\"value\\\": 700}, \\\"align\\\": {\\\"value\\\": \\\"right\\\"}, \\\"dy\\\": {\\\"value\\\": 0, \\\"offset\\\": 0}, \\\"y\\\": {\\\"value\\\": 105}, \\\"baseline\\\": {\\\"value\\\": \\\"middle\\\"}}, \\\"update\\\": {\\\"y\\\": {\\\"field\\\": \\\"c_num_rows_val\\\"}, \\\"x\\\": {\\\"signal\\\": \\\"datum[\\\\\\\"c_x_axis_back\\\\\\\"]+667\\\"}}}, \\\"type\\\": \\\"text\\\"}, {\\\"from\\\": {\\\"data\\\": \\\"data_2\\\"}, \\\"encode\\\": {\\\"enter\\\": {\\\"fill\\\": {\\\"value\\\": \\\"#5A5A5A\\\"}, \\\"text\\\": {\\\"signal\\\": \\\"toString(format(datum[\\\\\\\"num_unique\\\\\\\"], \\\\\\\",\\\\\\\"))\\\"}, \\\"dx\\\": {\\\"value\\\": 0, \\\"offset\\\": 0}, \\\"angle\\\": {\\\"value\\\": 0}, \\\"font\\\": {\\\"value\\\": \\\"AvenirNext-Medium\\\"}, \\\"fontStyle\\\": {\\\"value\\\": \\\"normal\\\"}, \\\"fontSize\\\": {\\\"value\\\": 12}, \\\"fontWeight\\\": {\\\"value\\\": \\\"normal\\\"}, \\\"x\\\": {\\\"value\\\": 700}, \\\"align\\\": {\\\"value\\\": \\\"right\\\"}, \\\"dy\\\": {\\\"value\\\": 0, \\\"offset\\\": 0}, \\\"y\\\": {\\\"value\\\": 130}, \\\"baseline\\\": {\\\"value\\\": \\\"middle\\\"}}, \\\"update\\\": {\\\"y\\\": {\\\"field\\\": \\\"c_num_unique_val\\\"}, \\\"x\\\": {\\\"signal\\\": \\\"datum[\\\\\\\"c_x_axis_back\\\\\\\"]+667\\\"}}}, \\\"type\\\": \\\"text\\\"}, {\\\"from\\\": {\\\"data\\\": \\\"data_2\\\"}, \\\"encode\\\": {\\\"enter\\\": {\\\"fill\\\": {\\\"value\\\": \\\"#5A5A5A\\\"}, \\\"text\\\": {\\\"signal\\\": \\\"toString(format(datum[\\\\\\\"num_missing\\\\\\\"], \\\\\\\",\\\\\\\"))\\\"}, \\\"dx\\\": {\\\"value\\\": 0, \\\"offset\\\": 0}, \\\"angle\\\": {\\\"value\\\": 0}, \\\"font\\\": {\\\"value\\\": \\\"AvenirNext-Medium\\\"}, \\\"fontStyle\\\": {\\\"value\\\": \\\"normal\\\"}, \\\"fontSize\\\": {\\\"value\\\": 12}, \\\"fontWeight\\\": {\\\"value\\\": \\\"normal\\\"}, \\\"x\\\": {\\\"value\\\": 700}, \\\"align\\\": {\\\"value\\\": \\\"right\\\"}, \\\"dy\\\": {\\\"value\\\": 0, \\\"offset\\\": 0}, \\\"y\\\": {\\\"value\\\": 154}, \\\"baseline\\\": {\\\"value\\\": \\\"middle\\\"}}, \\\"update\\\": {\\\"y\\\": {\\\"field\\\": \\\"c_missing_val\\\"}, \\\"x\\\": {\\\"signal\\\": \\\"datum[\\\\\\\"c_x_axis_back\\\\\\\"]+667\\\"}}}, \\\"type\\\": \\\"text\\\"}, {\\\"from\\\": {\\\"data\\\": \\\"data_2\\\"}, \\\"encode\\\": {\\\"enter\\\": {\\\"clip\\\": {\\\"value\\\": true}, \\\"fill\\\": {\\\"value\\\": \\\"#4A4A4A\\\"}, \\\"text\\\": {\\\"signal\\\": \\\"(toString(datum[\\\\\\\"type\\\\\\\"]) == \\\\\\\"str\\\\\\\")? \\\\\\\"Frequent Items\\\\\\\":\\\\\\\"\\\\\\\"\\\"}, \\\"dx\\\": {\\\"value\\\": 0, \\\"offset\\\": 0}, \\\"angle\\\": {\\\"value\\\": 0}, \\\"font\\\": {\\\"value\\\": \\\"AvenirNext-Medium\\\"}, \\\"fontStyle\\\": {\\\"value\\\": \\\"normal\\\"}, \\\"fontSize\\\": {\\\"value\\\": 11}, \\\"fontWeight\\\": {\\\"value\\\": \\\"bold\\\"}, \\\"x\\\": {\\\"value\\\": 500}, \\\"align\\\": {\\\"value\\\": \\\"left\\\"}, \\\"dy\\\": {\\\"value\\\": 0, \\\"offset\\\": 0}, \\\"y\\\": {\\\"value\\\": 200}, \\\"baseline\\\": {\\\"value\\\": \\\"middle\\\"}}, \\\"update\\\": {\\\"y\\\": {\\\"field\\\": \\\"c_frequent_items\\\"}, \\\"x\\\": {\\\"signal\\\": \\\"datum[\\\\\\\"c_x_axis_back\\\\\\\"]+467\\\"}}}, \\\"type\\\": \\\"text\\\"}, {\\\"from\\\": {\\\"data\\\": \\\"data_2\\\"}, \\\"encode\\\": {\\\"enter\\\": {\\\"clip\\\": {\\\"value\\\": true}, \\\"fill\\\": {\\\"value\\\": \\\"#4A4A4A\\\"}, \\\"text\\\": {\\\"signal\\\": \\\"((datum[\\\\\\\"categorical\\\\\\\"].length >= 1) &amp;&amp; (toString(datum[\\\\\\\"type\\\\\\\"]) == \\\\\\\"str\\\\\\\"))? toString(datum[\\\\\\\"categorical\\\\\\\"][0][\\\\\\\"label\\\\\\\"]):\\\\\\\"\\\\\\\"\\\"}, \\\"dx\\\": {\\\"value\\\": 0, \\\"offset\\\": 0}, \\\"angle\\\": {\\\"value\\\": 0}, \\\"font\\\": {\\\"value\\\": \\\"AvenirNext-Medium\\\"}, \\\"fontStyle\\\": {\\\"value\\\": \\\"normal\\\"}, \\\"fontSize\\\": {\\\"value\\\": 11}, \\\"fontWeight\\\": {\\\"value\\\": \\\"normal\\\"}, \\\"x\\\": {\\\"value\\\": 520}, \\\"align\\\": {\\\"value\\\": \\\"left\\\"}, \\\"dy\\\": {\\\"value\\\": 0, \\\"offset\\\": 0}, \\\"y\\\": {\\\"value\\\": 200}, \\\"baseline\\\": {\\\"value\\\": \\\"middle\\\"}}, \\\"update\\\": {\\\"y\\\": {\\\"field\\\": \\\"c_first_item\\\"}, \\\"x\\\": {\\\"signal\\\": \\\"datum[\\\\\\\"c_x_axis_back\\\\\\\"]+487\\\"}}}, \\\"type\\\": \\\"text\\\"}, {\\\"from\\\": {\\\"data\\\": \\\"data_2\\\"}, \\\"encode\\\": {\\\"enter\\\": {\\\"clip\\\": {\\\"value\\\": true}, \\\"fill\\\": {\\\"value\\\": \\\"#4A4A4A\\\"}, \\\"text\\\": {\\\"signal\\\": \\\"((datum[\\\\\\\"categorical\\\\\\\"].length >= 2) &amp;&amp; (toString(datum[\\\\\\\"type\\\\\\\"]) == \\\\\\\"str\\\\\\\"))? toString(datum[\\\\\\\"categorical\\\\\\\"][1][\\\\\\\"label\\\\\\\"]):\\\\\\\"\\\\\\\"\\\"}, \\\"dx\\\": {\\\"value\\\": 0, \\\"offset\\\": 0}, \\\"angle\\\": {\\\"value\\\": 0}, \\\"font\\\": {\\\"value\\\": \\\"AvenirNext-Medium\\\"}, \\\"fontStyle\\\": {\\\"value\\\": \\\"normal\\\"}, \\\"fontSize\\\": {\\\"value\\\": 11}, \\\"fontWeight\\\": {\\\"value\\\": \\\"normal\\\"}, \\\"x\\\": {\\\"value\\\": 520}, \\\"align\\\": {\\\"value\\\": \\\"left\\\"}, \\\"dy\\\": {\\\"value\\\": 0, \\\"offset\\\": 0}, \\\"y\\\": {\\\"value\\\": 200}, \\\"baseline\\\": {\\\"value\\\": \\\"middle\\\"}}, \\\"update\\\": {\\\"y\\\": {\\\"field\\\": \\\"c_second_item\\\"}, \\\"x\\\": {\\\"signal\\\": \\\"datum[\\\\\\\"c_x_axis_back\\\\\\\"]+487\\\"}}}, \\\"type\\\": \\\"text\\\"}, {\\\"from\\\": {\\\"data\\\": \\\"data_2\\\"}, \\\"encode\\\": {\\\"enter\\\": {\\\"clip\\\": {\\\"value\\\": true}, \\\"fill\\\": {\\\"value\\\": \\\"#4A4A4A\\\"}, \\\"text\\\": {\\\"signal\\\": \\\"((datum[\\\\\\\"categorical\\\\\\\"].length >= 3) &amp;&amp; (toString(datum[\\\\\\\"type\\\\\\\"]) == \\\\\\\"str\\\\\\\"))? toString(datum[\\\\\\\"categorical\\\\\\\"][2][\\\\\\\"label\\\\\\\"]):\\\\\\\"\\\\\\\"\\\"}, \\\"dx\\\": {\\\"value\\\": 0, \\\"offset\\\": 0}, \\\"angle\\\": {\\\"value\\\": 0}, \\\"font\\\": {\\\"value\\\": \\\"AvenirNext-Medium\\\"}, \\\"fontStyle\\\": {\\\"value\\\": \\\"normal\\\"}, \\\"fontSize\\\": {\\\"value\\\": 11}, \\\"fontWeight\\\": {\\\"value\\\": \\\"normal\\\"}, \\\"x\\\": {\\\"value\\\": 520}, \\\"align\\\": {\\\"value\\\": \\\"left\\\"}, \\\"dy\\\": {\\\"value\\\": 0, \\\"offset\\\": 0}, \\\"y\\\": {\\\"value\\\": 200}, \\\"baseline\\\": {\\\"value\\\": \\\"middle\\\"}}, \\\"update\\\": {\\\"y\\\": {\\\"field\\\": \\\"c_third_item\\\"}, \\\"x\\\": {\\\"signal\\\": \\\"datum[\\\\\\\"c_x_axis_back\\\\\\\"]+487\\\"}}}, \\\"type\\\": \\\"text\\\"}, {\\\"from\\\": {\\\"data\\\": \\\"data_2\\\"}, \\\"encode\\\": {\\\"enter\\\": {\\\"clip\\\": {\\\"value\\\": true}, \\\"fill\\\": {\\\"value\\\": \\\"#4A4A4A\\\"}, \\\"text\\\": {\\\"signal\\\": \\\"((datum[\\\\\\\"categorical\\\\\\\"].length >= 4) &amp;&amp; (toString(datum[\\\\\\\"type\\\\\\\"]) == \\\\\\\"str\\\\\\\"))? toString(datum[\\\\\\\"categorical\\\\\\\"][3][\\\\\\\"label\\\\\\\"]):\\\\\\\"\\\\\\\"\\\"}, \\\"dx\\\": {\\\"value\\\": 0, \\\"offset\\\": 0}, \\\"angle\\\": {\\\"value\\\": 0}, \\\"font\\\": {\\\"value\\\": \\\"AvenirNext-Medium\\\"}, \\\"fontStyle\\\": {\\\"value\\\": \\\"normal\\\"}, \\\"fontSize\\\": {\\\"value\\\": 11}, \\\"fontWeight\\\": {\\\"value\\\": \\\"normal\\\"}, \\\"x\\\": {\\\"value\\\": 520}, \\\"align\\\": {\\\"value\\\": \\\"left\\\"}, \\\"dy\\\": {\\\"value\\\": 0, \\\"offset\\\": 0}, \\\"y\\\": {\\\"value\\\": 200}, \\\"baseline\\\": {\\\"value\\\": \\\"middle\\\"}}, \\\"update\\\": {\\\"y\\\": {\\\"field\\\": \\\"c_fourth_item\\\"}, \\\"x\\\": {\\\"signal\\\": \\\"datum[\\\\\\\"c_x_axis_back\\\\\\\"]+487\\\"}}}, \\\"type\\\": \\\"text\\\"}, {\\\"from\\\": {\\\"data\\\": \\\"data_2\\\"}, \\\"encode\\\": {\\\"enter\\\": {\\\"clip\\\": {\\\"value\\\": true}, \\\"fill\\\": {\\\"value\\\": \\\"#4A4A4A\\\"}, \\\"text\\\": {\\\"signal\\\": \\\"((datum[\\\\\\\"categorical\\\\\\\"].length >= 5) &amp;&amp; (toString(datum[\\\\\\\"type\\\\\\\"]) == \\\\\\\"str\\\\\\\"))? toString(datum[\\\\\\\"categorical\\\\\\\"][4][\\\\\\\"label\\\\\\\"]):\\\\\\\"\\\\\\\"\\\"}, \\\"dx\\\": {\\\"value\\\": 0, \\\"offset\\\": 0}, \\\"angle\\\": {\\\"value\\\": 0}, \\\"font\\\": {\\\"value\\\": \\\"AvenirNext-Medium\\\"}, \\\"fontStyle\\\": {\\\"value\\\": \\\"normal\\\"}, \\\"fontSize\\\": {\\\"value\\\": 11}, \\\"fontWeight\\\": {\\\"value\\\": \\\"normal\\\"}, \\\"x\\\": {\\\"value\\\": 520}, \\\"align\\\": {\\\"value\\\": \\\"left\\\"}, \\\"dy\\\": {\\\"value\\\": 0, \\\"offset\\\": 0}, \\\"y\\\": {\\\"value\\\": 200}, \\\"baseline\\\": {\\\"value\\\": \\\"middle\\\"}}, \\\"update\\\": {\\\"y\\\": {\\\"field\\\": \\\"c_fifth_item\\\"}, \\\"x\\\": {\\\"signal\\\": \\\"datum[\\\\\\\"c_x_axis_back\\\\\\\"]+487\\\"}}}, \\\"type\\\": \\\"text\\\"}, {\\\"from\\\": {\\\"data\\\": \\\"data_2\\\"}, \\\"encode\\\": {\\\"enter\\\": {\\\"clip\\\": {\\\"value\\\": true}, \\\"fill\\\": {\\\"value\\\": \\\"#7A7A7A\\\"}, \\\"text\\\": {\\\"signal\\\": \\\"((datum[\\\\\\\"categorical\\\\\\\"].length >= 1) &amp;&amp; (toString(datum[\\\\\\\"type\\\\\\\"]) == \\\\\\\"str\\\\\\\"))? toString(datum[\\\\\\\"categorical\\\\\\\"][0][\\\\\\\"count\\\\\\\"]):\\\\\\\"\\\\\\\"\\\"}, \\\"dx\\\": {\\\"value\\\": 0, \\\"offset\\\": 0}, \\\"angle\\\": {\\\"value\\\": 0}, \\\"font\\\": {\\\"value\\\": \\\"AvenirNext-Medium\\\"}, \\\"fontStyle\\\": {\\\"value\\\": \\\"normal\\\"}, \\\"fontSize\\\": {\\\"value\\\": 11}, \\\"fontWeight\\\": {\\\"value\\\": \\\"normal\\\"}, \\\"x\\\": {\\\"value\\\": 700}, \\\"align\\\": {\\\"value\\\": \\\"right\\\"}, \\\"dy\\\": {\\\"value\\\": 0, \\\"offset\\\": 0}, \\\"y\\\": {\\\"value\\\": 200}, \\\"baseline\\\": {\\\"value\\\": \\\"middle\\\"}}, \\\"update\\\": {\\\"y\\\": {\\\"field\\\": \\\"c_first_item\\\"}, \\\"x\\\": {\\\"signal\\\": \\\"datum[\\\\\\\"c_x_axis_back\\\\\\\"]+667\\\"}}}, \\\"type\\\": \\\"text\\\"}, {\\\"from\\\": {\\\"data\\\": \\\"data_2\\\"}, \\\"encode\\\": {\\\"enter\\\": {\\\"clip\\\": {\\\"value\\\": true}, \\\"fill\\\": {\\\"value\\\": \\\"#7A7A7A\\\"}, \\\"text\\\": {\\\"signal\\\": \\\"((datum[\\\\\\\"categorical\\\\\\\"].length >= 2) &amp;&amp; (toString(datum[\\\\\\\"type\\\\\\\"]) == \\\\\\\"str\\\\\\\"))? toString(datum[\\\\\\\"categorical\\\\\\\"][1][\\\\\\\"count\\\\\\\"]):\\\\\\\"\\\\\\\"\\\"}, \\\"dx\\\": {\\\"value\\\": 0, \\\"offset\\\": 0}, \\\"angle\\\": {\\\"value\\\": 0}, \\\"font\\\": {\\\"value\\\": \\\"AvenirNext-Medium\\\"}, \\\"fontStyle\\\": {\\\"value\\\": \\\"normal\\\"}, \\\"fontSize\\\": {\\\"value\\\": 10}, \\\"fontWeight\\\": {\\\"value\\\": \\\"normal\\\"}, \\\"x\\\": {\\\"value\\\": 700}, \\\"align\\\": {\\\"value\\\": \\\"right\\\"}, \\\"dy\\\": {\\\"value\\\": 0, \\\"offset\\\": 0}, \\\"y\\\": {\\\"value\\\": 200}, \\\"baseline\\\": {\\\"value\\\": \\\"middle\\\"}}, \\\"update\\\": {\\\"y\\\": {\\\"field\\\": \\\"c_second_item\\\"}, \\\"x\\\": {\\\"signal\\\": \\\"datum[\\\\\\\"c_x_axis_back\\\\\\\"]+667\\\"}}}, \\\"type\\\": \\\"text\\\"}, {\\\"from\\\": {\\\"data\\\": \\\"data_2\\\"}, \\\"encode\\\": {\\\"enter\\\": {\\\"clip\\\": {\\\"value\\\": true}, \\\"fill\\\": {\\\"value\\\": \\\"#7A7A7A\\\"}, \\\"text\\\": {\\\"signal\\\": \\\"((datum[\\\\\\\"categorical\\\\\\\"].length >= 3) &amp;&amp; (toString(datum[\\\\\\\"type\\\\\\\"]) == \\\\\\\"str\\\\\\\"))? toString(datum[\\\\\\\"categorical\\\\\\\"][2][\\\\\\\"count\\\\\\\"]):\\\\\\\"\\\\\\\"\\\"}, \\\"dx\\\": {\\\"value\\\": 0, \\\"offset\\\": 0}, \\\"angle\\\": {\\\"value\\\": 0}, \\\"font\\\": {\\\"value\\\": \\\"AvenirNext-Medium\\\"}, \\\"fontStyle\\\": {\\\"value\\\": \\\"normal\\\"}, \\\"fontSize\\\": {\\\"value\\\": 10}, \\\"fontWeight\\\": {\\\"value\\\": \\\"normal\\\"}, \\\"x\\\": {\\\"value\\\": 700}, \\\"align\\\": {\\\"value\\\": \\\"right\\\"}, \\\"dy\\\": {\\\"value\\\": 0, \\\"offset\\\": 0}, \\\"y\\\": {\\\"value\\\": 200}, \\\"baseline\\\": {\\\"value\\\": \\\"middle\\\"}}, \\\"update\\\": {\\\"y\\\": {\\\"field\\\": \\\"c_third_item\\\"}, \\\"x\\\": {\\\"signal\\\": \\\"datum[\\\\\\\"c_x_axis_back\\\\\\\"]+667\\\"}}}, \\\"type\\\": \\\"text\\\"}, {\\\"from\\\": {\\\"data\\\": \\\"data_2\\\"}, \\\"encode\\\": {\\\"enter\\\": {\\\"clip\\\": {\\\"value\\\": true}, \\\"fill\\\": {\\\"value\\\": \\\"#7A7A7A\\\"}, \\\"text\\\": {\\\"signal\\\": \\\"((datum[\\\\\\\"categorical\\\\\\\"].length >= 4) &amp;&amp; (toString(datum[\\\\\\\"type\\\\\\\"]) == \\\\\\\"str\\\\\\\"))? toString(datum[\\\\\\\"categorical\\\\\\\"][3][\\\\\\\"count\\\\\\\"]):\\\\\\\"\\\\\\\"\\\"}, \\\"dx\\\": {\\\"value\\\": 0, \\\"offset\\\": 0}, \\\"angle\\\": {\\\"value\\\": 0}, \\\"font\\\": {\\\"value\\\": \\\"AvenirNext-Medium\\\"}, \\\"fontStyle\\\": {\\\"value\\\": \\\"normal\\\"}, \\\"fontSize\\\": {\\\"value\\\": 10}, \\\"fontWeight\\\": {\\\"value\\\": \\\"normal\\\"}, \\\"x\\\": {\\\"value\\\": 700}, \\\"align\\\": {\\\"value\\\": \\\"right\\\"}, \\\"dy\\\": {\\\"value\\\": 0, \\\"offset\\\": 0}, \\\"y\\\": {\\\"value\\\": 200}, \\\"baseline\\\": {\\\"value\\\": \\\"middle\\\"}}, \\\"update\\\": {\\\"y\\\": {\\\"field\\\": \\\"c_fourth_item\\\"}, \\\"x\\\": {\\\"signal\\\": \\\"datum[\\\\\\\"c_x_axis_back\\\\\\\"]+667\\\"}}}, \\\"type\\\": \\\"text\\\"}, {\\\"from\\\": {\\\"data\\\": \\\"data_2\\\"}, \\\"encode\\\": {\\\"enter\\\": {\\\"clip\\\": {\\\"value\\\": true}, \\\"fill\\\": {\\\"value\\\": \\\"#7A7A7A\\\"}, \\\"text\\\": {\\\"signal\\\": \\\"((datum[\\\\\\\"categorical\\\\\\\"].length >= 5) &amp;&amp; (toString(datum[\\\\\\\"type\\\\\\\"]) == \\\\\\\"str\\\\\\\"))? toString(datum[\\\\\\\"categorical\\\\\\\"][4][\\\\\\\"count\\\\\\\"]):\\\\\\\"\\\\\\\"\\\"}, \\\"dx\\\": {\\\"value\\\": 0, \\\"offset\\\": 0}, \\\"angle\\\": {\\\"value\\\": 0}, \\\"font\\\": {\\\"value\\\": \\\"AvenirNext-Medium\\\"}, \\\"fontStyle\\\": {\\\"value\\\": \\\"normal\\\"}, \\\"fontSize\\\": {\\\"value\\\": 10}, \\\"fontWeight\\\": {\\\"value\\\": \\\"normal\\\"}, \\\"x\\\": {\\\"value\\\": 700}, \\\"align\\\": {\\\"value\\\": \\\"right\\\"}, \\\"dy\\\": {\\\"value\\\": 0, \\\"offset\\\": 0}, \\\"y\\\": {\\\"value\\\": 200}, \\\"baseline\\\": {\\\"value\\\": \\\"middle\\\"}}, \\\"update\\\": {\\\"y\\\": {\\\"field\\\": \\\"c_fifth_item\\\"}, \\\"x\\\": {\\\"signal\\\": \\\"datum[\\\\\\\"c_x_axis_back\\\\\\\"]+667\\\"}}}, \\\"type\\\": \\\"text\\\"}, {\\\"from\\\": {\\\"data\\\": \\\"data_2\\\"}, \\\"encode\\\": {\\\"enter\\\": {\\\"clip\\\": {\\\"value\\\": true}, \\\"fill\\\": {\\\"value\\\": \\\"#4A4A4A\\\"}, \\\"text\\\": {\\\"signal\\\": \\\"(toString(datum[\\\\\\\"type\\\\\\\"]) == \\\\\\\"integer\\\\\\\" || toString(datum[\\\\\\\"type\\\\\\\"]) == \\\\\\\"float\\\\\\\")? \\\\\\\"Mean:\\\\\\\":\\\\\\\"\\\\\\\"\\\"}, \\\"dx\\\": {\\\"value\\\": 0, \\\"offset\\\": 0}, \\\"angle\\\": {\\\"value\\\": 0}, \\\"font\\\": {\\\"value\\\": \\\"AvenirNext-Medium\\\"}, \\\"fontStyle\\\": {\\\"value\\\": \\\"normal\\\"}, \\\"fontSize\\\": {\\\"value\\\": 11}, \\\"fontWeight\\\": {\\\"value\\\": \\\"bold\\\"}, \\\"x\\\": {\\\"value\\\": 500}, \\\"align\\\": {\\\"value\\\": \\\"left\\\"}, \\\"dy\\\": {\\\"value\\\": 0, \\\"offset\\\": 0}, \\\"y\\\": {\\\"value\\\": 200}, \\\"baseline\\\": {\\\"value\\\": \\\"middle\\\"}}, \\\"update\\\": {\\\"y\\\": {\\\"field\\\": \\\"c_mean\\\"}, \\\"x\\\": {\\\"signal\\\": \\\"datum[\\\\\\\"c_x_axis_back\\\\\\\"]+467\\\"}}}, \\\"type\\\": \\\"text\\\"}, {\\\"from\\\": {\\\"data\\\": \\\"data_2\\\"}, \\\"encode\\\": {\\\"enter\\\": {\\\"fill\\\": {\\\"value\\\": \\\"#4A4A4A\\\"}, \\\"text\\\": {\\\"signal\\\": \\\"(toString(datum[\\\\\\\"type\\\\\\\"]) == \\\\\\\"integer\\\\\\\" || toString(datum[\\\\\\\"type\\\\\\\"]) == \\\\\\\"float\\\\\\\")? \\\\\\\"Min:\\\\\\\":\\\\\\\"\\\\\\\"\\\"}, \\\"dx\\\": {\\\"value\\\": 0, \\\"offset\\\": 0}, \\\"angle\\\": {\\\"value\\\": 0}, \\\"font\\\": {\\\"value\\\": \\\"AvenirNext-Medium\\\"}, \\\"fontStyle\\\": {\\\"value\\\": \\\"normal\\\"}, \\\"fontSize\\\": {\\\"value\\\": 11}, \\\"fontWeight\\\": {\\\"value\\\": \\\"bold\\\"}, \\\"x\\\": {\\\"value\\\": 500}, \\\"align\\\": {\\\"value\\\": \\\"left\\\"}, \\\"dy\\\": {\\\"value\\\": 0, \\\"offset\\\": 0}, \\\"y\\\": {\\\"value\\\": 220}, \\\"baseline\\\": {\\\"value\\\": \\\"middle\\\"}}, \\\"update\\\": {\\\"y\\\": {\\\"field\\\": \\\"c_min\\\"}, \\\"x\\\": {\\\"signal\\\": \\\"datum[\\\\\\\"c_x_axis_back\\\\\\\"]+467\\\"}}}, \\\"type\\\": \\\"text\\\"}, {\\\"from\\\": {\\\"data\\\": \\\"data_2\\\"}, \\\"encode\\\": {\\\"enter\\\": {\\\"fill\\\": {\\\"value\\\": \\\"#4A4A4A\\\"}, \\\"text\\\": {\\\"signal\\\": \\\"(toString(datum[\\\\\\\"type\\\\\\\"]) == \\\\\\\"integer\\\\\\\" || toString(datum[\\\\\\\"type\\\\\\\"]) == \\\\\\\"float\\\\\\\")? \\\\\\\"Max:\\\\\\\":\\\\\\\"\\\\\\\"\\\"}, \\\"dx\\\": {\\\"value\\\": 0, \\\"offset\\\": 0}, \\\"angle\\\": {\\\"value\\\": 0}, \\\"font\\\": {\\\"value\\\": \\\"AvenirNext-Medium\\\"}, \\\"fontStyle\\\": {\\\"value\\\": \\\"normal\\\"}, \\\"fontSize\\\": {\\\"value\\\": 11}, \\\"fontWeight\\\": {\\\"value\\\": \\\"bold\\\"}, \\\"x\\\": {\\\"value\\\": 500}, \\\"align\\\": {\\\"value\\\": \\\"left\\\"}, \\\"dy\\\": {\\\"value\\\": 0, \\\"offset\\\": 0}, \\\"y\\\": {\\\"value\\\": 240}, \\\"baseline\\\": {\\\"value\\\": \\\"middle\\\"}}, \\\"update\\\": {\\\"y\\\": {\\\"field\\\": \\\"c_max\\\"}, \\\"x\\\": {\\\"signal\\\": \\\"datum[\\\\\\\"c_x_axis_back\\\\\\\"]+467\\\"}}}, \\\"type\\\": \\\"text\\\"}, {\\\"from\\\": {\\\"data\\\": \\\"data_2\\\"}, \\\"encode\\\": {\\\"enter\\\": {\\\"fill\\\": {\\\"value\\\": \\\"#4A4A4A\\\"}, \\\"text\\\": {\\\"signal\\\": \\\"(toString(datum[\\\\\\\"type\\\\\\\"]) == \\\\\\\"integer\\\\\\\" || toString(datum[\\\\\\\"type\\\\\\\"]) == \\\\\\\"float\\\\\\\")? \\\\\\\"Median:\\\\\\\":\\\\\\\"\\\\\\\"\\\"}, \\\"dx\\\": {\\\"value\\\": 0, \\\"offset\\\": 0}, \\\"angle\\\": {\\\"value\\\": 0}, \\\"font\\\": {\\\"value\\\": \\\"AvenirNext-Medium\\\"}, \\\"fontStyle\\\": {\\\"value\\\": \\\"normal\\\"}, \\\"fontSize\\\": {\\\"value\\\": 11}, \\\"fontWeight\\\": {\\\"value\\\": \\\"bold\\\"}, \\\"x\\\": {\\\"value\\\": 500}, \\\"align\\\": {\\\"value\\\": \\\"left\\\"}, \\\"dy\\\": {\\\"value\\\": 0, \\\"offset\\\": 0}, \\\"y\\\": {\\\"value\\\": 260}, \\\"baseline\\\": {\\\"value\\\": \\\"middle\\\"}}, \\\"update\\\": {\\\"y\\\": {\\\"field\\\": \\\"c_median\\\"}, \\\"x\\\": {\\\"signal\\\": \\\"datum[\\\\\\\"c_x_axis_back\\\\\\\"]+467\\\"}}}, \\\"type\\\": \\\"text\\\"}, {\\\"from\\\": {\\\"data\\\": \\\"data_2\\\"}, \\\"encode\\\": {\\\"enter\\\": {\\\"fill\\\": {\\\"value\\\": \\\"#4A4A4A\\\"}, \\\"text\\\": {\\\"signal\\\": \\\"(toString(datum[\\\\\\\"type\\\\\\\"]) == \\\\\\\"integer\\\\\\\" || toString(datum[\\\\\\\"type\\\\\\\"]) == \\\\\\\"float\\\\\\\")? \\\\\\\"St. Dev:\\\\\\\":\\\\\\\"\\\\\\\"\\\"}, \\\"dx\\\": {\\\"value\\\": 0, \\\"offset\\\": 0}, \\\"angle\\\": {\\\"value\\\": 0}, \\\"font\\\": {\\\"value\\\": \\\"AvenirNext-Medium\\\"}, \\\"fontStyle\\\": {\\\"value\\\": \\\"normal\\\"}, \\\"fontSize\\\": {\\\"value\\\": 11}, \\\"fontWeight\\\": {\\\"value\\\": \\\"bold\\\"}, \\\"x\\\": {\\\"value\\\": 500}, \\\"align\\\": {\\\"value\\\": \\\"left\\\"}, \\\"dy\\\": {\\\"value\\\": 0, \\\"offset\\\": 0}, \\\"y\\\": {\\\"value\\\": 280}, \\\"baseline\\\": {\\\"value\\\": \\\"middle\\\"}}, \\\"update\\\": {\\\"y\\\": {\\\"field\\\": \\\"c_stdev\\\"}, \\\"x\\\": {\\\"signal\\\": \\\"datum[\\\\\\\"c_x_axis_back\\\\\\\"]+467\\\"}}}, \\\"type\\\": \\\"text\\\"}, {\\\"from\\\": {\\\"data\\\": \\\"data_2\\\"}, \\\"encode\\\": {\\\"enter\\\": {\\\"fill\\\": {\\\"value\\\": \\\"#6A6A6A\\\"}, \\\"text\\\": {\\\"signal\\\": \\\"(toString(datum[\\\\\\\"type\\\\\\\"]) == \\\\\\\"integer\\\\\\\" || toString(datum[\\\\\\\"type\\\\\\\"]) == \\\\\\\"float\\\\\\\")?toString(format(datum[\\\\\\\"mean\\\\\\\"], \\\\\\\",\\\\\\\")):\\\\\\\"\\\\\\\"\\\"}, \\\"dx\\\": {\\\"value\\\": 0, \\\"offset\\\": 0}, \\\"angle\\\": {\\\"value\\\": 0}, \\\"font\\\": {\\\"value\\\": \\\"AvenirNext-Medium\\\"}, \\\"fontStyle\\\": {\\\"value\\\": \\\"normal\\\"}, \\\"fontSize\\\": {\\\"value\\\": 10}, \\\"fontWeight\\\": {\\\"value\\\": \\\"normal\\\"}, \\\"x\\\": {\\\"value\\\": 700}, \\\"align\\\": {\\\"value\\\": \\\"right\\\"}, \\\"dy\\\": {\\\"value\\\": 0, \\\"offset\\\": 0}, \\\"y\\\": {\\\"value\\\": 198}, \\\"baseline\\\": {\\\"value\\\": \\\"middle\\\"}}, \\\"update\\\": {\\\"y\\\": {\\\"field\\\": \\\"c_mean_val\\\"}, \\\"x\\\": {\\\"signal\\\": \\\"datum[\\\\\\\"c_x_axis_back\\\\\\\"]+667\\\"}}}, \\\"type\\\": \\\"text\\\"}, {\\\"from\\\": {\\\"data\\\": \\\"data_2\\\"}, \\\"encode\\\": {\\\"enter\\\": {\\\"fill\\\": {\\\"value\\\": \\\"#6A6A6A\\\"}, \\\"text\\\": {\\\"signal\\\": \\\"(toString(datum[\\\\\\\"type\\\\\\\"]) == \\\\\\\"integer\\\\\\\" || toString(datum[\\\\\\\"type\\\\\\\"]) == \\\\\\\"float\\\\\\\")?toString(format(datum[\\\\\\\"min\\\\\\\"], \\\\\\\",\\\\\\\")):\\\\\\\"\\\\\\\"\\\"}, \\\"dx\\\": {\\\"value\\\": 0, \\\"offset\\\": 0}, \\\"angle\\\": {\\\"value\\\": 0}, \\\"font\\\": {\\\"value\\\": \\\"AvenirNext-Medium\\\"}, \\\"fontStyle\\\": {\\\"value\\\": \\\"normal\\\"}, \\\"fontSize\\\": {\\\"value\\\": 10}, \\\"fontWeight\\\": {\\\"value\\\": \\\"normal\\\"}, \\\"x\\\": {\\\"value\\\": 700}, \\\"align\\\": {\\\"value\\\": \\\"right\\\"}, \\\"dy\\\": {\\\"value\\\": 0, \\\"offset\\\": 0}, \\\"y\\\": {\\\"value\\\": 218}, \\\"baseline\\\": {\\\"value\\\": \\\"middle\\\"}}, \\\"update\\\": {\\\"y\\\": {\\\"field\\\": \\\"c_min_val\\\"}, \\\"x\\\": {\\\"signal\\\": \\\"datum[\\\\\\\"c_x_axis_back\\\\\\\"]+667\\\"}}}, \\\"type\\\": \\\"text\\\"}, {\\\"from\\\": {\\\"data\\\": \\\"data_2\\\"}, \\\"encode\\\": {\\\"enter\\\": {\\\"fill\\\": {\\\"value\\\": \\\"#6A6A6A\\\"}, \\\"text\\\": {\\\"signal\\\": \\\"(toString(datum[\\\\\\\"type\\\\\\\"]) == \\\\\\\"integer\\\\\\\" || toString(datum[\\\\\\\"type\\\\\\\"]) == \\\\\\\"float\\\\\\\")?toString(format(datum[\\\\\\\"max\\\\\\\"], \\\\\\\",\\\\\\\")):\\\\\\\"\\\\\\\"\\\"}, \\\"dx\\\": {\\\"value\\\": 0, \\\"offset\\\": 0}, \\\"angle\\\": {\\\"value\\\": 0}, \\\"font\\\": {\\\"value\\\": \\\"AvenirNext-Medium\\\"}, \\\"fontStyle\\\": {\\\"value\\\": \\\"normal\\\"}, \\\"fontSize\\\": {\\\"value\\\": 10}, \\\"fontWeight\\\": {\\\"value\\\": \\\"normal\\\"}, \\\"x\\\": {\\\"value\\\": 700}, \\\"align\\\": {\\\"value\\\": \\\"right\\\"}, \\\"dy\\\": {\\\"value\\\": 0, \\\"offset\\\": 0}, \\\"y\\\": {\\\"value\\\": 238}, \\\"baseline\\\": {\\\"value\\\": \\\"middle\\\"}}, \\\"update\\\": {\\\"y\\\": {\\\"field\\\": \\\"c_max_val\\\"}, \\\"x\\\": {\\\"signal\\\": \\\"datum[\\\\\\\"c_x_axis_back\\\\\\\"]+667\\\"}}}, \\\"type\\\": \\\"text\\\"}, {\\\"from\\\": {\\\"data\\\": \\\"data_2\\\"}, \\\"encode\\\": {\\\"enter\\\": {\\\"fill\\\": {\\\"value\\\": \\\"#6A6A6A\\\"}, \\\"text\\\": {\\\"signal\\\": \\\"(toString(datum[\\\\\\\"type\\\\\\\"]) == \\\\\\\"integer\\\\\\\" || toString(datum[\\\\\\\"type\\\\\\\"]) == \\\\\\\"float\\\\\\\")?toString(format(datum[\\\\\\\"median\\\\\\\"], \\\\\\\",\\\\\\\")):\\\\\\\"\\\\\\\"\\\"}, \\\"dx\\\": {\\\"value\\\": 0, \\\"offset\\\": 0}, \\\"angle\\\": {\\\"value\\\": 0}, \\\"font\\\": {\\\"value\\\": \\\"AvenirNext-Medium\\\"}, \\\"fontStyle\\\": {\\\"value\\\": \\\"normal\\\"}, \\\"fontSize\\\": {\\\"value\\\": 10}, \\\"fontWeight\\\": {\\\"value\\\": \\\"normal\\\"}, \\\"x\\\": {\\\"value\\\": 700}, \\\"align\\\": {\\\"value\\\": \\\"right\\\"}, \\\"dy\\\": {\\\"value\\\": 0, \\\"offset\\\": 0}, \\\"y\\\": {\\\"value\\\": 258}, \\\"baseline\\\": {\\\"value\\\": \\\"middle\\\"}}, \\\"update\\\": {\\\"y\\\": {\\\"field\\\": \\\"c_median_val\\\"}, \\\"x\\\": {\\\"signal\\\": \\\"datum[\\\\\\\"c_x_axis_back\\\\\\\"]+667\\\"}}}, \\\"type\\\": \\\"text\\\"}, {\\\"from\\\": {\\\"data\\\": \\\"data_2\\\"}, \\\"encode\\\": {\\\"enter\\\": {\\\"fill\\\": {\\\"value\\\": \\\"#6A6A6A\\\"}, \\\"text\\\": {\\\"signal\\\": \\\"(toString(datum[\\\\\\\"type\\\\\\\"]) == \\\\\\\"integer\\\\\\\" || toString(datum[\\\\\\\"type\\\\\\\"]) == \\\\\\\"float\\\\\\\")?toString(format(datum[\\\\\\\"stdev\\\\\\\"], \\\\\\\",\\\\\\\")):\\\\\\\"\\\\\\\"\\\"}, \\\"dx\\\": {\\\"value\\\": 0, \\\"offset\\\": 0}, \\\"angle\\\": {\\\"value\\\": 0}, \\\"font\\\": {\\\"value\\\": \\\"AvenirNext-Medium\\\"}, \\\"fontStyle\\\": {\\\"value\\\": \\\"normal\\\"}, \\\"fontSize\\\": {\\\"value\\\": 10}, \\\"fontWeight\\\": {\\\"value\\\": \\\"normal\\\"}, \\\"x\\\": {\\\"value\\\": 700}, \\\"align\\\": {\\\"value\\\": \\\"right\\\"}, \\\"dy\\\": {\\\"value\\\": 0, \\\"offset\\\": 0}, \\\"y\\\": {\\\"value\\\": 278}, \\\"baseline\\\": {\\\"value\\\": \\\"middle\\\"}}, \\\"update\\\": {\\\"y\\\": {\\\"field\\\": \\\"c_stdev_val\\\"}, \\\"x\\\": {\\\"signal\\\": \\\"datum[\\\\\\\"c_x_axis_back\\\\\\\"]+667\\\"}}}, \\\"type\\\": \\\"text\\\"}, {\\\"scales\\\": [{\\\"type\\\": \\\"linear\\\", \\\"range\\\": [0, {\\\"signal\\\": \\\"width\\\"}], \\\"zero\\\": true, \\\"domain\\\": {\\\"sort\\\": true, \\\"data\\\": \\\"new_data\\\", \\\"fields\\\": [\\\"left\\\", \\\"right\\\"]}, \\\"nice\\\": true, \\\"name\\\": \\\"x\\\"}, {\\\"type\\\": \\\"linear\\\", \\\"range\\\": [{\\\"signal\\\": \\\"height\\\"}, 0], \\\"zero\\\": true, \\\"domain\\\": {\\\"data\\\": \\\"new_data\\\", \\\"field\\\": \\\"count\\\"}, \\\"nice\\\": true, \\\"name\\\": \\\"y\\\"}], \\\"type\\\": \\\"group\\\", \\\"signals\\\": [{\\\"update\\\": \\\"250\\\", \\\"name\\\": \\\"width\\\"}, {\\\"update\\\": \\\"150\\\", \\\"name\\\": \\\"height\\\"}], \\\"style\\\": \\\"cell\\\", \\\"from\\\": {\\\"facet\\\": {\\\"data\\\": \\\"data_2\\\", \\\"field\\\": \\\"numeric\\\", \\\"name\\\": \\\"new_data\\\"}}, \\\"marks\\\": [{\\\"from\\\": {\\\"data\\\": \\\"new_data\\\"}, \\\"type\\\": \\\"rect\\\", \\\"encode\\\": {\\\"hover\\\": {\\\"fill\\\": {\\\"value\\\": \\\"#7EC2F3\\\"}}, \\\"update\\\": {\\\"x2\\\": {\\\"field\\\": \\\"right\\\", \\\"scale\\\": \\\"x\\\"}, \\\"y2\\\": {\\\"value\\\": 0, \\\"scale\\\": \\\"y\\\"}, \\\"fill\\\": {\\\"value\\\": \\\"#108EE9\\\"}, \\\"y\\\": {\\\"field\\\": \\\"count\\\", \\\"scale\\\": \\\"y\\\"}, \\\"x\\\": {\\\"field\\\": \\\"left\\\", \\\"scale\\\": \\\"x\\\"}}}, \\\"style\\\": [\\\"rect\\\"], \\\"name\\\": \\\"marks\\\"}], \\\"encode\\\": {\\\"enter\\\": {\\\"fillOpacity\\\": {\\\"value\\\": 0}, \\\"height\\\": {\\\"value\\\": 150}, \\\"fill\\\": {\\\"value\\\": \\\"#ffffff\\\"}, \\\"width\\\": {\\\"value\\\": 250}, \\\"stroke\\\": {\\\"value\\\": \\\"#000000\\\"}, \\\"x\\\": {\\\"value\\\": 120}, \\\"strokeWidth\\\": {\\\"value\\\": 0}, \\\"y\\\": {\\\"field\\\": \\\"graph_offset\\\"}}, \\\"update\\\": {\\\"clip\\\": {\\\"field\\\": \\\"c_clip_val\\\"}, \\\"width\\\": {\\\"field\\\": \\\"c_width_numeric_val\\\"}, \\\"x\\\": {\\\"signal\\\": \\\"datum[\\\\\\\"c_x_axis_back\\\\\\\"]+87\\\"}}}, \\\"axes\\\": [{\\\"zindex\\\": 1, \\\"title\\\": \\\"Values\\\", \\\"orient\\\": \\\"bottom\\\", \\\"scale\\\": \\\"x\\\", \\\"labelOverlap\\\": true, \\\"tickCount\\\": {\\\"signal\\\": \\\"ceil(width/40)\\\"}}, {\\\"grid\\\": true, \\\"gridScale\\\": \\\"y\\\", \\\"domain\\\": false, \\\"labels\\\": false, \\\"orient\\\": \\\"bottom\\\", \\\"minExtent\\\": 0, \\\"maxExtent\\\": 0, \\\"ticks\\\": false, \\\"tickCount\\\": {\\\"signal\\\": \\\"ceil(width/40)\\\"}, \\\"scale\\\": \\\"x\\\", \\\"zindex\\\": 0}, {\\\"zindex\\\": 1, \\\"title\\\": \\\"Count\\\", \\\"orient\\\": \\\"left\\\", \\\"scale\\\": \\\"y\\\", \\\"labelOverlap\\\": true, \\\"tickCount\\\": {\\\"signal\\\": \\\"ceil(height/40)\\\"}}, {\\\"grid\\\": true, \\\"gridScale\\\": \\\"x\\\", \\\"domain\\\": false, \\\"labels\\\": false, \\\"orient\\\": \\\"left\\\", \\\"minExtent\\\": 0, \\\"maxExtent\\\": 0, \\\"ticks\\\": false, \\\"tickCount\\\": {\\\"signal\\\": \\\"ceil(height/40)\\\"}, \\\"scale\\\": \\\"y\\\", \\\"zindex\\\": 0}]}, {\\\"scales\\\": [{\\\"type\\\": \\\"linear\\\", \\\"range\\\": [0, 250], \\\"zero\\\": true, \\\"domain\\\": {\\\"data\\\": \\\"data_5\\\", \\\"field\\\": \\\"count\\\"}, \\\"nice\\\": true, \\\"name\\\": \\\"x\\\"}, {\\\"type\\\": \\\"band\\\", \\\"range\\\": [150, 0], \\\"paddingInner\\\": 0.1, \\\"paddingOuter\\\": 0.05, \\\"domain\\\": {\\\"sort\\\": {\\\"order\\\": \\\"descending\\\", \\\"field\\\": \\\"label_idx\\\", \\\"op\\\": \\\"mean\\\"}, \\\"data\\\": \\\"data_5\\\", \\\"field\\\": \\\"label\\\"}, \\\"name\\\": \\\"y\\\"}], \\\"type\\\": \\\"group\\\", \\\"signals\\\": [{\\\"on\\\": [{\\\"update\\\": \\\"isTuple(group()) ? group() : unit\\\", \\\"events\\\": \\\"mousemove\\\"}], \\\"value\\\": {}, \\\"name\\\": \\\"unit\\\"}, {\\\"update\\\": \\\"data(\\\\\\\"pts_store\\\\\\\").length &amp;&amp; {count: data(\\\\\\\"pts_store\\\\\\\")[0].values[0]}\\\", \\\"name\\\": \\\"pts\\\"}, {\\\"on\\\": [{\\\"force\\\": true, \\\"update\\\": \\\"datum &amp;&amp; item().mark.marktype !== &apos;group&apos; ? {unit: \\\\\\\"\\\\\\\", encodings: [\\\\\\\"x\\\\\\\"], fields: [\\\\\\\"count\\\\\\\"], values: [datum[\\\\\\\"count\\\\\\\"]]} : null\\\", \\\"events\\\": [{\\\"type\\\": \\\"click\\\", \\\"source\\\": \\\"scope\\\"}]}], \\\"value\\\": {}, \\\"name\\\": \\\"pts_tuple\\\"}, {\\\"on\\\": [{\\\"update\\\": \\\"modify(\\\\\\\"pts_store\\\\\\\", pts_tuple, true)\\\", \\\"events\\\": {\\\"signal\\\": \\\"pts_tuple\\\"}}], \\\"name\\\": \\\"pts_modify\\\"}], \\\"axes\\\": [{\\\"zindex\\\": 1, \\\"title\\\": \\\"Count\\\", \\\"orient\\\": \\\"top\\\", \\\"scale\\\": \\\"x\\\", \\\"labelOverlap\\\": true, \\\"tickCount\\\": {\\\"signal\\\": \\\"ceil(width/40)\\\"}}, {\\\"grid\\\": true, \\\"gridScale\\\": \\\"y\\\", \\\"domain\\\": false, \\\"labels\\\": false, \\\"minExtent\\\": 0, \\\"orient\\\": \\\"top\\\", \\\"maxExtent\\\": 0, \\\"ticks\\\": false, \\\"tickCount\\\": {\\\"signal\\\": \\\"ceil(width/40)\\\"}, \\\"scale\\\": \\\"x\\\", \\\"zindex\\\": 0}, {\\\"orient\\\": \\\"left\\\", \\\"zindex\\\": 1, \\\"labelOverlap\\\": true, \\\"scale\\\": \\\"y\\\", \\\"title\\\": \\\"Label\\\"}], \\\"from\\\": {\\\"facet\\\": {\\\"data\\\": \\\"data_2\\\", \\\"field\\\": \\\"categorical\\\", \\\"name\\\": \\\"data_5\\\"}}, \\\"marks\\\": [{\\\"from\\\": {\\\"data\\\": \\\"data_5\\\"}, \\\"type\\\": \\\"rect\\\", \\\"encode\\\": {\\\"hover\\\": {\\\"fill\\\": {\\\"value\\\": \\\"#7EC2F3\\\"}}, \\\"update\\\": {\\\"x2\\\": {\\\"value\\\": 0, \\\"scale\\\": \\\"x\\\"}, \\\"height\\\": {\\\"band\\\": true, \\\"scale\\\": \\\"y\\\"}, \\\"fill\\\": {\\\"value\\\": \\\"#108EE9\\\"}, \\\"y\\\": {\\\"field\\\": \\\"label\\\", \\\"scale\\\": \\\"y\\\"}, \\\"x\\\": {\\\"field\\\": \\\"count\\\", \\\"scale\\\": \\\"x\\\"}}}, \\\"style\\\": [\\\"bar\\\"], \\\"name\\\": \\\"marks\\\"}], \\\"encode\\\": {\\\"enter\\\": {\\\"fillOpacity\\\": {\\\"value\\\": 0}, \\\"height\\\": {\\\"value\\\": 150}, \\\"fill\\\": {\\\"value\\\": \\\"#ffffff\\\"}, \\\"width\\\": {\\\"value\\\": 250}, \\\"stroke\\\": {\\\"value\\\": \\\"#000000\\\"}, \\\"x\\\": {\\\"value\\\": 170}, \\\"strokeWidth\\\": {\\\"value\\\": 0}, \\\"y\\\": {\\\"field\\\": \\\"graph_offset_categorical\\\"}}, \\\"update\\\": {\\\"clip\\\": {\\\"field\\\": \\\"c_clip_val_cat\\\"}, \\\"width\\\": {\\\"field\\\": \\\"c_width_numeric_val_cat\\\"}, \\\"x\\\": {\\\"signal\\\": \\\"datum[\\\\\\\"c_x_axis_back\\\\\\\"]+137\\\"}}}, \\\"style\\\": \\\"cell\\\"}], \\\"type\\\": \\\"group\\\", \\\"axes\\\": []}], \\\"type\\\": \\\"group\\\"}], \\\"config\\\": {\\\"axisY\\\": {\\\"minExtent\\\": 30}, \\\"axis\\\": {\\\"titleColor\\\": \\\"#595959\\\", \\\"labelColor\\\": \\\"#595959\\\", \\\"labelFont\\\": \\\"HelveticaNeue-Light, Arial\\\", \\\"labelFontSize\\\": 7, \\\"labelPadding\\\": 10, \\\"titleFont\\\": \\\"HelveticaNeue-Light, Arial\\\", \\\"titleFontSize\\\": 12, \\\"titlePadding\\\": 9, \\\"titleFontWeight\\\": \\\"normal\\\"}, \\\"style\\\": {\\\"rect\\\": {\\\"stroke\\\": \\\"rgba(200, 200, 200, 0.5)\\\"}, \\\"group-title\\\": {\\\"fontSize\\\": 20, \\\"fontWeight\\\": \\\"normal\\\", \\\"fill\\\": \\\"#595959\\\", \\\"font\\\": \\\"HelveticaNeue-Light, Arial\\\"}}}, \\\"$schema\\\": \\\"https://vega.github.io/schema/vega/v4.json\\\"}\";                                 var vega_json_parsed = JSON.parse(vega_json);                                 var toolTipOpts = {                                     showAllFields: true                                 };                                 if(vega_json_parsed[\"metadata\"] != null){                                     if(vega_json_parsed[\"metadata\"][\"bubbleOpts\"] != null){                                         toolTipOpts = vega_json_parsed[\"metadata\"][\"bubbleOpts\"];                                     };                                 };                                 vegaEmbed(\"#vis\", vega_json_parsed).then(function (result) {                                     vegaTooltip.vega(result.view, toolTipOpts);                                  });                             </script>                         </body>                     </html>' src=\"demo_iframe_srcdoc.htm\">                         <p>Your browser does not support iframes.</p>                     </iframe>                 </body>             </html>"
      ],
      "text/plain": [
       "<IPython.core.display.HTML object>"
      ]
     },
     "metadata": {},
     "output_type": "display_data"
    },
    {
     "name": "stderr",
     "output_type": "stream",
     "text": [
      "/Users/Ryan/anaconda/lib/python3.5/json/encoder.py:198: DeprecationWarning: Interpreting naive datetime as local 2018-10-13 16:20:29.854930. Please add timezone info to timestamps.\n",
      "  chunks = self.iterencode(o, _one_shot=True)\n"
     ]
    }
   ],
   "source": [
    "#graphlab is deprecated so we are using turi create from Apple\n",
    "#make Sframe out of pandas dataframe\n",
    "import turicreate as tc\n",
    "from turicreate import SFrame\n",
    "sf_reviews = SFrame(data=df_reviews)\n",
    "sf.show()\n"
   ]
  },
  {
   "cell_type": "code",
   "execution_count": 25,
   "metadata": {},
   "outputs": [
    {
     "name": "stderr",
     "output_type": "stream",
     "text": [
      "/Users/Ryan/anaconda/lib/python3.5/json/encoder.py:198: DeprecationWarning: Interpreting naive datetime as local 2018-10-18 17:50:16.203683. Please add timezone info to timestamps.\n",
      "  chunks = self.iterencode(o, _one_shot=True)\n"
     ]
    }
   ],
   "source": [
    "#train test split\n",
    "#this is for now, we will likely use specific usernames later to test\n",
    "training_data, validation_data = tc.recommender.util.random_split_by_user(sf_reviews, user_id='Author', item_id='Hotel')\n"
   ]
  },
  {
   "cell_type": "code",
   "execution_count": 26,
   "metadata": {},
   "outputs": [
    {
     "data": {
      "text/html": [
       "<pre>Recsys training: model = item_similarity</pre>"
      ],
      "text/plain": [
       "Recsys training: model = item_similarity"
      ]
     },
     "metadata": {},
     "output_type": "display_data"
    },
    {
     "data": {
      "text/html": [
       "<pre>Warning: Ignoring columns AuthorLocation, BusServ, CheckIn, Cleanliness, HotelID, HotelLocation, Location, PriceMax, PriceMin, Rooms, Service, Sleep Quality, Value;</pre>"
      ],
      "text/plain": [
       "Warning: Ignoring columns AuthorLocation, BusServ, CheckIn, Cleanliness, HotelID, HotelLocation, Location, PriceMax, PriceMin, Rooms, Service, Sleep Quality, Value;"
      ]
     },
     "metadata": {},
     "output_type": "display_data"
    },
    {
     "data": {
      "text/html": [
       "<pre>    To use these columns in scoring predictions, use a model that allows the use of additional features.</pre>"
      ],
      "text/plain": [
       "    To use these columns in scoring predictions, use a model that allows the use of additional features."
      ]
     },
     "metadata": {},
     "output_type": "display_data"
    },
    {
     "data": {
      "text/html": [
       "<pre>Preparing data set.</pre>"
      ],
      "text/plain": [
       "Preparing data set."
      ]
     },
     "metadata": {},
     "output_type": "display_data"
    },
    {
     "data": {
      "text/html": [
       "<pre>    Data has 72206 observations with 27404 users and 176 items.</pre>"
      ],
      "text/plain": [
       "    Data has 72206 observations with 27404 users and 176 items."
      ]
     },
     "metadata": {},
     "output_type": "display_data"
    },
    {
     "data": {
      "text/html": [
       "<pre>    Data prepared in: 0.135695s</pre>"
      ],
      "text/plain": [
       "    Data prepared in: 0.135695s"
      ]
     },
     "metadata": {},
     "output_type": "display_data"
    },
    {
     "data": {
      "text/html": [
       "<pre>Training model from provided data.</pre>"
      ],
      "text/plain": [
       "Training model from provided data."
      ]
     },
     "metadata": {},
     "output_type": "display_data"
    },
    {
     "data": {
      "text/html": [
       "<pre>Gathering per-item and per-user statistics.</pre>"
      ],
      "text/plain": [
       "Gathering per-item and per-user statistics."
      ]
     },
     "metadata": {},
     "output_type": "display_data"
    },
    {
     "data": {
      "text/html": [
       "<pre>+--------------------------------+------------+</pre>"
      ],
      "text/plain": [
       "+--------------------------------+------------+"
      ]
     },
     "metadata": {},
     "output_type": "display_data"
    },
    {
     "data": {
      "text/html": [
       "<pre>| Elapsed Time (Item Statistics) | % Complete |</pre>"
      ],
      "text/plain": [
       "| Elapsed Time (Item Statistics) | % Complete |"
      ]
     },
     "metadata": {},
     "output_type": "display_data"
    },
    {
     "data": {
      "text/html": [
       "<pre>+--------------------------------+------------+</pre>"
      ],
      "text/plain": [
       "+--------------------------------+------------+"
      ]
     },
     "metadata": {},
     "output_type": "display_data"
    },
    {
     "data": {
      "text/html": [
       "<pre>| 1.747ms                        | 3.5        |</pre>"
      ],
      "text/plain": [
       "| 1.747ms                        | 3.5        |"
      ]
     },
     "metadata": {},
     "output_type": "display_data"
    },
    {
     "data": {
      "text/html": [
       "<pre>| 14.077ms                       | 100        |</pre>"
      ],
      "text/plain": [
       "| 14.077ms                       | 100        |"
      ]
     },
     "metadata": {},
     "output_type": "display_data"
    },
    {
     "data": {
      "text/html": [
       "<pre>+--------------------------------+------------+</pre>"
      ],
      "text/plain": [
       "+--------------------------------+------------+"
      ]
     },
     "metadata": {},
     "output_type": "display_data"
    },
    {
     "data": {
      "text/html": [
       "<pre>Setting up lookup tables.</pre>"
      ],
      "text/plain": [
       "Setting up lookup tables."
      ]
     },
     "metadata": {},
     "output_type": "display_data"
    },
    {
     "data": {
      "text/html": [
       "<pre>Processing data in one pass using dense lookup tables.</pre>"
      ],
      "text/plain": [
       "Processing data in one pass using dense lookup tables."
      ]
     },
     "metadata": {},
     "output_type": "display_data"
    },
    {
     "data": {
      "text/html": [
       "<pre>+-------------------------------------+------------------+-----------------+</pre>"
      ],
      "text/plain": [
       "+-------------------------------------+------------------+-----------------+"
      ]
     },
     "metadata": {},
     "output_type": "display_data"
    },
    {
     "data": {
      "text/html": [
       "<pre>| Elapsed Time (Constructing Lookups) | Total % Complete | Items Processed |</pre>"
      ],
      "text/plain": [
       "| Elapsed Time (Constructing Lookups) | Total % Complete | Items Processed |"
      ]
     },
     "metadata": {},
     "output_type": "display_data"
    },
    {
     "data": {
      "text/html": [
       "<pre>+-------------------------------------+------------------+-----------------+</pre>"
      ],
      "text/plain": [
       "+-------------------------------------+------------------+-----------------+"
      ]
     },
     "metadata": {},
     "output_type": "display_data"
    },
    {
     "data": {
      "text/html": [
       "<pre>| 21.312ms                            | 0                | 0               |</pre>"
      ],
      "text/plain": [
       "| 21.312ms                            | 0                | 0               |"
      ]
     },
     "metadata": {},
     "output_type": "display_data"
    },
    {
     "data": {
      "text/html": [
       "<pre>| 29.574ms                            | 100              | 176             |</pre>"
      ],
      "text/plain": [
       "| 29.574ms                            | 100              | 176             |"
      ]
     },
     "metadata": {},
     "output_type": "display_data"
    },
    {
     "data": {
      "text/html": [
       "<pre>+-------------------------------------+------------------+-----------------+</pre>"
      ],
      "text/plain": [
       "+-------------------------------------+------------------+-----------------+"
      ]
     },
     "metadata": {},
     "output_type": "display_data"
    },
    {
     "data": {
      "text/html": [
       "<pre>Finalizing lookup tables.</pre>"
      ],
      "text/plain": [
       "Finalizing lookup tables."
      ]
     },
     "metadata": {},
     "output_type": "display_data"
    },
    {
     "data": {
      "text/html": [
       "<pre>Generating candidate set for working with new users.</pre>"
      ],
      "text/plain": [
       "Generating candidate set for working with new users."
      ]
     },
     "metadata": {},
     "output_type": "display_data"
    },
    {
     "data": {
      "text/html": [
       "<pre>Finished training in 0.041306s</pre>"
      ],
      "text/plain": [
       "Finished training in 0.041306s"
      ]
     },
     "metadata": {},
     "output_type": "display_data"
    },
    {
     "name": "stderr",
     "output_type": "stream",
     "text": [
      "/Users/Ryan/anaconda/lib/python3.5/json/encoder.py:198: DeprecationWarning: Interpreting naive datetime as local 2018-10-18 17:50:23.959081. Please add timezone info to timestamps.\n",
      "  chunks = self.iterencode(o, _one_shot=True)\n"
     ]
    }
   ],
   "source": [
    "#collaborative filtering model\n",
    "model = tc.item_similarity_recommender.create(training_data, user_id='Author', item_id='Hotel', target=\"Overall\")\n",
    "model.save(\"collab.model\")\n",
    "#model = tc.load_model(\"collab.model\")\n"
   ]
  },
  {
   "cell_type": "code",
   "execution_count": 27,
   "metadata": {},
   "outputs": [
    {
     "data": {
      "text/html": [
       "<pre>recommendations finished on 1000/27404 queries. users per second: 134174</pre>"
      ],
      "text/plain": [
       "recommendations finished on 1000/27404 queries. users per second: 134174"
      ]
     },
     "metadata": {},
     "output_type": "display_data"
    },
    {
     "data": {
      "text/html": [
       "<pre>recommendations finished on 2000/27404 queries. users per second: 128148</pre>"
      ],
      "text/plain": [
       "recommendations finished on 2000/27404 queries. users per second: 128148"
      ]
     },
     "metadata": {},
     "output_type": "display_data"
    },
    {
     "data": {
      "text/html": [
       "<pre>recommendations finished on 3000/27404 queries. users per second: 157315</pre>"
      ],
      "text/plain": [
       "recommendations finished on 3000/27404 queries. users per second: 157315"
      ]
     },
     "metadata": {},
     "output_type": "display_data"
    },
    {
     "data": {
      "text/html": [
       "<pre>recommendations finished on 4000/27404 queries. users per second: 172563</pre>"
      ],
      "text/plain": [
       "recommendations finished on 4000/27404 queries. users per second: 172563"
      ]
     },
     "metadata": {},
     "output_type": "display_data"
    },
    {
     "data": {
      "text/html": [
       "<pre>recommendations finished on 5000/27404 queries. users per second: 175611</pre>"
      ],
      "text/plain": [
       "recommendations finished on 5000/27404 queries. users per second: 175611"
      ]
     },
     "metadata": {},
     "output_type": "display_data"
    },
    {
     "data": {
      "text/html": [
       "<pre>recommendations finished on 6000/27404 queries. users per second: 189735</pre>"
      ],
      "text/plain": [
       "recommendations finished on 6000/27404 queries. users per second: 189735"
      ]
     },
     "metadata": {},
     "output_type": "display_data"
    },
    {
     "data": {
      "text/html": [
       "<pre>recommendations finished on 7000/27404 queries. users per second: 202003</pre>"
      ],
      "text/plain": [
       "recommendations finished on 7000/27404 queries. users per second: 202003"
      ]
     },
     "metadata": {},
     "output_type": "display_data"
    },
    {
     "data": {
      "text/html": [
       "<pre>recommendations finished on 8000/27404 queries. users per second: 212823</pre>"
      ],
      "text/plain": [
       "recommendations finished on 8000/27404 queries. users per second: 212823"
      ]
     },
     "metadata": {},
     "output_type": "display_data"
    },
    {
     "data": {
      "text/html": [
       "<pre>recommendations finished on 9000/27404 queries. users per second: 214869</pre>"
      ],
      "text/plain": [
       "recommendations finished on 9000/27404 queries. users per second: 214869"
      ]
     },
     "metadata": {},
     "output_type": "display_data"
    },
    {
     "data": {
      "text/html": [
       "<pre>recommendations finished on 10000/27404 queries. users per second: 220946</pre>"
      ],
      "text/plain": [
       "recommendations finished on 10000/27404 queries. users per second: 220946"
      ]
     },
     "metadata": {},
     "output_type": "display_data"
    },
    {
     "data": {
      "text/html": [
       "<pre>recommendations finished on 11000/27404 queries. users per second: 227979</pre>"
      ],
      "text/plain": [
       "recommendations finished on 11000/27404 queries. users per second: 227979"
      ]
     },
     "metadata": {},
     "output_type": "display_data"
    },
    {
     "data": {
      "text/html": [
       "<pre>recommendations finished on 12000/27404 queries. users per second: 235220</pre>"
      ],
      "text/plain": [
       "recommendations finished on 12000/27404 queries. users per second: 235220"
      ]
     },
     "metadata": {},
     "output_type": "display_data"
    },
    {
     "data": {
      "text/html": [
       "<pre>recommendations finished on 13000/27404 queries. users per second: 238401</pre>"
      ],
      "text/plain": [
       "recommendations finished on 13000/27404 queries. users per second: 238401"
      ]
     },
     "metadata": {},
     "output_type": "display_data"
    },
    {
     "data": {
      "text/html": [
       "<pre>recommendations finished on 14000/27404 queries. users per second: 235889</pre>"
      ],
      "text/plain": [
       "recommendations finished on 14000/27404 queries. users per second: 235889"
      ]
     },
     "metadata": {},
     "output_type": "display_data"
    },
    {
     "data": {
      "text/html": [
       "<pre>recommendations finished on 15000/27404 queries. users per second: 237394</pre>"
      ],
      "text/plain": [
       "recommendations finished on 15000/27404 queries. users per second: 237394"
      ]
     },
     "metadata": {},
     "output_type": "display_data"
    },
    {
     "data": {
      "text/html": [
       "<pre>recommendations finished on 16000/27404 queries. users per second: 241062</pre>"
      ],
      "text/plain": [
       "recommendations finished on 16000/27404 queries. users per second: 241062"
      ]
     },
     "metadata": {},
     "output_type": "display_data"
    },
    {
     "data": {
      "text/html": [
       "<pre>recommendations finished on 17000/27404 queries. users per second: 239379</pre>"
      ],
      "text/plain": [
       "recommendations finished on 17000/27404 queries. users per second: 239379"
      ]
     },
     "metadata": {},
     "output_type": "display_data"
    },
    {
     "data": {
      "text/html": [
       "<pre>recommendations finished on 18000/27404 queries. users per second: 240581</pre>"
      ],
      "text/plain": [
       "recommendations finished on 18000/27404 queries. users per second: 240581"
      ]
     },
     "metadata": {},
     "output_type": "display_data"
    },
    {
     "data": {
      "text/html": [
       "<pre>recommendations finished on 19000/27404 queries. users per second: 242331</pre>"
      ],
      "text/plain": [
       "recommendations finished on 19000/27404 queries. users per second: 242331"
      ]
     },
     "metadata": {},
     "output_type": "display_data"
    },
    {
     "data": {
      "text/html": [
       "<pre>recommendations finished on 20000/27404 queries. users per second: 229032</pre>"
      ],
      "text/plain": [
       "recommendations finished on 20000/27404 queries. users per second: 229032"
      ]
     },
     "metadata": {},
     "output_type": "display_data"
    },
    {
     "data": {
      "text/html": [
       "<pre>recommendations finished on 21000/27404 queries. users per second: 228484</pre>"
      ],
      "text/plain": [
       "recommendations finished on 21000/27404 queries. users per second: 228484"
      ]
     },
     "metadata": {},
     "output_type": "display_data"
    },
    {
     "data": {
      "text/html": [
       "<pre>recommendations finished on 22000/27404 queries. users per second: 228145</pre>"
      ],
      "text/plain": [
       "recommendations finished on 22000/27404 queries. users per second: 228145"
      ]
     },
     "metadata": {},
     "output_type": "display_data"
    },
    {
     "data": {
      "text/html": [
       "<pre>recommendations finished on 23000/27404 queries. users per second: 221316</pre>"
      ],
      "text/plain": [
       "recommendations finished on 23000/27404 queries. users per second: 221316"
      ]
     },
     "metadata": {},
     "output_type": "display_data"
    },
    {
     "data": {
      "text/html": [
       "<pre>recommendations finished on 24000/27404 queries. users per second: 209371</pre>"
      ],
      "text/plain": [
       "recommendations finished on 24000/27404 queries. users per second: 209371"
      ]
     },
     "metadata": {},
     "output_type": "display_data"
    },
    {
     "data": {
      "text/html": [
       "<pre>recommendations finished on 25000/27404 queries. users per second: 204770</pre>"
      ],
      "text/plain": [
       "recommendations finished on 25000/27404 queries. users per second: 204770"
      ]
     },
     "metadata": {},
     "output_type": "display_data"
    },
    {
     "data": {
      "text/html": [
       "<pre>recommendations finished on 26000/27404 queries. users per second: 201069</pre>"
      ],
      "text/plain": [
       "recommendations finished on 26000/27404 queries. users per second: 201069"
      ]
     },
     "metadata": {},
     "output_type": "display_data"
    },
    {
     "data": {
      "text/html": [
       "<pre>recommendations finished on 27000/27404 queries. users per second: 196820</pre>"
      ],
      "text/plain": [
       "recommendations finished on 27000/27404 queries. users per second: 196820"
      ]
     },
     "metadata": {},
     "output_type": "display_data"
    },
    {
     "name": "stderr",
     "output_type": "stream",
     "text": [
      "/Users/Ryan/anaconda/lib/python3.5/json/encoder.py:198: DeprecationWarning: Interpreting naive datetime as local 2018-10-18 17:51:01.695740. Please add timezone info to timestamps.\n",
      "  chunks = self.iterencode(o, _one_shot=True)\n"
     ]
    }
   ],
   "source": [
    "recs = model.recommend()"
   ]
  },
  {
   "cell_type": "code",
   "execution_count": 29,
   "metadata": {},
   "outputs": [
    {
     "data": {
      "text/html": [
       "<pre>Recsys training: model = ranking_factorization_recommender</pre>"
      ],
      "text/plain": [
       "Recsys training: model = ranking_factorization_recommender"
      ]
     },
     "metadata": {},
     "output_type": "display_data"
    },
    {
     "data": {
      "text/html": [
       "<pre>Preparing data set.</pre>"
      ],
      "text/plain": [
       "Preparing data set."
      ]
     },
     "metadata": {},
     "output_type": "display_data"
    },
    {
     "data": {
      "text/html": [
       "<pre>    Data has 72206 observations with 27404 users and 176 items.</pre>"
      ],
      "text/plain": [
       "    Data has 72206 observations with 27404 users and 176 items."
      ]
     },
     "metadata": {},
     "output_type": "display_data"
    },
    {
     "data": {
      "text/html": [
       "<pre>    Data prepared in: 0.301847s</pre>"
      ],
      "text/plain": [
       "    Data prepared in: 0.301847s"
      ]
     },
     "metadata": {},
     "output_type": "display_data"
    },
    {
     "data": {
      "text/html": [
       "<pre>Training ranking_factorization_recommender for recommendations.</pre>"
      ],
      "text/plain": [
       "Training ranking_factorization_recommender for recommendations."
      ]
     },
     "metadata": {},
     "output_type": "display_data"
    },
    {
     "data": {
      "text/html": [
       "<pre>+--------------------------------+--------------------------------------------------+----------+</pre>"
      ],
      "text/plain": [
       "+--------------------------------+--------------------------------------------------+----------+"
      ]
     },
     "metadata": {},
     "output_type": "display_data"
    },
    {
     "data": {
      "text/html": [
       "<pre>| Parameter                      | Description                                      | Value    |</pre>"
      ],
      "text/plain": [
       "| Parameter                      | Description                                      | Value    |"
      ]
     },
     "metadata": {},
     "output_type": "display_data"
    },
    {
     "data": {
      "text/html": [
       "<pre>+--------------------------------+--------------------------------------------------+----------+</pre>"
      ],
      "text/plain": [
       "+--------------------------------+--------------------------------------------------+----------+"
      ]
     },
     "metadata": {},
     "output_type": "display_data"
    },
    {
     "data": {
      "text/html": [
       "<pre>| num_factors                    | Factor Dimension                                 | 32       |</pre>"
      ],
      "text/plain": [
       "| num_factors                    | Factor Dimension                                 | 32       |"
      ]
     },
     "metadata": {},
     "output_type": "display_data"
    },
    {
     "data": {
      "text/html": [
       "<pre>| regularization                 | L2 Regularization on Factors                     | 1e-09    |</pre>"
      ],
      "text/plain": [
       "| regularization                 | L2 Regularization on Factors                     | 1e-09    |"
      ]
     },
     "metadata": {},
     "output_type": "display_data"
    },
    {
     "data": {
      "text/html": [
       "<pre>| solver                         | Solver used for training                         | adagrad  |</pre>"
      ],
      "text/plain": [
       "| solver                         | Solver used for training                         | adagrad  |"
      ]
     },
     "metadata": {},
     "output_type": "display_data"
    },
    {
     "data": {
      "text/html": [
       "<pre>| linear_regularization          | L2 Regularization on Linear Coefficients         | 1e-09    |</pre>"
      ],
      "text/plain": [
       "| linear_regularization          | L2 Regularization on Linear Coefficients         | 1e-09    |"
      ]
     },
     "metadata": {},
     "output_type": "display_data"
    },
    {
     "data": {
      "text/html": [
       "<pre>| ranking_regularization         | Rank-based Regularization Weight                 | 0.25     |</pre>"
      ],
      "text/plain": [
       "| ranking_regularization         | Rank-based Regularization Weight                 | 0.25     |"
      ]
     },
     "metadata": {},
     "output_type": "display_data"
    },
    {
     "data": {
      "text/html": [
       "<pre>| max_iterations                 | Maximum Number of Iterations                     | 25       |</pre>"
      ],
      "text/plain": [
       "| max_iterations                 | Maximum Number of Iterations                     | 25       |"
      ]
     },
     "metadata": {},
     "output_type": "display_data"
    },
    {
     "data": {
      "text/html": [
       "<pre>+--------------------------------+--------------------------------------------------+----------+</pre>"
      ],
      "text/plain": [
       "+--------------------------------+--------------------------------------------------+----------+"
      ]
     },
     "metadata": {},
     "output_type": "display_data"
    },
    {
     "data": {
      "text/html": [
       "<pre>  Optimizing model using SGD; tuning step size.</pre>"
      ],
      "text/plain": [
       "  Optimizing model using SGD; tuning step size."
      ]
     },
     "metadata": {},
     "output_type": "display_data"
    },
    {
     "data": {
      "text/html": [
       "<pre>  Using 10000 / 72206 points for tuning the step size.</pre>"
      ],
      "text/plain": [
       "  Using 10000 / 72206 points for tuning the step size."
      ]
     },
     "metadata": {},
     "output_type": "display_data"
    },
    {
     "data": {
      "text/html": [
       "<pre>+---------+-------------------+------------------------------------------+</pre>"
      ],
      "text/plain": [
       "+---------+-------------------+------------------------------------------+"
      ]
     },
     "metadata": {},
     "output_type": "display_data"
    },
    {
     "data": {
      "text/html": [
       "<pre>| Attempt | Initial Step Size | Estimated Objective Value                |</pre>"
      ],
      "text/plain": [
       "| Attempt | Initial Step Size | Estimated Objective Value                |"
      ]
     },
     "metadata": {},
     "output_type": "display_data"
    },
    {
     "data": {
      "text/html": [
       "<pre>+---------+-------------------+------------------------------------------+</pre>"
      ],
      "text/plain": [
       "+---------+-------------------+------------------------------------------+"
      ]
     },
     "metadata": {},
     "output_type": "display_data"
    },
    {
     "data": {
      "text/html": [
       "<pre>| 0       | 3.33333           | Not Viable                               |</pre>"
      ],
      "text/plain": [
       "| 0       | 3.33333           | Not Viable                               |"
      ]
     },
     "metadata": {},
     "output_type": "display_data"
    },
    {
     "data": {
      "text/html": [
       "<pre>| 1       | 0.833333          | Not Viable                               |</pre>"
      ],
      "text/plain": [
       "| 1       | 0.833333          | Not Viable                               |"
      ]
     },
     "metadata": {},
     "output_type": "display_data"
    },
    {
     "data": {
      "text/html": [
       "<pre>| 2       | 0.208333          | Not Viable                               |</pre>"
      ],
      "text/plain": [
       "| 2       | 0.208333          | Not Viable                               |"
      ]
     },
     "metadata": {},
     "output_type": "display_data"
    },
    {
     "data": {
      "text/html": [
       "<pre>| 3       | 0.0520833         | Not Viable                               |</pre>"
      ],
      "text/plain": [
       "| 3       | 0.0520833         | Not Viable                               |"
      ]
     },
     "metadata": {},
     "output_type": "display_data"
    },
    {
     "data": {
      "text/html": [
       "<pre>| 4       | 0.0130208         | Not Viable                               |</pre>"
      ],
      "text/plain": [
       "| 4       | 0.0130208         | Not Viable                               |"
      ]
     },
     "metadata": {},
     "output_type": "display_data"
    },
    {
     "data": {
      "text/html": [
       "<pre>| 5       | 0.00325521        | Not Viable                               |</pre>"
      ],
      "text/plain": [
       "| 5       | 0.00325521        | Not Viable                               |"
      ]
     },
     "metadata": {},
     "output_type": "display_data"
    },
    {
     "data": {
      "text/html": [
       "<pre>| 6       | 0.000813802       | Not Viable                               |</pre>"
      ],
      "text/plain": [
       "| 6       | 0.000813802       | Not Viable                               |"
      ]
     },
     "metadata": {},
     "output_type": "display_data"
    },
    {
     "data": {
      "text/html": [
       "<pre>| 7       | 0.000203451       | No Decrease (14.2347 >= 3.17731)         |</pre>"
      ],
      "text/plain": [
       "| 7       | 0.000203451       | No Decrease (14.2347 >= 3.17731)         |"
      ]
     },
     "metadata": {},
     "output_type": "display_data"
    },
    {
     "data": {
      "text/html": [
       "<pre>| 8       | 5.08626e-05       | No Decrease (3.8005 >= 3.17731)          |</pre>"
      ],
      "text/plain": [
       "| 8       | 5.08626e-05       | No Decrease (3.8005 >= 3.17731)          |"
      ]
     },
     "metadata": {},
     "output_type": "display_data"
    },
    {
     "data": {
      "text/html": [
       "<pre>| 9       | 1.27157e-05       | 3.16722                                  |</pre>"
      ],
      "text/plain": [
       "| 9       | 1.27157e-05       | 3.16722                                  |"
      ]
     },
     "metadata": {},
     "output_type": "display_data"
    },
    {
     "data": {
      "text/html": [
       "<pre>| 10      | 6.35783e-06       | 3.16055                                  |</pre>"
      ],
      "text/plain": [
       "| 10      | 6.35783e-06       | 3.16055                                  |"
      ]
     },
     "metadata": {},
     "output_type": "display_data"
    },
    {
     "data": {
      "text/html": [
       "<pre>| 11      | 3.17891e-06       | 3.16602                                  |</pre>"
      ],
      "text/plain": [
       "| 11      | 3.17891e-06       | 3.16602                                  |"
      ]
     },
     "metadata": {},
     "output_type": "display_data"
    },
    {
     "data": {
      "text/html": [
       "<pre>| 12      | 1.58946e-06       | 3.17092                                  |</pre>"
      ],
      "text/plain": [
       "| 12      | 1.58946e-06       | 3.17092                                  |"
      ]
     },
     "metadata": {},
     "output_type": "display_data"
    },
    {
     "data": {
      "text/html": [
       "<pre>| 13      | 7.94729e-07       | 3.17393                                  |</pre>"
      ],
      "text/plain": [
       "| 13      | 7.94729e-07       | 3.17393                                  |"
      ]
     },
     "metadata": {},
     "output_type": "display_data"
    },
    {
     "data": {
      "text/html": [
       "<pre>+---------+-------------------+------------------------------------------+</pre>"
      ],
      "text/plain": [
       "+---------+-------------------+------------------------------------------+"
      ]
     },
     "metadata": {},
     "output_type": "display_data"
    },
    {
     "data": {
      "text/html": [
       "<pre>| Final   | 6.35783e-06       | 3.16055                                  |</pre>"
      ],
      "text/plain": [
       "| Final   | 6.35783e-06       | 3.16055                                  |"
      ]
     },
     "metadata": {},
     "output_type": "display_data"
    },
    {
     "data": {
      "text/html": [
       "<pre>+---------+-------------------+------------------------------------------+</pre>"
      ],
      "text/plain": [
       "+---------+-------------------+------------------------------------------+"
      ]
     },
     "metadata": {},
     "output_type": "display_data"
    },
    {
     "data": {
      "text/html": [
       "<pre>Starting Optimization.</pre>"
      ],
      "text/plain": [
       "Starting Optimization."
      ]
     },
     "metadata": {},
     "output_type": "display_data"
    },
    {
     "data": {
      "text/html": [
       "<pre>+---------+--------------+-------------------+-----------------------+-------------+</pre>"
      ],
      "text/plain": [
       "+---------+--------------+-------------------+-----------------------+-------------+"
      ]
     },
     "metadata": {},
     "output_type": "display_data"
    },
    {
     "data": {
      "text/html": [
       "<pre>| Iter.   | Elapsed Time | Approx. Objective | Approx. Training RMSE | Step Size   |</pre>"
      ],
      "text/plain": [
       "| Iter.   | Elapsed Time | Approx. Objective | Approx. Training RMSE | Step Size   |"
      ]
     },
     "metadata": {},
     "output_type": "display_data"
    },
    {
     "data": {
      "text/html": [
       "<pre>+---------+--------------+-------------------+-----------------------+-------------+</pre>"
      ],
      "text/plain": [
       "+---------+--------------+-------------------+-----------------------+-------------+"
      ]
     },
     "metadata": {},
     "output_type": "display_data"
    },
    {
     "data": {
      "text/html": [
       "<pre>| Initial | 104us        | 3.19419           | 1.27666               |             |</pre>"
      ],
      "text/plain": [
       "| Initial | 104us        | 3.19419           | 1.27666               |             |"
      ]
     },
     "metadata": {},
     "output_type": "display_data"
    },
    {
     "data": {
      "text/html": [
       "<pre>+---------+--------------+-------------------+-----------------------+-------------+</pre>"
      ],
      "text/plain": [
       "+---------+--------------+-------------------+-----------------------+-------------+"
      ]
     },
     "metadata": {},
     "output_type": "display_data"
    },
    {
     "data": {
      "text/html": [
       "<pre>| 1       | 701.818ms    | 3.12356           | 1.27016               | 6.35783e-06 |</pre>"
      ],
      "text/plain": [
       "| 1       | 701.818ms    | 3.12356           | 1.27016               | 6.35783e-06 |"
      ]
     },
     "metadata": {},
     "output_type": "display_data"
    },
    {
     "data": {
      "text/html": [
       "<pre>| 2       | 1.42s        | 3.12158           | 1.26702               | 6.35783e-06 |</pre>"
      ],
      "text/plain": [
       "| 2       | 1.42s        | 3.12158           | 1.26702               | 6.35783e-06 |"
      ]
     },
     "metadata": {},
     "output_type": "display_data"
    },
    {
     "data": {
      "text/html": [
       "<pre>| 3       | 2.06s        | 3.12584           | 1.26631               | 6.35783e-06 |</pre>"
      ],
      "text/plain": [
       "| 3       | 2.06s        | 3.12584           | 1.26631               | 6.35783e-06 |"
      ]
     },
     "metadata": {},
     "output_type": "display_data"
    },
    {
     "data": {
      "text/html": [
       "<pre>| 4       | 2.71s        | 3.13272           | 1.26627               | 6.35783e-06 |</pre>"
      ],
      "text/plain": [
       "| 4       | 2.71s        | 3.13272           | 1.26627               | 6.35783e-06 |"
      ]
     },
     "metadata": {},
     "output_type": "display_data"
    },
    {
     "data": {
      "text/html": [
       "<pre>| 5       | 3.36s        | 3.14112           | 1.26698               | 6.35783e-06 |</pre>"
      ],
      "text/plain": [
       "| 5       | 3.36s        | 3.14112           | 1.26698               | 6.35783e-06 |"
      ]
     },
     "metadata": {},
     "output_type": "display_data"
    },
    {
     "data": {
      "text/html": [
       "<pre>| 10      | 6.55s        | 3.20203           | 1.2767                | 6.35783e-06 |</pre>"
      ],
      "text/plain": [
       "| 10      | 6.55s        | 3.20203           | 1.2767                | 6.35783e-06 |"
      ]
     },
     "metadata": {},
     "output_type": "display_data"
    },
    {
     "data": {
      "text/html": [
       "<pre>| 15      | 10.04s       | DIVERGED          | DIVERGED              | 6.35783e-06 |</pre>"
      ],
      "text/plain": [
       "| 15      | 10.04s       | DIVERGED          | DIVERGED              | 6.35783e-06 |"
      ]
     },
     "metadata": {},
     "output_type": "display_data"
    },
    {
     "data": {
      "text/html": [
       "<pre>| RESET   | 10.36s       | 3.19095           | 1.27532               |             |</pre>"
      ],
      "text/plain": [
       "| RESET   | 10.36s       | 3.19095           | 1.27532               |             |"
      ]
     },
     "metadata": {},
     "output_type": "display_data"
    },
    {
     "data": {
      "text/html": [
       "<pre>| 1       | 11.12s       | 3.1255            | 1.27161               | 3.17891e-06 |</pre>"
      ],
      "text/plain": [
       "| 1       | 11.12s       | 3.1255            | 1.27161               | 3.17891e-06 |"
      ]
     },
     "metadata": {},
     "output_type": "display_data"
    },
    {
     "data": {
      "text/html": [
       "<pre>| 5       | 14.40s       | 3.11717           | 1.26602               | 3.17891e-06 |</pre>"
      ],
      "text/plain": [
       "| 5       | 14.40s       | 3.11717           | 1.26602               | 3.17891e-06 |"
      ]
     },
     "metadata": {},
     "output_type": "display_data"
    },
    {
     "data": {
      "text/html": [
       "<pre>| 10      | 17.75s       | 3.12204           | 1.26441               | 3.17891e-06 |</pre>"
      ],
      "text/plain": [
       "| 10      | 17.75s       | 3.12204           | 1.26441               | 3.17891e-06 |"
      ]
     },
     "metadata": {},
     "output_type": "display_data"
    },
    {
     "data": {
      "text/html": [
       "<pre>| 15      | 20.83s       | 3.13301           | 1.26483               | 3.17891e-06 |</pre>"
      ],
      "text/plain": [
       "| 15      | 20.83s       | 3.13301           | 1.26483               | 3.17891e-06 |"
      ]
     },
     "metadata": {},
     "output_type": "display_data"
    },
    {
     "data": {
      "text/html": [
       "<pre>+---------+--------------+-------------------+-----------------------+-------------+</pre>"
      ],
      "text/plain": [
       "+---------+--------------+-------------------+-----------------------+-------------+"
      ]
     },
     "metadata": {},
     "output_type": "display_data"
    },
    {
     "data": {
      "text/html": [
       "<pre>Optimization Complete: Maximum number of passes through the data reached (hard limit).</pre>"
      ],
      "text/plain": [
       "Optimization Complete: Maximum number of passes through the data reached (hard limit)."
      ]
     },
     "metadata": {},
     "output_type": "display_data"
    },
    {
     "data": {
      "text/html": [
       "<pre>Computing final objective value and training RMSE.</pre>"
      ],
      "text/plain": [
       "Computing final objective value and training RMSE."
      ]
     },
     "metadata": {},
     "output_type": "display_data"
    },
    {
     "data": {
      "text/html": [
       "<pre>       Final objective value: 3.1918</pre>"
      ],
      "text/plain": [
       "       Final objective value: 3.1918"
      ]
     },
     "metadata": {},
     "output_type": "display_data"
    },
    {
     "data": {
      "text/html": [
       "<pre>       Final training RMSE: 1.26491</pre>"
      ],
      "text/plain": [
       "       Final training RMSE: 1.26491"
      ]
     },
     "metadata": {},
     "output_type": "display_data"
    },
    {
     "name": "stderr",
     "output_type": "stream",
     "text": [
      "/Users/Ryan/anaconda/lib/python3.5/json/encoder.py:198: DeprecationWarning: Interpreting naive datetime as local 2018-10-18 17:53:31.066724. Please add timezone info to timestamps.\n",
      "  chunks = self.iterencode(o, _one_shot=True)\n"
     ]
    }
   ],
   "source": [
    "#factorization model\n",
    "model2 = tc.ranking_factorization_recommender.create(training_data, user_id='Author', item_id='Hotel', target=\"Overall\")\n",
    "model2.save(\"factor.model\")\n",
    "#model2 = tc.load_model(\"factor.model\")\n"
   ]
  },
  {
   "cell_type": "code",
   "execution_count": 30,
   "metadata": {},
   "outputs": [
    {
     "data": {
      "text/html": [
       "<pre>recommendations finished on 1000/27404 queries. users per second: 19486</pre>"
      ],
      "text/plain": [
       "recommendations finished on 1000/27404 queries. users per second: 19486"
      ]
     },
     "metadata": {},
     "output_type": "display_data"
    },
    {
     "data": {
      "text/html": [
       "<pre>recommendations finished on 2000/27404 queries. users per second: 23182.8</pre>"
      ],
      "text/plain": [
       "recommendations finished on 2000/27404 queries. users per second: 23182.8"
      ]
     },
     "metadata": {},
     "output_type": "display_data"
    },
    {
     "data": {
      "text/html": [
       "<pre>recommendations finished on 3000/27404 queries. users per second: 22429.9</pre>"
      ],
      "text/plain": [
       "recommendations finished on 3000/27404 queries. users per second: 22429.9"
      ]
     },
     "metadata": {},
     "output_type": "display_data"
    },
    {
     "data": {
      "text/html": [
       "<pre>recommendations finished on 4000/27404 queries. users per second: 21268.5</pre>"
      ],
      "text/plain": [
       "recommendations finished on 4000/27404 queries. users per second: 21268.5"
      ]
     },
     "metadata": {},
     "output_type": "display_data"
    },
    {
     "data": {
      "text/html": [
       "<pre>recommendations finished on 5000/27404 queries. users per second: 20900.1</pre>"
      ],
      "text/plain": [
       "recommendations finished on 5000/27404 queries. users per second: 20900.1"
      ]
     },
     "metadata": {},
     "output_type": "display_data"
    },
    {
     "data": {
      "text/html": [
       "<pre>recommendations finished on 6000/27404 queries. users per second: 20659.7</pre>"
      ],
      "text/plain": [
       "recommendations finished on 6000/27404 queries. users per second: 20659.7"
      ]
     },
     "metadata": {},
     "output_type": "display_data"
    },
    {
     "data": {
      "text/html": [
       "<pre>recommendations finished on 7000/27404 queries. users per second: 20713.1</pre>"
      ],
      "text/plain": [
       "recommendations finished on 7000/27404 queries. users per second: 20713.1"
      ]
     },
     "metadata": {},
     "output_type": "display_data"
    },
    {
     "data": {
      "text/html": [
       "<pre>recommendations finished on 8000/27404 queries. users per second: 20824.4</pre>"
      ],
      "text/plain": [
       "recommendations finished on 8000/27404 queries. users per second: 20824.4"
      ]
     },
     "metadata": {},
     "output_type": "display_data"
    },
    {
     "data": {
      "text/html": [
       "<pre>recommendations finished on 9000/27404 queries. users per second: 21031.8</pre>"
      ],
      "text/plain": [
       "recommendations finished on 9000/27404 queries. users per second: 21031.8"
      ]
     },
     "metadata": {},
     "output_type": "display_data"
    },
    {
     "data": {
      "text/html": [
       "<pre>recommendations finished on 10000/27404 queries. users per second: 21173.8</pre>"
      ],
      "text/plain": [
       "recommendations finished on 10000/27404 queries. users per second: 21173.8"
      ]
     },
     "metadata": {},
     "output_type": "display_data"
    },
    {
     "data": {
      "text/html": [
       "<pre>recommendations finished on 11000/27404 queries. users per second: 21237.7</pre>"
      ],
      "text/plain": [
       "recommendations finished on 11000/27404 queries. users per second: 21237.7"
      ]
     },
     "metadata": {},
     "output_type": "display_data"
    },
    {
     "data": {
      "text/html": [
       "<pre>recommendations finished on 12000/27404 queries. users per second: 21108.7</pre>"
      ],
      "text/plain": [
       "recommendations finished on 12000/27404 queries. users per second: 21108.7"
      ]
     },
     "metadata": {},
     "output_type": "display_data"
    },
    {
     "data": {
      "text/html": [
       "<pre>recommendations finished on 13000/27404 queries. users per second: 21191.2</pre>"
      ],
      "text/plain": [
       "recommendations finished on 13000/27404 queries. users per second: 21191.2"
      ]
     },
     "metadata": {},
     "output_type": "display_data"
    },
    {
     "data": {
      "text/html": [
       "<pre>recommendations finished on 14000/27404 queries. users per second: 21256.6</pre>"
      ],
      "text/plain": [
       "recommendations finished on 14000/27404 queries. users per second: 21256.6"
      ]
     },
     "metadata": {},
     "output_type": "display_data"
    },
    {
     "data": {
      "text/html": [
       "<pre>recommendations finished on 15000/27404 queries. users per second: 21338.5</pre>"
      ],
      "text/plain": [
       "recommendations finished on 15000/27404 queries. users per second: 21338.5"
      ]
     },
     "metadata": {},
     "output_type": "display_data"
    },
    {
     "data": {
      "text/html": [
       "<pre>recommendations finished on 16000/27404 queries. users per second: 21298.5</pre>"
      ],
      "text/plain": [
       "recommendations finished on 16000/27404 queries. users per second: 21298.5"
      ]
     },
     "metadata": {},
     "output_type": "display_data"
    },
    {
     "data": {
      "text/html": [
       "<pre>recommendations finished on 17000/27404 queries. users per second: 21279</pre>"
      ],
      "text/plain": [
       "recommendations finished on 17000/27404 queries. users per second: 21279"
      ]
     },
     "metadata": {},
     "output_type": "display_data"
    },
    {
     "data": {
      "text/html": [
       "<pre>recommendations finished on 18000/27404 queries. users per second: 21324.6</pre>"
      ],
      "text/plain": [
       "recommendations finished on 18000/27404 queries. users per second: 21324.6"
      ]
     },
     "metadata": {},
     "output_type": "display_data"
    },
    {
     "data": {
      "text/html": [
       "<pre>recommendations finished on 19000/27404 queries. users per second: 21342.8</pre>"
      ],
      "text/plain": [
       "recommendations finished on 19000/27404 queries. users per second: 21342.8"
      ]
     },
     "metadata": {},
     "output_type": "display_data"
    },
    {
     "data": {
      "text/html": [
       "<pre>recommendations finished on 20000/27404 queries. users per second: 21315.1</pre>"
      ],
      "text/plain": [
       "recommendations finished on 20000/27404 queries. users per second: 21315.1"
      ]
     },
     "metadata": {},
     "output_type": "display_data"
    },
    {
     "data": {
      "text/html": [
       "<pre>recommendations finished on 21000/27404 queries. users per second: 20970.6</pre>"
      ],
      "text/plain": [
       "recommendations finished on 21000/27404 queries. users per second: 20970.6"
      ]
     },
     "metadata": {},
     "output_type": "display_data"
    },
    {
     "data": {
      "text/html": [
       "<pre>recommendations finished on 22000/27404 queries. users per second: 21060.4</pre>"
      ],
      "text/plain": [
       "recommendations finished on 22000/27404 queries. users per second: 21060.4"
      ]
     },
     "metadata": {},
     "output_type": "display_data"
    },
    {
     "data": {
      "text/html": [
       "<pre>recommendations finished on 23000/27404 queries. users per second: 20993.8</pre>"
      ],
      "text/plain": [
       "recommendations finished on 23000/27404 queries. users per second: 20993.8"
      ]
     },
     "metadata": {},
     "output_type": "display_data"
    },
    {
     "data": {
      "text/html": [
       "<pre>recommendations finished on 24000/27404 queries. users per second: 20957.2</pre>"
      ],
      "text/plain": [
       "recommendations finished on 24000/27404 queries. users per second: 20957.2"
      ]
     },
     "metadata": {},
     "output_type": "display_data"
    },
    {
     "data": {
      "text/html": [
       "<pre>recommendations finished on 25000/27404 queries. users per second: 21024.6</pre>"
      ],
      "text/plain": [
       "recommendations finished on 25000/27404 queries. users per second: 21024.6"
      ]
     },
     "metadata": {},
     "output_type": "display_data"
    },
    {
     "data": {
      "text/html": [
       "<pre>recommendations finished on 26000/27404 queries. users per second: 21051.8</pre>"
      ],
      "text/plain": [
       "recommendations finished on 26000/27404 queries. users per second: 21051.8"
      ]
     },
     "metadata": {},
     "output_type": "display_data"
    },
    {
     "data": {
      "text/html": [
       "<pre>recommendations finished on 27000/27404 queries. users per second: 21077.7</pre>"
      ],
      "text/plain": [
       "recommendations finished on 27000/27404 queries. users per second: 21077.7"
      ]
     },
     "metadata": {},
     "output_type": "display_data"
    },
    {
     "name": "stderr",
     "output_type": "stream",
     "text": [
      "/Users/Ryan/anaconda/lib/python3.5/json/encoder.py:198: DeprecationWarning: Interpreting naive datetime as local 2018-10-18 17:53:59.253276. Please add timezone info to timestamps.\n",
      "  chunks = self.iterencode(o, _one_shot=True)\n"
     ]
    }
   ],
   "source": [
    "recs2 = model2.recommend()"
   ]
  },
  {
   "cell_type": "code",
   "execution_count": 31,
   "metadata": {},
   "outputs": [
    {
     "name": "stdout",
     "output_type": "stream",
     "text": [
      "PROGRESS: Evaluate model Collab\n",
      "\n",
      "Precision and recall summary statistics by cutoff\n",
      "+--------+-------------+----------------+\n",
      "| cutoff | mean_recall | mean_precision |\n",
      "+--------+-------------+----------------+\n",
      "|   1    |     0.0     |      0.0       |\n",
      "|   2    |     0.0     |      0.0       |\n",
      "|   3    |     0.0     |      0.0       |\n",
      "|   4    |     0.0     |      0.0       |\n",
      "|   5    |     0.0     |      0.0       |\n",
      "|   6    |     0.0     |      0.0       |\n",
      "|   7    |     0.0     |      0.0       |\n",
      "|   8    |     0.0     |      0.0       |\n",
      "|   9    |     0.0     |      0.0       |\n",
      "|   10   |     0.0     |      0.0       |\n",
      "+--------+-------------+----------------+\n",
      "[10 rows x 3 columns]\n",
      "\n",
      "\n",
      "Overall RMSE: 4.041664028200351\n",
      "\n",
      "Per User RMSE (best)\n",
      "+-----------+-------+-------------------+\n",
      "|   Author  | count |        rmse       |\n",
      "+-----------+-------+-------------------+\n",
      "| 20lucky20 |   1   | 0.999075939655304 |\n",
      "+-----------+-------+-------------------+\n",
      "[1 rows x 3 columns]\n",
      "\n",
      "\n",
      "Per User RMSE (worst)\n",
      "+---------+-------+------+\n",
      "|  Author | count | rmse |\n",
      "+---------+-------+------+\n",
      "| Eddie B |   1   | 5.0  |\n",
      "+---------+-------+------+\n",
      "[1 rows x 3 columns]\n",
      "\n",
      "\n",
      "Per Item RMSE (best)\n",
      "+-------------------------+-------+-------------------+\n",
      "|          Hotel          | count |        rmse       |\n",
      "+-------------------------+-------+-------------------+\n",
      "| Executive Hotel Pacific |   1   | 0.999075939655304 |\n",
      "+-------------------------+-------+-------------------+\n",
      "[1 rows x 3 columns]\n",
      "\n",
      "\n",
      "Per Item RMSE (worst)\n",
      "+------------------------+-------+------+\n",
      "|         Hotel          | count | rmse |\n",
      "+------------------------+-------+------+\n",
      "| Rosewood Hotel Georgia |   14  | 5.0  |\n",
      "+------------------------+-------+------+\n",
      "[1 rows x 3 columns]\n",
      "\n",
      "PROGRESS: Evaluate model Factorization\n",
      "\n",
      "Precision and recall summary statistics by cutoff\n",
      "+--------+----------------------+-----------------------+\n",
      "| cutoff |     mean_recall      |     mean_precision    |\n",
      "+--------+----------------------+-----------------------+\n",
      "|   1    |         0.0          |          0.0          |\n",
      "|   2    | 0.03779069767441861  |  0.018895348837209305 |\n",
      "|   3    | 0.037790697674418616 |  0.01259689922480619  |\n",
      "|   4    | 0.03924418604651162  |  0.01017441860465116  |\n",
      "|   5    | 0.03924418604651162  |  0.008139534883720928 |\n",
      "|   6    | 0.05087209302325579  |  0.008720930232558146 |\n",
      "|   7    | 0.05087209302325579  | 0.0074750830564784005 |\n",
      "|   8    | 0.05087209302325579  |  0.006540697674418606 |\n",
      "|   9    | 0.05087209302325579  |  0.005813953488372092 |\n",
      "|   10   | 0.053779069767441845 |  0.005523255813953487 |\n",
      "+--------+----------------------+-----------------------+\n",
      "[10 rows x 3 columns]\n",
      "\n",
      "\n",
      "Overall RMSE: 1.1913519670590564\n",
      "\n",
      "Per User RMSE (best)\n",
      "+-----------+-------+--------------------+\n",
      "|   Author  | count |        rmse        |\n",
      "+-----------+-------+--------------------+\n",
      "| JuanECruz |   1   | 0.1700118379008928 |\n",
      "+-----------+-------+--------------------+\n",
      "[1 rows x 3 columns]\n",
      "\n",
      "\n",
      "Per User RMSE (worst)\n",
      "+--------+-------+--------------------+\n",
      "| Author | count |        rmse        |\n",
      "+--------+-------+--------------------+\n",
      "| nosneh |   1   | 2.8876785205667566 |\n",
      "+--------+-------+--------------------+\n",
      "[1 rows x 3 columns]\n",
      "\n",
      "\n",
      "Per Item RMSE (best)\n",
      "+--------------+-------+--------------------+\n",
      "|    Hotel     | count |        rmse        |\n",
      "+--------------+-------+--------------------+\n",
      "| The US Grant |   1   | 0.1828420647878577 |\n",
      "+--------------+-------+--------------------+\n",
      "[1 rows x 3 columns]\n",
      "\n",
      "\n",
      "Per Item RMSE (worst)\n",
      "+----------------------+-------+--------------------+\n",
      "|        Hotel         | count |        rmse        |\n",
      "+----------------------+-------+--------------------+\n",
      "| Econo Lodge Downtown |   1   | 2.8757139973230674 |\n",
      "+----------------------+-------+--------------------+\n",
      "[1 rows x 3 columns]\n",
      "\n"
     ]
    },
    {
     "data": {
      "text/plain": [
       "[{'precision_recall_by_user': Columns:\n",
       "  \tAuthor\tstr\n",
       "  \tcutoff\tint\n",
       "  \tprecision\tfloat\n",
       "  \trecall\tfloat\n",
       "  \tcount\tint\n",
       "  \n",
       "  Rows: 6192\n",
       "  \n",
       "  Data:\n",
       "  +---------+--------+-----------+--------+-------+\n",
       "  |  Author | cutoff | precision | recall | count |\n",
       "  +---------+--------+-----------+--------+-------+\n",
       "  | 0906ret |   1    |    0.0    |  0.0   |   3   |\n",
       "  | 0906ret |   2    |    0.0    |  0.0   |   3   |\n",
       "  | 0906ret |   3    |    0.0    |  0.0   |   3   |\n",
       "  | 0906ret |   4    |    0.0    |  0.0   |   3   |\n",
       "  | 0906ret |   5    |    0.0    |  0.0   |   3   |\n",
       "  | 0906ret |   6    |    0.0    |  0.0   |   3   |\n",
       "  | 0906ret |   7    |    0.0    |  0.0   |   3   |\n",
       "  | 0906ret |   8    |    0.0    |  0.0   |   3   |\n",
       "  | 0906ret |   9    |    0.0    |  0.0   |   3   |\n",
       "  | 0906ret |   10   |    0.0    |  0.0   |   3   |\n",
       "  +---------+--------+-----------+--------+-------+\n",
       "  [6192 rows x 5 columns]\n",
       "  Note: Only the head of the SFrame is printed.\n",
       "  You can use print_rows(num_rows=m, num_columns=n) to print more rows and columns.,\n",
       "  'precision_recall_overall': Columns:\n",
       "  \tcutoff\tint\n",
       "  \tprecision\tfloat\n",
       "  \trecall\tfloat\n",
       "  \n",
       "  Rows: 18\n",
       "  \n",
       "  Data:\n",
       "  +--------+-----------+--------+\n",
       "  | cutoff | precision | recall |\n",
       "  +--------+-----------+--------+\n",
       "  |   1    |    0.0    |  0.0   |\n",
       "  |   2    |    0.0    |  0.0   |\n",
       "  |   3    |    0.0    |  0.0   |\n",
       "  |   4    |    0.0    |  0.0   |\n",
       "  |   5    |    0.0    |  0.0   |\n",
       "  |   6    |    0.0    |  0.0   |\n",
       "  |   7    |    0.0    |  0.0   |\n",
       "  |   8    |    0.0    |  0.0   |\n",
       "  |   9    |    0.0    |  0.0   |\n",
       "  |   10   |    0.0    |  0.0   |\n",
       "  +--------+-----------+--------+\n",
       "  [18 rows x 3 columns]\n",
       "  Note: Only the head of the SFrame is printed.\n",
       "  You can use print_rows(num_rows=m, num_columns=n) to print more rows and columns.,\n",
       "  'rmse_by_item': Columns:\n",
       "  \tHotel\tstr\n",
       "  \tcount\tint\n",
       "  \trmse\tfloat\n",
       "  \n",
       "  Rows: 95\n",
       "  \n",
       "  Data:\n",
       "  +-------------------------------+-------+--------------------+\n",
       "  |             Hotel             | count |        rmse        |\n",
       "  +-------------------------------+-------+--------------------+\n",
       "  | Embassy Suites Phoenix-Sco... |   1   |        4.0         |\n",
       "  |     Royal Palace Westwood     |   1   |  3.99776184797287  |\n",
       "  |   The Savoy Double Bay Hotel  |   2   |        2.0         |\n",
       "  |       The Amsterdam Inn       |   2   | 4.997975531816483  |\n",
       "  |     Hyatt Place Las Vegas     |   1   | 3.9998495852947236 |\n",
       "  |        Hotel Provincial       |   6   | 4.527692569068709  |\n",
       "  | Courtyard Los Angeles LAX/... |   1   |  3.99805832862854  |\n",
       "  |     Amsterdam Court Hotel     |   3   | 4.081966577671034  |\n",
       "  |      Econo Lodge Downtown     |   1   |        1.0         |\n",
       "  |          The Willows          |   5   | 4.146850343580663  |\n",
       "  +-------------------------------+-------+--------------------+\n",
       "  [95 rows x 3 columns]\n",
       "  Note: Only the head of the SFrame is printed.\n",
       "  You can use print_rows(num_rows=m, num_columns=n) to print more rows and columns.,\n",
       "  'rmse_by_user': Columns:\n",
       "  \tAuthor\tstr\n",
       "  \tcount\tint\n",
       "  \trmse\tfloat\n",
       "  \n",
       "  Rows: 344\n",
       "  \n",
       "  Data:\n",
       "  +-----------------+-------+-------------------+\n",
       "  |      Author     | count |        rmse       |\n",
       "  +-----------------+-------+-------------------+\n",
       "  |   sonnywaheed   |   1   | 2.999619561433792 |\n",
       "  | TrueNorthFamily |   2   |        4.0        |\n",
       "  |     Eddie B     |   1   |        5.0        |\n",
       "  |    northgang    |   1   |        3.0        |\n",
       "  |    DrFrisbie    |   1   |        5.0        |\n",
       "  |     gallrick    |   1   | 4.999377071857452 |\n",
       "  |   Someboy1910   |   1   |        2.0        |\n",
       "  |   TimsGal1980   |   1   | 4.999967373609543 |\n",
       "  |     Harvey79    |   1   |        2.0        |\n",
       "  |       KYSU      |   1   |        4.0        |\n",
       "  +-----------------+-------+-------------------+\n",
       "  [344 rows x 3 columns]\n",
       "  Note: Only the head of the SFrame is printed.\n",
       "  You can use print_rows(num_rows=m, num_columns=n) to print more rows and columns.,\n",
       "  'rmse_overall': 4.041664028200351},\n",
       " {'precision_recall_by_user': Columns:\n",
       "  \tAuthor\tstr\n",
       "  \tcutoff\tint\n",
       "  \tprecision\tfloat\n",
       "  \trecall\tfloat\n",
       "  \tcount\tint\n",
       "  \n",
       "  Rows: 6192\n",
       "  \n",
       "  Data:\n",
       "  +---------+--------+-----------+--------+-------+\n",
       "  |  Author | cutoff | precision | recall | count |\n",
       "  +---------+--------+-----------+--------+-------+\n",
       "  | 0906ret |   1    |    0.0    |  0.0   |   3   |\n",
       "  | 0906ret |   2    |    0.0    |  0.0   |   3   |\n",
       "  | 0906ret |   3    |    0.0    |  0.0   |   3   |\n",
       "  | 0906ret |   4    |    0.0    |  0.0   |   3   |\n",
       "  | 0906ret |   5    |    0.0    |  0.0   |   3   |\n",
       "  | 0906ret |   6    |    0.0    |  0.0   |   3   |\n",
       "  | 0906ret |   7    |    0.0    |  0.0   |   3   |\n",
       "  | 0906ret |   8    |    0.0    |  0.0   |   3   |\n",
       "  | 0906ret |   9    |    0.0    |  0.0   |   3   |\n",
       "  | 0906ret |   10   |    0.0    |  0.0   |   3   |\n",
       "  +---------+--------+-----------+--------+-------+\n",
       "  [6192 rows x 5 columns]\n",
       "  Note: Only the head of the SFrame is printed.\n",
       "  You can use print_rows(num_rows=m, num_columns=n) to print more rows and columns.,\n",
       "  'precision_recall_overall': Columns:\n",
       "  \tcutoff\tint\n",
       "  \tprecision\tfloat\n",
       "  \trecall\tfloat\n",
       "  \n",
       "  Rows: 18\n",
       "  \n",
       "  Data:\n",
       "  +--------+-----------------------+----------------------+\n",
       "  | cutoff |       precision       |        recall        |\n",
       "  +--------+-----------------------+----------------------+\n",
       "  |   1    |          0.0          |         0.0          |\n",
       "  |   2    |   0.0188953488372093  |  0.0377906976744186  |\n",
       "  |   3    |  0.012596899224806207 |  0.0377906976744186  |\n",
       "  |   4    |  0.010174418604651165 | 0.039244186046511635 |\n",
       "  |   5    |  0.008139534883720927 | 0.039244186046511635 |\n",
       "  |   6    |  0.008720930232558146 | 0.05087209302325583  |\n",
       "  |   7    |  0.007475083056478408 | 0.05087209302325582  |\n",
       "  |   8    |  0.006540697674418607 | 0.05087209302325582  |\n",
       "  |   9    |  0.005813953488372089 | 0.05087209302325582  |\n",
       "  |   10   | 0.0055232558139534866 | 0.053779069767441866 |\n",
       "  +--------+-----------------------+----------------------+\n",
       "  [18 rows x 3 columns]\n",
       "  Note: Only the head of the SFrame is printed.\n",
       "  You can use print_rows(num_rows=m, num_columns=n) to print more rows and columns.,\n",
       "  'rmse_by_item': Columns:\n",
       "  \tHotel\tstr\n",
       "  \tcount\tint\n",
       "  \trmse\tfloat\n",
       "  \n",
       "  Rows: 95\n",
       "  \n",
       "  Data:\n",
       "  +-------------------------------+-------+---------------------+\n",
       "  |             Hotel             | count |         rmse        |\n",
       "  +-------------------------------+-------+---------------------+\n",
       "  | Embassy Suites Phoenix-Sco... |   1   | 0.20705573345306005 |\n",
       "  |     Royal Palace Westwood     |   1   |  0.2249576978238892 |\n",
       "  |   The Savoy Double Bay Hotel  |   2   |  1.7931697298545437 |\n",
       "  |       The Amsterdam Inn       |   2   |  1.178958188257262  |\n",
       "  |     Hyatt Place Las Vegas     |   1   | 0.19059079480943897 |\n",
       "  |        Hotel Provincial       |   6   |  0.8425368561367426 |\n",
       "  | Courtyard Los Angeles LAX/... |   1   | 0.21962930924002588 |\n",
       "  |     Amsterdam Court Hotel     |   3   |  0.8070252523763366 |\n",
       "  |      Econo Lodge Downtown     |   1   |  2.8757139973230674 |\n",
       "  |          The Willows          |   5   |  1.0979772976643958 |\n",
       "  +-------------------------------+-------+---------------------+\n",
       "  [95 rows x 3 columns]\n",
       "  Note: Only the head of the SFrame is printed.\n",
       "  You can use print_rows(num_rows=m, num_columns=n) to print more rows and columns.,\n",
       "  'rmse_by_user': Columns:\n",
       "  \tAuthor\tstr\n",
       "  \tcount\tint\n",
       "  \trmse\tfloat\n",
       "  \n",
       "  Rows: 344\n",
       "  \n",
       "  Data:\n",
       "  +-----------------+-------+---------------------+\n",
       "  |      Author     | count |         rmse        |\n",
       "  +-----------------+-------+---------------------+\n",
       "  |   sonnywaheed   |   1   |  0.7806596572411717 |\n",
       "  | TrueNorthFamily |   2   | 0.20897529251800862 |\n",
       "  |     Eddie B     |   1   |  1.1405609323614705 |\n",
       "  |    northgang    |   1   |  0.7690878611624088 |\n",
       "  |    DrFrisbie    |   1   |  1.1764262323666936 |\n",
       "  |     gallrick    |   1   |  1.1467424402334045 |\n",
       "  |   Someboy1910   |   1   |  1.789936533298703  |\n",
       "  |   TimsGal1980   |   1   |  1.1810845899308475 |\n",
       "  |     Harvey79    |   1   |  1.7686617516971084 |\n",
       "  |       KYSU      |   1   | 0.18968765495112505 |\n",
       "  +-----------------+-------+---------------------+\n",
       "  [344 rows x 3 columns]\n",
       "  Note: Only the head of the SFrame is printed.\n",
       "  You can use print_rows(num_rows=m, num_columns=n) to print more rows and columns.,\n",
       "  'rmse_overall': 1.1913519670590564}]"
      ]
     },
     "execution_count": 31,
     "metadata": {},
     "output_type": "execute_result"
    },
    {
     "name": "stderr",
     "output_type": "stream",
     "text": [
      "/Users/Ryan/anaconda/lib/python3.5/json/encoder.py:198: DeprecationWarning: Interpreting naive datetime as local 2018-10-18 17:58:10.806205. Please add timezone info to timestamps.\n",
      "  chunks = self.iterencode(o, _one_shot=True)\n"
     ]
    }
   ],
   "source": [
    "tc.recommender.util.compare_models(validation_data, [model, model2], model_names=[\"Collab\",\"Factorization\"])"
   ]
  }
 ],
 "metadata": {
  "kernelspec": {
   "display_name": "Python 3",
   "language": "python",
   "name": "python3"
  },
  "language_info": {
   "codemirror_mode": {
    "name": "ipython",
    "version": 3
   },
   "file_extension": ".py",
   "mimetype": "text/x-python",
   "name": "python",
   "nbconvert_exporter": "python",
   "pygments_lexer": "ipython3",
   "version": "3.5.6"
  }
 },
 "nbformat": 4,
 "nbformat_minor": 1
}
