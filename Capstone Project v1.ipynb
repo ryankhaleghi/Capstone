{
 "cells": [
  {
   "cell_type": "markdown",
   "metadata": {},
   "source": [
    "# Capstone Project (real title to come later)\n",
    "### Ryan Khaleghi and Nick Cannon"
   ]
  },
  {
   "cell_type": "markdown",
   "metadata": {},
   "source": [
    "## Introduction\n",
    "\n",
    "\n",
    "We"
   ]
  },
  {
   "cell_type": "markdown",
   "metadata": {},
   "source": [
    "## Data\n",
    "\n",
    "The dataset \n",
    "\n",
    "There are 8 ratings in the dataset: overall, value, rooms, location, cleanliness, check in/front desk, service, and business service. These are rated from 0-5 stars, with missing ratings indicated by -1."
   ]
  },
  {
   "cell_type": "code",
   "execution_count": 20,
   "metadata": {
    "collapsed": false
   },
   "outputs": [
    {
     "ename": "AttributeError",
     "evalue": "'NoneType' object has no attribute 'text'",
     "output_type": "error",
     "traceback": [
      "\u001b[0;31m---------------------------------------------------------------------------\u001b[0m",
      "\u001b[0;31mAttributeError\u001b[0m                            Traceback (most recent call last)",
      "\u001b[0;32m<ipython-input-20-1d28a69d0bcd>\u001b[0m in \u001b[0;36m<module>\u001b[0;34m()\u001b[0m\n\u001b[1;32m      6\u001b[0m \u001b[0;31m#json_file = '/Users/Ryan/Desktop/Programming/SMU/Capstone/TripAdvisor/json_copy/73739.json'\u001b[0m\u001b[0;34m\u001b[0m\u001b[0;34m\u001b[0m\u001b[0m\n\u001b[1;32m      7\u001b[0m \u001b[0mjson_file\u001b[0m \u001b[0;34m=\u001b[0m \u001b[0;34m'/Users/Ryan/Desktop/Programming/SMU/Capstone/TripAdvisor/json/3256888.json'\u001b[0m\u001b[0;34m\u001b[0m\u001b[0m\n\u001b[0;32m----> 8\u001b[0;31m \u001b[0mdf\u001b[0m \u001b[0;34m=\u001b[0m \u001b[0mtripadvisor_convert\u001b[0m\u001b[0;34m.\u001b[0m\u001b[0mto_df\u001b[0m\u001b[0;34m(\u001b[0m\u001b[0mjson_file\u001b[0m\u001b[0;34m)\u001b[0m\u001b[0;34m\u001b[0m\u001b[0m\n\u001b[0m\u001b[1;32m      9\u001b[0m \u001b[0mprint\u001b[0m\u001b[0;34m(\u001b[0m\u001b[0mdf\u001b[0m\u001b[0;34m.\u001b[0m\u001b[0mhead\u001b[0m\u001b[0;34m(\u001b[0m\u001b[0;36m2\u001b[0m\u001b[0;34m)\u001b[0m\u001b[0;34m)\u001b[0m\u001b[0;34m\u001b[0m\u001b[0m\n",
      "\u001b[0;32m/Users/Ryan/anaconda/lib/python3.5/site-packages/tripadvisor_convert.py\u001b[0m in \u001b[0;36mto_df\u001b[0;34m(filename)\u001b[0m\n\u001b[1;32m     29\u001b[0m     \u001b[0mdf\u001b[0m\u001b[0;34m[\u001b[0m\u001b[0;34m'PriceMax'\u001b[0m\u001b[0;34m]\u001b[0m \u001b[0;34m=\u001b[0m \u001b[0mprice_range\u001b[0m\u001b[0;34m[\u001b[0m\u001b[0;34m-\u001b[0m\u001b[0;36m1\u001b[0m\u001b[0;34m]\u001b[0m\u001b[0;34m\u001b[0m\u001b[0m\n\u001b[1;32m     30\u001b[0m     \u001b[0maddress\u001b[0m \u001b[0;34m=\u001b[0m \u001b[0mBeautifulSoup\u001b[0m\u001b[0;34m(\u001b[0m\u001b[0minfo\u001b[0m\u001b[0;34m[\u001b[0m\u001b[0;34m'Address'\u001b[0m\u001b[0;34m]\u001b[0m\u001b[0;34m,\u001b[0m \u001b[0;34m'lxml'\u001b[0m\u001b[0;34m)\u001b[0m\u001b[0;34m\u001b[0m\u001b[0m\n\u001b[0;32m---> 31\u001b[0;31m     \u001b[0mregion\u001b[0m \u001b[0;34m=\u001b[0m \u001b[0maddress\u001b[0m\u001b[0;34m.\u001b[0m\u001b[0mfind\u001b[0m\u001b[0;34m(\u001b[0m\u001b[0;34m'span'\u001b[0m\u001b[0;34m,\u001b[0m \u001b[0mproperty\u001b[0m\u001b[0;34m=\u001b[0m\u001b[0;34m'v:region'\u001b[0m\u001b[0;34m)\u001b[0m\u001b[0;34m.\u001b[0m\u001b[0mtext\u001b[0m\u001b[0;34m\u001b[0m\u001b[0m\n\u001b[0m\u001b[1;32m     32\u001b[0m     \u001b[0mdf\u001b[0m\u001b[0;34m[\u001b[0m\u001b[0;34m'HotelLocation'\u001b[0m\u001b[0;34m]\u001b[0m \u001b[0;34m=\u001b[0m \u001b[0mregion\u001b[0m\u001b[0;34m\u001b[0m\u001b[0m\n\u001b[1;32m     33\u001b[0m \u001b[0;34m\u001b[0m\u001b[0m\n",
      "\u001b[0;31mAttributeError\u001b[0m: 'NoneType' object has no attribute 'text'"
     ]
    }
   ],
   "source": [
    "import pandas as pd\n",
    "import numpy as np\n",
    "import glob\n",
    "import tripadvisor_convert\n",
    "\n",
    "#json_file = '/Users/Ryan/Desktop/Programming/SMU/Capstone/TripAdvisor/json_copy/73739.json'\n",
    "#json_file = '/Users/Ryan/Desktop/Programming/SMU/Capstone/TripAdvisor/json/3256888.json'\n",
    "#df = tripadvisor_convert.to_df(json_file)\n",
    "#print(df.head(2))\n"
   ]
  },
  {
   "cell_type": "code",
   "execution_count": 32,
   "metadata": {
    "collapsed": false
   },
   "outputs": [
    {
     "name": "stdout",
     "output_type": "stream",
     "text": [
      "                   Author AuthorLocation  \\\n",
      "UR128009120        robcau       Colorado   \n",
      "UR127440083  Natalie44124           Ohio   \n",
      "\n",
      "            Business service (e.g., internet access) Check in / front desk  \\\n",
      "UR128009120                                      NaN                   NaN   \n",
      "UR127440083                                      NaN                   NaN   \n",
      "\n",
      "            Cleanliness            Date                              Hotel  \\\n",
      "UR128009120           3  April 16, 2012  Embassy Suites Phoenix-Scottsdale   \n",
      "UR127440083           5   April 7, 2012  Embassy Suites Phoenix-Scottsdale   \n",
      "\n",
      "             HotelID HotelLocation Location Overall  PriceMax  PriceMin Rooms  \\\n",
      "UR128009120   224250            AZ        4     4.0       193        92     4   \n",
      "UR127440083   224250            AZ        4     5.0       193        92     5   \n",
      "\n",
      "            Service Sleep Quality Value  \n",
      "UR128009120       2             4     4  \n",
      "UR127440083       5             5     5  \n",
      "465.23977469799866\n",
      "113859\n"
     ]
    }
   ],
   "source": [
    "from timeit import default_timer as timer #for timing\n",
    "\n",
    "start = timer()\n",
    "#load data\n",
    "#path ='/Users/Ryan/Desktop/Programming/SMU/Capstone/TripAdvisor/json_copy' # use your path\n",
    "path ='/Users/Ryan/Desktop/Programming/SMU/Capstone/TripAdvisor/json' # use your path\n",
    "allFiles = glob.glob(path + \"/*.json\")\n",
    "#print(allFiles)\n",
    "randFiles = np.random.choice(allFiles, 500, False)\n",
    "\n",
    "df_reviews = pd.DataFrame()\n",
    "list_ = []\n",
    "\n",
    "for file_ in randFiles:\n",
    "    try:\n",
    "        df = tripadvisor_convert.to_df(file_)\n",
    "    except Exception:\n",
    "        pass \n",
    "    list_.append(df)\n",
    "    df_reviews = pd.concat(list_)\n",
    "print(df_reviews.head(2))\n",
    "end = timer()\n",
    "print (end - start)\n",
    "print(len(df_reviews))\n"
   ]
  },
  {
   "cell_type": "code",
   "execution_count": null,
   "metadata": {
    "collapsed": true
   },
   "outputs": [],
   "source": []
  }
 ],
 "metadata": {
  "kernelspec": {
   "display_name": "Python 3",
   "language": "python",
   "name": "python3"
  },
  "language_info": {
   "codemirror_mode": {
    "name": "ipython",
    "version": 3
   },
   "file_extension": ".py",
   "mimetype": "text/x-python",
   "name": "python",
   "nbconvert_exporter": "python",
   "pygments_lexer": "ipython3",
   "version": "3.5.3"
  }
 },
 "nbformat": 4,
 "nbformat_minor": 0
}
